{
 "cells": [
  {
   "cell_type": "code",
   "execution_count": 101,
   "id": "d965c0cb",
   "metadata": {},
   "outputs": [],
   "source": [
    "import os\n",
    "import urllib.request\n",
    "import requests\n",
    "import PyPDF2 as ppdf\n",
    "import pandas as pd\n",
    "import spacy"
   ]
  },
  {
   "cell_type": "code",
   "execution_count": 2,
   "id": "c3f257a4",
   "metadata": {},
   "outputs": [],
   "source": [
    "from bs4 import BeautifulSoup"
   ]
  },
  {
   "cell_type": "code",
   "execution_count": 4,
   "id": "901cb5fc",
   "metadata": {},
   "outputs": [],
   "source": [
    "docs_page = \"https://www.greenbeltmd.gov/government/city-council/minutes-agendas-videos-and-documents\"\n",
    "headers = {\"User-Agent\": \"Mozilla/5.0 (Windows NT 10.0; Win64; x64) AppleWebKit/537.36 (KHTML, like Gecko) Chrome/121.0.0.0 Safari/537.36\",\n",
    "           'Accept': 'text/html,application/xhtml+xml,application/xml;q=0.9,image/avif,image/webp,*/*;q=0.8',\n",
    "           'Accept-Language': 'en-US,en;q=0.5'}\n",
    "s = requests.sessions.Session()\n",
    "r = s.get(docs_page, headers=headers)\n",
    "gmd_content = r.content"
   ]
  },
  {
   "cell_type": "code",
   "execution_count": 19,
   "id": "d805ddd7",
   "metadata": {},
   "outputs": [],
   "source": [
    "soup = BeautifulSoup(gmd_content)"
   ]
  },
  {
   "cell_type": "code",
   "execution_count": 29,
   "id": "7c67ce97",
   "metadata": {},
   "outputs": [
    {
     "data": {
      "text/plain": [
       "0"
      ]
     },
     "execution_count": 29,
     "metadata": {},
     "output_type": "execute_result"
    }
   ],
   "source": [
    "tables = soup.find_all(name=\"tr\")\n",
    "len(tables)"
   ]
  },
  {
   "cell_type": "code",
   "execution_count": 45,
   "id": "a6002ef3",
   "metadata": {},
   "outputs": [
    {
     "ename": "NameError",
     "evalue": "name 'soup' is not defined",
     "output_type": "error",
     "traceback": [
      "\u001b[1;31m---------------------------------------------------------------------------\u001b[0m",
      "\u001b[1;31mNameError\u001b[0m                                 Traceback (most recent call last)",
      "Cell \u001b[1;32mIn[45], line 1\u001b[0m\n\u001b[1;32m----> 1\u001b[0m \u001b[43msoup\u001b[49m\n",
      "\u001b[1;31mNameError\u001b[0m: name 'soup' is not defined"
     ]
    }
   ],
   "source": [
    "soup"
   ]
  },
  {
   "cell_type": "code",
   "execution_count": 5,
   "id": "c28e60b5",
   "metadata": {},
   "outputs": [
    {
     "data": {
      "text/plain": [
       "<Response [200]>"
      ]
     },
     "execution_count": 5,
     "metadata": {},
     "output_type": "execute_result"
    }
   ],
   "source": [
    "docs_page = \"https://greenbeltmd.granicus.com/ViewPublisher.php?view_id=2\"\n",
    "r  = requests.get(docs_page, headers=headers)\n",
    "r"
   ]
  },
  {
   "cell_type": "code",
   "execution_count": 6,
   "id": "3826c1c0",
   "metadata": {},
   "outputs": [
    {
     "data": {
      "text/plain": [
       "17"
      ]
     },
     "execution_count": 6,
     "metadata": {},
     "output_type": "execute_result"
    }
   ],
   "source": [
    "docs_content = r.content\n",
    "doc_soup = BeautifulSoup(docs_content)\n",
    "tbl = doc_soup.find_all(\"table\")\n",
    "len(tbl)"
   ]
  },
  {
   "cell_type": "code",
   "execution_count": 7,
   "id": "1c518165",
   "metadata": {
    "scrolled": true
   },
   "outputs": [
    {
     "data": {
      "text/plain": [
       "<table class=\"listingTable\" id=\"archive\" summary=\"This table lists the details of, and links to view the Video and Documents related to Archived Videos as published by City of Greenbelt, MD.  There is one item per table row.\">\n",
       "                        <thead>\n",
       "                          <tr>\n",
       "                                                        \n",
       "                                                                                          <th class=\"Name listHeader\" scope=\"col\">Name</th>\n",
       "                                                                                                                                                    <th class=\"Date listHeader\" scope=\"col\">Date</th>\n",
       "                                                                                                                                                    <th class=\"Duration listHeader\" scope=\"col\">Duration</th>\n",
       "                                                                                                                                                    <th class=\"Agenda listHeader\" scope=\"col\">Agenda</th>\n",
       "                                                                                                                                                    <th class=\"Minutes listHeader\" scope=\"col\">Minutes</th>\n",
       "                                                                                                                                                    <th class=\"Video listHeader\" scope=\"col\">Video</th>\n",
       "                                                                                                                                                                                                            <th class=\"listHeader\" id=\"AgendaPacketLink\" scope=\"col\">Agenda Packet</th>\n",
       "                                                                                    </tr>\n",
       "                        </thead>\n",
       "                        <tbody>\n",
       "                                                                                  \n",
       "                                                            <tr class=\"listingRow\">\n",
       "                                                                  <td class=\"listItem\" headers=\"Name\" id=\"Work-Session---Religious/Spiritual-Organization\" scope=\"row\">\n",
       "                                                                        Work Session - Religious/Spiritual Organization\n",
       "                                  </td>\n",
       "                                                                                                  <td class=\"listItem\" headers=\"Date Work-Session---Religious/Spiritual-Organization\">\n",
       "                                                                          Feb 28, 2024\n",
       "                                                                                                              -\n",
       "                                                                              07:29 PM\n",
       "                                                                                                            </td>\n",
       "                                                                                                  <td class=\"listItem\" headers=\"Duration Work-Session---Religious/Spiritual-Organization\">01h 47m</td>\n",
       "                                                                                                  <td class=\"listItem\">\n",
       "                                                                          <a href=\"//greenbeltmd.granicus.com/AgendaViewer.php?view_id=2&amp;clip_id=1799\" target=\"_blank\">Agenda</a>\n",
       "                                                                      </td>\n",
       "                                                                                                  <td class=\"listItem\">\n",
       "                                                                                                                                                 </td>\n",
       "                                                                                                  <td class=\"listItem\" headers=\"VideoLink Work-Session---Religious/Spiritual-Organization\">\n",
       "                                    <a href=\"javascript:void(0);\" onclick=\"window.open('//greenbeltmd.granicus.com/MediaPlayer.php?view_id=2&amp;clip_id=1799','player','toolbar=no,directories=no,status=yes,scrollbars=yes,resizable=yes,menubar=no')\">\n",
       "                                                                              Video\n",
       "                                                                          </a>\n",
       "                                  </td>\n",
       "                                                                \n",
       "                                                                                                  <td class=\"listItem\" headers=\"AgendaPacketLink\"><a href=\"https://d3n9y02raazwpg.cloudfront.net/greenbeltmd/a8a55b74-bb98-11ee-8fe8-0050569183fa-2e149c49-c4d9-4b27-bcb0-3291927b3078-1709053140.pdf\" target=\"_blank\">Agenda Packet</a></td>\n",
       "                                                              </tr>\n",
       "                                                                                                              \n",
       "                                                            <tr class=\"listingRow\">\n",
       "                                                                  <td class=\"listItem\" headers=\"Name\" id=\"City-Council-Meeting\" scope=\"row\">\n",
       "                                                                        City Council Meeting\n",
       "                                  </td>\n",
       "                                                                                                  <td class=\"listItem\" headers=\"Date City-Council-Meeting\">\n",
       "                                                                          Feb 26, 2024\n",
       "                                                                                                              -\n",
       "                                                                              07:29 PM\n",
       "                                                                                                            </td>\n",
       "                                                                                                  <td class=\"listItem\" headers=\"Duration City-Council-Meeting\">02h 31m</td>\n",
       "                                                                                                  <td class=\"listItem\">\n",
       "                                                                          <a href=\"//greenbeltmd.granicus.com/AgendaViewer.php?view_id=2&amp;clip_id=1798\" target=\"_blank\">Agenda</a>\n",
       "                                                                      </td>\n",
       "                                                                                                  <td class=\"listItem\">\n",
       "                                                                                                                                                 </td>\n",
       "                                                                                                  <td class=\"listItem\" headers=\"VideoLink City-Council-Meeting\">\n",
       "                                    <a href=\"javascript:void(0);\" onclick=\"window.open('//greenbeltmd.granicus.com/MediaPlayer.php?view_id=2&amp;clip_id=1798','player','toolbar=no,directories=no,status=yes,scrollbars=yes,resizable=yes,menubar=no')\">\n",
       "                                                                              Video\n",
       "                                                                          </a>\n",
       "                                  </td>\n",
       "                                                                \n",
       "                                                                                                  <td class=\"listItem\" headers=\"AgendaPacketLink\"><a href=\"https://d3n9y02raazwpg.cloudfront.net/greenbeltmd/9cefd798-bb98-11ee-8fe8-0050569183fa-2e149c49-c4d9-4b27-bcb0-3291927b3078-1708728130.pdf\" target=\"_blank\">Agenda Packet</a></td>\n",
       "                                                              </tr>\n",
       "                                                                                                              \n",
       "                                                            <tr class=\"listingRow\">\n",
       "                                                                  <td class=\"listItem\" headers=\"Name\" id=\"Work-Session---Franklin-Park-at-Greenbelt-Station-(stakeholder)\" scope=\"row\">\n",
       "                                                                        Work Session - Franklin Park at Greenbelt Station (stakeholder)\n",
       "                                  </td>\n",
       "                                                                                                  <td class=\"listItem\" headers=\"Date Work-Session---Franklin-Park-at-Greenbelt-Station-(stakeholder)\">\n",
       "                                                                          Feb 21, 2024\n",
       "                                                                                                              -\n",
       "                                                                              07:29 PM\n",
       "                                                                                                            </td>\n",
       "                                                                                                  <td class=\"listItem\" headers=\"Duration Work-Session---Franklin-Park-at-Greenbelt-Station-(stakeholder)\">02h 26m</td>\n",
       "                                                                                                  <td class=\"listItem\">\n",
       "                                                                          <a href=\"//greenbeltmd.granicus.com/AgendaViewer.php?view_id=2&amp;clip_id=1796\" target=\"_blank\">Agenda</a>\n",
       "                                                                      </td>\n",
       "                                                                                                  <td class=\"listItem\">\n",
       "                                                                                                                                                 </td>\n",
       "                                                                                                  <td class=\"listItem\" headers=\"VideoLink Work-Session---Franklin-Park-at-Greenbelt-Station-(stakeholder)\">\n",
       "                                    <a href=\"javascript:void(0);\" onclick=\"window.open('//greenbeltmd.granicus.com/MediaPlayer.php?view_id=2&amp;clip_id=1796','player','toolbar=no,directories=no,status=yes,scrollbars=yes,resizable=yes,menubar=no')\">\n",
       "                                                                              Video\n",
       "                                                                          </a>\n",
       "                                  </td>\n",
       "                                                                \n",
       "                                                                                                  <td class=\"listItem\" headers=\"AgendaPacketLink\"><a href=\"https://d3n9y02raazwpg.cloudfront.net/greenbeltmd/8c9ce1a2-bb98-11ee-8fe8-0050569183fa-2e149c49-c4d9-4b27-bcb0-3291927b3078-1708116372.pdf\" target=\"_blank\">Agenda Packet</a></td>\n",
       "                                                              </tr>\n",
       "                                                                                                              \n",
       "                                                            <tr class=\"listingRow\">\n",
       "                                                                  <td class=\"listItem\" headers=\"Name\" id=\"City-Council-Meeting\" scope=\"row\">\n",
       "                                                                        City Council Meeting\n",
       "                                  </td>\n",
       "                                                                                                  <td class=\"listItem\" headers=\"Date City-Council-Meeting\">\n",
       "                                                                          Feb 12, 2024\n",
       "                                                                                                              -\n",
       "                                                                              07:29 PM\n",
       "                                                                                                            </td>\n",
       "                                                                                                  <td class=\"listItem\" headers=\"Duration City-Council-Meeting\">03h 42m</td>\n",
       "                                                                                                  <td class=\"listItem\">\n",
       "                                                                          <a href=\"//greenbeltmd.granicus.com/AgendaViewer.php?view_id=2&amp;clip_id=1795\" target=\"_blank\">Agenda</a>\n",
       "                                                                      </td>\n",
       "                                                                                                  <td class=\"listItem\">\n",
       "                                                                                                                                                 </td>\n",
       "                                                                                                  <td class=\"listItem\" headers=\"VideoLink City-Council-Meeting\">\n",
       "                                    <a href=\"javascript:void(0);\" onclick=\"window.open('//greenbeltmd.granicus.com/MediaPlayer.php?view_id=2&amp;clip_id=1795','player','toolbar=no,directories=no,status=yes,scrollbars=yes,resizable=yes,menubar=no')\">\n",
       "                                                                              Video\n",
       "                                                                          </a>\n",
       "                                  </td>\n",
       "                                                                \n",
       "                                                                                                  <td class=\"listItem\" headers=\"AgendaPacketLink\"><a href=\"https://d3n9y02raazwpg.cloudfront.net/greenbeltmd/eef14e61-b944-11ee-8fe8-0050569183fa-f313b5db-8c16-47bf-9ce6-b96576f03654-1707570049.pdf\" target=\"_blank\">Agenda Packet</a></td>\n",
       "                                                              </tr>\n",
       "                                                                                                              \n",
       "                                                            <tr class=\"listingRow\">\n",
       "                                                                  <td class=\"listItem\" headers=\"Name\" id=\"Work-Session---American-Rescue-Plan-Act-(ARPA)-Update\" scope=\"row\">\n",
       "                                                                        Work Session - American Rescue Plan Act (ARPA) Update\n",
       "                                  </td>\n",
       "                                                                                                  <td class=\"listItem\" headers=\"Date Work-Session---American-Rescue-Plan-Act-(ARPA)-Update\">\n",
       "                                                                          Feb  7, 2024\n",
       "                                                                                                              -\n",
       "                                                                              07:29 PM\n",
       "                                                                                                            </td>\n",
       "                                                                                                  <td class=\"listItem\" headers=\"Duration Work-Session---American-Rescue-Plan-Act-(ARPA)-Update\">02h 48m</td>\n",
       "                                                                                                  <td class=\"listItem\">\n",
       "                                                                          <a href=\"//greenbeltmd.granicus.com/AgendaViewer.php?view_id=2&amp;clip_id=1794\" target=\"_blank\">Agenda</a>\n",
       "                                                                      </td>\n",
       "                                                                                                  <td class=\"listItem\">\n",
       "                                                                                                                                                 </td>\n",
       "                                                                                                  <td class=\"listItem\" headers=\"VideoLink Work-Session---American-Rescue-Plan-Act-(ARPA)-Update\">\n",
       "                                    <a href=\"javascript:void(0);\" onclick=\"window.open('//greenbeltmd.granicus.com/MediaPlayer.php?view_id=2&amp;clip_id=1794','player','toolbar=no,directories=no,status=yes,scrollbars=yes,resizable=yes,menubar=no')\">\n",
       "                                                                              Video\n",
       "                                                                          </a>\n",
       "                                  </td>\n",
       "                                                                \n",
       "                                                                                                  <td class=\"listItem\" headers=\"AgendaPacketLink\"><a href=\"https://d3n9y02raazwpg.cloudfront.net/greenbeltmd/7b21d3d1-bb98-11ee-8fe8-0050569183fa-2e149c49-c4d9-4b27-bcb0-3291927b3078-1707238500.pdf\" target=\"_blank\">Agenda Packet</a></td>\n",
       "                                                              </tr>\n",
       "                                                                                                              \n",
       "                                                            <tr class=\"listingRow\">\n",
       "                                                                  <td class=\"listItem\" headers=\"Name\" id=\"Work-Session---Citizens-Presentation(s)-and-Input-Regarding-Municipal--Building/Municipal-Building-Architect-Update-Study\" scope=\"row\">\n",
       "                                                                        Work Session - Citizens Presentation(s) and Input Regarding Municipal  Building/Municipal Building Architect Update Study\n",
       "                                  </td>\n",
       "                                                                                                  <td class=\"listItem\" headers=\"Date Work-Session---Citizens-Presentation(s)-and-Input-Regarding-Municipal--Building/Municipal-Building-Architect-Update-Study\">\n",
       "                                                                          Feb  5, 2024\n",
       "                                                                                                              -\n",
       "                                                                              07:30 PM\n",
       "                                                                                                            </td>\n",
       "                                                                                                  <td class=\"listItem\" headers=\"Duration Work-Session---Citizens-Presentation(s)-and-Input-Regarding-Municipal--Building/Municipal-Building-Architect-Update-Study\">02h 51m</td>\n",
       "                                                                                                  <td class=\"listItem\">\n",
       "                                                                          <a href=\"//greenbeltmd.granicus.com/AgendaViewer.php?view_id=2&amp;clip_id=1793\" target=\"_blank\">Agenda</a>\n",
       "                                                                      </td>\n",
       "                                                                                                  <td class=\"listItem\">\n",
       "                                                                                                                                                 </td>\n",
       "                                                                                                  <td class=\"listItem\" headers=\"VideoLink Work-Session---Citizens-Presentation(s)-and-Input-Regarding-Municipal--Building/Municipal-Building-Architect-Update-Study\">\n",
       "                                    <a href=\"javascript:void(0);\" onclick=\"window.open('//greenbeltmd.granicus.com/MediaPlayer.php?view_id=2&amp;clip_id=1793','player','toolbar=no,directories=no,status=yes,scrollbars=yes,resizable=yes,menubar=no')\">\n",
       "                                                                              Video\n",
       "                                                                          </a>\n",
       "                                  </td>\n",
       "                                                                \n",
       "                                                                                                  <td class=\"listItem\" headers=\"AgendaPacketLink\"><a href=\"https://d3n9y02raazwpg.cloudfront.net/greenbeltmd/6e3cc1c1-bb98-11ee-8fe8-0050569183fa-2e149c49-c4d9-4b27-bcb0-3291927b3078-1707157090.pdf\" target=\"_blank\">Agenda Packet</a></td>\n",
       "                                                              </tr>\n",
       "                                                                                                              \n",
       "                                                            <tr class=\"listingRow\">\n",
       "                                                                  <td class=\"listItem\" headers=\"Name\" id=\"Work-Session---Buddy-Attick-Park-Master-Plan-Presentation\" scope=\"row\">\n",
       "                                                                        Work Session - Buddy Attick Park Master Plan Presentation\n",
       "                                  </td>\n",
       "                                                                                                  <td class=\"listItem\" headers=\"Date Work-Session---Buddy-Attick-Park-Master-Plan-Presentation\">\n",
       "                                                                          Jan 31, 2024\n",
       "                                                                                                              -\n",
       "                                                                              07:29 PM\n",
       "                                                                                                            </td>\n",
       "                                                                                                  <td class=\"listItem\" headers=\"Duration Work-Session---Buddy-Attick-Park-Master-Plan-Presentation\">02h 23m</td>\n",
       "                                                                                                  <td class=\"listItem\">\n",
       "                                                                          <a href=\"//greenbeltmd.granicus.com/AgendaViewer.php?view_id=2&amp;clip_id=1792\" target=\"_blank\">Agenda</a>\n",
       "                                                                      </td>\n",
       "                                                                                                  <td class=\"listItem\">\n",
       "                                                                                                                                                 </td>\n",
       "                                                                                                  <td class=\"listItem\" headers=\"VideoLink Work-Session---Buddy-Attick-Park-Master-Plan-Presentation\">\n",
       "                                    <a href=\"javascript:void(0);\" onclick=\"window.open('//greenbeltmd.granicus.com/MediaPlayer.php?view_id=2&amp;clip_id=1792','player','toolbar=no,directories=no,status=yes,scrollbars=yes,resizable=yes,menubar=no')\">\n",
       "                                                                              Video\n",
       "                                                                          </a>\n",
       "                                  </td>\n",
       "                                                                \n",
       "                                                                                                  <td class=\"listItem\" headers=\"AgendaPacketLink\"><a href=\"https://d3n9y02raazwpg.cloudfront.net/greenbeltmd/fc7c51d4-4442-46ba-bcb1-07099f82cf23-f313b5db-8c16-47bf-9ce6-b96576f03654-1706649099.pdf\" target=\"_blank\">Agenda Packet</a></td>\n",
       "                                                              </tr>\n",
       "                                                                                                              \n",
       "                                                            <tr class=\"listingRow\">\n",
       "                                                                  <td class=\"listItem\" headers=\"Name\" id=\"Work-Session---City-Manager's-Quarterly-Update/FY-2025-Pre-Budget-Discussion\" scope=\"row\">\n",
       "                                                                        Work Session - City Manager's Quarterly Update/FY 2025 Pre-Budget Discussion\n",
       "                                  </td>\n",
       "                                                                                                  <td class=\"listItem\" headers=\"Date Work-Session---City-Manager's-Quarterly-Update/FY-2025-Pre-Budget-Discussion\">\n",
       "                                                                          Jan 29, 2024\n",
       "                                                                                                              -\n",
       "                                                                              07:29 PM\n",
       "                                                                                                            </td>\n",
       "                                                                                                  <td class=\"listItem\" headers=\"Duration Work-Session---City-Manager's-Quarterly-Update/FY-2025-Pre-Budget-Discussion\">03h 05m</td>\n",
       "                                                                                                  <td class=\"listItem\">\n",
       "                                                                          <a href=\"//greenbeltmd.granicus.com/AgendaViewer.php?view_id=2&amp;clip_id=1791\" target=\"_blank\">Agenda</a>\n",
       "                                                                      </td>\n",
       "                                                                                                  <td class=\"listItem\">\n",
       "                                                                                                                                                 </td>\n",
       "                                                                                                  <td class=\"listItem\" headers=\"VideoLink Work-Session---City-Manager's-Quarterly-Update/FY-2025-Pre-Budget-Discussion\">\n",
       "                                    <a href=\"javascript:void(0);\" onclick=\"window.open('//greenbeltmd.granicus.com/MediaPlayer.php?view_id=2&amp;clip_id=1791','player','toolbar=no,directories=no,status=yes,scrollbars=yes,resizable=yes,menubar=no')\">\n",
       "                                                                              Video\n",
       "                                                                          </a>\n",
       "                                  </td>\n",
       "                                                                \n",
       "                                                                                                  <td class=\"listItem\" headers=\"AgendaPacketLink\"><a href=\"https://d3n9y02raazwpg.cloudfront.net/greenbeltmd/ce6efa9c-230f-49dd-aba8-dc1e4c41c53d-f313b5db-8c16-47bf-9ce6-b96576f03654-1706573809.pdf\" target=\"_blank\">Agenda Packet</a></td>\n",
       "                                                              </tr>\n",
       "                                                                                                              \n",
       "                                                            <tr class=\"listingRow\">\n",
       "                                                                  <td class=\"listItem\" headers=\"Name\" id=\"Special-Meeting/Closed-Session---Deliberation-and-Selection\" scope=\"row\">\n",
       "                                                                        Special Meeting/Closed Session - Deliberation and Selection\n",
       "                                  </td>\n",
       "                                                                                                  <td class=\"listItem\" headers=\"Date Special-Meeting/Closed-Session---Deliberation-and-Selection\">\n",
       "                                                                          Jan 24, 2024\n",
       "                                                                                                              -\n",
       "                                                                              06:58 PM\n",
       "                                                                                                            </td>\n",
       "                                                                                                  <td class=\"listItem\" headers=\"Duration Special-Meeting/Closed-Session---Deliberation-and-Selection\">02h 08m</td>\n",
       "                                                                                                  <td class=\"listItem\">\n",
       "                                                                          <a href=\"//greenbeltmd.granicus.com/AgendaViewer.php?view_id=2&amp;clip_id=1790\" target=\"_blank\">Agenda</a>\n",
       "                                                                      </td>\n",
       "                                                                                                  <td class=\"listItem\">\n",
       "                                                                                                                                                 </td>\n",
       "                                                                                                  <td class=\"listItem\" headers=\"VideoLink Special-Meeting/Closed-Session---Deliberation-and-Selection\">\n",
       "                                    <a href=\"javascript:void(0);\" onclick=\"window.open('//greenbeltmd.granicus.com/MediaPlayer.php?view_id=2&amp;clip_id=1790','player','toolbar=no,directories=no,status=yes,scrollbars=yes,resizable=yes,menubar=no')\">\n",
       "                                                                              Video\n",
       "                                                                          </a>\n",
       "                                  </td>\n",
       "                                                                \n",
       "                                                                                                  <td class=\"listItem\" headers=\"AgendaPacketLink\"><a href=\"https://d3n9y02raazwpg.cloudfront.net/greenbeltmd/35cd3164-af1f-11ee-bb82-0050569183fa-f313b5db-8c16-47bf-9ce6-b96576f03654-1706117758.pdf\" target=\"_blank\">Agenda Packet</a></td>\n",
       "                                                              </tr>\n",
       "                                                                                                              \n",
       "                                                            <tr class=\"listingRow\">\n",
       "                                                                  <td class=\"listItem\" headers=\"Name\" id=\"Special-Meeting---Council-Candidate-Interviews\" scope=\"row\">\n",
       "                                                                        Special Meeting - Council Candidate Interviews\n",
       "                                  </td>\n",
       "                                                                                                  <td class=\"listItem\" headers=\"Date Special-Meeting---Council-Candidate-Interviews\">\n",
       "                                                                          Jan 23, 2024\n",
       "                                                                                                              -\n",
       "                                                                              06:59 PM\n",
       "                                                                                                            </td>\n",
       "                                                                                                  <td class=\"listItem\" headers=\"Duration Special-Meeting---Council-Candidate-Interviews\">03h 03m</td>\n",
       "                                                                                                  <td class=\"listItem\">\n",
       "                                                                          <a href=\"//greenbeltmd.granicus.com/AgendaViewer.php?view_id=2&amp;clip_id=1789\" target=\"_blank\">Agenda</a>\n",
       "                                                                      </td>\n",
       "                                                                                                  <td class=\"listItem\">\n",
       "                                                                                                                                                 </td>\n",
       "                                                                                                  <td class=\"listItem\" headers=\"VideoLink Special-Meeting---Council-Candidate-Interviews\">\n",
       "                                    <a href=\"javascript:void(0);\" onclick=\"window.open('//greenbeltmd.granicus.com/MediaPlayer.php?view_id=2&amp;clip_id=1789','player','toolbar=no,directories=no,status=yes,scrollbars=yes,resizable=yes,menubar=no')\">\n",
       "                                                                              Video\n",
       "                                                                          </a>\n",
       "                                  </td>\n",
       "                                                                \n",
       "                                                                                                  <td class=\"listItem\" headers=\"AgendaPacketLink\"><a href=\"https://d3n9y02raazwpg.cloudfront.net/greenbeltmd/fad959c1-af1e-11ee-bb82-0050569183fa-2e149c49-c4d9-4b27-bcb0-3291927b3078-1706043395.pdf\" target=\"_blank\">Agenda Packet</a></td>\n",
       "                                                              </tr>\n",
       "                                                                                                              \n",
       "                                                            <tr class=\"listingRow\">\n",
       "                                                                  <td class=\"listItem\" headers=\"Name\" id=\"City-Council-Meeting\" scope=\"row\">\n",
       "                                                                        City Council Meeting\n",
       "                                  </td>\n",
       "                                                                                                  <td class=\"listItem\" headers=\"Date City-Council-Meeting\">\n",
       "                                                                          Jan 22, 2024\n",
       "                                                                                                              -\n",
       "                                                                              07:30 PM\n",
       "                                                                                                            </td>\n",
       "                                                                                                  <td class=\"listItem\" headers=\"Duration City-Council-Meeting\">04h 17m</td>\n",
       "                                                                                                  <td class=\"listItem\">\n",
       "                                                                          <a href=\"//greenbeltmd.granicus.com/AgendaViewer.php?view_id=2&amp;clip_id=1788\" target=\"_blank\">Agenda</a>\n",
       "                                                                      </td>\n",
       "                                                                                                  <td class=\"listItem\">\n",
       "                                                                                                                                                 </td>\n",
       "                                                                                                  <td class=\"listItem\" headers=\"VideoLink City-Council-Meeting\">\n",
       "                                    <a href=\"javascript:void(0);\" onclick=\"window.open('//greenbeltmd.granicus.com/MediaPlayer.php?view_id=2&amp;clip_id=1788','player','toolbar=no,directories=no,status=yes,scrollbars=yes,resizable=yes,menubar=no')\">\n",
       "                                                                              Video\n",
       "                                                                          </a>\n",
       "                                  </td>\n",
       "                                                                \n",
       "                                                                                                  <td class=\"listItem\" headers=\"AgendaPacketLink\"><a href=\"https://d3n9y02raazwpg.cloudfront.net/greenbeltmd/005603dc-92c4-11ee-a93d-0050569183fa-2e149c49-c4d9-4b27-bcb0-3291927b3078-1705942814.pdf\" target=\"_blank\">Agenda Packet</a></td>\n",
       "                                                              </tr>\n",
       "                                                                                                              \n",
       "                                                            <tr class=\"listingRow\">\n",
       "                                                                  <td class=\"listItem\" headers=\"Name\" id=\"Work-Session---Diversity,-Equity,-and-Inclusion-(DEI)-Tribesy-Audit-Update\" scope=\"row\">\n",
       "                                                                        Work Session - Diversity, Equity, and Inclusion (DEI) Tribesy Audit Update\n",
       "                                  </td>\n",
       "                                                                                                  <td class=\"listItem\" headers=\"Date Work-Session---Diversity,-Equity,-and-Inclusion-(DEI)-Tribesy-Audit-Update\">\n",
       "                                                                          Jan 17, 2024\n",
       "                                                                                                              -\n",
       "                                                                              07:30 PM\n",
       "                                                                                                            </td>\n",
       "                                                                                                  <td class=\"listItem\" headers=\"Duration Work-Session---Diversity,-Equity,-and-Inclusion-(DEI)-Tribesy-Audit-Update\">01h 47m</td>\n",
       "                                                                                                  <td class=\"listItem\">\n",
       "                                                                          <a href=\"//greenbeltmd.granicus.com/AgendaViewer.php?view_id=2&amp;clip_id=1787\" target=\"_blank\">Agenda</a>\n",
       "                                                                      </td>\n",
       "                                                                                                  <td class=\"listItem\">\n",
       "                                                                                                                                                 </td>\n",
       "                                                                                                  <td class=\"listItem\" headers=\"VideoLink Work-Session---Diversity,-Equity,-and-Inclusion-(DEI)-Tribesy-Audit-Update\">\n",
       "                                    <a href=\"javascript:void(0);\" onclick=\"window.open('//greenbeltmd.granicus.com/MediaPlayer.php?view_id=2&amp;clip_id=1787','player','toolbar=no,directories=no,status=yes,scrollbars=yes,resizable=yes,menubar=no')\">\n",
       "                                                                              Video\n",
       "                                                                          </a>\n",
       "                                  </td>\n",
       "                                                                \n",
       "                                                                                                  <td class=\"listItem\" headers=\"AgendaPacketLink\"><a href=\"https://d3n9y02raazwpg.cloudfront.net/greenbeltmd/074aef98-fc29-4957-8e78-02441504bac2-2e149c49-c4d9-4b27-bcb0-3291927b3078-1705499942.pdf\" target=\"_blank\">Agenda Packet</a></td>\n",
       "                                                              </tr>\n",
       "                                                                                                              \n",
       "                                                            <tr class=\"listingRow\">\n",
       "                                                                  <td class=\"listItem\" headers=\"Name\" id=\"Work-Session---Prince-George's-County-Public-School-Building-Services-and-School-Boundaries\" scope=\"row\">\n",
       "                                                                        Work Session - Prince George's County Public School Building Services and School Boundaries\n",
       "                                  </td>\n",
       "                                                                                                  <td class=\"listItem\" headers=\"Date Work-Session---Prince-George's-County-Public-School-Building-Services-and-School-Boundaries\">\n",
       "                                                                          Jan 10, 2024\n",
       "                                                                                                              -\n",
       "                                                                              07:29 PM\n",
       "                                                                                                            </td>\n",
       "                                                                                                  <td class=\"listItem\" headers=\"Duration Work-Session---Prince-George's-County-Public-School-Building-Services-and-School-Boundaries\">02h 09m</td>\n",
       "                                                                                                  <td class=\"listItem\">\n",
       "                                                                          <a href=\"//greenbeltmd.granicus.com/AgendaViewer.php?view_id=2&amp;clip_id=1786\" target=\"_blank\">Agenda</a>\n",
       "                                                                      </td>\n",
       "                                                                                                  <td class=\"listItem\">\n",
       "                                                                                                                                                 </td>\n",
       "                                                                                                  <td class=\"listItem\" headers=\"VideoLink Work-Session---Prince-George's-County-Public-School-Building-Services-and-School-Boundaries\">\n",
       "                                    <a href=\"javascript:void(0);\" onclick=\"window.open('//greenbeltmd.granicus.com/MediaPlayer.php?view_id=2&amp;clip_id=1786','player','toolbar=no,directories=no,status=yes,scrollbars=yes,resizable=yes,menubar=no')\">\n",
       "                                                                              Video\n",
       "                                                                          </a>\n",
       "                                  </td>\n",
       "                                                                \n",
       "                                                                                                  <td class=\"listItem\" headers=\"AgendaPacketLink\"><a href=\"https://d3n9y02raazwpg.cloudfront.net/greenbeltmd/ed70fbbe-a7fd-4658-b604-a76ff5b35bc6-2e149c49-c4d9-4b27-bcb0-3291927b3078-1704894293.pdf\" target=\"_blank\">Agenda Packet</a></td>\n",
       "                                                              </tr>\n",
       "                                                                                                              \n",
       "                                                            <tr class=\"listingRow\">\n",
       "                                                                  <td class=\"listItem\" headers=\"Name\" id=\"City-Council-Meeting\" scope=\"row\">\n",
       "                                                                        City Council Meeting\n",
       "                                  </td>\n",
       "                                                                                                  <td class=\"listItem\" headers=\"Date City-Council-Meeting\">\n",
       "                                                                          Jan  8, 2024\n",
       "                                                                                                              -\n",
       "                                                                              07:29 PM\n",
       "                                                                                                            </td>\n",
       "                                                                                                  <td class=\"listItem\" headers=\"Duration City-Council-Meeting\">02h 34m</td>\n",
       "                                                                                                  <td class=\"listItem\">\n",
       "                                                                          <a href=\"//greenbeltmd.granicus.com/AgendaViewer.php?view_id=2&amp;clip_id=1785\" target=\"_blank\">Agenda</a>\n",
       "                                                                      </td>\n",
       "                                                                                                  <td class=\"listItem\">\n",
       "                                                                                                                                                 </td>\n",
       "                                                                                                  <td class=\"listItem\" headers=\"VideoLink City-Council-Meeting\">\n",
       "                                    <a href=\"javascript:void(0);\" onclick=\"window.open('//greenbeltmd.granicus.com/MediaPlayer.php?view_id=2&amp;clip_id=1785','player','toolbar=no,directories=no,status=yes,scrollbars=yes,resizable=yes,menubar=no')\">\n",
       "                                                                              Video\n",
       "                                                                          </a>\n",
       "                                  </td>\n",
       "                                                                \n",
       "                                                                                                  <td class=\"listItem\" headers=\"AgendaPacketLink\"><a href=\"https://d3n9y02raazwpg.cloudfront.net/greenbeltmd/ef489297-92c3-11ee-a93d-0050569183fa-f313b5db-8c16-47bf-9ce6-b96576f03654-1704742985.pdf\" target=\"_blank\">Agenda Packet</a></td>\n",
       "                                                              </tr>\n",
       "                                                                                                              \n",
       "                                                            <tr class=\"listingRow\">\n",
       "                                                                  <td class=\"listItem\" headers=\"Name\" id=\"Work-Session---Finalize-Questions-for-Candidates-Interviews,-Formulate-Decision-Rubric-and-Finalize-Interview-Format-for-Council-Vacancy\" scope=\"row\">\n",
       "                                                                        Work Session - Finalize Questions for Candidates Interviews, Formulate Decision Rubric and Finalize Interview Format for Council Vacancy\n",
       "                                  </td>\n",
       "                                                                                                  <td class=\"listItem\" headers=\"Date Work-Session---Finalize-Questions-for-Candidates-Interviews,-Formulate-Decision-Rubric-and-Finalize-Interview-Format-for-Council-Vacancy\">\n",
       "                                                                          Jan  3, 2024\n",
       "                                                                                                              -\n",
       "                                                                              07:29 PM\n",
       "                                                                                                            </td>\n",
       "                                                                                                  <td class=\"listItem\" headers=\"Duration Work-Session---Finalize-Questions-for-Candidates-Interviews,-Formulate-Decision-Rubric-and-Finalize-Interview-Format-for-Council-Vacancy\">01h 34m</td>\n",
       "                                                                                                  <td class=\"listItem\">\n",
       "                                                                          <a href=\"//greenbeltmd.granicus.com/AgendaViewer.php?view_id=2&amp;clip_id=1784\" target=\"_blank\">Agenda</a>\n",
       "                                                                      </td>\n",
       "                                                                                                  <td class=\"listItem\">\n",
       "                                                                                                                                                 </td>\n",
       "                                                                                                  <td class=\"listItem\" headers=\"VideoLink Work-Session---Finalize-Questions-for-Candidates-Interviews,-Formulate-Decision-Rubric-and-Finalize-Interview-Format-for-Council-Vacancy\">\n",
       "                                    <a href=\"javascript:void(0);\" onclick=\"window.open('//greenbeltmd.granicus.com/MediaPlayer.php?view_id=2&amp;clip_id=1784','player','toolbar=no,directories=no,status=yes,scrollbars=yes,resizable=yes,menubar=no')\">\n",
       "                                                                              Video\n",
       "                                                                          </a>\n",
       "                                  </td>\n",
       "                                                                \n",
       "                                                                                                  <td class=\"listItem\" headers=\"AgendaPacketLink\"><a href=\"https://d3n9y02raazwpg.cloudfront.net/greenbeltmd/bde5dd80-a666-11ee-bb82-0050569183fa-f313b5db-8c16-47bf-9ce6-b96576f03654-1703884788.pdf\" target=\"_blank\">Agenda Packet</a></td>\n",
       "                                                              </tr>\n",
       "                                                                                                                                                                                                                                                                                                                                                                                                                                                                                                                                                                                                                                                                                                                                                                                                                                                                                                                                                                                                                                                                                                                                                                                                                                                                                                                                                                                                                                                                                                                                                                                                                                                                                                                                                                                                                                                                                                                                                                                                                                                                                                                                                                                                                                                                                                                                                                                                                                                                                                                                                                                                                                                                                                                                                                                                                                                                                                                                                                                                                                                                                                                                                                                                                                                                                                                                                                                                                                                                                                                                                                                                                                                                                                                                                                                                                                                                                                                                                                                                                                                                                                                                                                                                                                                                                                                                                                                                                                                                                                                                                                                                                                                                                                                                                                                                                                                                                                                                                                                                                                                                                                                                                                                                                                                                                                                                                                                                                                                                                                                                                                                                                                                                                                                                                                                                                                                                                                                                                                                                                                                                                                                                                                                                                                                                                                                                                                                                                                                                                                                                                                                                                                                                                                                                                                                                                                                                                                                                                                                                                                                                                                                                                                                                                                                                                                                                                                                                                                                                                                                                                                                                                                                                                                                                                                                                                                                                                                                                                                                                                                                                                                                                                                                                                                                                                                                                                                                                                                                                                                                                                                                                                                                                                                                                                                                                                                                                                                                                                                                                                                                                                                                                                                                                                                                                                                                                                                                                                                                                                                                                                                                                                                                                                                                                                                                                                                                                                                                                                                                                                                                                                                                                                                                                                                                                                                                                                                                                                                                                                                                                                                                                                                                                                                                                                                                                                                                                                                                                                                                                                                                                                                                                                                                                                                                                                                                                                                                                                                                                                                                                                                                                                                                                                                                                                                                                                                                                                                                                                                                                                                                                                                                                                                                                                                                                                                                                                                                                                                                                                                                                                                                                                                                                                                                                                                                                                                                                                                                                                                                                                                                                                                                                                                                                                                                                                                                                                                                                                                                                                                                                                                                                                                                                                                                                                                                                                                                                                                                                                                                                                                                                                                                                                                                                                                                                                                                                                                                                                                                                                                                                                                                                                                                                                                                                                                                                                                                                                                                                                                                                                                                                                                                                                                                                                                                                                                                                                                                                                                                                                                                                                                                                                                                                                                                                                                                                                                                                                                                                                                                                                                                                                                                                                                                                                                                                                                                                                                                                                                                                                                                                                                                                                                                                                                                                                                                                                                                                                                                                                                                                                                                                                                                                                                                                                                                                                                                                                                                                                                                                                                                                                                                                                                                                                                                                                                                                                                                                                                                                                                                                                                                                                                                                                                                                                                                                                                                                                                                                                                                                                                                                                                                                                                                                                                                                                                                                                                                                                                                                                                                                                                                                                                                                                                                                                                                                                                                                                                                                                                                                                                                                                                                                                                                                                                                                                                                                                                                                                                                                                                                                                                                                                                                                                                                                                                                                                                                                                                                                                                                                                                                                                                                                                                                                                                                                                                                                                                                                                                                                                                                                                                                                                                                                                                                                                                                                                                                                                                                                                                                                                                                                                                                                                                                                                                                                                                                                                                                                                                                                                                                                                                                                                                                                                                                                                                                                                                                                                                                                                                                                                                                                                                                                                                                                                                                                                                                                                                                                                                                                                                                                                                                                                                                                                                                                                                                                                                                                                                                                                                                                                                                                                                                                                                                                                                                                                                                                                                                                                                                                                                                                                                                                                                                                                                                                                                                                                                                                                                                                                                                                                                                                                                                                                                                                                                                                                                                                                                                                                                                                                                                                                                                                                                                                                                                                                                                                                                                                                                                                                                                                                                                                                                                                                                                                                                                                                                                                                                                                                                                                                                                                                                                                                                                                                                                                                                                                                                                                                                                                                                                                                                                                                                                                                                                                                                                                                                                                                                                                                                                                                                                                                                                                                                                                                                                                                                                                                                                                                                                                                                                                                                                                                                                                                                                                                                                                                                                                                                                                                                                                                                                                                                                                                                                                                                                                                                                                                                                                                                                                                                                                                                                                                                                                                                                                                                                                                                                                                                                                                                                                                                                                                                                                                                                                                                                                                                                                                                                                                                                                                                                                                                                                                                                                                                                                                                                                                                                                                                                                                                                                                                                                                                                                                                                                                                                                                                                                                                                                                                                                                                                                                                                                                                                                                                                                                                                                                                                                                                                                                                                                                                                                                                                                                                                                                                                                                                                                                                                                                                                                                                                                                                                                                                                                                                                                                                                                                                                                                                                                                                                                                                                                                                                                                                                                                                                                                                                                                                                                                                                                                                                                                                                                                                                                                                                                                                                                                                                                                                                                                                                                                                                                                                                                                                                                                                                                                                                                                                                                                                                                                                                                                                                                                                                                                                                                                                                                                                                                                                                                                                                                                                                                                                                                                                                                                                                                                                                                                                                                                                                                                                                                                                                                                                                                                                                                                                                                                                                                                                                                                                                                                                                                                                                                                                                                                                                                                                                                                                                                                                                                                                                                                                                                                                                                                                                                                                                                                                                                                                                                                                                                                                                                                                                                                                                                                                                                                                                                                                                                                                                                                                                                                                                                                                                                                                                                                                                                                                                                                                                                                                                                                                                                                                                                                                                                                                                                                                                                                                                                                                                                                                                                                                                                                                                                                                                                                                                                                                                                                                                                                                                                                                                                                                                                                                                                                                                                                                                                                                                                                                                                                                                                                                                                                                                                                                                                                                                                                                                                                                                                                                                                                                                                                                                                                                                                                                                                                                                                                                                                                                                                                                                                                                                                                                                                                                                                                                                                                                                                                                                                                                                                                                                                                                                                                                                                                                                                                                                                                                                                                                                                                                                                                                                                                                                                                                                                                                                                                                                                                                                                                                                                                                                                                                                                                                                                                                                                                                                                                                                                                                                                                                                                                                                                                                                                                                                                                                                                                                                                                                                                                                                                                                                                                                                                                                                                                                                                                                                                                                                                                                                                                                                                                                                                                                                                                                                                                                                                                                                                                                                                                                                                                                                                                                                                                                                                                                                                                                                                                                                                                                                                                                                                                                                                                                                                                                                                                                                                                                                                                                                                                                                                                                                                                                                                                                                                                                                                                                                                                                                                                                                                                                                                                                                                                                                                                                                                                                                                                                                                                                                                                                                                                                                                                                                                                                                                                                                                                                                                                                                                                                                                                                                                                                                                                                                                                                                                                                                                                                                                                                                                                                                                                                                                                                                                                                                                                                                                                                                                                                                                                                                                                                                                                                                                                                                                                                                                                                                                                                                                                                                                                                                                                                                                                                                                                                                                                                                                                                                                                                                                                                                                                                                                                                                                                                                                                                                                                                                                                                                                                                                                                                                                                                                                                                                                                                                                                                                                                                                                                                                                                                                                                                                                                                                                                                                                                                                                                                                                                                                                                                                                                                                                                                                                                                                                                                                                                                                                                                                                                                                                                                                                                                                                                                                                                                                                                                                                                                                                                                                                                                                                                                                                                                                                                                                                                                                                                                                                                                                                                                                                                                                                                                                                                                                                                                                                                                                                                                                                                                                                                                                                                                                                                                                                                                                                                                                                                                                                                                                                                                                                                                                                                                                                                                                                                                                                                                                                                                                                                                                                                                                                                                                                                                                                                                                                                                                                                                                                                                                                                                                                                                                                                                                                                                                                                                                                                                                                                                                                                                                                                                                                                                                                                                                                                                                                                                                                                                                                                                                                                                                                                                                                                                                                                                                                                                                                                                                                                                                                                                                                                                                                                                                                                                                                                                                                                                                                                                                                                                                                                                                                                                                                                                                                                                                                                                                                                                                                                                                                                                                                                                                                                                                                                                                                                                                                                                                                                                                                                                                                                                                                                                                                                                                                                                                                                                                                                                                                                                                                                                                                                                                                                                                                                                                                                                                                                                                                                                                                                                                                                                                                                                                                                                                                                                                                                                                                                                                                                                                                                                                                                                                                                                                                                                                                                                                                                                                                                                                                                                                                                                                                                                                                                                                                                                                                                                                                                                                                                                                                                                                                                                                                                                                                                                                                                                                                                                                                                                                                                                                                                                                                                                                                                                                                                                                                                                                                                                                                                                                                                                                                                                                                                                                                                                                                                                                                                                                                                                                                                                                                                                                                                                                                                                                                                                                                                                                                                                                                                                                                                                                                                                                                                                                                                                                                                                                                                                                                                                                                                                                                                                                                                                                                                                                                                                                                                                                                                                                                                                                                                                                                                                                                                                                                                                                                                                                                                                                                                                                                                                                                                                                                                                                                                                                                                                                                                                                                                                                                                                                                                                                                                                                                                                                                                                                                                                                                                                                                                                                                                                                                                                                                                                                                                                                                                                                                                                                                                                                                                                                                                                                                                                                                                                                                                                                                                                                                                                                                                                                                                                                                                                                                                                                                                                                                                                                                                                                                                                                                                                                                                                                                                                                                                                                                                                                                                                                                                                                                                                                                                                                                                                                                                                                                                                                                                                                                                                                                                                                                                                                                                                                                                                                                                                                                                                                                                                                                                                                                                                                                                                                                                                                                                                                                                                                                                                                                                                                                                                                                                                                                                                                                                                                                                                                                                                                                                                                                                                                                                                                                                                                                                                                                                                                                                                                                                                                                                                                                                                                                                                                                                                                                                                                                                                                                                                                                                                                                                                                                                                                                                                                                                                                                                                                                                                                                                                                                                                                                                                                                                                                                                                                                                                                                                                                                                                                                                                                                                                                                                                                                                                                                                                                                                                                                                                                                                                                                                                                                                                                                                                                                                                                                                                                                                                                                                                                                                                                                                                                                                                                                                                                                                                                                                                                                                                                                                                                                                                                                                                                                                                                                                                                                                                                                                                                                                                                                                                                                                                                                                                                                                                                                                                                                                                                                                                                                                                                                                                                                                                                                                                                                                                                                                                                                                                                                                                                                                                                                                                                                                                                                                                                                                                                                                                                                                                                                                                                                                                                                                                                                                                                                                                                                                                                                                                                                                                                                                                                                                                                                                                                                                                                                                                                                                                                                                                                                                                                                                                                                                                                                                                                                                                                                                                                                                                                                                                                                                                                                                                                                                                                                                                                                                                                                                                                                                                                                                                                                                                                                                                                                                                                                                                                                                                                                                                                                                                                                                                                                                                                                                                                                                                                                                                                                                                                                                                                                                                                                                                                                                                                                                                                                                                                                                                                                                                                                                                                                                                                                                                                                                                                                                                                                                                                                                                                                                                                                                                                                                                                                                                                                                                                                                                                                                                                                                                                                                                                                                                                                                                                                                                                                                                                                                                                                                                                                                                                                                                                                                                                                                                                                                                                                                                                                                                                                                                                                                                                                                                                                                                                                                                                                                                                                                                                                                                                                                                                                                                                                                                                                                                                                                                                                                                                                                                                                                                                                                                                                                                                                                                                                                                                                                                                                                                                                                                                                                                                                                                                                                                                                                                                                                                                                                                                                                                                                                                                                                                                                                                                                                                                                                                                                                                                                                                                                                                                                                                                                                                                                                                                                                                                                                                                                                                                                                                                                                                                                                                                                                                                                                                                                                                                                                                                                                                                                                                                                                                                                                                                                                                                                                                                                                                                                                                                                                                                                                                                                                                                                                                                                                                                                                                                                                                                                                                                                                                                                                                                                                                                                                                                                                                                                                                                                                                                                                                                                                                                                                                                                                                                                                                                                                                                                                                                                                                                                                                                                                                                                                                                                                                                                                                                                                                                                                                                                                                                                                                                                                                                                                                                                                                                                                                                                                                                                                                                                                                                                                                                                                                                                                                                                                                                                                                                                                                                                                                                                                                                                                                                                                                                                                                                                                                                                                                                                                                                                                                                                                                                                                                                                                                                                                                                                                                                                                                                                                                                                                                                                                                                                                                                                                                                                                                                                                                                                                                                                                                                                                                                                                                                                                                                                                                                                                                                                                                                                                                                                                                                                                                                                                                                                                                                                                                                                                                                                                                                                                                                                                                                                                                                                                                                                                                                                                                                                                                                                                                                                                                                                                                                                                                                                                                                                                                                                                                                                                                                                                                                                                                                                                                                                                                                                                                                                                                                                                                                                                                                                                                                                                                                                                                                                                                                                                                                                                                                                                                                                                                                                                                                                                                                                                                                                                                                                                                                                                                                                                                                                                                                                                                                                                                                                                                                                                                                                                                                                                                                                                                                                                                                                                                                                                                                                                                                                                                                                                                                                                                                                                                                                                                                                                                                                                                                                                                                                                                                                                                                                                                                                                                                                                                                                                                                                                                                                                                                                                                                                                                                                                                                                                                                                                                                                                                                                                                                                                                                                                                                                                                                                                                                                                                                                                                                                                                                                                                                                                                                                                                                                                                                                                                                                                                                                                                                                                                                                                                                                                                                                                                                                                                                                                                                                                                                                                                                                                                                                                                                                                                                                                                                                                                                                                                                                                                                                                                                                                                                                                                                                                                                                                                                                                                                                                                                                                                                                                                                                                                                                                                                                                            </tbody>\n",
       "                      </table>"
      ]
     },
     "execution_count": 7,
     "metadata": {},
     "output_type": "execute_result"
    }
   ],
   "source": [
    "tbl[1]"
   ]
  },
  {
   "cell_type": "code",
   "execution_count": 8,
   "id": "9bcce6aa",
   "metadata": {},
   "outputs": [
    {
     "data": {
      "text/plain": [
       "45"
      ]
     },
     "execution_count": 8,
     "metadata": {},
     "output_type": "execute_result"
    }
   ],
   "source": [
    "rows = tbl[1].find_all(\"a\")\n",
    "len(rows)"
   ]
  },
  {
   "cell_type": "code",
   "execution_count": 9,
   "id": "f1d59fe3",
   "metadata": {},
   "outputs": [],
   "source": [
    "this_row = [row for row in rows if \"AgendaViewer\" in row]"
   ]
  },
  {
   "cell_type": "code",
   "execution_count": 10,
   "id": "1dbab6a4",
   "metadata": {},
   "outputs": [
    {
     "data": {
      "text/plain": [
       "bs4.element.Tag"
      ]
     },
     "execution_count": 10,
     "metadata": {},
     "output_type": "execute_result"
    }
   ],
   "source": [
    "type(rows[0])"
   ]
  },
  {
   "cell_type": "code",
   "execution_count": 11,
   "id": "5d4a9b55",
   "metadata": {},
   "outputs": [
    {
     "data": {
      "text/plain": [
       "15"
      ]
     },
     "execution_count": 11,
     "metadata": {},
     "output_type": "execute_result"
    }
   ],
   "source": [
    "agenda_links = [row[\"href\"] for row in rows if \"AgendaViewer\" in row[\"href\"]]\n",
    "len(agenda_links)"
   ]
  },
  {
   "cell_type": "code",
   "execution_count": 12,
   "id": "81c02ef8",
   "metadata": {},
   "outputs": [],
   "source": [
    "agenda1_url = f\"https://docs.google.com/gview?url=https:{agenda_links[0]}\"\n",
    "agenda1 = s.get(agenda1_url, headers=headers)"
   ]
  },
  {
   "cell_type": "code",
   "execution_count": 14,
   "id": "238cacb3",
   "metadata": {},
   "outputs": [
    {
     "data": {
      "text/plain": [
       "'https://docs.google.com/gview?url=https://greenbeltmd.granicus.com/AgendaViewer.php?view_id=2&clip_id=1799'"
      ]
     },
     "execution_count": 14,
     "metadata": {},
     "output_type": "execute_result"
    }
   ],
   "source": [
    "agenda1_url"
   ]
  },
  {
   "cell_type": "code",
   "execution_count": 18,
   "id": "72c19084",
   "metadata": {},
   "outputs": [],
   "source": [
    "realagenda_url = \"https://docs.google.com/gview?url=https%3A%2F%2Fgranicus_production_attachments.s3.amazonaws.com%2Fgreenbeltmd%2Fb2d79766c0d56f1de19e1e1c3bad75060.pdf\""
   ]
  },
  {
   "cell_type": "code",
   "execution_count": 19,
   "id": "c091b299",
   "metadata": {},
   "outputs": [
    {
     "data": {
      "text/plain": [
       "False"
      ]
     },
     "execution_count": 19,
     "metadata": {},
     "output_type": "execute_result"
    }
   ],
   "source": [
    "realagenda_url in tbl[1]"
   ]
  },
  {
   "cell_type": "code",
   "execution_count": 23,
   "id": "1a3bb2ce",
   "metadata": {},
   "outputs": [
    {
     "name": "stdout",
     "output_type": "stream",
     "text": [
      "//greenbeltmd.granicus.com/AgendaViewer.php?view_id=2&clip_id=1799\n",
      "//greenbeltmd.granicus.com/AgendaViewer.php?view_id=2&clip_id=1798\n",
      "//greenbeltmd.granicus.com/AgendaViewer.php?view_id=2&clip_id=1796\n",
      "//greenbeltmd.granicus.com/AgendaViewer.php?view_id=2&clip_id=1795\n",
      "//greenbeltmd.granicus.com/AgendaViewer.php?view_id=2&clip_id=1794\n",
      "//greenbeltmd.granicus.com/AgendaViewer.php?view_id=2&clip_id=1793\n",
      "//greenbeltmd.granicus.com/AgendaViewer.php?view_id=2&clip_id=1792\n",
      "//greenbeltmd.granicus.com/AgendaViewer.php?view_id=2&clip_id=1791\n",
      "//greenbeltmd.granicus.com/AgendaViewer.php?view_id=2&clip_id=1790\n",
      "//greenbeltmd.granicus.com/AgendaViewer.php?view_id=2&clip_id=1789\n",
      "//greenbeltmd.granicus.com/AgendaViewer.php?view_id=2&clip_id=1788\n",
      "//greenbeltmd.granicus.com/AgendaViewer.php?view_id=2&clip_id=1787\n",
      "//greenbeltmd.granicus.com/AgendaViewer.php?view_id=2&clip_id=1786\n",
      "//greenbeltmd.granicus.com/AgendaViewer.php?view_id=2&clip_id=1785\n",
      "//greenbeltmd.granicus.com/AgendaViewer.php?view_id=2&clip_id=1784\n"
     ]
    }
   ],
   "source": [
    "for link in agenda_links:\n",
    "    print(link)"
   ]
  },
  {
   "cell_type": "code",
   "execution_count": 28,
   "id": "cdf3a2d6",
   "metadata": {},
   "outputs": [
    {
     "data": {
      "text/plain": [
       "<Response [204]>"
      ]
     },
     "execution_count": 28,
     "metadata": {},
     "output_type": "execute_result"
    }
   ],
   "source": [
    "agenda1 = s.post(f\"https:{link}\", headers=headers)\n",
    "agenda1"
   ]
  },
  {
   "cell_type": "code",
   "execution_count": 29,
   "id": "8c5332ea",
   "metadata": {},
   "outputs": [
    {
     "data": {
      "text/plain": [
       "b''"
      ]
     },
     "execution_count": 29,
     "metadata": {},
     "output_type": "execute_result"
    }
   ],
   "source": [
    "agenda1.content"
   ]
  },
  {
   "cell_type": "code",
   "execution_count": 40,
   "id": "7b755d7c",
   "metadata": {},
   "outputs": [
    {
     "name": "stdout",
     "output_type": "stream",
     "text": [
      "302 https://greenbeltmd.granicus.com/AgendaViewer.php?view_id=2&clip_id=1784\n"
     ]
    }
   ],
   "source": [
    "x = f\"https:{link}\"\n",
    "a = s.post(x)\n",
    "if a.history:\n",
    "    for resp in a.history:\n",
    "        print(resp.status_code, resp.url)"
   ]
  },
  {
   "cell_type": "markdown",
   "id": "646d61ee",
   "metadata": {},
   "source": [
    "## This is It!"
   ]
  },
  {
   "cell_type": "code",
   "execution_count": 41,
   "id": "5cd1f4be",
   "metadata": {},
   "outputs": [
    {
     "name": "stdout",
     "output_type": "stream",
     "text": [
      "https://docs.google.com/gview?url=https%3A%2F%2Fgranicus_production_attachments.s3.amazonaws.com%2Fgreenbeltmd%2F921d005f5049fa622d3de348683ceb0e0.pdf&embedded=true\n"
     ]
    }
   ],
   "source": [
    "starturl = x\n",
    "res = urllib.request.urlopen(starturl)\n",
    "finalurl = res.geturl()\n",
    "print(finalurl)"
   ]
  },
  {
   "cell_type": "code",
   "execution_count": 116,
   "id": "2da5b398",
   "metadata": {},
   "outputs": [
    {
     "name": "stdout",
     "output_type": "stream",
     "text": [
      "2024\n",
      "https://granicus_production_attachments.s3.amazonaws.com/greenbeltmd/7e3556acb244e0d40b6b8fd3ebbcb6310.pdf\n"
     ]
    },
    {
     "name": "stderr",
     "output_type": "stream",
     "text": [
      "C:\\Users\\ben97312\\Documents\\code\\notebooks\\Lib\\site-packages\\urllib3\\connectionpool.py:1103: InsecureRequestWarning: Unverified HTTPS request is being made to host 'granicus_production_attachments.s3.amazonaws.com'. Adding certificate verification is strongly advised. See: https://urllib3.readthedocs.io/en/latest/advanced-usage.html#tls-warnings\n",
      "  warnings.warn(\n"
     ]
    },
    {
     "name": "stdout",
     "output_type": "stream",
     "text": [
      "2024\n",
      "https://granicus_production_attachments.s3.amazonaws.com/greenbeltmd/b2d79766c0d56f1de19e1e1c3bad75060.pdf\n"
     ]
    },
    {
     "name": "stderr",
     "output_type": "stream",
     "text": [
      "C:\\Users\\ben97312\\Documents\\code\\notebooks\\Lib\\site-packages\\urllib3\\connectionpool.py:1103: InsecureRequestWarning: Unverified HTTPS request is being made to host 'granicus_production_attachments.s3.amazonaws.com'. Adding certificate verification is strongly advised. See: https://urllib3.readthedocs.io/en/latest/advanced-usage.html#tls-warnings\n",
      "  warnings.warn(\n"
     ]
    },
    {
     "name": "stdout",
     "output_type": "stream",
     "text": [
      "2024\n",
      "https://granicus_production_attachments.s3.amazonaws.com/greenbeltmd/51d2b1d23f9fd00b3493fb1150fe65720.pdf\n"
     ]
    },
    {
     "name": "stderr",
     "output_type": "stream",
     "text": [
      "C:\\Users\\ben97312\\Documents\\code\\notebooks\\Lib\\site-packages\\urllib3\\connectionpool.py:1103: InsecureRequestWarning: Unverified HTTPS request is being made to host 'granicus_production_attachments.s3.amazonaws.com'. Adding certificate verification is strongly advised. See: https://urllib3.readthedocs.io/en/latest/advanced-usage.html#tls-warnings\n",
      "  warnings.warn(\n",
      "C:\\Users\\ben97312\\Documents\\code\\notebooks\\Lib\\site-packages\\urllib3\\connectionpool.py:1103: InsecureRequestWarning: Unverified HTTPS request is being made to host 'granicus_production_attachments.s3.amazonaws.com'. Adding certificate verification is strongly advised. See: https://urllib3.readthedocs.io/en/latest/advanced-usage.html#tls-warnings\n",
      "  warnings.warn(\n",
      "C:\\Users\\ben97312\\Documents\\code\\notebooks\\Lib\\site-packages\\urllib3\\connectionpool.py:1103: InsecureRequestWarning: Unverified HTTPS request is being made to host 'granicus_production_attachments.s3.amazonaws.com'. Adding certificate verification is strongly advised. See: https://urllib3.readthedocs.io/en/latest/advanced-usage.html#tls-warnings\n",
      "  warnings.warn(\n"
     ]
    },
    {
     "name": "stdout",
     "output_type": "stream",
     "text": [
      "2024\n",
      "https://granicus_production_attachments.s3.amazonaws.com/greenbeltmd/2fd64e460fa9c6e802f60b3189115da40.pdf\n"
     ]
    },
    {
     "name": "stderr",
     "output_type": "stream",
     "text": [
      "C:\\Users\\ben97312\\Documents\\code\\notebooks\\Lib\\site-packages\\urllib3\\connectionpool.py:1103: InsecureRequestWarning: Unverified HTTPS request is being made to host 'granicus_production_attachments.s3.amazonaws.com'. Adding certificate verification is strongly advised. See: https://urllib3.readthedocs.io/en/latest/advanced-usage.html#tls-warnings\n",
      "  warnings.warn(\n",
      "C:\\Users\\ben97312\\Documents\\code\\notebooks\\Lib\\site-packages\\urllib3\\connectionpool.py:1103: InsecureRequestWarning: Unverified HTTPS request is being made to host 'granicus_production_attachments.s3.amazonaws.com'. Adding certificate verification is strongly advised. See: https://urllib3.readthedocs.io/en/latest/advanced-usage.html#tls-warnings\n",
      "  warnings.warn(\n"
     ]
    },
    {
     "name": "stdout",
     "output_type": "stream",
     "text": [
      "2024\n",
      "https://granicus_production_attachments.s3.amazonaws.com/greenbeltmd/9a0cc99553c012acdb354a1c26eb82e50.pdf\n"
     ]
    },
    {
     "name": "stderr",
     "output_type": "stream",
     "text": [
      "C:\\Users\\ben97312\\Documents\\code\\notebooks\\Lib\\site-packages\\urllib3\\connectionpool.py:1103: InsecureRequestWarning: Unverified HTTPS request is being made to host 'granicus_production_attachments.s3.amazonaws.com'. Adding certificate verification is strongly advised. See: https://urllib3.readthedocs.io/en/latest/advanced-usage.html#tls-warnings\n",
      "  warnings.warn(\n"
     ]
    },
    {
     "name": "stdout",
     "output_type": "stream",
     "text": [
      "2024\n",
      "https://granicus_production_attachments.s3.amazonaws.com/greenbeltmd/6d34f9917a7804c9797cf38374968a7e0.pdf\n"
     ]
    },
    {
     "name": "stderr",
     "output_type": "stream",
     "text": [
      "C:\\Users\\ben97312\\Documents\\code\\notebooks\\Lib\\site-packages\\urllib3\\connectionpool.py:1103: InsecureRequestWarning: Unverified HTTPS request is being made to host 'granicus_production_attachments.s3.amazonaws.com'. Adding certificate verification is strongly advised. See: https://urllib3.readthedocs.io/en/latest/advanced-usage.html#tls-warnings\n",
      "  warnings.warn(\n"
     ]
    },
    {
     "name": "stdout",
     "output_type": "stream",
     "text": [
      "2024\n",
      "https://granicus_production_attachments.s3.amazonaws.com/greenbeltmd/7b8955929f1f613f35ce0e3d7330416d0.pdf\n"
     ]
    },
    {
     "name": "stderr",
     "output_type": "stream",
     "text": [
      "C:\\Users\\ben97312\\Documents\\code\\notebooks\\Lib\\site-packages\\urllib3\\connectionpool.py:1103: InsecureRequestWarning: Unverified HTTPS request is being made to host 'granicus_production_attachments.s3.amazonaws.com'. Adding certificate verification is strongly advised. See: https://urllib3.readthedocs.io/en/latest/advanced-usage.html#tls-warnings\n",
      "  warnings.warn(\n"
     ]
    },
    {
     "name": "stdout",
     "output_type": "stream",
     "text": [
      "2024\n",
      "https://granicus_production_attachments.s3.amazonaws.com/greenbeltmd/f7f329ad5a3c662b2f56df42c3ddee920.pdf\n"
     ]
    },
    {
     "name": "stderr",
     "output_type": "stream",
     "text": [
      "C:\\Users\\ben97312\\Documents\\code\\notebooks\\Lib\\site-packages\\urllib3\\connectionpool.py:1103: InsecureRequestWarning: Unverified HTTPS request is being made to host 'granicus_production_attachments.s3.amazonaws.com'. Adding certificate verification is strongly advised. See: https://urllib3.readthedocs.io/en/latest/advanced-usage.html#tls-warnings\n",
      "  warnings.warn(\n",
      "C:\\Users\\ben97312\\Documents\\code\\notebooks\\Lib\\site-packages\\urllib3\\connectionpool.py:1103: InsecureRequestWarning: Unverified HTTPS request is being made to host 'granicus_production_attachments.s3.amazonaws.com'. Adding certificate verification is strongly advised. See: https://urllib3.readthedocs.io/en/latest/advanced-usage.html#tls-warnings\n",
      "  warnings.warn(\n"
     ]
    },
    {
     "name": "stdout",
     "output_type": "stream",
     "text": [
      "2024\n",
      "https://granicus_production_attachments.s3.amazonaws.com/greenbeltmd/9b6f331ddc4d53935236f5fb1d7e608b0.pdf\n"
     ]
    },
    {
     "name": "stderr",
     "output_type": "stream",
     "text": [
      "C:\\Users\\ben97312\\Documents\\code\\notebooks\\Lib\\site-packages\\urllib3\\connectionpool.py:1103: InsecureRequestWarning: Unverified HTTPS request is being made to host 'granicus_production_attachments.s3.amazonaws.com'. Adding certificate verification is strongly advised. See: https://urllib3.readthedocs.io/en/latest/advanced-usage.html#tls-warnings\n",
      "  warnings.warn(\n"
     ]
    },
    {
     "name": "stdout",
     "output_type": "stream",
     "text": [
      "2024\n",
      "https://granicus_production_attachments.s3.amazonaws.com/greenbeltmd/42a5f0dd88527177316d7106c7c92dc70.pdf\n"
     ]
    },
    {
     "name": "stderr",
     "output_type": "stream",
     "text": [
      "C:\\Users\\ben97312\\Documents\\code\\notebooks\\Lib\\site-packages\\urllib3\\connectionpool.py:1103: InsecureRequestWarning: Unverified HTTPS request is being made to host 'granicus_production_attachments.s3.amazonaws.com'. Adding certificate verification is strongly advised. See: https://urllib3.readthedocs.io/en/latest/advanced-usage.html#tls-warnings\n",
      "  warnings.warn(\n"
     ]
    },
    {
     "name": "stdout",
     "output_type": "stream",
     "text": [
      "2024\n",
      "https://granicus_production_attachments.s3.amazonaws.com/greenbeltmd/921d005f5049fa622d3de348683ceb0e0.pdf\n"
     ]
    },
    {
     "name": "stderr",
     "output_type": "stream",
     "text": [
      "C:\\Users\\ben97312\\Documents\\code\\notebooks\\Lib\\site-packages\\urllib3\\connectionpool.py:1103: InsecureRequestWarning: Unverified HTTPS request is being made to host 'granicus_production_attachments.s3.amazonaws.com'. Adding certificate verification is strongly advised. See: https://urllib3.readthedocs.io/en/latest/advanced-usage.html#tls-warnings\n",
      "  warnings.warn(\n"
     ]
    },
    {
     "name": "stdout",
     "output_type": "stream",
     "text": [
      "2023\n",
      "https://granicus_production_attachments.s3.amazonaws.com/greenbeltmd/7e781ce414888832adb7846be5a7b42d0.pdf\n"
     ]
    },
    {
     "name": "stderr",
     "output_type": "stream",
     "text": [
      "C:\\Users\\ben97312\\Documents\\code\\notebooks\\Lib\\site-packages\\urllib3\\connectionpool.py:1103: InsecureRequestWarning: Unverified HTTPS request is being made to host 'granicus_production_attachments.s3.amazonaws.com'. Adding certificate verification is strongly advised. See: https://urllib3.readthedocs.io/en/latest/advanced-usage.html#tls-warnings\n",
      "  warnings.warn(\n"
     ]
    },
    {
     "name": "stdout",
     "output_type": "stream",
     "text": [
      "2023\n",
      "https://granicus_production_attachments.s3.amazonaws.com/greenbeltmd/46a63d4b3424a96d77383421d69a81210.pdf\n"
     ]
    },
    {
     "name": "stderr",
     "output_type": "stream",
     "text": [
      "C:\\Users\\ben97312\\Documents\\code\\notebooks\\Lib\\site-packages\\urllib3\\connectionpool.py:1103: InsecureRequestWarning: Unverified HTTPS request is being made to host 'granicus_production_attachments.s3.amazonaws.com'. Adding certificate verification is strongly advised. See: https://urllib3.readthedocs.io/en/latest/advanced-usage.html#tls-warnings\n",
      "  warnings.warn(\n",
      "C:\\Users\\ben97312\\Documents\\code\\notebooks\\Lib\\site-packages\\urllib3\\connectionpool.py:1103: InsecureRequestWarning: Unverified HTTPS request is being made to host 'granicus_production_attachments.s3.amazonaws.com'. Adding certificate verification is strongly advised. See: https://urllib3.readthedocs.io/en/latest/advanced-usage.html#tls-warnings\n",
      "  warnings.warn(\n"
     ]
    },
    {
     "name": "stdout",
     "output_type": "stream",
     "text": [
      "2023\n",
      "https://granicus_production_attachments.s3.amazonaws.com/greenbeltmd/dafdddab39b0749aebbf669e9dcd29ba0.pdf\n"
     ]
    },
    {
     "name": "stderr",
     "output_type": "stream",
     "text": [
      "C:\\Users\\ben97312\\Documents\\code\\notebooks\\Lib\\site-packages\\urllib3\\connectionpool.py:1103: InsecureRequestWarning: Unverified HTTPS request is being made to host 'granicus_production_attachments.s3.amazonaws.com'. Adding certificate verification is strongly advised. See: https://urllib3.readthedocs.io/en/latest/advanced-usage.html#tls-warnings\n",
      "  warnings.warn(\n"
     ]
    },
    {
     "name": "stdout",
     "output_type": "stream",
     "text": [
      "2023\n",
      "https://granicus_production_attachments.s3.amazonaws.com/greenbeltmd/bcf3823fbb636eb0c267e80f83df1afc0.pdf\n"
     ]
    },
    {
     "name": "stderr",
     "output_type": "stream",
     "text": [
      "C:\\Users\\ben97312\\Documents\\code\\notebooks\\Lib\\site-packages\\urllib3\\connectionpool.py:1103: InsecureRequestWarning: Unverified HTTPS request is being made to host 'granicus_production_attachments.s3.amazonaws.com'. Adding certificate verification is strongly advised. See: https://urllib3.readthedocs.io/en/latest/advanced-usage.html#tls-warnings\n",
      "  warnings.warn(\n"
     ]
    },
    {
     "name": "stdout",
     "output_type": "stream",
     "text": [
      "2023\n",
      "https://granicus_production_attachments.s3.amazonaws.com/greenbeltmd/a73f62382782168551569f193a9ea07e0.pdf\n"
     ]
    },
    {
     "name": "stderr",
     "output_type": "stream",
     "text": [
      "C:\\Users\\ben97312\\Documents\\code\\notebooks\\Lib\\site-packages\\urllib3\\connectionpool.py:1103: InsecureRequestWarning: Unverified HTTPS request is being made to host 'granicus_production_attachments.s3.amazonaws.com'. Adding certificate verification is strongly advised. See: https://urllib3.readthedocs.io/en/latest/advanced-usage.html#tls-warnings\n",
      "  warnings.warn(\n"
     ]
    },
    {
     "name": "stdout",
     "output_type": "stream",
     "text": [
      "2023\n",
      "https://granicus_production_attachments.s3.amazonaws.com/greenbeltmd/36592959df9e51b133b51d39c52f82c20.pdf\n"
     ]
    },
    {
     "name": "stderr",
     "output_type": "stream",
     "text": [
      "C:\\Users\\ben97312\\Documents\\code\\notebooks\\Lib\\site-packages\\urllib3\\connectionpool.py:1103: InsecureRequestWarning: Unverified HTTPS request is being made to host 'granicus_production_attachments.s3.amazonaws.com'. Adding certificate verification is strongly advised. See: https://urllib3.readthedocs.io/en/latest/advanced-usage.html#tls-warnings\n",
      "  warnings.warn(\n"
     ]
    },
    {
     "name": "stdout",
     "output_type": "stream",
     "text": [
      "2023\n",
      "https://granicus_production_attachments.s3.amazonaws.com/greenbeltmd/8c8e4baa46a2b6f8e9c7019376d18b320.pdf\n"
     ]
    },
    {
     "name": "stderr",
     "output_type": "stream",
     "text": [
      "C:\\Users\\ben97312\\Documents\\code\\notebooks\\Lib\\site-packages\\urllib3\\connectionpool.py:1103: InsecureRequestWarning: Unverified HTTPS request is being made to host 'granicus_production_attachments.s3.amazonaws.com'. Adding certificate verification is strongly advised. See: https://urllib3.readthedocs.io/en/latest/advanced-usage.html#tls-warnings\n",
      "  warnings.warn(\n"
     ]
    },
    {
     "name": "stdout",
     "output_type": "stream",
     "text": [
      "2023\n",
      "https://granicus_production_attachments.s3.amazonaws.com/greenbeltmd/015fdcab9fdc911c6ece183a300bc6000.pdf\n"
     ]
    },
    {
     "name": "stderr",
     "output_type": "stream",
     "text": [
      "C:\\Users\\ben97312\\Documents\\code\\notebooks\\Lib\\site-packages\\urllib3\\connectionpool.py:1103: InsecureRequestWarning: Unverified HTTPS request is being made to host 'granicus_production_attachments.s3.amazonaws.com'. Adding certificate verification is strongly advised. See: https://urllib3.readthedocs.io/en/latest/advanced-usage.html#tls-warnings\n",
      "  warnings.warn(\n"
     ]
    },
    {
     "name": "stdout",
     "output_type": "stream",
     "text": [
      "2023\n",
      "https://granicus_production_attachments.s3.amazonaws.com/greenbeltmd/217d878c4958e3b29d94e3c5af1947ec0.pdf\n"
     ]
    },
    {
     "name": "stderr",
     "output_type": "stream",
     "text": [
      "C:\\Users\\ben97312\\Documents\\code\\notebooks\\Lib\\site-packages\\urllib3\\connectionpool.py:1103: InsecureRequestWarning: Unverified HTTPS request is being made to host 'granicus_production_attachments.s3.amazonaws.com'. Adding certificate verification is strongly advised. See: https://urllib3.readthedocs.io/en/latest/advanced-usage.html#tls-warnings\n",
      "  warnings.warn(\n",
      "C:\\Users\\ben97312\\Documents\\code\\notebooks\\Lib\\site-packages\\urllib3\\connectionpool.py:1103: InsecureRequestWarning: Unverified HTTPS request is being made to host 'granicus_production_attachments.s3.amazonaws.com'. Adding certificate verification is strongly advised. See: https://urllib3.readthedocs.io/en/latest/advanced-usage.html#tls-warnings\n",
      "  warnings.warn(\n",
      "C:\\Users\\ben97312\\Documents\\code\\notebooks\\Lib\\site-packages\\urllib3\\connectionpool.py:1103: InsecureRequestWarning: Unverified HTTPS request is being made to host 'granicus_production_attachments.s3.amazonaws.com'. Adding certificate verification is strongly advised. See: https://urllib3.readthedocs.io/en/latest/advanced-usage.html#tls-warnings\n",
      "  warnings.warn(\n",
      "C:\\Users\\ben97312\\Documents\\code\\notebooks\\Lib\\site-packages\\urllib3\\connectionpool.py:1103: InsecureRequestWarning: Unverified HTTPS request is being made to host 'granicus_production_attachments.s3.amazonaws.com'. Adding certificate verification is strongly advised. See: https://urllib3.readthedocs.io/en/latest/advanced-usage.html#tls-warnings\n",
      "  warnings.warn(\n",
      "C:\\Users\\ben97312\\Documents\\code\\notebooks\\Lib\\site-packages\\urllib3\\connectionpool.py:1103: InsecureRequestWarning: Unverified HTTPS request is being made to host 'granicus_production_attachments.s3.amazonaws.com'. Adding certificate verification is strongly advised. See: https://urllib3.readthedocs.io/en/latest/advanced-usage.html#tls-warnings\n",
      "  warnings.warn(\n",
      "C:\\Users\\ben97312\\Documents\\code\\notebooks\\Lib\\site-packages\\urllib3\\connectionpool.py:1103: InsecureRequestWarning: Unverified HTTPS request is being made to host 'granicus_production_attachments.s3.amazonaws.com'. Adding certificate verification is strongly advised. See: https://urllib3.readthedocs.io/en/latest/advanced-usage.html#tls-warnings\n",
      "  warnings.warn(\n",
      "C:\\Users\\ben97312\\Documents\\code\\notebooks\\Lib\\site-packages\\urllib3\\connectionpool.py:1103: InsecureRequestWarning: Unverified HTTPS request is being made to host 'granicus_production_attachments.s3.amazonaws.com'. Adding certificate verification is strongly advised. See: https://urllib3.readthedocs.io/en/latest/advanced-usage.html#tls-warnings\n",
      "  warnings.warn(\n",
      "C:\\Users\\ben97312\\Documents\\code\\notebooks\\Lib\\site-packages\\urllib3\\connectionpool.py:1103: InsecureRequestWarning: Unverified HTTPS request is being made to host 'granicus_production_attachments.s3.amazonaws.com'. Adding certificate verification is strongly advised. See: https://urllib3.readthedocs.io/en/latest/advanced-usage.html#tls-warnings\n",
      "  warnings.warn(\n",
      "C:\\Users\\ben97312\\Documents\\code\\notebooks\\Lib\\site-packages\\urllib3\\connectionpool.py:1103: InsecureRequestWarning: Unverified HTTPS request is being made to host 'granicus_production_attachments.s3.amazonaws.com'. Adding certificate verification is strongly advised. See: https://urllib3.readthedocs.io/en/latest/advanced-usage.html#tls-warnings\n",
      "  warnings.warn(\n",
      "C:\\Users\\ben97312\\Documents\\code\\notebooks\\Lib\\site-packages\\urllib3\\connectionpool.py:1103: InsecureRequestWarning: Unverified HTTPS request is being made to host 'granicus_production_attachments.s3.amazonaws.com'. Adding certificate verification is strongly advised. See: https://urllib3.readthedocs.io/en/latest/advanced-usage.html#tls-warnings\n",
      "  warnings.warn(\n",
      "C:\\Users\\ben97312\\Documents\\code\\notebooks\\Lib\\site-packages\\urllib3\\connectionpool.py:1103: InsecureRequestWarning: Unverified HTTPS request is being made to host 'granicus_production_attachments.s3.amazonaws.com'. Adding certificate verification is strongly advised. See: https://urllib3.readthedocs.io/en/latest/advanced-usage.html#tls-warnings\n",
      "  warnings.warn(\n",
      "C:\\Users\\ben97312\\Documents\\code\\notebooks\\Lib\\site-packages\\urllib3\\connectionpool.py:1103: InsecureRequestWarning: Unverified HTTPS request is being made to host 'granicus_production_attachments.s3.amazonaws.com'. Adding certificate verification is strongly advised. See: https://urllib3.readthedocs.io/en/latest/advanced-usage.html#tls-warnings\n",
      "  warnings.warn(\n"
     ]
    },
    {
     "name": "stdout",
     "output_type": "stream",
     "text": [
      "2023\n",
      "https://granicus_production_attachments.s3.amazonaws.com/greenbeltmd/7e73c0db72fe6fc5bca8a94d1b8f17f30.pdf\n"
     ]
    },
    {
     "name": "stderr",
     "output_type": "stream",
     "text": [
      "C:\\Users\\ben97312\\Documents\\code\\notebooks\\Lib\\site-packages\\urllib3\\connectionpool.py:1103: InsecureRequestWarning: Unverified HTTPS request is being made to host 'granicus_production_attachments.s3.amazonaws.com'. Adding certificate verification is strongly advised. See: https://urllib3.readthedocs.io/en/latest/advanced-usage.html#tls-warnings\n",
      "  warnings.warn(\n"
     ]
    },
    {
     "name": "stdout",
     "output_type": "stream",
     "text": [
      "2023\n",
      "https://granicus_production_attachments.s3.amazonaws.com/greenbeltmd/996d6d25b7aff6afe3e9d52b67d74d6b0.pdf\n"
     ]
    },
    {
     "name": "stderr",
     "output_type": "stream",
     "text": [
      "C:\\Users\\ben97312\\Documents\\code\\notebooks\\Lib\\site-packages\\urllib3\\connectionpool.py:1103: InsecureRequestWarning: Unverified HTTPS request is being made to host 'granicus_production_attachments.s3.amazonaws.com'. Adding certificate verification is strongly advised. See: https://urllib3.readthedocs.io/en/latest/advanced-usage.html#tls-warnings\n",
      "  warnings.warn(\n",
      "C:\\Users\\ben97312\\Documents\\code\\notebooks\\Lib\\site-packages\\urllib3\\connectionpool.py:1103: InsecureRequestWarning: Unverified HTTPS request is being made to host 'granicus_production_attachments.s3.amazonaws.com'. Adding certificate verification is strongly advised. See: https://urllib3.readthedocs.io/en/latest/advanced-usage.html#tls-warnings\n",
      "  warnings.warn(\n",
      "C:\\Users\\ben97312\\Documents\\code\\notebooks\\Lib\\site-packages\\urllib3\\connectionpool.py:1103: InsecureRequestWarning: Unverified HTTPS request is being made to host 'granicus_production_attachments.s3.amazonaws.com'. Adding certificate verification is strongly advised. See: https://urllib3.readthedocs.io/en/latest/advanced-usage.html#tls-warnings\n",
      "  warnings.warn(\n",
      "C:\\Users\\ben97312\\Documents\\code\\notebooks\\Lib\\site-packages\\urllib3\\connectionpool.py:1103: InsecureRequestWarning: Unverified HTTPS request is being made to host 'granicus_production_attachments.s3.amazonaws.com'. Adding certificate verification is strongly advised. See: https://urllib3.readthedocs.io/en/latest/advanced-usage.html#tls-warnings\n",
      "  warnings.warn(\n",
      "C:\\Users\\ben97312\\Documents\\code\\notebooks\\Lib\\site-packages\\urllib3\\connectionpool.py:1103: InsecureRequestWarning: Unverified HTTPS request is being made to host 'granicus_production_attachments.s3.amazonaws.com'. Adding certificate verification is strongly advised. See: https://urllib3.readthedocs.io/en/latest/advanced-usage.html#tls-warnings\n",
      "  warnings.warn(\n",
      "C:\\Users\\ben97312\\Documents\\code\\notebooks\\Lib\\site-packages\\urllib3\\connectionpool.py:1103: InsecureRequestWarning: Unverified HTTPS request is being made to host 'granicus_production_attachments.s3.amazonaws.com'. Adding certificate verification is strongly advised. See: https://urllib3.readthedocs.io/en/latest/advanced-usage.html#tls-warnings\n",
      "  warnings.warn(\n"
     ]
    },
    {
     "name": "stdout",
     "output_type": "stream",
     "text": [
      "2023\n",
      "https://granicus_production_attachments.s3.amazonaws.com/greenbeltmd/373cb1878b628a5f4832cbf4ee3523450.pdf\n"
     ]
    },
    {
     "name": "stderr",
     "output_type": "stream",
     "text": [
      "C:\\Users\\ben97312\\Documents\\code\\notebooks\\Lib\\site-packages\\urllib3\\connectionpool.py:1103: InsecureRequestWarning: Unverified HTTPS request is being made to host 'granicus_production_attachments.s3.amazonaws.com'. Adding certificate verification is strongly advised. See: https://urllib3.readthedocs.io/en/latest/advanced-usage.html#tls-warnings\n",
      "  warnings.warn(\n"
     ]
    },
    {
     "name": "stdout",
     "output_type": "stream",
     "text": [
      "2023\n",
      "https://granicus_production_attachments.s3.amazonaws.com/greenbeltmd/eb59bc78b25eb50d6f15a8f851c52e360.pdf\n"
     ]
    },
    {
     "name": "stderr",
     "output_type": "stream",
     "text": [
      "C:\\Users\\ben97312\\Documents\\code\\notebooks\\Lib\\site-packages\\urllib3\\connectionpool.py:1103: InsecureRequestWarning: Unverified HTTPS request is being made to host 'granicus_production_attachments.s3.amazonaws.com'. Adding certificate verification is strongly advised. See: https://urllib3.readthedocs.io/en/latest/advanced-usage.html#tls-warnings\n",
      "  warnings.warn(\n",
      "C:\\Users\\ben97312\\Documents\\code\\notebooks\\Lib\\site-packages\\urllib3\\connectionpool.py:1103: InsecureRequestWarning: Unverified HTTPS request is being made to host 'granicus_production_attachments.s3.amazonaws.com'. Adding certificate verification is strongly advised. See: https://urllib3.readthedocs.io/en/latest/advanced-usage.html#tls-warnings\n",
      "  warnings.warn(\n"
     ]
    },
    {
     "name": "stdout",
     "output_type": "stream",
     "text": [
      "2023\n",
      "https://granicus_production_attachments.s3.amazonaws.com/greenbeltmd/bac9b3feff3f9fa18a5d8c247161a66e0.pdf\n"
     ]
    },
    {
     "name": "stderr",
     "output_type": "stream",
     "text": [
      "C:\\Users\\ben97312\\Documents\\code\\notebooks\\Lib\\site-packages\\urllib3\\connectionpool.py:1103: InsecureRequestWarning: Unverified HTTPS request is being made to host 'granicus_production_attachments.s3.amazonaws.com'. Adding certificate verification is strongly advised. See: https://urllib3.readthedocs.io/en/latest/advanced-usage.html#tls-warnings\n",
      "  warnings.warn(\n",
      "C:\\Users\\ben97312\\Documents\\code\\notebooks\\Lib\\site-packages\\urllib3\\connectionpool.py:1103: InsecureRequestWarning: Unverified HTTPS request is being made to host 'granicus_production_attachments.s3.amazonaws.com'. Adding certificate verification is strongly advised. See: https://urllib3.readthedocs.io/en/latest/advanced-usage.html#tls-warnings\n",
      "  warnings.warn(\n",
      "C:\\Users\\ben97312\\Documents\\code\\notebooks\\Lib\\site-packages\\urllib3\\connectionpool.py:1103: InsecureRequestWarning: Unverified HTTPS request is being made to host 'granicus_production_attachments.s3.amazonaws.com'. Adding certificate verification is strongly advised. See: https://urllib3.readthedocs.io/en/latest/advanced-usage.html#tls-warnings\n",
      "  warnings.warn(\n"
     ]
    },
    {
     "name": "stdout",
     "output_type": "stream",
     "text": [
      "2023\n",
      "https://granicus_production_attachments.s3.amazonaws.com/greenbeltmd/97c1af5c48eb69af4419058dd3a46dfb0.pdf\n"
     ]
    },
    {
     "name": "stderr",
     "output_type": "stream",
     "text": [
      "C:\\Users\\ben97312\\Documents\\code\\notebooks\\Lib\\site-packages\\urllib3\\connectionpool.py:1103: InsecureRequestWarning: Unverified HTTPS request is being made to host 'granicus_production_attachments.s3.amazonaws.com'. Adding certificate verification is strongly advised. See: https://urllib3.readthedocs.io/en/latest/advanced-usage.html#tls-warnings\n",
      "  warnings.warn(\n",
      "C:\\Users\\ben97312\\Documents\\code\\notebooks\\Lib\\site-packages\\urllib3\\connectionpool.py:1103: InsecureRequestWarning: Unverified HTTPS request is being made to host 'granicus_production_attachments.s3.amazonaws.com'. Adding certificate verification is strongly advised. See: https://urllib3.readthedocs.io/en/latest/advanced-usage.html#tls-warnings\n",
      "  warnings.warn(\n",
      "C:\\Users\\ben97312\\Documents\\code\\notebooks\\Lib\\site-packages\\urllib3\\connectionpool.py:1103: InsecureRequestWarning: Unverified HTTPS request is being made to host 'granicus_production_attachments.s3.amazonaws.com'. Adding certificate verification is strongly advised. See: https://urllib3.readthedocs.io/en/latest/advanced-usage.html#tls-warnings\n",
      "  warnings.warn(\n",
      "C:\\Users\\ben97312\\Documents\\code\\notebooks\\Lib\\site-packages\\urllib3\\connectionpool.py:1103: InsecureRequestWarning: Unverified HTTPS request is being made to host 'granicus_production_attachments.s3.amazonaws.com'. Adding certificate verification is strongly advised. See: https://urllib3.readthedocs.io/en/latest/advanced-usage.html#tls-warnings\n",
      "  warnings.warn(\n",
      "C:\\Users\\ben97312\\Documents\\code\\notebooks\\Lib\\site-packages\\urllib3\\connectionpool.py:1103: InsecureRequestWarning: Unverified HTTPS request is being made to host 'granicus_production_attachments.s3.amazonaws.com'. Adding certificate verification is strongly advised. See: https://urllib3.readthedocs.io/en/latest/advanced-usage.html#tls-warnings\n",
      "  warnings.warn(\n",
      "C:\\Users\\ben97312\\Documents\\code\\notebooks\\Lib\\site-packages\\urllib3\\connectionpool.py:1103: InsecureRequestWarning: Unverified HTTPS request is being made to host 'granicus_production_attachments.s3.amazonaws.com'. Adding certificate verification is strongly advised. See: https://urllib3.readthedocs.io/en/latest/advanced-usage.html#tls-warnings\n",
      "  warnings.warn(\n"
     ]
    },
    {
     "name": "stdout",
     "output_type": "stream",
     "text": [
      "2023\n",
      "https://granicus_production_attachments.s3.amazonaws.com/greenbeltmd/5d5aaf62d2c4fd32d9517bf8050a4e720.pdf\n"
     ]
    },
    {
     "name": "stderr",
     "output_type": "stream",
     "text": [
      "C:\\Users\\ben97312\\Documents\\code\\notebooks\\Lib\\site-packages\\urllib3\\connectionpool.py:1103: InsecureRequestWarning: Unverified HTTPS request is being made to host 'granicus_production_attachments.s3.amazonaws.com'. Adding certificate verification is strongly advised. See: https://urllib3.readthedocs.io/en/latest/advanced-usage.html#tls-warnings\n",
      "  warnings.warn(\n",
      "C:\\Users\\ben97312\\Documents\\code\\notebooks\\Lib\\site-packages\\urllib3\\connectionpool.py:1103: InsecureRequestWarning: Unverified HTTPS request is being made to host 'docs.google.com'. Adding certificate verification is strongly advised. See: https://urllib3.readthedocs.io/en/latest/advanced-usage.html#tls-warnings\n",
      "  warnings.warn(\n"
     ]
    },
    {
     "name": "stdout",
     "output_type": "stream",
     "text": [
      "2023\n",
      "https://granicus_production_attachments.s3.amazonaws.com/greenbeltmd/93697684f33c18093e463ccc719869870.pdf\n"
     ]
    },
    {
     "name": "stderr",
     "output_type": "stream",
     "text": [
      "C:\\Users\\ben97312\\Documents\\code\\notebooks\\Lib\\site-packages\\urllib3\\connectionpool.py:1103: InsecureRequestWarning: Unverified HTTPS request is being made to host 'granicus_production_attachments.s3.amazonaws.com'. Adding certificate verification is strongly advised. See: https://urllib3.readthedocs.io/en/latest/advanced-usage.html#tls-warnings\n",
      "  warnings.warn(\n",
      "C:\\Users\\ben97312\\Documents\\code\\notebooks\\Lib\\site-packages\\urllib3\\connectionpool.py:1103: InsecureRequestWarning: Unverified HTTPS request is being made to host 'granicus_production_attachments.s3.amazonaws.com'. Adding certificate verification is strongly advised. See: https://urllib3.readthedocs.io/en/latest/advanced-usage.html#tls-warnings\n",
      "  warnings.warn(\n"
     ]
    },
    {
     "name": "stdout",
     "output_type": "stream",
     "text": [
      "2023\n",
      "https://d3n9y02raazwpg.cloudfront.net/greenbeltmd/5e0fee35-dee2-11ed-95dd-0050569183fa-f313b5db-8c16-47bf-9ce6-b96576f03654-1684771180.pdf\n"
     ]
    },
    {
     "name": "stderr",
     "output_type": "stream",
     "text": [
      "C:\\Users\\ben97312\\Documents\\code\\notebooks\\Lib\\site-packages\\urllib3\\connectionpool.py:1103: InsecureRequestWarning: Unverified HTTPS request is being made to host 'd3n9y02raazwpg.cloudfront.net'. Adding certificate verification is strongly advised. See: https://urllib3.readthedocs.io/en/latest/advanced-usage.html#tls-warnings\n",
      "  warnings.warn(\n"
     ]
    },
    {
     "name": "stdout",
     "output_type": "stream",
     "text": [
      "2023\n",
      "https://granicus_production_attachments.s3.amazonaws.com/greenbeltmd/69901515ceaff66a85bde26e6ce73c380.pdf\n"
     ]
    },
    {
     "name": "stderr",
     "output_type": "stream",
     "text": [
      "C:\\Users\\ben97312\\Documents\\code\\notebooks\\Lib\\site-packages\\urllib3\\connectionpool.py:1103: InsecureRequestWarning: Unverified HTTPS request is being made to host 'granicus_production_attachments.s3.amazonaws.com'. Adding certificate verification is strongly advised. See: https://urllib3.readthedocs.io/en/latest/advanced-usage.html#tls-warnings\n",
      "  warnings.warn(\n"
     ]
    },
    {
     "name": "stdout",
     "output_type": "stream",
     "text": [
      "2023\n",
      "https://granicus_production_attachments.s3.amazonaws.com/greenbeltmd/45cb585071fa2ec24d54f41c2c6bca170.pdf\n"
     ]
    },
    {
     "name": "stderr",
     "output_type": "stream",
     "text": [
      "C:\\Users\\ben97312\\Documents\\code\\notebooks\\Lib\\site-packages\\urllib3\\connectionpool.py:1103: InsecureRequestWarning: Unverified HTTPS request is being made to host 'granicus_production_attachments.s3.amazonaws.com'. Adding certificate verification is strongly advised. See: https://urllib3.readthedocs.io/en/latest/advanced-usage.html#tls-warnings\n",
      "  warnings.warn(\n"
     ]
    },
    {
     "name": "stdout",
     "output_type": "stream",
     "text": [
      "2023\n",
      "https://granicus_production_attachments.s3.amazonaws.com/greenbeltmd/deb9e14ea55d2ccd470a630a8024f9120.pdf\n"
     ]
    },
    {
     "name": "stderr",
     "output_type": "stream",
     "text": [
      "C:\\Users\\ben97312\\Documents\\code\\notebooks\\Lib\\site-packages\\urllib3\\connectionpool.py:1103: InsecureRequestWarning: Unverified HTTPS request is being made to host 'granicus_production_attachments.s3.amazonaws.com'. Adding certificate verification is strongly advised. See: https://urllib3.readthedocs.io/en/latest/advanced-usage.html#tls-warnings\n",
      "  warnings.warn(\n"
     ]
    },
    {
     "name": "stdout",
     "output_type": "stream",
     "text": [
      "2023\n",
      "https://granicus_production_attachments.s3.amazonaws.com/greenbeltmd/14b138eb06f5e02fe6152d4fc9a2116c0.pdf\n"
     ]
    },
    {
     "name": "stderr",
     "output_type": "stream",
     "text": [
      "C:\\Users\\ben97312\\Documents\\code\\notebooks\\Lib\\site-packages\\urllib3\\connectionpool.py:1103: InsecureRequestWarning: Unverified HTTPS request is being made to host 'granicus_production_attachments.s3.amazonaws.com'. Adding certificate verification is strongly advised. See: https://urllib3.readthedocs.io/en/latest/advanced-usage.html#tls-warnings\n",
      "  warnings.warn(\n"
     ]
    },
    {
     "name": "stdout",
     "output_type": "stream",
     "text": [
      "2023\n",
      "https://granicus_production_attachments.s3.amazonaws.com/greenbeltmd/eb85399beeb2e96955a3994dc5f063380.pdf\n"
     ]
    },
    {
     "name": "stderr",
     "output_type": "stream",
     "text": [
      "C:\\Users\\ben97312\\Documents\\code\\notebooks\\Lib\\site-packages\\urllib3\\connectionpool.py:1103: InsecureRequestWarning: Unverified HTTPS request is being made to host 'granicus_production_attachments.s3.amazonaws.com'. Adding certificate verification is strongly advised. See: https://urllib3.readthedocs.io/en/latest/advanced-usage.html#tls-warnings\n",
      "  warnings.warn(\n"
     ]
    },
    {
     "name": "stdout",
     "output_type": "stream",
     "text": [
      "2023\n",
      "https://granicus_production_attachments.s3.amazonaws.com/greenbeltmd/d6e0646ff6a282ef79242cffbc0c88220.pdf\n"
     ]
    },
    {
     "name": "stderr",
     "output_type": "stream",
     "text": [
      "C:\\Users\\ben97312\\Documents\\code\\notebooks\\Lib\\site-packages\\urllib3\\connectionpool.py:1103: InsecureRequestWarning: Unverified HTTPS request is being made to host 'granicus_production_attachments.s3.amazonaws.com'. Adding certificate verification is strongly advised. See: https://urllib3.readthedocs.io/en/latest/advanced-usage.html#tls-warnings\n",
      "  warnings.warn(\n"
     ]
    },
    {
     "name": "stdout",
     "output_type": "stream",
     "text": [
      "2023\n",
      "https://granicus_production_attachments.s3.amazonaws.com/greenbeltmd/2a908c654a18b2aedcbe02e30ee0fb940.pdf\n"
     ]
    },
    {
     "name": "stderr",
     "output_type": "stream",
     "text": [
      "C:\\Users\\ben97312\\Documents\\code\\notebooks\\Lib\\site-packages\\urllib3\\connectionpool.py:1103: InsecureRequestWarning: Unverified HTTPS request is being made to host 'granicus_production_attachments.s3.amazonaws.com'. Adding certificate verification is strongly advised. See: https://urllib3.readthedocs.io/en/latest/advanced-usage.html#tls-warnings\n",
      "  warnings.warn(\n"
     ]
    },
    {
     "name": "stdout",
     "output_type": "stream",
     "text": [
      "2023\n",
      "https://granicus_production_attachments.s3.amazonaws.com/greenbeltmd/887e3fe943890104fa215aca7c468a760.pdf\n"
     ]
    },
    {
     "name": "stderr",
     "output_type": "stream",
     "text": [
      "C:\\Users\\ben97312\\Documents\\code\\notebooks\\Lib\\site-packages\\urllib3\\connectionpool.py:1103: InsecureRequestWarning: Unverified HTTPS request is being made to host 'granicus_production_attachments.s3.amazonaws.com'. Adding certificate verification is strongly advised. See: https://urllib3.readthedocs.io/en/latest/advanced-usage.html#tls-warnings\n",
      "  warnings.warn(\n"
     ]
    },
    {
     "name": "stdout",
     "output_type": "stream",
     "text": [
      "2023\n",
      "https://granicus_production_attachments.s3.amazonaws.com/greenbeltmd/7b8d9bcf4c0e3ef36ce115a452ef1fc40.pdf\n"
     ]
    },
    {
     "name": "stderr",
     "output_type": "stream",
     "text": [
      "C:\\Users\\ben97312\\Documents\\code\\notebooks\\Lib\\site-packages\\urllib3\\connectionpool.py:1103: InsecureRequestWarning: Unverified HTTPS request is being made to host 'granicus_production_attachments.s3.amazonaws.com'. Adding certificate verification is strongly advised. See: https://urllib3.readthedocs.io/en/latest/advanced-usage.html#tls-warnings\n",
      "  warnings.warn(\n"
     ]
    },
    {
     "name": "stdout",
     "output_type": "stream",
     "text": [
      "2023\n",
      "https://granicus_production_attachments.s3.amazonaws.com/greenbeltmd/535cd0731fb2e075b3a36ab48814def70.pdf\n"
     ]
    },
    {
     "name": "stderr",
     "output_type": "stream",
     "text": [
      "C:\\Users\\ben97312\\Documents\\code\\notebooks\\Lib\\site-packages\\urllib3\\connectionpool.py:1103: InsecureRequestWarning: Unverified HTTPS request is being made to host 'granicus_production_attachments.s3.amazonaws.com'. Adding certificate verification is strongly advised. See: https://urllib3.readthedocs.io/en/latest/advanced-usage.html#tls-warnings\n",
      "  warnings.warn(\n"
     ]
    },
    {
     "name": "stdout",
     "output_type": "stream",
     "text": [
      "2023\n",
      "https://granicus_production_attachments.s3.amazonaws.com/greenbeltmd/81758d77b8cb393d0208c9257720d20d0.pdf\n"
     ]
    },
    {
     "name": "stderr",
     "output_type": "stream",
     "text": [
      "C:\\Users\\ben97312\\Documents\\code\\notebooks\\Lib\\site-packages\\urllib3\\connectionpool.py:1103: InsecureRequestWarning: Unverified HTTPS request is being made to host 'granicus_production_attachments.s3.amazonaws.com'. Adding certificate verification is strongly advised. See: https://urllib3.readthedocs.io/en/latest/advanced-usage.html#tls-warnings\n",
      "  warnings.warn(\n"
     ]
    },
    {
     "name": "stdout",
     "output_type": "stream",
     "text": [
      "2023\n",
      "https://granicus_production_attachments.s3.amazonaws.com/greenbeltmd/6efe0b920e4de8268ea5708494e782f60.pdf\n"
     ]
    },
    {
     "name": "stderr",
     "output_type": "stream",
     "text": [
      "C:\\Users\\ben97312\\Documents\\code\\notebooks\\Lib\\site-packages\\urllib3\\connectionpool.py:1103: InsecureRequestWarning: Unverified HTTPS request is being made to host 'granicus_production_attachments.s3.amazonaws.com'. Adding certificate verification is strongly advised. See: https://urllib3.readthedocs.io/en/latest/advanced-usage.html#tls-warnings\n",
      "  warnings.warn(\n",
      "C:\\Users\\ben97312\\Documents\\code\\notebooks\\Lib\\site-packages\\urllib3\\connectionpool.py:1103: InsecureRequestWarning: Unverified HTTPS request is being made to host 'granicus_production_attachments.s3.amazonaws.com'. Adding certificate verification is strongly advised. See: https://urllib3.readthedocs.io/en/latest/advanced-usage.html#tls-warnings\n",
      "  warnings.warn(\n"
     ]
    },
    {
     "name": "stdout",
     "output_type": "stream",
     "text": [
      "2023\n",
      "https://greenbeltmd.granicus.com/DocumentViewer.php?file=greenbeltmd_1a057f54da017dd16eef9664a7bc9696.pdf&view=1\n"
     ]
    },
    {
     "name": "stderr",
     "output_type": "stream",
     "text": [
      "C:\\Users\\ben97312\\Documents\\code\\notebooks\\Lib\\site-packages\\urllib3\\connectionpool.py:1103: InsecureRequestWarning: Unverified HTTPS request is being made to host 'greenbeltmd.granicus.com'. Adding certificate verification is strongly advised. See: https://urllib3.readthedocs.io/en/latest/advanced-usage.html#tls-warnings\n",
      "  warnings.warn(\n"
     ]
    },
    {
     "name": "stdout",
     "output_type": "stream",
     "text": [
      "2023\n",
      "https://granicus_production_attachments.s3.amazonaws.com/greenbeltmd/c54d1ab089050c70820aaf11e68f43270.pdf\n"
     ]
    },
    {
     "name": "stderr",
     "output_type": "stream",
     "text": [
      "C:\\Users\\ben97312\\Documents\\code\\notebooks\\Lib\\site-packages\\urllib3\\connectionpool.py:1103: InsecureRequestWarning: Unverified HTTPS request is being made to host 'granicus_production_attachments.s3.amazonaws.com'. Adding certificate verification is strongly advised. See: https://urllib3.readthedocs.io/en/latest/advanced-usage.html#tls-warnings\n",
      "  warnings.warn(\n"
     ]
    },
    {
     "name": "stdout",
     "output_type": "stream",
     "text": [
      "2023\n",
      "https://granicus_production_attachments.s3.amazonaws.com/greenbeltmd/7c4c2d44419201176b8415a80a7209bd0.pdf\n"
     ]
    },
    {
     "name": "stderr",
     "output_type": "stream",
     "text": [
      "C:\\Users\\ben97312\\Documents\\code\\notebooks\\Lib\\site-packages\\urllib3\\connectionpool.py:1103: InsecureRequestWarning: Unverified HTTPS request is being made to host 'granicus_production_attachments.s3.amazonaws.com'. Adding certificate verification is strongly advised. See: https://urllib3.readthedocs.io/en/latest/advanced-usage.html#tls-warnings\n",
      "  warnings.warn(\n"
     ]
    },
    {
     "name": "stdout",
     "output_type": "stream",
     "text": [
      "2023\n",
      "https://granicus_production_attachments.s3.amazonaws.com/greenbeltmd/5537876cdd64fbe935eff1df2e6ec8580.pdf\n"
     ]
    },
    {
     "name": "stderr",
     "output_type": "stream",
     "text": [
      "C:\\Users\\ben97312\\Documents\\code\\notebooks\\Lib\\site-packages\\urllib3\\connectionpool.py:1103: InsecureRequestWarning: Unverified HTTPS request is being made to host 'granicus_production_attachments.s3.amazonaws.com'. Adding certificate verification is strongly advised. See: https://urllib3.readthedocs.io/en/latest/advanced-usage.html#tls-warnings\n",
      "  warnings.warn(\n"
     ]
    },
    {
     "name": "stdout",
     "output_type": "stream",
     "text": [
      "2023\n",
      "https://granicus_production_attachments.s3.amazonaws.com/greenbeltmd/60f5972299d144dd4516fb0ddc2c753f0.pdf\n"
     ]
    },
    {
     "name": "stderr",
     "output_type": "stream",
     "text": [
      "C:\\Users\\ben97312\\Documents\\code\\notebooks\\Lib\\site-packages\\urllib3\\connectionpool.py:1103: InsecureRequestWarning: Unverified HTTPS request is being made to host 'granicus_production_attachments.s3.amazonaws.com'. Adding certificate verification is strongly advised. See: https://urllib3.readthedocs.io/en/latest/advanced-usage.html#tls-warnings\n",
      "  warnings.warn(\n",
      "C:\\Users\\ben97312\\Documents\\code\\notebooks\\Lib\\site-packages\\urllib3\\connectionpool.py:1103: InsecureRequestWarning: Unverified HTTPS request is being made to host 'granicus_production_attachments.s3.amazonaws.com'. Adding certificate verification is strongly advised. See: https://urllib3.readthedocs.io/en/latest/advanced-usage.html#tls-warnings\n",
      "  warnings.warn(\n",
      "C:\\Users\\ben97312\\Documents\\code\\notebooks\\Lib\\site-packages\\urllib3\\connectionpool.py:1103: InsecureRequestWarning: Unverified HTTPS request is being made to host 'granicus_production_attachments.s3.amazonaws.com'. Adding certificate verification is strongly advised. See: https://urllib3.readthedocs.io/en/latest/advanced-usage.html#tls-warnings\n",
      "  warnings.warn(\n",
      "C:\\Users\\ben97312\\Documents\\code\\notebooks\\Lib\\site-packages\\urllib3\\connectionpool.py:1103: InsecureRequestWarning: Unverified HTTPS request is being made to host 'granicus_production_attachments.s3.amazonaws.com'. Adding certificate verification is strongly advised. See: https://urllib3.readthedocs.io/en/latest/advanced-usage.html#tls-warnings\n",
      "  warnings.warn(\n"
     ]
    },
    {
     "name": "stdout",
     "output_type": "stream",
     "text": [
      "2023\n",
      "https://granicus_production_attachments.s3.amazonaws.com/greenbeltmd/9480fff3fcc31a374c3d4dede84d35440.pdf\n"
     ]
    },
    {
     "name": "stderr",
     "output_type": "stream",
     "text": [
      "C:\\Users\\ben97312\\Documents\\code\\notebooks\\Lib\\site-packages\\urllib3\\connectionpool.py:1103: InsecureRequestWarning: Unverified HTTPS request is being made to host 'granicus_production_attachments.s3.amazonaws.com'. Adding certificate verification is strongly advised. See: https://urllib3.readthedocs.io/en/latest/advanced-usage.html#tls-warnings\n",
      "  warnings.warn(\n"
     ]
    },
    {
     "name": "stdout",
     "output_type": "stream",
     "text": [
      "2023\n",
      "https://granicus_production_attachments.s3.amazonaws.com/greenbeltmd/1f0ae8c529253548105bdf097227bc1d0.pdf\n"
     ]
    },
    {
     "name": "stderr",
     "output_type": "stream",
     "text": [
      "C:\\Users\\ben97312\\Documents\\code\\notebooks\\Lib\\site-packages\\urllib3\\connectionpool.py:1103: InsecureRequestWarning: Unverified HTTPS request is being made to host 'granicus_production_attachments.s3.amazonaws.com'. Adding certificate verification is strongly advised. See: https://urllib3.readthedocs.io/en/latest/advanced-usage.html#tls-warnings\n",
      "  warnings.warn(\n"
     ]
    },
    {
     "name": "stdout",
     "output_type": "stream",
     "text": [
      "2023\n",
      "https://granicus_production_attachments.s3.amazonaws.com/greenbeltmd/5329ea329cbaf4de2e2b4f84c256e30b0.pdf\n"
     ]
    },
    {
     "name": "stderr",
     "output_type": "stream",
     "text": [
      "C:\\Users\\ben97312\\Documents\\code\\notebooks\\Lib\\site-packages\\urllib3\\connectionpool.py:1103: InsecureRequestWarning: Unverified HTTPS request is being made to host 'granicus_production_attachments.s3.amazonaws.com'. Adding certificate verification is strongly advised. See: https://urllib3.readthedocs.io/en/latest/advanced-usage.html#tls-warnings\n",
      "  warnings.warn(\n"
     ]
    },
    {
     "name": "stdout",
     "output_type": "stream",
     "text": [
      "2023\n",
      "https://granicus_production_attachments.s3.amazonaws.com/greenbeltmd/e3a04cff5f04b61d06846109643573f70.pdf\n"
     ]
    },
    {
     "name": "stderr",
     "output_type": "stream",
     "text": [
      "C:\\Users\\ben97312\\Documents\\code\\notebooks\\Lib\\site-packages\\urllib3\\connectionpool.py:1103: InsecureRequestWarning: Unverified HTTPS request is being made to host 'granicus_production_attachments.s3.amazonaws.com'. Adding certificate verification is strongly advised. See: https://urllib3.readthedocs.io/en/latest/advanced-usage.html#tls-warnings\n",
      "  warnings.warn(\n"
     ]
    },
    {
     "name": "stdout",
     "output_type": "stream",
     "text": [
      "2023\n",
      "https://granicus_production_attachments.s3.amazonaws.com/greenbeltmd/2c773818da7710cd76adbb47b03154f20.pdf\n"
     ]
    },
    {
     "name": "stderr",
     "output_type": "stream",
     "text": [
      "C:\\Users\\ben97312\\Documents\\code\\notebooks\\Lib\\site-packages\\urllib3\\connectionpool.py:1103: InsecureRequestWarning: Unverified HTTPS request is being made to host 'granicus_production_attachments.s3.amazonaws.com'. Adding certificate verification is strongly advised. See: https://urllib3.readthedocs.io/en/latest/advanced-usage.html#tls-warnings\n",
      "  warnings.warn(\n"
     ]
    },
    {
     "name": "stdout",
     "output_type": "stream",
     "text": [
      "2023\n",
      "https://granicus_production_attachments.s3.amazonaws.com/greenbeltmd/30b1ba408378f80e09473caa73ba4cdf0.pdf\n"
     ]
    },
    {
     "name": "stderr",
     "output_type": "stream",
     "text": [
      "C:\\Users\\ben97312\\Documents\\code\\notebooks\\Lib\\site-packages\\urllib3\\connectionpool.py:1103: InsecureRequestWarning: Unverified HTTPS request is being made to host 'granicus_production_attachments.s3.amazonaws.com'. Adding certificate verification is strongly advised. See: https://urllib3.readthedocs.io/en/latest/advanced-usage.html#tls-warnings\n",
      "  warnings.warn(\n"
     ]
    },
    {
     "name": "stdout",
     "output_type": "stream",
     "text": [
      "2023\n",
      "https://granicus_production_attachments.s3.amazonaws.com/greenbeltmd/955bfd2f19b60d230b274c739bc83f900.pdf\n"
     ]
    },
    {
     "name": "stderr",
     "output_type": "stream",
     "text": [
      "C:\\Users\\ben97312\\Documents\\code\\notebooks\\Lib\\site-packages\\urllib3\\connectionpool.py:1103: InsecureRequestWarning: Unverified HTTPS request is being made to host 'granicus_production_attachments.s3.amazonaws.com'. Adding certificate verification is strongly advised. See: https://urllib3.readthedocs.io/en/latest/advanced-usage.html#tls-warnings\n",
      "  warnings.warn(\n"
     ]
    },
    {
     "name": "stdout",
     "output_type": "stream",
     "text": [
      "2023\n",
      "https://granicus_production_attachments.s3.amazonaws.com/greenbeltmd/961dca5f0901b59cec78898a62db06f20.pdf\n"
     ]
    },
    {
     "name": "stderr",
     "output_type": "stream",
     "text": [
      "C:\\Users\\ben97312\\Documents\\code\\notebooks\\Lib\\site-packages\\urllib3\\connectionpool.py:1103: InsecureRequestWarning: Unverified HTTPS request is being made to host 'granicus_production_attachments.s3.amazonaws.com'. Adding certificate verification is strongly advised. See: https://urllib3.readthedocs.io/en/latest/advanced-usage.html#tls-warnings\n",
      "  warnings.warn(\n"
     ]
    },
    {
     "name": "stdout",
     "output_type": "stream",
     "text": [
      "2023\n",
      "https://granicus_production_attachments.s3.amazonaws.com/greenbeltmd/4a4aacd689a091d6377a29d06d1cc7680.pdf\n"
     ]
    },
    {
     "name": "stderr",
     "output_type": "stream",
     "text": [
      "C:\\Users\\ben97312\\Documents\\code\\notebooks\\Lib\\site-packages\\urllib3\\connectionpool.py:1103: InsecureRequestWarning: Unverified HTTPS request is being made to host 'granicus_production_attachments.s3.amazonaws.com'. Adding certificate verification is strongly advised. See: https://urllib3.readthedocs.io/en/latest/advanced-usage.html#tls-warnings\n",
      "  warnings.warn(\n"
     ]
    },
    {
     "name": "stdout",
     "output_type": "stream",
     "text": [
      "2023\n",
      "https://granicus_production_attachments.s3.amazonaws.com/greenbeltmd/9f37d2a11bc321d75e40cc2169c33d640.pdf\n"
     ]
    },
    {
     "name": "stderr",
     "output_type": "stream",
     "text": [
      "C:\\Users\\ben97312\\Documents\\code\\notebooks\\Lib\\site-packages\\urllib3\\connectionpool.py:1103: InsecureRequestWarning: Unverified HTTPS request is being made to host 'granicus_production_attachments.s3.amazonaws.com'. Adding certificate verification is strongly advised. See: https://urllib3.readthedocs.io/en/latest/advanced-usage.html#tls-warnings\n",
      "  warnings.warn(\n"
     ]
    },
    {
     "name": "stdout",
     "output_type": "stream",
     "text": [
      "2023\n",
      "https://granicus_production_attachments.s3.amazonaws.com/greenbeltmd/9f37d2a11bc321d75e40cc2169c33d640.pdf\n"
     ]
    },
    {
     "name": "stderr",
     "output_type": "stream",
     "text": [
      "C:\\Users\\ben97312\\Documents\\code\\notebooks\\Lib\\site-packages\\urllib3\\connectionpool.py:1103: InsecureRequestWarning: Unverified HTTPS request is being made to host 'granicus_production_attachments.s3.amazonaws.com'. Adding certificate verification is strongly advised. See: https://urllib3.readthedocs.io/en/latest/advanced-usage.html#tls-warnings\n",
      "  warnings.warn(\n",
      "C:\\Users\\ben97312\\Documents\\code\\notebooks\\Lib\\site-packages\\urllib3\\connectionpool.py:1103: InsecureRequestWarning: Unverified HTTPS request is being made to host 'granicus_production_attachments.s3.amazonaws.com'. Adding certificate verification is strongly advised. See: https://urllib3.readthedocs.io/en/latest/advanced-usage.html#tls-warnings\n",
      "  warnings.warn(\n"
     ]
    },
    {
     "name": "stdout",
     "output_type": "stream",
     "text": [
      "2022\n",
      "https://granicus_production_attachments.s3.amazonaws.com/greenbeltmd/da0c15e07b61d4b99a62ba2018d7daed0.pdf\n"
     ]
    },
    {
     "name": "stderr",
     "output_type": "stream",
     "text": [
      "C:\\Users\\ben97312\\Documents\\code\\notebooks\\Lib\\site-packages\\urllib3\\connectionpool.py:1103: InsecureRequestWarning: Unverified HTTPS request is being made to host 'granicus_production_attachments.s3.amazonaws.com'. Adding certificate verification is strongly advised. See: https://urllib3.readthedocs.io/en/latest/advanced-usage.html#tls-warnings\n",
      "  warnings.warn(\n",
      "C:\\Users\\ben97312\\Documents\\code\\notebooks\\Lib\\site-packages\\urllib3\\connectionpool.py:1103: InsecureRequestWarning: Unverified HTTPS request is being made to host 'granicus_production_attachments.s3.amazonaws.com'. Adding certificate verification is strongly advised. See: https://urllib3.readthedocs.io/en/latest/advanced-usage.html#tls-warnings\n",
      "  warnings.warn(\n",
      "C:\\Users\\ben97312\\Documents\\code\\notebooks\\Lib\\site-packages\\urllib3\\connectionpool.py:1103: InsecureRequestWarning: Unverified HTTPS request is being made to host 'granicus_production_attachments.s3.amazonaws.com'. Adding certificate verification is strongly advised. See: https://urllib3.readthedocs.io/en/latest/advanced-usage.html#tls-warnings\n",
      "  warnings.warn(\n"
     ]
    },
    {
     "name": "stdout",
     "output_type": "stream",
     "text": [
      "2022\n",
      "https://granicus_production_attachments.s3.amazonaws.com/greenbeltmd/24b89646638e7e67942fcecf34823b0f0.pdf\n"
     ]
    },
    {
     "name": "stderr",
     "output_type": "stream",
     "text": [
      "C:\\Users\\ben97312\\Documents\\code\\notebooks\\Lib\\site-packages\\urllib3\\connectionpool.py:1103: InsecureRequestWarning: Unverified HTTPS request is being made to host 'granicus_production_attachments.s3.amazonaws.com'. Adding certificate verification is strongly advised. See: https://urllib3.readthedocs.io/en/latest/advanced-usage.html#tls-warnings\n",
      "  warnings.warn(\n",
      "C:\\Users\\ben97312\\Documents\\code\\notebooks\\Lib\\site-packages\\urllib3\\connectionpool.py:1103: InsecureRequestWarning: Unverified HTTPS request is being made to host 'granicus_production_attachments.s3.amazonaws.com'. Adding certificate verification is strongly advised. See: https://urllib3.readthedocs.io/en/latest/advanced-usage.html#tls-warnings\n",
      "  warnings.warn(\n",
      "C:\\Users\\ben97312\\Documents\\code\\notebooks\\Lib\\site-packages\\urllib3\\connectionpool.py:1103: InsecureRequestWarning: Unverified HTTPS request is being made to host 'granicus_production_attachments.s3.amazonaws.com'. Adding certificate verification is strongly advised. See: https://urllib3.readthedocs.io/en/latest/advanced-usage.html#tls-warnings\n",
      "  warnings.warn(\n"
     ]
    },
    {
     "name": "stdout",
     "output_type": "stream",
     "text": [
      "2022\n",
      "https://granicus_production_attachments.s3.amazonaws.com/greenbeltmd/0e90ccca933cf232f6c88459c5b68f090.pdf\n"
     ]
    },
    {
     "name": "stderr",
     "output_type": "stream",
     "text": [
      "C:\\Users\\ben97312\\Documents\\code\\notebooks\\Lib\\site-packages\\urllib3\\connectionpool.py:1103: InsecureRequestWarning: Unverified HTTPS request is being made to host 'granicus_production_attachments.s3.amazonaws.com'. Adding certificate verification is strongly advised. See: https://urllib3.readthedocs.io/en/latest/advanced-usage.html#tls-warnings\n",
      "  warnings.warn(\n"
     ]
    },
    {
     "name": "stdout",
     "output_type": "stream",
     "text": [
      "2022\n",
      "https://granicus_production_attachments.s3.amazonaws.com/greenbeltmd/489525f50bdfeab33cdb6402ff5ad2eb0.pdf\n"
     ]
    },
    {
     "name": "stderr",
     "output_type": "stream",
     "text": [
      "C:\\Users\\ben97312\\Documents\\code\\notebooks\\Lib\\site-packages\\urllib3\\connectionpool.py:1103: InsecureRequestWarning: Unverified HTTPS request is being made to host 'granicus_production_attachments.s3.amazonaws.com'. Adding certificate verification is strongly advised. See: https://urllib3.readthedocs.io/en/latest/advanced-usage.html#tls-warnings\n",
      "  warnings.warn(\n"
     ]
    },
    {
     "name": "stdout",
     "output_type": "stream",
     "text": [
      "2022\n",
      "https://granicus_production_attachments.s3.amazonaws.com/greenbeltmd/8b88dbb0e631eb333bbe1d69c3db103e0.pdf\n"
     ]
    },
    {
     "name": "stderr",
     "output_type": "stream",
     "text": [
      "C:\\Users\\ben97312\\Documents\\code\\notebooks\\Lib\\site-packages\\urllib3\\connectionpool.py:1103: InsecureRequestWarning: Unverified HTTPS request is being made to host 'granicus_production_attachments.s3.amazonaws.com'. Adding certificate verification is strongly advised. See: https://urllib3.readthedocs.io/en/latest/advanced-usage.html#tls-warnings\n",
      "  warnings.warn(\n"
     ]
    },
    {
     "name": "stdout",
     "output_type": "stream",
     "text": [
      "2022\n",
      "https://granicus_production_attachments.s3.amazonaws.com/greenbeltmd/8b88dbb0e631eb333bbe1d69c3db103e0.pdf\n"
     ]
    },
    {
     "name": "stderr",
     "output_type": "stream",
     "text": [
      "C:\\Users\\ben97312\\Documents\\code\\notebooks\\Lib\\site-packages\\urllib3\\connectionpool.py:1103: InsecureRequestWarning: Unverified HTTPS request is being made to host 'granicus_production_attachments.s3.amazonaws.com'. Adding certificate verification is strongly advised. See: https://urllib3.readthedocs.io/en/latest/advanced-usage.html#tls-warnings\n",
      "  warnings.warn(\n"
     ]
    },
    {
     "name": "stdout",
     "output_type": "stream",
     "text": [
      "2022\n",
      "https://granicus_production_attachments.s3.amazonaws.com/greenbeltmd/8b88dbb0e631eb333bbe1d69c3db103e0.pdf\n"
     ]
    },
    {
     "name": "stderr",
     "output_type": "stream",
     "text": [
      "C:\\Users\\ben97312\\Documents\\code\\notebooks\\Lib\\site-packages\\urllib3\\connectionpool.py:1103: InsecureRequestWarning: Unverified HTTPS request is being made to host 'granicus_production_attachments.s3.amazonaws.com'. Adding certificate verification is strongly advised. See: https://urllib3.readthedocs.io/en/latest/advanced-usage.html#tls-warnings\n",
      "  warnings.warn(\n"
     ]
    },
    {
     "name": "stdout",
     "output_type": "stream",
     "text": [
      "2022\n",
      "https://granicus_production_attachments.s3.amazonaws.com/greenbeltmd/cf607d12fd7cbd253d826f1019cdaf9f0.pdf\n"
     ]
    },
    {
     "name": "stderr",
     "output_type": "stream",
     "text": [
      "C:\\Users\\ben97312\\Documents\\code\\notebooks\\Lib\\site-packages\\urllib3\\connectionpool.py:1103: InsecureRequestWarning: Unverified HTTPS request is being made to host 'granicus_production_attachments.s3.amazonaws.com'. Adding certificate verification is strongly advised. See: https://urllib3.readthedocs.io/en/latest/advanced-usage.html#tls-warnings\n",
      "  warnings.warn(\n",
      "C:\\Users\\ben97312\\Documents\\code\\notebooks\\Lib\\site-packages\\urllib3\\connectionpool.py:1103: InsecureRequestWarning: Unverified HTTPS request is being made to host 'granicus_production_attachments.s3.amazonaws.com'. Adding certificate verification is strongly advised. See: https://urllib3.readthedocs.io/en/latest/advanced-usage.html#tls-warnings\n",
      "  warnings.warn(\n"
     ]
    },
    {
     "name": "stdout",
     "output_type": "stream",
     "text": [
      "2022\n",
      "https://granicus_production_attachments.s3.amazonaws.com/greenbeltmd/2b16545e989233c32e5d019f9258e0a60.pdf\n"
     ]
    },
    {
     "name": "stderr",
     "output_type": "stream",
     "text": [
      "C:\\Users\\ben97312\\Documents\\code\\notebooks\\Lib\\site-packages\\urllib3\\connectionpool.py:1103: InsecureRequestWarning: Unverified HTTPS request is being made to host 'granicus_production_attachments.s3.amazonaws.com'. Adding certificate verification is strongly advised. See: https://urllib3.readthedocs.io/en/latest/advanced-usage.html#tls-warnings\n",
      "  warnings.warn(\n"
     ]
    },
    {
     "name": "stdout",
     "output_type": "stream",
     "text": [
      "2022\n",
      "https://granicus_production_attachments.s3.amazonaws.com/greenbeltmd/c694f4cc01b240c0a2db162ccfe7a3f90.pdf\n"
     ]
    },
    {
     "name": "stderr",
     "output_type": "stream",
     "text": [
      "C:\\Users\\ben97312\\Documents\\code\\notebooks\\Lib\\site-packages\\urllib3\\connectionpool.py:1103: InsecureRequestWarning: Unverified HTTPS request is being made to host 'granicus_production_attachments.s3.amazonaws.com'. Adding certificate verification is strongly advised. See: https://urllib3.readthedocs.io/en/latest/advanced-usage.html#tls-warnings\n",
      "  warnings.warn(\n",
      "C:\\Users\\ben97312\\Documents\\code\\notebooks\\Lib\\site-packages\\urllib3\\connectionpool.py:1103: InsecureRequestWarning: Unverified HTTPS request is being made to host 'granicus_production_attachments.s3.amazonaws.com'. Adding certificate verification is strongly advised. See: https://urllib3.readthedocs.io/en/latest/advanced-usage.html#tls-warnings\n",
      "  warnings.warn(\n"
     ]
    },
    {
     "name": "stdout",
     "output_type": "stream",
     "text": [
      "2022\n",
      "https://granicus_production_attachments.s3.amazonaws.com/greenbeltmd/3a9901679c19a4ddb8e9495c7f70d1980.pdf\n"
     ]
    },
    {
     "name": "stderr",
     "output_type": "stream",
     "text": [
      "C:\\Users\\ben97312\\Documents\\code\\notebooks\\Lib\\site-packages\\urllib3\\connectionpool.py:1103: InsecureRequestWarning: Unverified HTTPS request is being made to host 'granicus_production_attachments.s3.amazonaws.com'. Adding certificate verification is strongly advised. See: https://urllib3.readthedocs.io/en/latest/advanced-usage.html#tls-warnings\n",
      "  warnings.warn(\n"
     ]
    },
    {
     "name": "stdout",
     "output_type": "stream",
     "text": [
      "2022\n",
      "https://granicus_production_attachments.s3.amazonaws.com/greenbeltmd/881cfa8791fe4bc965062a96ac6b12c60.pdf\n"
     ]
    },
    {
     "name": "stderr",
     "output_type": "stream",
     "text": [
      "C:\\Users\\ben97312\\Documents\\code\\notebooks\\Lib\\site-packages\\urllib3\\connectionpool.py:1103: InsecureRequestWarning: Unverified HTTPS request is being made to host 'granicus_production_attachments.s3.amazonaws.com'. Adding certificate verification is strongly advised. See: https://urllib3.readthedocs.io/en/latest/advanced-usage.html#tls-warnings\n",
      "  warnings.warn(\n"
     ]
    },
    {
     "name": "stdout",
     "output_type": "stream",
     "text": [
      "2022\n",
      "https://granicus_production_attachments.s3.amazonaws.com/greenbeltmd/c2ea6f879a4dee05de0cc8424680f32f0.pdf\n"
     ]
    },
    {
     "name": "stderr",
     "output_type": "stream",
     "text": [
      "C:\\Users\\ben97312\\Documents\\code\\notebooks\\Lib\\site-packages\\urllib3\\connectionpool.py:1103: InsecureRequestWarning: Unverified HTTPS request is being made to host 'granicus_production_attachments.s3.amazonaws.com'. Adding certificate verification is strongly advised. See: https://urllib3.readthedocs.io/en/latest/advanced-usage.html#tls-warnings\n",
      "  warnings.warn(\n"
     ]
    },
    {
     "name": "stdout",
     "output_type": "stream",
     "text": [
      "2022\n",
      "https://granicus_production_attachments.s3.amazonaws.com/greenbeltmd/f9fc255af819acceae283d33a5f13a000.pdf\n"
     ]
    },
    {
     "name": "stderr",
     "output_type": "stream",
     "text": [
      "C:\\Users\\ben97312\\Documents\\code\\notebooks\\Lib\\site-packages\\urllib3\\connectionpool.py:1103: InsecureRequestWarning: Unverified HTTPS request is being made to host 'granicus_production_attachments.s3.amazonaws.com'. Adding certificate verification is strongly advised. See: https://urllib3.readthedocs.io/en/latest/advanced-usage.html#tls-warnings\n",
      "  warnings.warn(\n"
     ]
    },
    {
     "name": "stdout",
     "output_type": "stream",
     "text": [
      "2022\n",
      "https://granicus_production_attachments.s3.amazonaws.com/greenbeltmd/23f611c34b7a077b303e2e3356fb5a730.pdf\n"
     ]
    },
    {
     "name": "stderr",
     "output_type": "stream",
     "text": [
      "C:\\Users\\ben97312\\Documents\\code\\notebooks\\Lib\\site-packages\\urllib3\\connectionpool.py:1103: InsecureRequestWarning: Unverified HTTPS request is being made to host 'granicus_production_attachments.s3.amazonaws.com'. Adding certificate verification is strongly advised. See: https://urllib3.readthedocs.io/en/latest/advanced-usage.html#tls-warnings\n",
      "  warnings.warn(\n",
      "C:\\Users\\ben97312\\Documents\\code\\notebooks\\Lib\\site-packages\\urllib3\\connectionpool.py:1103: InsecureRequestWarning: Unverified HTTPS request is being made to host 'granicus_production_attachments.s3.amazonaws.com'. Adding certificate verification is strongly advised. See: https://urllib3.readthedocs.io/en/latest/advanced-usage.html#tls-warnings\n",
      "  warnings.warn(\n",
      "C:\\Users\\ben97312\\Documents\\code\\notebooks\\Lib\\site-packages\\urllib3\\connectionpool.py:1103: InsecureRequestWarning: Unverified HTTPS request is being made to host 'granicus_production_attachments.s3.amazonaws.com'. Adding certificate verification is strongly advised. See: https://urllib3.readthedocs.io/en/latest/advanced-usage.html#tls-warnings\n",
      "  warnings.warn(\n",
      "C:\\Users\\ben97312\\Documents\\code\\notebooks\\Lib\\site-packages\\urllib3\\connectionpool.py:1103: InsecureRequestWarning: Unverified HTTPS request is being made to host 'granicus_production_attachments.s3.amazonaws.com'. Adding certificate verification is strongly advised. See: https://urllib3.readthedocs.io/en/latest/advanced-usage.html#tls-warnings\n",
      "  warnings.warn(\n",
      "C:\\Users\\ben97312\\Documents\\code\\notebooks\\Lib\\site-packages\\urllib3\\connectionpool.py:1103: InsecureRequestWarning: Unverified HTTPS request is being made to host 'granicus_production_attachments.s3.amazonaws.com'. Adding certificate verification is strongly advised. See: https://urllib3.readthedocs.io/en/latest/advanced-usage.html#tls-warnings\n",
      "  warnings.warn(\n",
      "C:\\Users\\ben97312\\Documents\\code\\notebooks\\Lib\\site-packages\\urllib3\\connectionpool.py:1103: InsecureRequestWarning: Unverified HTTPS request is being made to host 'granicus_production_attachments.s3.amazonaws.com'. Adding certificate verification is strongly advised. See: https://urllib3.readthedocs.io/en/latest/advanced-usage.html#tls-warnings\n",
      "  warnings.warn(\n",
      "C:\\Users\\ben97312\\Documents\\code\\notebooks\\Lib\\site-packages\\urllib3\\connectionpool.py:1103: InsecureRequestWarning: Unverified HTTPS request is being made to host 'granicus_production_attachments.s3.amazonaws.com'. Adding certificate verification is strongly advised. See: https://urllib3.readthedocs.io/en/latest/advanced-usage.html#tls-warnings\n",
      "  warnings.warn(\n"
     ]
    },
    {
     "name": "stdout",
     "output_type": "stream",
     "text": [
      "2022\n",
      "https://granicus_production_attachments.s3.amazonaws.com/greenbeltmd/ccefaf0da8ce0631b908fd032212cb6b0.pdf\n"
     ]
    },
    {
     "name": "stderr",
     "output_type": "stream",
     "text": [
      "C:\\Users\\ben97312\\Documents\\code\\notebooks\\Lib\\site-packages\\urllib3\\connectionpool.py:1103: InsecureRequestWarning: Unverified HTTPS request is being made to host 'granicus_production_attachments.s3.amazonaws.com'. Adding certificate verification is strongly advised. See: https://urllib3.readthedocs.io/en/latest/advanced-usage.html#tls-warnings\n",
      "  warnings.warn(\n",
      "C:\\Users\\ben97312\\Documents\\code\\notebooks\\Lib\\site-packages\\urllib3\\connectionpool.py:1103: InsecureRequestWarning: Unverified HTTPS request is being made to host 'granicus_production_attachments.s3.amazonaws.com'. Adding certificate verification is strongly advised. See: https://urllib3.readthedocs.io/en/latest/advanced-usage.html#tls-warnings\n",
      "  warnings.warn(\n",
      "C:\\Users\\ben97312\\Documents\\code\\notebooks\\Lib\\site-packages\\urllib3\\connectionpool.py:1103: InsecureRequestWarning: Unverified HTTPS request is being made to host 'granicus_production_attachments.s3.amazonaws.com'. Adding certificate verification is strongly advised. See: https://urllib3.readthedocs.io/en/latest/advanced-usage.html#tls-warnings\n",
      "  warnings.warn(\n",
      "C:\\Users\\ben97312\\Documents\\code\\notebooks\\Lib\\site-packages\\urllib3\\connectionpool.py:1103: InsecureRequestWarning: Unverified HTTPS request is being made to host 'granicus_production_attachments.s3.amazonaws.com'. Adding certificate verification is strongly advised. See: https://urllib3.readthedocs.io/en/latest/advanced-usage.html#tls-warnings\n",
      "  warnings.warn(\n",
      "C:\\Users\\ben97312\\Documents\\code\\notebooks\\Lib\\site-packages\\urllib3\\connectionpool.py:1103: InsecureRequestWarning: Unverified HTTPS request is being made to host 'granicus_production_attachments.s3.amazonaws.com'. Adding certificate verification is strongly advised. See: https://urllib3.readthedocs.io/en/latest/advanced-usage.html#tls-warnings\n",
      "  warnings.warn(\n",
      "C:\\Users\\ben97312\\Documents\\code\\notebooks\\Lib\\site-packages\\urllib3\\connectionpool.py:1103: InsecureRequestWarning: Unverified HTTPS request is being made to host 'granicus_production_attachments.s3.amazonaws.com'. Adding certificate verification is strongly advised. See: https://urllib3.readthedocs.io/en/latest/advanced-usage.html#tls-warnings\n",
      "  warnings.warn(\n",
      "C:\\Users\\ben97312\\Documents\\code\\notebooks\\Lib\\site-packages\\urllib3\\connectionpool.py:1103: InsecureRequestWarning: Unverified HTTPS request is being made to host 'granicus_production_attachments.s3.amazonaws.com'. Adding certificate verification is strongly advised. See: https://urllib3.readthedocs.io/en/latest/advanced-usage.html#tls-warnings\n",
      "  warnings.warn(\n",
      "C:\\Users\\ben97312\\Documents\\code\\notebooks\\Lib\\site-packages\\urllib3\\connectionpool.py:1103: InsecureRequestWarning: Unverified HTTPS request is being made to host 'granicus_production_attachments.s3.amazonaws.com'. Adding certificate verification is strongly advised. See: https://urllib3.readthedocs.io/en/latest/advanced-usage.html#tls-warnings\n",
      "  warnings.warn(\n",
      "C:\\Users\\ben97312\\Documents\\code\\notebooks\\Lib\\site-packages\\urllib3\\connectionpool.py:1103: InsecureRequestWarning: Unverified HTTPS request is being made to host 'granicus_production_attachments.s3.amazonaws.com'. Adding certificate verification is strongly advised. See: https://urllib3.readthedocs.io/en/latest/advanced-usage.html#tls-warnings\n",
      "  warnings.warn(\n",
      "C:\\Users\\ben97312\\Documents\\code\\notebooks\\Lib\\site-packages\\urllib3\\connectionpool.py:1103: InsecureRequestWarning: Unverified HTTPS request is being made to host 'granicus_production_attachments.s3.amazonaws.com'. Adding certificate verification is strongly advised. See: https://urllib3.readthedocs.io/en/latest/advanced-usage.html#tls-warnings\n",
      "  warnings.warn(\n",
      "C:\\Users\\ben97312\\Documents\\code\\notebooks\\Lib\\site-packages\\urllib3\\connectionpool.py:1103: InsecureRequestWarning: Unverified HTTPS request is being made to host 'granicus_production_attachments.s3.amazonaws.com'. Adding certificate verification is strongly advised. See: https://urllib3.readthedocs.io/en/latest/advanced-usage.html#tls-warnings\n",
      "  warnings.warn(\n"
     ]
    },
    {
     "name": "stdout",
     "output_type": "stream",
     "text": [
      "2022\n",
      "https://granicus_production_attachments.s3.amazonaws.com/greenbeltmd/2d32caf687f3152c3745731bec413c6c0.pdf\n"
     ]
    },
    {
     "name": "stderr",
     "output_type": "stream",
     "text": [
      "C:\\Users\\ben97312\\Documents\\code\\notebooks\\Lib\\site-packages\\urllib3\\connectionpool.py:1103: InsecureRequestWarning: Unverified HTTPS request is being made to host 'granicus_production_attachments.s3.amazonaws.com'. Adding certificate verification is strongly advised. See: https://urllib3.readthedocs.io/en/latest/advanced-usage.html#tls-warnings\n",
      "  warnings.warn(\n"
     ]
    },
    {
     "name": "stdout",
     "output_type": "stream",
     "text": [
      "2022\n",
      "https://granicus_production_attachments.s3.amazonaws.com/greenbeltmd/e40b7bacbdedfdc09a59bf05b69aaaec0.pdf\n"
     ]
    },
    {
     "name": "stderr",
     "output_type": "stream",
     "text": [
      "C:\\Users\\ben97312\\Documents\\code\\notebooks\\Lib\\site-packages\\urllib3\\connectionpool.py:1103: InsecureRequestWarning: Unverified HTTPS request is being made to host 'granicus_production_attachments.s3.amazonaws.com'. Adding certificate verification is strongly advised. See: https://urllib3.readthedocs.io/en/latest/advanced-usage.html#tls-warnings\n",
      "  warnings.warn(\n",
      "C:\\Users\\ben97312\\Documents\\code\\notebooks\\Lib\\site-packages\\urllib3\\connectionpool.py:1103: InsecureRequestWarning: Unverified HTTPS request is being made to host 'greenbeltmd.granicus.com'. Adding certificate verification is strongly advised. See: https://urllib3.readthedocs.io/en/latest/advanced-usage.html#tls-warnings\n",
      "  warnings.warn(\n",
      "C:\\Users\\ben97312\\Documents\\code\\notebooks\\Lib\\site-packages\\urllib3\\connectionpool.py:1103: InsecureRequestWarning: Unverified HTTPS request is being made to host 'granicus_production_attachments.s3.amazonaws.com'. Adding certificate verification is strongly advised. See: https://urllib3.readthedocs.io/en/latest/advanced-usage.html#tls-warnings\n",
      "  warnings.warn(\n",
      "C:\\Users\\ben97312\\Documents\\code\\notebooks\\Lib\\site-packages\\urllib3\\connectionpool.py:1103: InsecureRequestWarning: Unverified HTTPS request is being made to host 'granicus_production_attachments.s3.amazonaws.com'. Adding certificate verification is strongly advised. See: https://urllib3.readthedocs.io/en/latest/advanced-usage.html#tls-warnings\n",
      "  warnings.warn(\n",
      "C:\\Users\\ben97312\\Documents\\code\\notebooks\\Lib\\site-packages\\urllib3\\connectionpool.py:1103: InsecureRequestWarning: Unverified HTTPS request is being made to host 'granicus_production_attachments.s3.amazonaws.com'. Adding certificate verification is strongly advised. See: https://urllib3.readthedocs.io/en/latest/advanced-usage.html#tls-warnings\n",
      "  warnings.warn(\n",
      "C:\\Users\\ben97312\\Documents\\code\\notebooks\\Lib\\site-packages\\urllib3\\connectionpool.py:1103: InsecureRequestWarning: Unverified HTTPS request is being made to host 'granicus_production_attachments.s3.amazonaws.com'. Adding certificate verification is strongly advised. See: https://urllib3.readthedocs.io/en/latest/advanced-usage.html#tls-warnings\n",
      "  warnings.warn(\n",
      "C:\\Users\\ben97312\\Documents\\code\\notebooks\\Lib\\site-packages\\urllib3\\connectionpool.py:1103: InsecureRequestWarning: Unverified HTTPS request is being made to host 'granicus_production_attachments.s3.amazonaws.com'. Adding certificate verification is strongly advised. See: https://urllib3.readthedocs.io/en/latest/advanced-usage.html#tls-warnings\n",
      "  warnings.warn(\n",
      "C:\\Users\\ben97312\\Documents\\code\\notebooks\\Lib\\site-packages\\urllib3\\connectionpool.py:1103: InsecureRequestWarning: Unverified HTTPS request is being made to host 'granicus_production_attachments.s3.amazonaws.com'. Adding certificate verification is strongly advised. See: https://urllib3.readthedocs.io/en/latest/advanced-usage.html#tls-warnings\n",
      "  warnings.warn(\n",
      "C:\\Users\\ben97312\\Documents\\code\\notebooks\\Lib\\site-packages\\urllib3\\connectionpool.py:1103: InsecureRequestWarning: Unverified HTTPS request is being made to host 'granicus_production_attachments.s3.amazonaws.com'. Adding certificate verification is strongly advised. See: https://urllib3.readthedocs.io/en/latest/advanced-usage.html#tls-warnings\n",
      "  warnings.warn(\n"
     ]
    },
    {
     "name": "stdout",
     "output_type": "stream",
     "text": [
      "2022\n",
      "https://granicus_production_attachments.s3.amazonaws.com/greenbeltmd/ed04781e24215c3c91acb91d6194db3c0.pdf\n"
     ]
    },
    {
     "name": "stderr",
     "output_type": "stream",
     "text": [
      "C:\\Users\\ben97312\\Documents\\code\\notebooks\\Lib\\site-packages\\urllib3\\connectionpool.py:1103: InsecureRequestWarning: Unverified HTTPS request is being made to host 'granicus_production_attachments.s3.amazonaws.com'. Adding certificate verification is strongly advised. See: https://urllib3.readthedocs.io/en/latest/advanced-usage.html#tls-warnings\n",
      "  warnings.warn(\n"
     ]
    },
    {
     "name": "stdout",
     "output_type": "stream",
     "text": [
      "2022\n",
      "https://granicus_production_attachments.s3.amazonaws.com/greenbeltmd/9c61ee48569c1d46c0450e2205fb14010.pdf\n"
     ]
    },
    {
     "name": "stderr",
     "output_type": "stream",
     "text": [
      "C:\\Users\\ben97312\\Documents\\code\\notebooks\\Lib\\site-packages\\urllib3\\connectionpool.py:1103: InsecureRequestWarning: Unverified HTTPS request is being made to host 'granicus_production_attachments.s3.amazonaws.com'. Adding certificate verification is strongly advised. See: https://urllib3.readthedocs.io/en/latest/advanced-usage.html#tls-warnings\n",
      "  warnings.warn(\n",
      "C:\\Users\\ben97312\\Documents\\code\\notebooks\\Lib\\site-packages\\urllib3\\connectionpool.py:1103: InsecureRequestWarning: Unverified HTTPS request is being made to host 'granicus_production_attachments.s3.amazonaws.com'. Adding certificate verification is strongly advised. See: https://urllib3.readthedocs.io/en/latest/advanced-usage.html#tls-warnings\n",
      "  warnings.warn(\n",
      "C:\\Users\\ben97312\\Documents\\code\\notebooks\\Lib\\site-packages\\urllib3\\connectionpool.py:1103: InsecureRequestWarning: Unverified HTTPS request is being made to host 'granicus_production_attachments.s3.amazonaws.com'. Adding certificate verification is strongly advised. See: https://urllib3.readthedocs.io/en/latest/advanced-usage.html#tls-warnings\n",
      "  warnings.warn(\n",
      "C:\\Users\\ben97312\\Documents\\code\\notebooks\\Lib\\site-packages\\urllib3\\connectionpool.py:1103: InsecureRequestWarning: Unverified HTTPS request is being made to host 'granicus_production_attachments.s3.amazonaws.com'. Adding certificate verification is strongly advised. See: https://urllib3.readthedocs.io/en/latest/advanced-usage.html#tls-warnings\n",
      "  warnings.warn(\n",
      "C:\\Users\\ben97312\\Documents\\code\\notebooks\\Lib\\site-packages\\urllib3\\connectionpool.py:1103: InsecureRequestWarning: Unverified HTTPS request is being made to host 'granicus_production_attachments.s3.amazonaws.com'. Adding certificate verification is strongly advised. See: https://urllib3.readthedocs.io/en/latest/advanced-usage.html#tls-warnings\n",
      "  warnings.warn(\n"
     ]
    },
    {
     "name": "stdout",
     "output_type": "stream",
     "text": [
      "2022\n",
      "https://granicus_production_attachments.s3.amazonaws.com/greenbeltmd/6b90c3d858e12c5734708b736cc6d1c00.pdf\n"
     ]
    },
    {
     "name": "stderr",
     "output_type": "stream",
     "text": [
      "C:\\Users\\ben97312\\Documents\\code\\notebooks\\Lib\\site-packages\\urllib3\\connectionpool.py:1103: InsecureRequestWarning: Unverified HTTPS request is being made to host 'granicus_production_attachments.s3.amazonaws.com'. Adding certificate verification is strongly advised. See: https://urllib3.readthedocs.io/en/latest/advanced-usage.html#tls-warnings\n",
      "  warnings.warn(\n"
     ]
    },
    {
     "name": "stdout",
     "output_type": "stream",
     "text": [
      "2022\n",
      "https://granicus_production_attachments.s3.amazonaws.com/greenbeltmd/1502df83f0ec81438da9c4b140c56f2f0.pdf\n"
     ]
    },
    {
     "name": "stderr",
     "output_type": "stream",
     "text": [
      "C:\\Users\\ben97312\\Documents\\code\\notebooks\\Lib\\site-packages\\urllib3\\connectionpool.py:1103: InsecureRequestWarning: Unverified HTTPS request is being made to host 'granicus_production_attachments.s3.amazonaws.com'. Adding certificate verification is strongly advised. See: https://urllib3.readthedocs.io/en/latest/advanced-usage.html#tls-warnings\n",
      "  warnings.warn(\n"
     ]
    },
    {
     "name": "stdout",
     "output_type": "stream",
     "text": [
      "2022\n",
      "https://granicus_production_attachments.s3.amazonaws.com/greenbeltmd/093639c6fa1aac788ca3efe29306bdd10.pdf\n"
     ]
    },
    {
     "name": "stderr",
     "output_type": "stream",
     "text": [
      "C:\\Users\\ben97312\\Documents\\code\\notebooks\\Lib\\site-packages\\urllib3\\connectionpool.py:1103: InsecureRequestWarning: Unverified HTTPS request is being made to host 'granicus_production_attachments.s3.amazonaws.com'. Adding certificate verification is strongly advised. See: https://urllib3.readthedocs.io/en/latest/advanced-usage.html#tls-warnings\n",
      "  warnings.warn(\n"
     ]
    },
    {
     "name": "stdout",
     "output_type": "stream",
     "text": [
      "2022\n",
      "https://granicus_production_attachments.s3.amazonaws.com/greenbeltmd/d81ef10f52754519d5fa0ab0e19d5f670.pdf\n"
     ]
    },
    {
     "name": "stderr",
     "output_type": "stream",
     "text": [
      "C:\\Users\\ben97312\\Documents\\code\\notebooks\\Lib\\site-packages\\urllib3\\connectionpool.py:1103: InsecureRequestWarning: Unverified HTTPS request is being made to host 'granicus_production_attachments.s3.amazonaws.com'. Adding certificate verification is strongly advised. See: https://urllib3.readthedocs.io/en/latest/advanced-usage.html#tls-warnings\n",
      "  warnings.warn(\n"
     ]
    },
    {
     "name": "stdout",
     "output_type": "stream",
     "text": [
      "2022\n",
      "https://granicus_production_attachments.s3.amazonaws.com/greenbeltmd/b5f9bb8a735a398368ca9372d19552e10.pdf\n"
     ]
    },
    {
     "name": "stderr",
     "output_type": "stream",
     "text": [
      "C:\\Users\\ben97312\\Documents\\code\\notebooks\\Lib\\site-packages\\urllib3\\connectionpool.py:1103: InsecureRequestWarning: Unverified HTTPS request is being made to host 'granicus_production_attachments.s3.amazonaws.com'. Adding certificate verification is strongly advised. See: https://urllib3.readthedocs.io/en/latest/advanced-usage.html#tls-warnings\n",
      "  warnings.warn(\n"
     ]
    },
    {
     "name": "stdout",
     "output_type": "stream",
     "text": [
      "2022\n",
      "https://granicus_production_attachments.s3.amazonaws.com/greenbeltmd/1c63c5c286cfc15ec6ad6cd79773f86a0.pdf\n"
     ]
    },
    {
     "name": "stderr",
     "output_type": "stream",
     "text": [
      "C:\\Users\\ben97312\\Documents\\code\\notebooks\\Lib\\site-packages\\urllib3\\connectionpool.py:1103: InsecureRequestWarning: Unverified HTTPS request is being made to host 'granicus_production_attachments.s3.amazonaws.com'. Adding certificate verification is strongly advised. See: https://urllib3.readthedocs.io/en/latest/advanced-usage.html#tls-warnings\n",
      "  warnings.warn(\n"
     ]
    },
    {
     "name": "stdout",
     "output_type": "stream",
     "text": [
      "2022\n",
      "https://granicus_production_attachments.s3.amazonaws.com/greenbeltmd/54f2929404719a1b1493345ab2d5c44f0.pdf\n"
     ]
    },
    {
     "name": "stderr",
     "output_type": "stream",
     "text": [
      "C:\\Users\\ben97312\\Documents\\code\\notebooks\\Lib\\site-packages\\urllib3\\connectionpool.py:1103: InsecureRequestWarning: Unverified HTTPS request is being made to host 'granicus_production_attachments.s3.amazonaws.com'. Adding certificate verification is strongly advised. See: https://urllib3.readthedocs.io/en/latest/advanced-usage.html#tls-warnings\n",
      "  warnings.warn(\n"
     ]
    },
    {
     "name": "stdout",
     "output_type": "stream",
     "text": [
      "2022\n",
      "https://granicus_production_attachments.s3.amazonaws.com/greenbeltmd/ffc4709f066664d31855d177559635080.pdf\n"
     ]
    },
    {
     "name": "stderr",
     "output_type": "stream",
     "text": [
      "C:\\Users\\ben97312\\Documents\\code\\notebooks\\Lib\\site-packages\\urllib3\\connectionpool.py:1103: InsecureRequestWarning: Unverified HTTPS request is being made to host 'granicus_production_attachments.s3.amazonaws.com'. Adding certificate verification is strongly advised. See: https://urllib3.readthedocs.io/en/latest/advanced-usage.html#tls-warnings\n",
      "  warnings.warn(\n"
     ]
    },
    {
     "name": "stdout",
     "output_type": "stream",
     "text": [
      "2022\n",
      "https://granicus_production_attachments.s3.amazonaws.com/greenbeltmd/8e34298912a4144ee1aa647ba4d5abe60.pdf\n"
     ]
    },
    {
     "name": "stderr",
     "output_type": "stream",
     "text": [
      "C:\\Users\\ben97312\\Documents\\code\\notebooks\\Lib\\site-packages\\urllib3\\connectionpool.py:1103: InsecureRequestWarning: Unverified HTTPS request is being made to host 'granicus_production_attachments.s3.amazonaws.com'. Adding certificate verification is strongly advised. See: https://urllib3.readthedocs.io/en/latest/advanced-usage.html#tls-warnings\n",
      "  warnings.warn(\n"
     ]
    },
    {
     "name": "stdout",
     "output_type": "stream",
     "text": [
      "2022\n",
      "https://granicus_production_attachments.s3.amazonaws.com/greenbeltmd/3907580ff549262b64e6c3403e6ef1c80.pdf\n"
     ]
    },
    {
     "name": "stderr",
     "output_type": "stream",
     "text": [
      "C:\\Users\\ben97312\\Documents\\code\\notebooks\\Lib\\site-packages\\urllib3\\connectionpool.py:1103: InsecureRequestWarning: Unverified HTTPS request is being made to host 'granicus_production_attachments.s3.amazonaws.com'. Adding certificate verification is strongly advised. See: https://urllib3.readthedocs.io/en/latest/advanced-usage.html#tls-warnings\n",
      "  warnings.warn(\n"
     ]
    },
    {
     "name": "stdout",
     "output_type": "stream",
     "text": [
      "2022\n",
      "https://granicus_production_attachments.s3.amazonaws.com/greenbeltmd/9f8cf3a7236d592a35b158e9d1c9a0fb0.pdf\n"
     ]
    },
    {
     "name": "stderr",
     "output_type": "stream",
     "text": [
      "C:\\Users\\ben97312\\Documents\\code\\notebooks\\Lib\\site-packages\\urllib3\\connectionpool.py:1103: InsecureRequestWarning: Unverified HTTPS request is being made to host 'granicus_production_attachments.s3.amazonaws.com'. Adding certificate verification is strongly advised. See: https://urllib3.readthedocs.io/en/latest/advanced-usage.html#tls-warnings\n",
      "  warnings.warn(\n",
      "C:\\Users\\ben97312\\Documents\\code\\notebooks\\Lib\\site-packages\\urllib3\\connectionpool.py:1103: InsecureRequestWarning: Unverified HTTPS request is being made to host 'granicus_production_attachments.s3.amazonaws.com'. Adding certificate verification is strongly advised. See: https://urllib3.readthedocs.io/en/latest/advanced-usage.html#tls-warnings\n",
      "  warnings.warn(\n"
     ]
    },
    {
     "name": "stdout",
     "output_type": "stream",
     "text": [
      "2022\n",
      "https://granicus_production_attachments.s3.amazonaws.com/greenbeltmd/1973788c45c93101c1a39854c896bfde0.pdf\n"
     ]
    },
    {
     "name": "stderr",
     "output_type": "stream",
     "text": [
      "C:\\Users\\ben97312\\Documents\\code\\notebooks\\Lib\\site-packages\\urllib3\\connectionpool.py:1103: InsecureRequestWarning: Unverified HTTPS request is being made to host 'granicus_production_attachments.s3.amazonaws.com'. Adding certificate verification is strongly advised. See: https://urllib3.readthedocs.io/en/latest/advanced-usage.html#tls-warnings\n",
      "  warnings.warn(\n"
     ]
    },
    {
     "name": "stdout",
     "output_type": "stream",
     "text": [
      "2022\n",
      "https://granicus_production_attachments.s3.amazonaws.com/greenbeltmd/2d3253d2a43033f0cd0964095b23135f0.pdf\n"
     ]
    },
    {
     "name": "stderr",
     "output_type": "stream",
     "text": [
      "C:\\Users\\ben97312\\Documents\\code\\notebooks\\Lib\\site-packages\\urllib3\\connectionpool.py:1103: InsecureRequestWarning: Unverified HTTPS request is being made to host 'granicus_production_attachments.s3.amazonaws.com'. Adding certificate verification is strongly advised. See: https://urllib3.readthedocs.io/en/latest/advanced-usage.html#tls-warnings\n",
      "  warnings.warn(\n"
     ]
    },
    {
     "name": "stdout",
     "output_type": "stream",
     "text": [
      "2022\n",
      "https://granicus_production_attachments.s3.amazonaws.com/greenbeltmd/da24af4e08b36086e017281d7c4dc24a0.pdf\n"
     ]
    },
    {
     "name": "stderr",
     "output_type": "stream",
     "text": [
      "C:\\Users\\ben97312\\Documents\\code\\notebooks\\Lib\\site-packages\\urllib3\\connectionpool.py:1103: InsecureRequestWarning: Unverified HTTPS request is being made to host 'granicus_production_attachments.s3.amazonaws.com'. Adding certificate verification is strongly advised. See: https://urllib3.readthedocs.io/en/latest/advanced-usage.html#tls-warnings\n",
      "  warnings.warn(\n",
      "C:\\Users\\ben97312\\Documents\\code\\notebooks\\Lib\\site-packages\\urllib3\\connectionpool.py:1103: InsecureRequestWarning: Unverified HTTPS request is being made to host 'granicus_production_attachments.s3.amazonaws.com'. Adding certificate verification is strongly advised. See: https://urllib3.readthedocs.io/en/latest/advanced-usage.html#tls-warnings\n",
      "  warnings.warn(\n"
     ]
    },
    {
     "name": "stdout",
     "output_type": "stream",
     "text": [
      "2022\n",
      "https://granicus_production_attachments.s3.amazonaws.com/greenbeltmd/bea34af9e1bfcd938dde62d41eade8e30.pdf\n"
     ]
    },
    {
     "name": "stderr",
     "output_type": "stream",
     "text": [
      "C:\\Users\\ben97312\\Documents\\code\\notebooks\\Lib\\site-packages\\urllib3\\connectionpool.py:1103: InsecureRequestWarning: Unverified HTTPS request is being made to host 'granicus_production_attachments.s3.amazonaws.com'. Adding certificate verification is strongly advised. See: https://urllib3.readthedocs.io/en/latest/advanced-usage.html#tls-warnings\n",
      "  warnings.warn(\n"
     ]
    },
    {
     "name": "stdout",
     "output_type": "stream",
     "text": [
      "2022\n",
      "https://granicus_production_attachments.s3.amazonaws.com/greenbeltmd/a99671496c7a6ee4e7d28e47fc6ebf010.pdf\n"
     ]
    },
    {
     "name": "stderr",
     "output_type": "stream",
     "text": [
      "C:\\Users\\ben97312\\Documents\\code\\notebooks\\Lib\\site-packages\\urllib3\\connectionpool.py:1103: InsecureRequestWarning: Unverified HTTPS request is being made to host 'granicus_production_attachments.s3.amazonaws.com'. Adding certificate verification is strongly advised. See: https://urllib3.readthedocs.io/en/latest/advanced-usage.html#tls-warnings\n",
      "  warnings.warn(\n",
      "C:\\Users\\ben97312\\Documents\\code\\notebooks\\Lib\\site-packages\\urllib3\\connectionpool.py:1103: InsecureRequestWarning: Unverified HTTPS request is being made to host 'granicus_production_attachments.s3.amazonaws.com'. Adding certificate verification is strongly advised. See: https://urllib3.readthedocs.io/en/latest/advanced-usage.html#tls-warnings\n",
      "  warnings.warn(\n"
     ]
    },
    {
     "name": "stdout",
     "output_type": "stream",
     "text": [
      "2022\n",
      "https://granicus_production_attachments.s3.amazonaws.com/greenbeltmd/2d97de5149577f3985611d1c5a7bc5cc0.pdf\n"
     ]
    },
    {
     "name": "stderr",
     "output_type": "stream",
     "text": [
      "C:\\Users\\ben97312\\Documents\\code\\notebooks\\Lib\\site-packages\\urllib3\\connectionpool.py:1103: InsecureRequestWarning: Unverified HTTPS request is being made to host 'granicus_production_attachments.s3.amazonaws.com'. Adding certificate verification is strongly advised. See: https://urllib3.readthedocs.io/en/latest/advanced-usage.html#tls-warnings\n",
      "  warnings.warn(\n"
     ]
    },
    {
     "name": "stdout",
     "output_type": "stream",
     "text": [
      "2022\n",
      "https://granicus_production_attachments.s3.amazonaws.com/greenbeltmd/0ff84de9c59004e2318f6a7a0fe2aaae0.pdf\n"
     ]
    },
    {
     "name": "stderr",
     "output_type": "stream",
     "text": [
      "C:\\Users\\ben97312\\Documents\\code\\notebooks\\Lib\\site-packages\\urllib3\\connectionpool.py:1103: InsecureRequestWarning: Unverified HTTPS request is being made to host 'granicus_production_attachments.s3.amazonaws.com'. Adding certificate verification is strongly advised. See: https://urllib3.readthedocs.io/en/latest/advanced-usage.html#tls-warnings\n",
      "  warnings.warn(\n"
     ]
    },
    {
     "name": "stdout",
     "output_type": "stream",
     "text": [
      "2022\n",
      "https://granicus_production_attachments.s3.amazonaws.com/greenbeltmd/c81b69047b57035272b549364111da510.pdf\n"
     ]
    },
    {
     "name": "stderr",
     "output_type": "stream",
     "text": [
      "C:\\Users\\ben97312\\Documents\\code\\notebooks\\Lib\\site-packages\\urllib3\\connectionpool.py:1103: InsecureRequestWarning: Unverified HTTPS request is being made to host 'granicus_production_attachments.s3.amazonaws.com'. Adding certificate verification is strongly advised. See: https://urllib3.readthedocs.io/en/latest/advanced-usage.html#tls-warnings\n",
      "  warnings.warn(\n",
      "C:\\Users\\ben97312\\Documents\\code\\notebooks\\Lib\\site-packages\\urllib3\\connectionpool.py:1103: InsecureRequestWarning: Unverified HTTPS request is being made to host 'granicus_production_attachments.s3.amazonaws.com'. Adding certificate verification is strongly advised. See: https://urllib3.readthedocs.io/en/latest/advanced-usage.html#tls-warnings\n",
      "  warnings.warn(\n",
      "C:\\Users\\ben97312\\Documents\\code\\notebooks\\Lib\\site-packages\\urllib3\\connectionpool.py:1103: InsecureRequestWarning: Unverified HTTPS request is being made to host 'granicus_production_attachments.s3.amazonaws.com'. Adding certificate verification is strongly advised. See: https://urllib3.readthedocs.io/en/latest/advanced-usage.html#tls-warnings\n",
      "  warnings.warn(\n"
     ]
    },
    {
     "name": "stdout",
     "output_type": "stream",
     "text": [
      "2022\n",
      "https://granicus_production_attachments.s3.amazonaws.com/greenbeltmd/a56e025d8e2da525a09b02518dda5ebe0.pdf\n"
     ]
    },
    {
     "name": "stderr",
     "output_type": "stream",
     "text": [
      "C:\\Users\\ben97312\\Documents\\code\\notebooks\\Lib\\site-packages\\urllib3\\connectionpool.py:1103: InsecureRequestWarning: Unverified HTTPS request is being made to host 'granicus_production_attachments.s3.amazonaws.com'. Adding certificate verification is strongly advised. See: https://urllib3.readthedocs.io/en/latest/advanced-usage.html#tls-warnings\n",
      "  warnings.warn(\n"
     ]
    },
    {
     "name": "stdout",
     "output_type": "stream",
     "text": [
      "2022\n",
      "https://granicus_production_attachments.s3.amazonaws.com/greenbeltmd/bf51455b534b682dbc45dcfce163590f0.pdf\n"
     ]
    },
    {
     "name": "stderr",
     "output_type": "stream",
     "text": [
      "C:\\Users\\ben97312\\Documents\\code\\notebooks\\Lib\\site-packages\\urllib3\\connectionpool.py:1103: InsecureRequestWarning: Unverified HTTPS request is being made to host 'granicus_production_attachments.s3.amazonaws.com'. Adding certificate verification is strongly advised. See: https://urllib3.readthedocs.io/en/latest/advanced-usage.html#tls-warnings\n",
      "  warnings.warn(\n"
     ]
    },
    {
     "name": "stdout",
     "output_type": "stream",
     "text": [
      "2022\n",
      "https://granicus_production_attachments.s3.amazonaws.com/greenbeltmd/6153413c5454ca6da57d913e3499d4980.pdf\n"
     ]
    },
    {
     "name": "stderr",
     "output_type": "stream",
     "text": [
      "C:\\Users\\ben97312\\Documents\\code\\notebooks\\Lib\\site-packages\\urllib3\\connectionpool.py:1103: InsecureRequestWarning: Unverified HTTPS request is being made to host 'granicus_production_attachments.s3.amazonaws.com'. Adding certificate verification is strongly advised. See: https://urllib3.readthedocs.io/en/latest/advanced-usage.html#tls-warnings\n",
      "  warnings.warn(\n"
     ]
    },
    {
     "name": "stdout",
     "output_type": "stream",
     "text": [
      "2022\n",
      "https://granicus_production_attachments.s3.amazonaws.com/greenbeltmd/3f976d2ba635f2174f359eb018082ca00.pdf\n"
     ]
    },
    {
     "name": "stderr",
     "output_type": "stream",
     "text": [
      "C:\\Users\\ben97312\\Documents\\code\\notebooks\\Lib\\site-packages\\urllib3\\connectionpool.py:1103: InsecureRequestWarning: Unverified HTTPS request is being made to host 'granicus_production_attachments.s3.amazonaws.com'. Adding certificate verification is strongly advised. See: https://urllib3.readthedocs.io/en/latest/advanced-usage.html#tls-warnings\n",
      "  warnings.warn(\n"
     ]
    },
    {
     "name": "stdout",
     "output_type": "stream",
     "text": [
      "2022\n",
      "https://greenbeltmd.granicus.com/DocumentViewer.php?file=greenbeltmd_4c2def0591a0b26eca1553de3cddcaf3.pdf&view=1\n"
     ]
    },
    {
     "name": "stderr",
     "output_type": "stream",
     "text": [
      "C:\\Users\\ben97312\\Documents\\code\\notebooks\\Lib\\site-packages\\urllib3\\connectionpool.py:1103: InsecureRequestWarning: Unverified HTTPS request is being made to host 'greenbeltmd.granicus.com'. Adding certificate verification is strongly advised. See: https://urllib3.readthedocs.io/en/latest/advanced-usage.html#tls-warnings\n",
      "  warnings.warn(\n"
     ]
    },
    {
     "name": "stdout",
     "output_type": "stream",
     "text": [
      "2022\n",
      "https://granicus_production_attachments.s3.amazonaws.com/greenbeltmd/8fb84cfb1226e438c5e55eca87673f870.pdf\n"
     ]
    },
    {
     "name": "stderr",
     "output_type": "stream",
     "text": [
      "C:\\Users\\ben97312\\Documents\\code\\notebooks\\Lib\\site-packages\\urllib3\\connectionpool.py:1103: InsecureRequestWarning: Unverified HTTPS request is being made to host 'granicus_production_attachments.s3.amazonaws.com'. Adding certificate verification is strongly advised. See: https://urllib3.readthedocs.io/en/latest/advanced-usage.html#tls-warnings\n",
      "  warnings.warn(\n",
      "C:\\Users\\ben97312\\Documents\\code\\notebooks\\Lib\\site-packages\\urllib3\\connectionpool.py:1103: InsecureRequestWarning: Unverified HTTPS request is being made to host 'granicus_production_attachments.s3.amazonaws.com'. Adding certificate verification is strongly advised. See: https://urllib3.readthedocs.io/en/latest/advanced-usage.html#tls-warnings\n",
      "  warnings.warn(\n"
     ]
    },
    {
     "name": "stdout",
     "output_type": "stream",
     "text": [
      "2021\n",
      "https://granicus_production_attachments.s3.amazonaws.com/greenbeltmd/dc074c926aea5a5e3090d5c9254cb85a0.pdf\n"
     ]
    },
    {
     "name": "stderr",
     "output_type": "stream",
     "text": [
      "C:\\Users\\ben97312\\Documents\\code\\notebooks\\Lib\\site-packages\\urllib3\\connectionpool.py:1103: InsecureRequestWarning: Unverified HTTPS request is being made to host 'granicus_production_attachments.s3.amazonaws.com'. Adding certificate verification is strongly advised. See: https://urllib3.readthedocs.io/en/latest/advanced-usage.html#tls-warnings\n",
      "  warnings.warn(\n",
      "C:\\Users\\ben97312\\Documents\\code\\notebooks\\Lib\\site-packages\\urllib3\\connectionpool.py:1103: InsecureRequestWarning: Unverified HTTPS request is being made to host 'granicus_production_attachments.s3.amazonaws.com'. Adding certificate verification is strongly advised. See: https://urllib3.readthedocs.io/en/latest/advanced-usage.html#tls-warnings\n",
      "  warnings.warn(\n",
      "C:\\Users\\ben97312\\Documents\\code\\notebooks\\Lib\\site-packages\\urllib3\\connectionpool.py:1103: InsecureRequestWarning: Unverified HTTPS request is being made to host 'granicus_production_attachments.s3.amazonaws.com'. Adding certificate verification is strongly advised. See: https://urllib3.readthedocs.io/en/latest/advanced-usage.html#tls-warnings\n",
      "  warnings.warn(\n"
     ]
    },
    {
     "name": "stdout",
     "output_type": "stream",
     "text": [
      "2021\n",
      "https://granicus_production_attachments.s3.amazonaws.com/greenbeltmd/bdf8e146068bdb51a998aff68c1a58640.pdf\n"
     ]
    },
    {
     "name": "stderr",
     "output_type": "stream",
     "text": [
      "C:\\Users\\ben97312\\Documents\\code\\notebooks\\Lib\\site-packages\\urllib3\\connectionpool.py:1103: InsecureRequestWarning: Unverified HTTPS request is being made to host 'granicus_production_attachments.s3.amazonaws.com'. Adding certificate verification is strongly advised. See: https://urllib3.readthedocs.io/en/latest/advanced-usage.html#tls-warnings\n",
      "  warnings.warn(\n"
     ]
    },
    {
     "name": "stdout",
     "output_type": "stream",
     "text": [
      "2021\n",
      "https://granicus_production_attachments.s3.amazonaws.com/greenbeltmd/73002d33a1560b3e9edcdd990f42d1ae0.pdf\n"
     ]
    },
    {
     "name": "stderr",
     "output_type": "stream",
     "text": [
      "C:\\Users\\ben97312\\Documents\\code\\notebooks\\Lib\\site-packages\\urllib3\\connectionpool.py:1103: InsecureRequestWarning: Unverified HTTPS request is being made to host 'granicus_production_attachments.s3.amazonaws.com'. Adding certificate verification is strongly advised. See: https://urllib3.readthedocs.io/en/latest/advanced-usage.html#tls-warnings\n",
      "  warnings.warn(\n"
     ]
    },
    {
     "name": "stdout",
     "output_type": "stream",
     "text": [
      "2021\n",
      "https://granicus_production_attachments.s3.amazonaws.com/greenbeltmd/89e04adb99672d561dad4babd06761320.pdf\n"
     ]
    },
    {
     "name": "stderr",
     "output_type": "stream",
     "text": [
      "C:\\Users\\ben97312\\Documents\\code\\notebooks\\Lib\\site-packages\\urllib3\\connectionpool.py:1103: InsecureRequestWarning: Unverified HTTPS request is being made to host 'granicus_production_attachments.s3.amazonaws.com'. Adding certificate verification is strongly advised. See: https://urllib3.readthedocs.io/en/latest/advanced-usage.html#tls-warnings\n",
      "  warnings.warn(\n",
      "C:\\Users\\ben97312\\Documents\\code\\notebooks\\Lib\\site-packages\\urllib3\\connectionpool.py:1103: InsecureRequestWarning: Unverified HTTPS request is being made to host 'granicus_production_attachments.s3.amazonaws.com'. Adding certificate verification is strongly advised. See: https://urllib3.readthedocs.io/en/latest/advanced-usage.html#tls-warnings\n",
      "  warnings.warn(\n"
     ]
    },
    {
     "name": "stdout",
     "output_type": "stream",
     "text": [
      "2021\n",
      "https://granicus_production_attachments.s3.amazonaws.com/greenbeltmd/d780863c83db358aa2acb07376a2df550.pdf\n"
     ]
    },
    {
     "name": "stderr",
     "output_type": "stream",
     "text": [
      "C:\\Users\\ben97312\\Documents\\code\\notebooks\\Lib\\site-packages\\urllib3\\connectionpool.py:1103: InsecureRequestWarning: Unverified HTTPS request is being made to host 'granicus_production_attachments.s3.amazonaws.com'. Adding certificate verification is strongly advised. See: https://urllib3.readthedocs.io/en/latest/advanced-usage.html#tls-warnings\n",
      "  warnings.warn(\n"
     ]
    },
    {
     "name": "stdout",
     "output_type": "stream",
     "text": [
      "2021\n",
      "https://granicus_production_attachments.s3.amazonaws.com/greenbeltmd/086bdd7c95d73097fb51d93937c0146b0.pdf\n"
     ]
    },
    {
     "name": "stderr",
     "output_type": "stream",
     "text": [
      "C:\\Users\\ben97312\\Documents\\code\\notebooks\\Lib\\site-packages\\urllib3\\connectionpool.py:1103: InsecureRequestWarning: Unverified HTTPS request is being made to host 'granicus_production_attachments.s3.amazonaws.com'. Adding certificate verification is strongly advised. See: https://urllib3.readthedocs.io/en/latest/advanced-usage.html#tls-warnings\n",
      "  warnings.warn(\n",
      "C:\\Users\\ben97312\\Documents\\code\\notebooks\\Lib\\site-packages\\urllib3\\connectionpool.py:1103: InsecureRequestWarning: Unverified HTTPS request is being made to host 'granicus_production_attachments.s3.amazonaws.com'. Adding certificate verification is strongly advised. See: https://urllib3.readthedocs.io/en/latest/advanced-usage.html#tls-warnings\n",
      "  warnings.warn(\n"
     ]
    },
    {
     "name": "stdout",
     "output_type": "stream",
     "text": [
      "2021\n",
      "https://greenbeltmd.granicus.com/DocumentViewer.php?file=greenbeltmd_06e582f32118150a3481319b3273bc47.pdf&view=1\n"
     ]
    },
    {
     "name": "stderr",
     "output_type": "stream",
     "text": [
      "C:\\Users\\ben97312\\Documents\\code\\notebooks\\Lib\\site-packages\\urllib3\\connectionpool.py:1103: InsecureRequestWarning: Unverified HTTPS request is being made to host 'greenbeltmd.granicus.com'. Adding certificate verification is strongly advised. See: https://urllib3.readthedocs.io/en/latest/advanced-usage.html#tls-warnings\n",
      "  warnings.warn(\n"
     ]
    },
    {
     "name": "stdout",
     "output_type": "stream",
     "text": [
      "2021\n",
      "https://granicus_production_attachments.s3.amazonaws.com/greenbeltmd/5bbb077d2ddd160830ea6053b5cf33fa0.pdf\n"
     ]
    },
    {
     "name": "stderr",
     "output_type": "stream",
     "text": [
      "C:\\Users\\ben97312\\Documents\\code\\notebooks\\Lib\\site-packages\\urllib3\\connectionpool.py:1103: InsecureRequestWarning: Unverified HTTPS request is being made to host 'granicus_production_attachments.s3.amazonaws.com'. Adding certificate verification is strongly advised. See: https://urllib3.readthedocs.io/en/latest/advanced-usage.html#tls-warnings\n",
      "  warnings.warn(\n"
     ]
    },
    {
     "name": "stdout",
     "output_type": "stream",
     "text": [
      "2021\n",
      "https://greenbeltmd.granicus.com/DocumentViewer.php?file=greenbeltmd_a786da923824577c59ae4f21da7c83ce.pdf&view=1\n"
     ]
    },
    {
     "name": "stderr",
     "output_type": "stream",
     "text": [
      "C:\\Users\\ben97312\\Documents\\code\\notebooks\\Lib\\site-packages\\urllib3\\connectionpool.py:1103: InsecureRequestWarning: Unverified HTTPS request is being made to host 'greenbeltmd.granicus.com'. Adding certificate verification is strongly advised. See: https://urllib3.readthedocs.io/en/latest/advanced-usage.html#tls-warnings\n",
      "  warnings.warn(\n",
      "C:\\Users\\ben97312\\Documents\\code\\notebooks\\Lib\\site-packages\\urllib3\\connectionpool.py:1103: InsecureRequestWarning: Unverified HTTPS request is being made to host 'granicus_production_attachments.s3.amazonaws.com'. Adding certificate verification is strongly advised. See: https://urllib3.readthedocs.io/en/latest/advanced-usage.html#tls-warnings\n",
      "  warnings.warn(\n",
      "C:\\Users\\ben97312\\Documents\\code\\notebooks\\Lib\\site-packages\\urllib3\\connectionpool.py:1103: InsecureRequestWarning: Unverified HTTPS request is being made to host 'granicus_production_attachments.s3.amazonaws.com'. Adding certificate verification is strongly advised. See: https://urllib3.readthedocs.io/en/latest/advanced-usage.html#tls-warnings\n",
      "  warnings.warn(\n"
     ]
    },
    {
     "name": "stdout",
     "output_type": "stream",
     "text": [
      "2021\n",
      "https://granicus_production_attachments.s3.amazonaws.com/greenbeltmd/7f7f72ae7a61bb54316998ef4fd5b04d0.pdf\n"
     ]
    },
    {
     "name": "stderr",
     "output_type": "stream",
     "text": [
      "C:\\Users\\ben97312\\Documents\\code\\notebooks\\Lib\\site-packages\\urllib3\\connectionpool.py:1103: InsecureRequestWarning: Unverified HTTPS request is being made to host 'granicus_production_attachments.s3.amazonaws.com'. Adding certificate verification is strongly advised. See: https://urllib3.readthedocs.io/en/latest/advanced-usage.html#tls-warnings\n",
      "  warnings.warn(\n"
     ]
    },
    {
     "name": "stdout",
     "output_type": "stream",
     "text": [
      "2021\n",
      "https://granicus_production_attachments.s3.amazonaws.com/greenbeltmd/8042f8c4b046387f11f37391e3c5be380.pdf\n"
     ]
    },
    {
     "name": "stderr",
     "output_type": "stream",
     "text": [
      "C:\\Users\\ben97312\\Documents\\code\\notebooks\\Lib\\site-packages\\urllib3\\connectionpool.py:1103: InsecureRequestWarning: Unverified HTTPS request is being made to host 'granicus_production_attachments.s3.amazonaws.com'. Adding certificate verification is strongly advised. See: https://urllib3.readthedocs.io/en/latest/advanced-usage.html#tls-warnings\n",
      "  warnings.warn(\n"
     ]
    },
    {
     "name": "stdout",
     "output_type": "stream",
     "text": [
      "2021\n",
      "https://granicus_production_attachments.s3.amazonaws.com/greenbeltmd/e4e98214f1208afe64ab1762b71084d50.pdf\n"
     ]
    },
    {
     "name": "stderr",
     "output_type": "stream",
     "text": [
      "C:\\Users\\ben97312\\Documents\\code\\notebooks\\Lib\\site-packages\\urllib3\\connectionpool.py:1103: InsecureRequestWarning: Unverified HTTPS request is being made to host 'granicus_production_attachments.s3.amazonaws.com'. Adding certificate verification is strongly advised. See: https://urllib3.readthedocs.io/en/latest/advanced-usage.html#tls-warnings\n",
      "  warnings.warn(\n"
     ]
    },
    {
     "name": "stdout",
     "output_type": "stream",
     "text": [
      "2021\n",
      "https://granicus_production_attachments.s3.amazonaws.com/greenbeltmd/d49c84b6075f95fe5e42f4fc9b70ac810.pdf\n"
     ]
    },
    {
     "name": "stderr",
     "output_type": "stream",
     "text": [
      "C:\\Users\\ben97312\\Documents\\code\\notebooks\\Lib\\site-packages\\urllib3\\connectionpool.py:1103: InsecureRequestWarning: Unverified HTTPS request is being made to host 'granicus_production_attachments.s3.amazonaws.com'. Adding certificate verification is strongly advised. See: https://urllib3.readthedocs.io/en/latest/advanced-usage.html#tls-warnings\n",
      "  warnings.warn(\n",
      "C:\\Users\\ben97312\\Documents\\code\\notebooks\\Lib\\site-packages\\urllib3\\connectionpool.py:1103: InsecureRequestWarning: Unverified HTTPS request is being made to host 'granicus_production_attachments.s3.amazonaws.com'. Adding certificate verification is strongly advised. See: https://urllib3.readthedocs.io/en/latest/advanced-usage.html#tls-warnings\n",
      "  warnings.warn(\n",
      "C:\\Users\\ben97312\\Documents\\code\\notebooks\\Lib\\site-packages\\urllib3\\connectionpool.py:1103: InsecureRequestWarning: Unverified HTTPS request is being made to host 'granicus_production_attachments.s3.amazonaws.com'. Adding certificate verification is strongly advised. See: https://urllib3.readthedocs.io/en/latest/advanced-usage.html#tls-warnings\n",
      "  warnings.warn(\n",
      "C:\\Users\\ben97312\\Documents\\code\\notebooks\\Lib\\site-packages\\urllib3\\connectionpool.py:1103: InsecureRequestWarning: Unverified HTTPS request is being made to host 'greenbeltmd.granicus.com'. Adding certificate verification is strongly advised. See: https://urllib3.readthedocs.io/en/latest/advanced-usage.html#tls-warnings\n",
      "  warnings.warn(\n",
      "C:\\Users\\ben97312\\Documents\\code\\notebooks\\Lib\\site-packages\\urllib3\\connectionpool.py:1103: InsecureRequestWarning: Unverified HTTPS request is being made to host 'granicus_production_attachments.s3.amazonaws.com'. Adding certificate verification is strongly advised. See: https://urllib3.readthedocs.io/en/latest/advanced-usage.html#tls-warnings\n",
      "  warnings.warn(\n",
      "C:\\Users\\ben97312\\Documents\\code\\notebooks\\Lib\\site-packages\\urllib3\\connectionpool.py:1103: InsecureRequestWarning: Unverified HTTPS request is being made to host 'greenbeltmd.granicus.com'. Adding certificate verification is strongly advised. See: https://urllib3.readthedocs.io/en/latest/advanced-usage.html#tls-warnings\n",
      "  warnings.warn(\n",
      "C:\\Users\\ben97312\\Documents\\code\\notebooks\\Lib\\site-packages\\urllib3\\connectionpool.py:1103: InsecureRequestWarning: Unverified HTTPS request is being made to host 'granicus_production_attachments.s3.amazonaws.com'. Adding certificate verification is strongly advised. See: https://urllib3.readthedocs.io/en/latest/advanced-usage.html#tls-warnings\n",
      "  warnings.warn(\n"
     ]
    },
    {
     "name": "stdout",
     "output_type": "stream",
     "text": [
      "2021\n",
      "https://granicus_production_attachments.s3.amazonaws.com/greenbeltmd/9233172b5b7ce2fb60b0f92fcfa0544d0.pdf\n"
     ]
    },
    {
     "name": "stderr",
     "output_type": "stream",
     "text": [
      "C:\\Users\\ben97312\\Documents\\code\\notebooks\\Lib\\site-packages\\urllib3\\connectionpool.py:1103: InsecureRequestWarning: Unverified HTTPS request is being made to host 'granicus_production_attachments.s3.amazonaws.com'. Adding certificate verification is strongly advised. See: https://urllib3.readthedocs.io/en/latest/advanced-usage.html#tls-warnings\n",
      "  warnings.warn(\n"
     ]
    },
    {
     "name": "stdout",
     "output_type": "stream",
     "text": [
      "2021\n",
      "https://granicus_production_attachments.s3.amazonaws.com/greenbeltmd/faad5aeb4c43046ea4809794dd3b33640.pdf\n"
     ]
    },
    {
     "name": "stderr",
     "output_type": "stream",
     "text": [
      "C:\\Users\\ben97312\\Documents\\code\\notebooks\\Lib\\site-packages\\urllib3\\connectionpool.py:1103: InsecureRequestWarning: Unverified HTTPS request is being made to host 'granicus_production_attachments.s3.amazonaws.com'. Adding certificate verification is strongly advised. See: https://urllib3.readthedocs.io/en/latest/advanced-usage.html#tls-warnings\n",
      "  warnings.warn(\n"
     ]
    },
    {
     "name": "stdout",
     "output_type": "stream",
     "text": [
      "2021\n",
      "https://granicus_production_attachments.s3.amazonaws.com/greenbeltmd/26ad0f8eb2daaa929468926c3c0540e30.pdf\n"
     ]
    },
    {
     "name": "stderr",
     "output_type": "stream",
     "text": [
      "C:\\Users\\ben97312\\Documents\\code\\notebooks\\Lib\\site-packages\\urllib3\\connectionpool.py:1103: InsecureRequestWarning: Unverified HTTPS request is being made to host 'granicus_production_attachments.s3.amazonaws.com'. Adding certificate verification is strongly advised. See: https://urllib3.readthedocs.io/en/latest/advanced-usage.html#tls-warnings\n",
      "  warnings.warn(\n",
      "C:\\Users\\ben97312\\Documents\\code\\notebooks\\Lib\\site-packages\\urllib3\\connectionpool.py:1103: InsecureRequestWarning: Unverified HTTPS request is being made to host 'granicus_production_attachments.s3.amazonaws.com'. Adding certificate verification is strongly advised. See: https://urllib3.readthedocs.io/en/latest/advanced-usage.html#tls-warnings\n",
      "  warnings.warn(\n"
     ]
    },
    {
     "name": "stdout",
     "output_type": "stream",
     "text": [
      "2021\n",
      "https://granicus_production_attachments.s3.amazonaws.com/greenbeltmd/5f9f23ace0fba32cb6571c20eebe9e280.pdf\n"
     ]
    },
    {
     "name": "stderr",
     "output_type": "stream",
     "text": [
      "C:\\Users\\ben97312\\Documents\\code\\notebooks\\Lib\\site-packages\\urllib3\\connectionpool.py:1103: InsecureRequestWarning: Unverified HTTPS request is being made to host 'granicus_production_attachments.s3.amazonaws.com'. Adding certificate verification is strongly advised. See: https://urllib3.readthedocs.io/en/latest/advanced-usage.html#tls-warnings\n",
      "  warnings.warn(\n",
      "C:\\Users\\ben97312\\Documents\\code\\notebooks\\Lib\\site-packages\\urllib3\\connectionpool.py:1103: InsecureRequestWarning: Unverified HTTPS request is being made to host 'granicus_production_attachments.s3.amazonaws.com'. Adding certificate verification is strongly advised. See: https://urllib3.readthedocs.io/en/latest/advanced-usage.html#tls-warnings\n",
      "  warnings.warn(\n",
      "C:\\Users\\ben97312\\Documents\\code\\notebooks\\Lib\\site-packages\\urllib3\\connectionpool.py:1103: InsecureRequestWarning: Unverified HTTPS request is being made to host 'granicus_production_attachments.s3.amazonaws.com'. Adding certificate verification is strongly advised. See: https://urllib3.readthedocs.io/en/latest/advanced-usage.html#tls-warnings\n",
      "  warnings.warn(\n",
      "C:\\Users\\ben97312\\Documents\\code\\notebooks\\Lib\\site-packages\\urllib3\\connectionpool.py:1103: InsecureRequestWarning: Unverified HTTPS request is being made to host 'granicus_production_attachments.s3.amazonaws.com'. Adding certificate verification is strongly advised. See: https://urllib3.readthedocs.io/en/latest/advanced-usage.html#tls-warnings\n",
      "  warnings.warn(\n",
      "C:\\Users\\ben97312\\Documents\\code\\notebooks\\Lib\\site-packages\\urllib3\\connectionpool.py:1103: InsecureRequestWarning: Unverified HTTPS request is being made to host 'granicus_production_attachments.s3.amazonaws.com'. Adding certificate verification is strongly advised. See: https://urllib3.readthedocs.io/en/latest/advanced-usage.html#tls-warnings\n",
      "  warnings.warn(\n",
      "C:\\Users\\ben97312\\Documents\\code\\notebooks\\Lib\\site-packages\\urllib3\\connectionpool.py:1103: InsecureRequestWarning: Unverified HTTPS request is being made to host 'granicus_production_attachments.s3.amazonaws.com'. Adding certificate verification is strongly advised. See: https://urllib3.readthedocs.io/en/latest/advanced-usage.html#tls-warnings\n",
      "  warnings.warn(\n",
      "C:\\Users\\ben97312\\Documents\\code\\notebooks\\Lib\\site-packages\\urllib3\\connectionpool.py:1103: InsecureRequestWarning: Unverified HTTPS request is being made to host 'granicus_production_attachments.s3.amazonaws.com'. Adding certificate verification is strongly advised. See: https://urllib3.readthedocs.io/en/latest/advanced-usage.html#tls-warnings\n",
      "  warnings.warn(\n",
      "C:\\Users\\ben97312\\Documents\\code\\notebooks\\Lib\\site-packages\\urllib3\\connectionpool.py:1103: InsecureRequestWarning: Unverified HTTPS request is being made to host 'granicus_production_attachments.s3.amazonaws.com'. Adding certificate verification is strongly advised. See: https://urllib3.readthedocs.io/en/latest/advanced-usage.html#tls-warnings\n",
      "  warnings.warn(\n"
     ]
    },
    {
     "name": "stdout",
     "output_type": "stream",
     "text": [
      "2021\n",
      "https://granicus_production_attachments.s3.amazonaws.com/greenbeltmd/437aeafb09139b39c22a92ed58e754500.pdf\n"
     ]
    },
    {
     "name": "stderr",
     "output_type": "stream",
     "text": [
      "C:\\Users\\ben97312\\Documents\\code\\notebooks\\Lib\\site-packages\\urllib3\\connectionpool.py:1103: InsecureRequestWarning: Unverified HTTPS request is being made to host 'granicus_production_attachments.s3.amazonaws.com'. Adding certificate verification is strongly advised. See: https://urllib3.readthedocs.io/en/latest/advanced-usage.html#tls-warnings\n",
      "  warnings.warn(\n",
      "C:\\Users\\ben97312\\Documents\\code\\notebooks\\Lib\\site-packages\\urllib3\\connectionpool.py:1103: InsecureRequestWarning: Unverified HTTPS request is being made to host 'd3n9y02raazwpg.cloudfront.net'. Adding certificate verification is strongly advised. See: https://urllib3.readthedocs.io/en/latest/advanced-usage.html#tls-warnings\n",
      "  warnings.warn(\n"
     ]
    },
    {
     "name": "stdout",
     "output_type": "stream",
     "text": [
      "2021\n",
      "https://d3n9y02raazwpg.cloudfront.net/greenbeltmd/c35427ac-b9a5-11eb-8549-0050569183fa-f313b5db-8c16-47bf-9ce6-b96576f03654-1624385890.pdf++\n"
     ]
    },
    {
     "name": "stderr",
     "output_type": "stream",
     "text": [
      "C:\\Users\\ben97312\\Documents\\code\\notebooks\\Lib\\site-packages\\urllib3\\connectionpool.py:1103: InsecureRequestWarning: Unverified HTTPS request is being made to host 'd3n9y02raazwpg.cloudfront.net'. Adding certificate verification is strongly advised. See: https://urllib3.readthedocs.io/en/latest/advanced-usage.html#tls-warnings\n",
      "  warnings.warn(\n",
      "C:\\Users\\ben97312\\Documents\\code\\notebooks\\Lib\\site-packages\\urllib3\\connectionpool.py:1103: InsecureRequestWarning: Unverified HTTPS request is being made to host 'granicus_production_attachments.s3.amazonaws.com'. Adding certificate verification is strongly advised. See: https://urllib3.readthedocs.io/en/latest/advanced-usage.html#tls-warnings\n",
      "  warnings.warn(\n",
      "C:\\Users\\ben97312\\Documents\\code\\notebooks\\Lib\\site-packages\\urllib3\\connectionpool.py:1103: InsecureRequestWarning: Unverified HTTPS request is being made to host 'granicus_production_attachments.s3.amazonaws.com'. Adding certificate verification is strongly advised. See: https://urllib3.readthedocs.io/en/latest/advanced-usage.html#tls-warnings\n",
      "  warnings.warn(\n"
     ]
    },
    {
     "name": "stdout",
     "output_type": "stream",
     "text": [
      "2021\n",
      "https://granicus_production_attachments.s3.amazonaws.com/greenbeltmd/fc9b472a6f59dc3b950c49696cd441a50.pdf\n"
     ]
    },
    {
     "name": "stderr",
     "output_type": "stream",
     "text": [
      "C:\\Users\\ben97312\\Documents\\code\\notebooks\\Lib\\site-packages\\urllib3\\connectionpool.py:1103: InsecureRequestWarning: Unverified HTTPS request is being made to host 'granicus_production_attachments.s3.amazonaws.com'. Adding certificate verification is strongly advised. See: https://urllib3.readthedocs.io/en/latest/advanced-usage.html#tls-warnings\n",
      "  warnings.warn(\n"
     ]
    },
    {
     "name": "stdout",
     "output_type": "stream",
     "text": [
      "2021\n",
      "https://granicus_production_attachments.s3.amazonaws.com/greenbeltmd/7770d9ee1c9a14eee5a0ba45d90002a90.pdf\n"
     ]
    },
    {
     "name": "stderr",
     "output_type": "stream",
     "text": [
      "C:\\Users\\ben97312\\Documents\\code\\notebooks\\Lib\\site-packages\\urllib3\\connectionpool.py:1103: InsecureRequestWarning: Unverified HTTPS request is being made to host 'granicus_production_attachments.s3.amazonaws.com'. Adding certificate verification is strongly advised. See: https://urllib3.readthedocs.io/en/latest/advanced-usage.html#tls-warnings\n",
      "  warnings.warn(\n",
      "C:\\Users\\ben97312\\Documents\\code\\notebooks\\Lib\\site-packages\\urllib3\\connectionpool.py:1103: InsecureRequestWarning: Unverified HTTPS request is being made to host 'granicus_production_attachments.s3.amazonaws.com'. Adding certificate verification is strongly advised. See: https://urllib3.readthedocs.io/en/latest/advanced-usage.html#tls-warnings\n",
      "  warnings.warn(\n",
      "C:\\Users\\ben97312\\Documents\\code\\notebooks\\Lib\\site-packages\\urllib3\\connectionpool.py:1103: InsecureRequestWarning: Unverified HTTPS request is being made to host 'granicus_production_attachments.s3.amazonaws.com'. Adding certificate verification is strongly advised. See: https://urllib3.readthedocs.io/en/latest/advanced-usage.html#tls-warnings\n",
      "  warnings.warn(\n",
      "C:\\Users\\ben97312\\Documents\\code\\notebooks\\Lib\\site-packages\\urllib3\\connectionpool.py:1103: InsecureRequestWarning: Unverified HTTPS request is being made to host 'granicus_production_attachments.s3.amazonaws.com'. Adding certificate verification is strongly advised. See: https://urllib3.readthedocs.io/en/latest/advanced-usage.html#tls-warnings\n",
      "  warnings.warn(\n",
      "C:\\Users\\ben97312\\Documents\\code\\notebooks\\Lib\\site-packages\\urllib3\\connectionpool.py:1103: InsecureRequestWarning: Unverified HTTPS request is being made to host 'granicus_production_attachments.s3.amazonaws.com'. Adding certificate verification is strongly advised. See: https://urllib3.readthedocs.io/en/latest/advanced-usage.html#tls-warnings\n",
      "  warnings.warn(\n",
      "C:\\Users\\ben97312\\Documents\\code\\notebooks\\Lib\\site-packages\\urllib3\\connectionpool.py:1103: InsecureRequestWarning: Unverified HTTPS request is being made to host 'granicus_production_attachments.s3.amazonaws.com'. Adding certificate verification is strongly advised. See: https://urllib3.readthedocs.io/en/latest/advanced-usage.html#tls-warnings\n",
      "  warnings.warn(\n",
      "C:\\Users\\ben97312\\Documents\\code\\notebooks\\Lib\\site-packages\\urllib3\\connectionpool.py:1103: InsecureRequestWarning: Unverified HTTPS request is being made to host 'granicus_production_attachments.s3.amazonaws.com'. Adding certificate verification is strongly advised. See: https://urllib3.readthedocs.io/en/latest/advanced-usage.html#tls-warnings\n",
      "  warnings.warn(\n"
     ]
    },
    {
     "name": "stdout",
     "output_type": "stream",
     "text": [
      "2021\n",
      "https://granicus_production_attachments.s3.amazonaws.com/greenbeltmd/676ce4311a51b3aa1909f425e17c49900.pdf\n"
     ]
    },
    {
     "name": "stderr",
     "output_type": "stream",
     "text": [
      "C:\\Users\\ben97312\\Documents\\code\\notebooks\\Lib\\site-packages\\urllib3\\connectionpool.py:1103: InsecureRequestWarning: Unverified HTTPS request is being made to host 'granicus_production_attachments.s3.amazonaws.com'. Adding certificate verification is strongly advised. See: https://urllib3.readthedocs.io/en/latest/advanced-usage.html#tls-warnings\n",
      "  warnings.warn(\n",
      "C:\\Users\\ben97312\\Documents\\code\\notebooks\\Lib\\site-packages\\urllib3\\connectionpool.py:1103: InsecureRequestWarning: Unverified HTTPS request is being made to host 'granicus_production_attachments.s3.amazonaws.com'. Adding certificate verification is strongly advised. See: https://urllib3.readthedocs.io/en/latest/advanced-usage.html#tls-warnings\n",
      "  warnings.warn(\n"
     ]
    },
    {
     "name": "stdout",
     "output_type": "stream",
     "text": [
      "2021\n",
      "https://granicus_production_attachments.s3.amazonaws.com/greenbeltmd/bfee04d713221c126b98b932641d90110.pdf\n"
     ]
    },
    {
     "name": "stderr",
     "output_type": "stream",
     "text": [
      "C:\\Users\\ben97312\\Documents\\code\\notebooks\\Lib\\site-packages\\urllib3\\connectionpool.py:1103: InsecureRequestWarning: Unverified HTTPS request is being made to host 'granicus_production_attachments.s3.amazonaws.com'. Adding certificate verification is strongly advised. See: https://urllib3.readthedocs.io/en/latest/advanced-usage.html#tls-warnings\n",
      "  warnings.warn(\n"
     ]
    },
    {
     "name": "stdout",
     "output_type": "stream",
     "text": [
      "2021\n",
      "https://granicus_production_attachments.s3.amazonaws.com/greenbeltmd/2743877f627b98c8a9509333a95bb8b90.pdf\n"
     ]
    },
    {
     "name": "stderr",
     "output_type": "stream",
     "text": [
      "C:\\Users\\ben97312\\Documents\\code\\notebooks\\Lib\\site-packages\\urllib3\\connectionpool.py:1103: InsecureRequestWarning: Unverified HTTPS request is being made to host 'granicus_production_attachments.s3.amazonaws.com'. Adding certificate verification is strongly advised. See: https://urllib3.readthedocs.io/en/latest/advanced-usage.html#tls-warnings\n",
      "  warnings.warn(\n",
      "C:\\Users\\ben97312\\Documents\\code\\notebooks\\Lib\\site-packages\\urllib3\\connectionpool.py:1103: InsecureRequestWarning: Unverified HTTPS request is being made to host 'granicus_production_attachments.s3.amazonaws.com'. Adding certificate verification is strongly advised. See: https://urllib3.readthedocs.io/en/latest/advanced-usage.html#tls-warnings\n",
      "  warnings.warn(\n"
     ]
    },
    {
     "name": "stdout",
     "output_type": "stream",
     "text": [
      "2021\n",
      "https://granicus_production_attachments.s3.amazonaws.com/greenbeltmd/c218b44760cb6983d50014d1c834110a0.pdf\n"
     ]
    },
    {
     "name": "stderr",
     "output_type": "stream",
     "text": [
      "C:\\Users\\ben97312\\Documents\\code\\notebooks\\Lib\\site-packages\\urllib3\\connectionpool.py:1103: InsecureRequestWarning: Unverified HTTPS request is being made to host 'granicus_production_attachments.s3.amazonaws.com'. Adding certificate verification is strongly advised. See: https://urllib3.readthedocs.io/en/latest/advanced-usage.html#tls-warnings\n",
      "  warnings.warn(\n"
     ]
    },
    {
     "name": "stdout",
     "output_type": "stream",
     "text": [
      "2021\n",
      "https://granicus_production_attachments.s3.amazonaws.com/greenbeltmd/90b7f484045e3e8135e631d6923af9260.pdf\n"
     ]
    },
    {
     "name": "stderr",
     "output_type": "stream",
     "text": [
      "C:\\Users\\ben97312\\Documents\\code\\notebooks\\Lib\\site-packages\\urllib3\\connectionpool.py:1103: InsecureRequestWarning: Unverified HTTPS request is being made to host 'granicus_production_attachments.s3.amazonaws.com'. Adding certificate verification is strongly advised. See: https://urllib3.readthedocs.io/en/latest/advanced-usage.html#tls-warnings\n",
      "  warnings.warn(\n",
      "C:\\Users\\ben97312\\Documents\\code\\notebooks\\Lib\\site-packages\\urllib3\\connectionpool.py:1103: InsecureRequestWarning: Unverified HTTPS request is being made to host 'granicus_production_attachments.s3.amazonaws.com'. Adding certificate verification is strongly advised. See: https://urllib3.readthedocs.io/en/latest/advanced-usage.html#tls-warnings\n",
      "  warnings.warn(\n"
     ]
    },
    {
     "name": "stdout",
     "output_type": "stream",
     "text": [
      "2021\n",
      "https://granicus_production_attachments.s3.amazonaws.com/greenbeltmd/513f34326d5259a4c09a446d4f5b8c450.pdf\n"
     ]
    },
    {
     "name": "stderr",
     "output_type": "stream",
     "text": [
      "C:\\Users\\ben97312\\Documents\\code\\notebooks\\Lib\\site-packages\\urllib3\\connectionpool.py:1103: InsecureRequestWarning: Unverified HTTPS request is being made to host 'granicus_production_attachments.s3.amazonaws.com'. Adding certificate verification is strongly advised. See: https://urllib3.readthedocs.io/en/latest/advanced-usage.html#tls-warnings\n",
      "  warnings.warn(\n"
     ]
    },
    {
     "name": "stdout",
     "output_type": "stream",
     "text": [
      "2021\n",
      "https://granicus_production_attachments.s3.amazonaws.com/greenbeltmd/b4f7dfc0f75b0401f5df0d1edc2bc5fd0.pdf\n"
     ]
    },
    {
     "name": "stderr",
     "output_type": "stream",
     "text": [
      "C:\\Users\\ben97312\\Documents\\code\\notebooks\\Lib\\site-packages\\urllib3\\connectionpool.py:1103: InsecureRequestWarning: Unverified HTTPS request is being made to host 'granicus_production_attachments.s3.amazonaws.com'. Adding certificate verification is strongly advised. See: https://urllib3.readthedocs.io/en/latest/advanced-usage.html#tls-warnings\n",
      "  warnings.warn(\n"
     ]
    },
    {
     "name": "stdout",
     "output_type": "stream",
     "text": [
      "2021\n",
      "https://granicus_production_attachments.s3.amazonaws.com/greenbeltmd/b78bc5278fe7a94af0e8b287dc6eefda0.pdf\n"
     ]
    },
    {
     "name": "stderr",
     "output_type": "stream",
     "text": [
      "C:\\Users\\ben97312\\Documents\\code\\notebooks\\Lib\\site-packages\\urllib3\\connectionpool.py:1103: InsecureRequestWarning: Unverified HTTPS request is being made to host 'granicus_production_attachments.s3.amazonaws.com'. Adding certificate verification is strongly advised. See: https://urllib3.readthedocs.io/en/latest/advanced-usage.html#tls-warnings\n",
      "  warnings.warn(\n"
     ]
    },
    {
     "name": "stdout",
     "output_type": "stream",
     "text": [
      "2021\n",
      "https://granicus_production_attachments.s3.amazonaws.com/greenbeltmd/1fc468d3229d9a80e9b4e59aaeed1af60.pdf\n"
     ]
    },
    {
     "name": "stderr",
     "output_type": "stream",
     "text": [
      "C:\\Users\\ben97312\\Documents\\code\\notebooks\\Lib\\site-packages\\urllib3\\connectionpool.py:1103: InsecureRequestWarning: Unverified HTTPS request is being made to host 'granicus_production_attachments.s3.amazonaws.com'. Adding certificate verification is strongly advised. See: https://urllib3.readthedocs.io/en/latest/advanced-usage.html#tls-warnings\n",
      "  warnings.warn(\n"
     ]
    },
    {
     "name": "stdout",
     "output_type": "stream",
     "text": [
      "2021\n",
      "https://granicus_production_attachments.s3.amazonaws.com/greenbeltmd/8184de6de2d962aad172723ba67fa23c0.pdf\n"
     ]
    },
    {
     "name": "stderr",
     "output_type": "stream",
     "text": [
      "C:\\Users\\ben97312\\Documents\\code\\notebooks\\Lib\\site-packages\\urllib3\\connectionpool.py:1103: InsecureRequestWarning: Unverified HTTPS request is being made to host 'granicus_production_attachments.s3.amazonaws.com'. Adding certificate verification is strongly advised. See: https://urllib3.readthedocs.io/en/latest/advanced-usage.html#tls-warnings\n",
      "  warnings.warn(\n"
     ]
    },
    {
     "name": "stdout",
     "output_type": "stream",
     "text": [
      "2021\n",
      "https://granicus_production_attachments.s3.amazonaws.com/greenbeltmd/c38233c429c471c95da10c4554f72ede0.pdf\n"
     ]
    },
    {
     "name": "stderr",
     "output_type": "stream",
     "text": [
      "C:\\Users\\ben97312\\Documents\\code\\notebooks\\Lib\\site-packages\\urllib3\\connectionpool.py:1103: InsecureRequestWarning: Unverified HTTPS request is being made to host 'granicus_production_attachments.s3.amazonaws.com'. Adding certificate verification is strongly advised. See: https://urllib3.readthedocs.io/en/latest/advanced-usage.html#tls-warnings\n",
      "  warnings.warn(\n"
     ]
    },
    {
     "name": "stdout",
     "output_type": "stream",
     "text": [
      "2021\n",
      "https://granicus_production_attachments.s3.amazonaws.com/greenbeltmd/5264661b3f3ba436b5798f5701f4674c0.pdf\n"
     ]
    },
    {
     "name": "stderr",
     "output_type": "stream",
     "text": [
      "C:\\Users\\ben97312\\Documents\\code\\notebooks\\Lib\\site-packages\\urllib3\\connectionpool.py:1103: InsecureRequestWarning: Unverified HTTPS request is being made to host 'granicus_production_attachments.s3.amazonaws.com'. Adding certificate verification is strongly advised. See: https://urllib3.readthedocs.io/en/latest/advanced-usage.html#tls-warnings\n",
      "  warnings.warn(\n",
      "C:\\Users\\ben97312\\Documents\\code\\notebooks\\Lib\\site-packages\\urllib3\\connectionpool.py:1103: InsecureRequestWarning: Unverified HTTPS request is being made to host 'granicus_production_attachments.s3.amazonaws.com'. Adding certificate verification is strongly advised. See: https://urllib3.readthedocs.io/en/latest/advanced-usage.html#tls-warnings\n",
      "  warnings.warn(\n",
      "C:\\Users\\ben97312\\Documents\\code\\notebooks\\Lib\\site-packages\\urllib3\\connectionpool.py:1103: InsecureRequestWarning: Unverified HTTPS request is being made to host 'granicus_production_attachments.s3.amazonaws.com'. Adding certificate verification is strongly advised. See: https://urllib3.readthedocs.io/en/latest/advanced-usage.html#tls-warnings\n",
      "  warnings.warn(\n",
      "C:\\Users\\ben97312\\Documents\\code\\notebooks\\Lib\\site-packages\\urllib3\\connectionpool.py:1103: InsecureRequestWarning: Unverified HTTPS request is being made to host 'granicus_production_attachments.s3.amazonaws.com'. Adding certificate verification is strongly advised. See: https://urllib3.readthedocs.io/en/latest/advanced-usage.html#tls-warnings\n",
      "  warnings.warn(\n"
     ]
    },
    {
     "name": "stdout",
     "output_type": "stream",
     "text": [
      "2021\n",
      "https://granicus_production_attachments.s3.amazonaws.com/greenbeltmd/c7975123b0a7aafc6f5dc77e580b30cd0.pdf\n"
     ]
    },
    {
     "name": "stderr",
     "output_type": "stream",
     "text": [
      "C:\\Users\\ben97312\\Documents\\code\\notebooks\\Lib\\site-packages\\urllib3\\connectionpool.py:1103: InsecureRequestWarning: Unverified HTTPS request is being made to host 'granicus_production_attachments.s3.amazonaws.com'. Adding certificate verification is strongly advised. See: https://urllib3.readthedocs.io/en/latest/advanced-usage.html#tls-warnings\n",
      "  warnings.warn(\n"
     ]
    },
    {
     "name": "stdout",
     "output_type": "stream",
     "text": [
      "2021\n",
      "https://granicus_production_attachments.s3.amazonaws.com/greenbeltmd/c829816db2cdc5f55de65322e888266b0.pdf\n"
     ]
    },
    {
     "name": "stderr",
     "output_type": "stream",
     "text": [
      "C:\\Users\\ben97312\\Documents\\code\\notebooks\\Lib\\site-packages\\urllib3\\connectionpool.py:1103: InsecureRequestWarning: Unverified HTTPS request is being made to host 'granicus_production_attachments.s3.amazonaws.com'. Adding certificate verification is strongly advised. See: https://urllib3.readthedocs.io/en/latest/advanced-usage.html#tls-warnings\n",
      "  warnings.warn(\n"
     ]
    },
    {
     "name": "stdout",
     "output_type": "stream",
     "text": [
      "2021\n",
      "https://granicus_production_attachments.s3.amazonaws.com/greenbeltmd/0a825f851985e3d08176dcb19413fb740.pdf\n"
     ]
    },
    {
     "name": "stderr",
     "output_type": "stream",
     "text": [
      "C:\\Users\\ben97312\\Documents\\code\\notebooks\\Lib\\site-packages\\urllib3\\connectionpool.py:1103: InsecureRequestWarning: Unverified HTTPS request is being made to host 'granicus_production_attachments.s3.amazonaws.com'. Adding certificate verification is strongly advised. See: https://urllib3.readthedocs.io/en/latest/advanced-usage.html#tls-warnings\n",
      "  warnings.warn(\n"
     ]
    },
    {
     "name": "stdout",
     "output_type": "stream",
     "text": [
      "2021\n",
      "https://granicus_production_attachments.s3.amazonaws.com/greenbeltmd/c7e92befc5ad749218544343bba784820.pdf\n"
     ]
    },
    {
     "name": "stderr",
     "output_type": "stream",
     "text": [
      "C:\\Users\\ben97312\\Documents\\code\\notebooks\\Lib\\site-packages\\urllib3\\connectionpool.py:1103: InsecureRequestWarning: Unverified HTTPS request is being made to host 'granicus_production_attachments.s3.amazonaws.com'. Adding certificate verification is strongly advised. See: https://urllib3.readthedocs.io/en/latest/advanced-usage.html#tls-warnings\n",
      "  warnings.warn(\n"
     ]
    },
    {
     "name": "stdout",
     "output_type": "stream",
     "text": [
      "2021\n",
      "https://granicus_production_attachments.s3.amazonaws.com/greenbeltmd/832d5bd3b7dc45b158ffd8cc5fa6937c0.pdf\n"
     ]
    },
    {
     "name": "stderr",
     "output_type": "stream",
     "text": [
      "C:\\Users\\ben97312\\Documents\\code\\notebooks\\Lib\\site-packages\\urllib3\\connectionpool.py:1103: InsecureRequestWarning: Unverified HTTPS request is being made to host 'granicus_production_attachments.s3.amazonaws.com'. Adding certificate verification is strongly advised. See: https://urllib3.readthedocs.io/en/latest/advanced-usage.html#tls-warnings\n",
      "  warnings.warn(\n"
     ]
    },
    {
     "name": "stdout",
     "output_type": "stream",
     "text": [
      "2021\n",
      "https://granicus_production_attachments.s3.amazonaws.com/greenbeltmd/3c8bee8658a10184aa5a73ff50cf821f0.pdf\n"
     ]
    },
    {
     "name": "stderr",
     "output_type": "stream",
     "text": [
      "C:\\Users\\ben97312\\Documents\\code\\notebooks\\Lib\\site-packages\\urllib3\\connectionpool.py:1103: InsecureRequestWarning: Unverified HTTPS request is being made to host 'granicus_production_attachments.s3.amazonaws.com'. Adding certificate verification is strongly advised. See: https://urllib3.readthedocs.io/en/latest/advanced-usage.html#tls-warnings\n",
      "  warnings.warn(\n"
     ]
    },
    {
     "name": "stdout",
     "output_type": "stream",
     "text": [
      "2021\n",
      "https://granicus_production_attachments.s3.amazonaws.com/greenbeltmd/0c28b427d13ad162bb69e887f2271a5b0.pdf\n"
     ]
    },
    {
     "name": "stderr",
     "output_type": "stream",
     "text": [
      "C:\\Users\\ben97312\\Documents\\code\\notebooks\\Lib\\site-packages\\urllib3\\connectionpool.py:1103: InsecureRequestWarning: Unverified HTTPS request is being made to host 'granicus_production_attachments.s3.amazonaws.com'. Adding certificate verification is strongly advised. See: https://urllib3.readthedocs.io/en/latest/advanced-usage.html#tls-warnings\n",
      "  warnings.warn(\n"
     ]
    },
    {
     "name": "stdout",
     "output_type": "stream",
     "text": [
      "2021\n",
      "https://granicus_production_attachments.s3.amazonaws.com/greenbeltmd/f9680ca00e1ec75a49203d8f50d4be190.pdf\n"
     ]
    },
    {
     "name": "stderr",
     "output_type": "stream",
     "text": [
      "C:\\Users\\ben97312\\Documents\\code\\notebooks\\Lib\\site-packages\\urllib3\\connectionpool.py:1103: InsecureRequestWarning: Unverified HTTPS request is being made to host 'granicus_production_attachments.s3.amazonaws.com'. Adding certificate verification is strongly advised. See: https://urllib3.readthedocs.io/en/latest/advanced-usage.html#tls-warnings\n",
      "  warnings.warn(\n"
     ]
    },
    {
     "name": "stdout",
     "output_type": "stream",
     "text": [
      "2021\n",
      "https://granicus_production_attachments.s3.amazonaws.com/greenbeltmd/026fcc5b5db0fa40917527d1f3be50c80.pdf\n"
     ]
    },
    {
     "name": "stderr",
     "output_type": "stream",
     "text": [
      "C:\\Users\\ben97312\\Documents\\code\\notebooks\\Lib\\site-packages\\urllib3\\connectionpool.py:1103: InsecureRequestWarning: Unverified HTTPS request is being made to host 'granicus_production_attachments.s3.amazonaws.com'. Adding certificate verification is strongly advised. See: https://urllib3.readthedocs.io/en/latest/advanced-usage.html#tls-warnings\n",
      "  warnings.warn(\n",
      "C:\\Users\\ben97312\\Documents\\code\\notebooks\\Lib\\site-packages\\urllib3\\connectionpool.py:1103: InsecureRequestWarning: Unverified HTTPS request is being made to host 'granicus_production_attachments.s3.amazonaws.com'. Adding certificate verification is strongly advised. See: https://urllib3.readthedocs.io/en/latest/advanced-usage.html#tls-warnings\n",
      "  warnings.warn(\n"
     ]
    },
    {
     "name": "stdout",
     "output_type": "stream",
     "text": [
      "2020\n",
      "https://granicus_production_attachments.s3.amazonaws.com/greenbeltmd/53f7d053f203bbc9c72efe1c349391600.pdf\n"
     ]
    },
    {
     "name": "stderr",
     "output_type": "stream",
     "text": [
      "C:\\Users\\ben97312\\Documents\\code\\notebooks\\Lib\\site-packages\\urllib3\\connectionpool.py:1103: InsecureRequestWarning: Unverified HTTPS request is being made to host 'granicus_production_attachments.s3.amazonaws.com'. Adding certificate verification is strongly advised. See: https://urllib3.readthedocs.io/en/latest/advanced-usage.html#tls-warnings\n",
      "  warnings.warn(\n"
     ]
    },
    {
     "name": "stdout",
     "output_type": "stream",
     "text": [
      "2020\n",
      "https://granicus_production_attachments.s3.amazonaws.com/greenbeltmd/085682a5b3fe1af3a2eb6755db7feee70.pdf\n"
     ]
    },
    {
     "name": "stderr",
     "output_type": "stream",
     "text": [
      "C:\\Users\\ben97312\\Documents\\code\\notebooks\\Lib\\site-packages\\urllib3\\connectionpool.py:1103: InsecureRequestWarning: Unverified HTTPS request is being made to host 'granicus_production_attachments.s3.amazonaws.com'. Adding certificate verification is strongly advised. See: https://urllib3.readthedocs.io/en/latest/advanced-usage.html#tls-warnings\n",
      "  warnings.warn(\n"
     ]
    },
    {
     "name": "stdout",
     "output_type": "stream",
     "text": [
      "2020\n",
      "https://granicus_production_attachments.s3.amazonaws.com/greenbeltmd/92fdf2ec7de964d9194732f1a0baf09a0.pdf\n"
     ]
    },
    {
     "name": "stderr",
     "output_type": "stream",
     "text": [
      "C:\\Users\\ben97312\\Documents\\code\\notebooks\\Lib\\site-packages\\urllib3\\connectionpool.py:1103: InsecureRequestWarning: Unverified HTTPS request is being made to host 'granicus_production_attachments.s3.amazonaws.com'. Adding certificate verification is strongly advised. See: https://urllib3.readthedocs.io/en/latest/advanced-usage.html#tls-warnings\n",
      "  warnings.warn(\n"
     ]
    },
    {
     "name": "stdout",
     "output_type": "stream",
     "text": [
      "2020\n",
      "https://granicus_production_attachments.s3.amazonaws.com/greenbeltmd/4ac5ce434ebc1a952d05f91c2e16136e0.pdf\n"
     ]
    },
    {
     "name": "stderr",
     "output_type": "stream",
     "text": [
      "C:\\Users\\ben97312\\Documents\\code\\notebooks\\Lib\\site-packages\\urllib3\\connectionpool.py:1103: InsecureRequestWarning: Unverified HTTPS request is being made to host 'granicus_production_attachments.s3.amazonaws.com'. Adding certificate verification is strongly advised. See: https://urllib3.readthedocs.io/en/latest/advanced-usage.html#tls-warnings\n",
      "  warnings.warn(\n"
     ]
    },
    {
     "name": "stdout",
     "output_type": "stream",
     "text": [
      "2020\n",
      "https://granicus_production_attachments.s3.amazonaws.com/greenbeltmd/59a01ba6b60292a7b588a263cb4da2750.pdf\n"
     ]
    },
    {
     "name": "stderr",
     "output_type": "stream",
     "text": [
      "C:\\Users\\ben97312\\Documents\\code\\notebooks\\Lib\\site-packages\\urllib3\\connectionpool.py:1103: InsecureRequestWarning: Unverified HTTPS request is being made to host 'granicus_production_attachments.s3.amazonaws.com'. Adding certificate verification is strongly advised. See: https://urllib3.readthedocs.io/en/latest/advanced-usage.html#tls-warnings\n",
      "  warnings.warn(\n",
      "C:\\Users\\ben97312\\Documents\\code\\notebooks\\Lib\\site-packages\\urllib3\\connectionpool.py:1103: InsecureRequestWarning: Unverified HTTPS request is being made to host 'granicus_production_attachments.s3.amazonaws.com'. Adding certificate verification is strongly advised. See: https://urllib3.readthedocs.io/en/latest/advanced-usage.html#tls-warnings\n",
      "  warnings.warn(\n",
      "C:\\Users\\ben97312\\Documents\\code\\notebooks\\Lib\\site-packages\\urllib3\\connectionpool.py:1103: InsecureRequestWarning: Unverified HTTPS request is being made to host 'granicus_production_attachments.s3.amazonaws.com'. Adding certificate verification is strongly advised. See: https://urllib3.readthedocs.io/en/latest/advanced-usage.html#tls-warnings\n",
      "  warnings.warn(\n"
     ]
    },
    {
     "name": "stdout",
     "output_type": "stream",
     "text": [
      "2020\n",
      "https://granicus_production_attachments.s3.amazonaws.com/greenbeltmd/e98bbbb67066f6ac504fc06701c399970.pdf\n"
     ]
    },
    {
     "name": "stderr",
     "output_type": "stream",
     "text": [
      "C:\\Users\\ben97312\\Documents\\code\\notebooks\\Lib\\site-packages\\urllib3\\connectionpool.py:1103: InsecureRequestWarning: Unverified HTTPS request is being made to host 'granicus_production_attachments.s3.amazonaws.com'. Adding certificate verification is strongly advised. See: https://urllib3.readthedocs.io/en/latest/advanced-usage.html#tls-warnings\n",
      "  warnings.warn(\n"
     ]
    },
    {
     "name": "stdout",
     "output_type": "stream",
     "text": [
      "2020\n",
      "https://granicus_production_attachments.s3.amazonaws.com/greenbeltmd/8d0b14e569f411b1ef936550917d64fc0.pdf\n"
     ]
    },
    {
     "name": "stderr",
     "output_type": "stream",
     "text": [
      "C:\\Users\\ben97312\\Documents\\code\\notebooks\\Lib\\site-packages\\urllib3\\connectionpool.py:1103: InsecureRequestWarning: Unverified HTTPS request is being made to host 'granicus_production_attachments.s3.amazonaws.com'. Adding certificate verification is strongly advised. See: https://urllib3.readthedocs.io/en/latest/advanced-usage.html#tls-warnings\n",
      "  warnings.warn(\n",
      "C:\\Users\\ben97312\\Documents\\code\\notebooks\\Lib\\site-packages\\urllib3\\connectionpool.py:1103: InsecureRequestWarning: Unverified HTTPS request is being made to host 'granicus_production_attachments.s3.amazonaws.com'. Adding certificate verification is strongly advised. See: https://urllib3.readthedocs.io/en/latest/advanced-usage.html#tls-warnings\n",
      "  warnings.warn(\n"
     ]
    },
    {
     "name": "stdout",
     "output_type": "stream",
     "text": [
      "2020\n",
      "https://granicus_production_attachments.s3.amazonaws.com/greenbeltmd/7d233f1038bfcabb96b21c896eb3561c0.pdf\n"
     ]
    },
    {
     "name": "stderr",
     "output_type": "stream",
     "text": [
      "C:\\Users\\ben97312\\Documents\\code\\notebooks\\Lib\\site-packages\\urllib3\\connectionpool.py:1103: InsecureRequestWarning: Unverified HTTPS request is being made to host 'granicus_production_attachments.s3.amazonaws.com'. Adding certificate verification is strongly advised. See: https://urllib3.readthedocs.io/en/latest/advanced-usage.html#tls-warnings\n",
      "  warnings.warn(\n"
     ]
    },
    {
     "name": "stdout",
     "output_type": "stream",
     "text": [
      "2020\n",
      "https://granicus_production_attachments.s3.amazonaws.com/greenbeltmd/d437fb50efbb29b794c5b9118dae40bc0.pdf\n"
     ]
    },
    {
     "name": "stderr",
     "output_type": "stream",
     "text": [
      "C:\\Users\\ben97312\\Documents\\code\\notebooks\\Lib\\site-packages\\urllib3\\connectionpool.py:1103: InsecureRequestWarning: Unverified HTTPS request is being made to host 'granicus_production_attachments.s3.amazonaws.com'. Adding certificate verification is strongly advised. See: https://urllib3.readthedocs.io/en/latest/advanced-usage.html#tls-warnings\n",
      "  warnings.warn(\n",
      "C:\\Users\\ben97312\\Documents\\code\\notebooks\\Lib\\site-packages\\urllib3\\connectionpool.py:1103: InsecureRequestWarning: Unverified HTTPS request is being made to host 'granicus_production_attachments.s3.amazonaws.com'. Adding certificate verification is strongly advised. See: https://urllib3.readthedocs.io/en/latest/advanced-usage.html#tls-warnings\n",
      "  warnings.warn(\n"
     ]
    },
    {
     "name": "stdout",
     "output_type": "stream",
     "text": [
      "2020\n",
      "https://granicus_production_attachments.s3.amazonaws.com/greenbeltmd/204ed8cecd4050248271056f69f8f7880.pdf\n"
     ]
    },
    {
     "name": "stderr",
     "output_type": "stream",
     "text": [
      "C:\\Users\\ben97312\\Documents\\code\\notebooks\\Lib\\site-packages\\urllib3\\connectionpool.py:1103: InsecureRequestWarning: Unverified HTTPS request is being made to host 'granicus_production_attachments.s3.amazonaws.com'. Adding certificate verification is strongly advised. See: https://urllib3.readthedocs.io/en/latest/advanced-usage.html#tls-warnings\n",
      "  warnings.warn(\n"
     ]
    },
    {
     "name": "stdout",
     "output_type": "stream",
     "text": [
      "2020\n",
      "https://granicus_production_attachments.s3.amazonaws.com/greenbeltmd/eef489cc9331d84419cb30352d3810930.pdf\n"
     ]
    },
    {
     "name": "stderr",
     "output_type": "stream",
     "text": [
      "C:\\Users\\ben97312\\Documents\\code\\notebooks\\Lib\\site-packages\\urllib3\\connectionpool.py:1103: InsecureRequestWarning: Unverified HTTPS request is being made to host 'granicus_production_attachments.s3.amazonaws.com'. Adding certificate verification is strongly advised. See: https://urllib3.readthedocs.io/en/latest/advanced-usage.html#tls-warnings\n",
      "  warnings.warn(\n",
      "C:\\Users\\ben97312\\Documents\\code\\notebooks\\Lib\\site-packages\\urllib3\\connectionpool.py:1103: InsecureRequestWarning: Unverified HTTPS request is being made to host 'granicus_production_attachments.s3.amazonaws.com'. Adding certificate verification is strongly advised. See: https://urllib3.readthedocs.io/en/latest/advanced-usage.html#tls-warnings\n",
      "  warnings.warn(\n"
     ]
    },
    {
     "name": "stdout",
     "output_type": "stream",
     "text": [
      "2020\n",
      "https://granicus_production_attachments.s3.amazonaws.com/greenbeltmd/435bf3f4336f3a7604032f1357f3257f0.pdf\n"
     ]
    },
    {
     "name": "stderr",
     "output_type": "stream",
     "text": [
      "C:\\Users\\ben97312\\Documents\\code\\notebooks\\Lib\\site-packages\\urllib3\\connectionpool.py:1103: InsecureRequestWarning: Unverified HTTPS request is being made to host 'granicus_production_attachments.s3.amazonaws.com'. Adding certificate verification is strongly advised. See: https://urllib3.readthedocs.io/en/latest/advanced-usage.html#tls-warnings\n",
      "  warnings.warn(\n"
     ]
    },
    {
     "name": "stdout",
     "output_type": "stream",
     "text": [
      "2020\n",
      "https://granicus_production_attachments.s3.amazonaws.com/greenbeltmd/43e82687ac9675ccef055959960249610.pdf\n"
     ]
    },
    {
     "name": "stderr",
     "output_type": "stream",
     "text": [
      "C:\\Users\\ben97312\\Documents\\code\\notebooks\\Lib\\site-packages\\urllib3\\connectionpool.py:1103: InsecureRequestWarning: Unverified HTTPS request is being made to host 'granicus_production_attachments.s3.amazonaws.com'. Adding certificate verification is strongly advised. See: https://urllib3.readthedocs.io/en/latest/advanced-usage.html#tls-warnings\n",
      "  warnings.warn(\n",
      "C:\\Users\\ben97312\\Documents\\code\\notebooks\\Lib\\site-packages\\urllib3\\connectionpool.py:1103: InsecureRequestWarning: Unverified HTTPS request is being made to host 'granicus_production_attachments.s3.amazonaws.com'. Adding certificate verification is strongly advised. See: https://urllib3.readthedocs.io/en/latest/advanced-usage.html#tls-warnings\n",
      "  warnings.warn(\n"
     ]
    },
    {
     "name": "stdout",
     "output_type": "stream",
     "text": [
      "2020\n",
      "https://granicus_production_attachments.s3.amazonaws.com/greenbeltmd/de9663afef900e8f9ff5ac6ef9f9f3240.pdf\n"
     ]
    },
    {
     "name": "stderr",
     "output_type": "stream",
     "text": [
      "C:\\Users\\ben97312\\Documents\\code\\notebooks\\Lib\\site-packages\\urllib3\\connectionpool.py:1103: InsecureRequestWarning: Unverified HTTPS request is being made to host 'granicus_production_attachments.s3.amazonaws.com'. Adding certificate verification is strongly advised. See: https://urllib3.readthedocs.io/en/latest/advanced-usage.html#tls-warnings\n",
      "  warnings.warn(\n"
     ]
    },
    {
     "name": "stdout",
     "output_type": "stream",
     "text": [
      "2020\n",
      "https://granicus_production_attachments.s3.amazonaws.com/greenbeltmd/bcdcb816d26aaed1493c66e3aafc35410.pdf\n"
     ]
    },
    {
     "name": "stderr",
     "output_type": "stream",
     "text": [
      "C:\\Users\\ben97312\\Documents\\code\\notebooks\\Lib\\site-packages\\urllib3\\connectionpool.py:1103: InsecureRequestWarning: Unverified HTTPS request is being made to host 'granicus_production_attachments.s3.amazonaws.com'. Adding certificate verification is strongly advised. See: https://urllib3.readthedocs.io/en/latest/advanced-usage.html#tls-warnings\n",
      "  warnings.warn(\n"
     ]
    },
    {
     "name": "stdout",
     "output_type": "stream",
     "text": [
      "2020\n",
      "https://granicus_production_attachments.s3.amazonaws.com/greenbeltmd/f3d8e19356e86dab26e24f12927a893a0.pdf\n"
     ]
    },
    {
     "name": "stderr",
     "output_type": "stream",
     "text": [
      "C:\\Users\\ben97312\\Documents\\code\\notebooks\\Lib\\site-packages\\urllib3\\connectionpool.py:1103: InsecureRequestWarning: Unverified HTTPS request is being made to host 'granicus_production_attachments.s3.amazonaws.com'. Adding certificate verification is strongly advised. See: https://urllib3.readthedocs.io/en/latest/advanced-usage.html#tls-warnings\n",
      "  warnings.warn(\n"
     ]
    },
    {
     "name": "stdout",
     "output_type": "stream",
     "text": [
      "2020\n",
      "https://granicus_production_attachments.s3.amazonaws.com/greenbeltmd/9729dc10b3a80709a21a2fdc387dcd710.pdf\n"
     ]
    },
    {
     "name": "stderr",
     "output_type": "stream",
     "text": [
      "C:\\Users\\ben97312\\Documents\\code\\notebooks\\Lib\\site-packages\\urllib3\\connectionpool.py:1103: InsecureRequestWarning: Unverified HTTPS request is being made to host 'granicus_production_attachments.s3.amazonaws.com'. Adding certificate verification is strongly advised. See: https://urllib3.readthedocs.io/en/latest/advanced-usage.html#tls-warnings\n",
      "  warnings.warn(\n"
     ]
    },
    {
     "name": "stdout",
     "output_type": "stream",
     "text": [
      "2020\n",
      "https://granicus_production_attachments.s3.amazonaws.com/greenbeltmd/145c8a072846567a73234c4080efb8170.pdf\n"
     ]
    },
    {
     "name": "stderr",
     "output_type": "stream",
     "text": [
      "C:\\Users\\ben97312\\Documents\\code\\notebooks\\Lib\\site-packages\\urllib3\\connectionpool.py:1103: InsecureRequestWarning: Unverified HTTPS request is being made to host 'granicus_production_attachments.s3.amazonaws.com'. Adding certificate verification is strongly advised. See: https://urllib3.readthedocs.io/en/latest/advanced-usage.html#tls-warnings\n",
      "  warnings.warn(\n"
     ]
    },
    {
     "name": "stdout",
     "output_type": "stream",
     "text": [
      "2020\n",
      "https://granicus_production_attachments.s3.amazonaws.com/greenbeltmd/931d8431d39c78eeb46cd907eae861670.pdf\n"
     ]
    },
    {
     "name": "stderr",
     "output_type": "stream",
     "text": [
      "C:\\Users\\ben97312\\Documents\\code\\notebooks\\Lib\\site-packages\\urllib3\\connectionpool.py:1103: InsecureRequestWarning: Unverified HTTPS request is being made to host 'granicus_production_attachments.s3.amazonaws.com'. Adding certificate verification is strongly advised. See: https://urllib3.readthedocs.io/en/latest/advanced-usage.html#tls-warnings\n",
      "  warnings.warn(\n"
     ]
    },
    {
     "name": "stdout",
     "output_type": "stream",
     "text": [
      "2020\n",
      "https://granicus_production_attachments.s3.amazonaws.com/greenbeltmd/233a6a4ec598d8e498bd9bfe60977b510.pdf\n"
     ]
    },
    {
     "name": "stderr",
     "output_type": "stream",
     "text": [
      "C:\\Users\\ben97312\\Documents\\code\\notebooks\\Lib\\site-packages\\urllib3\\connectionpool.py:1103: InsecureRequestWarning: Unverified HTTPS request is being made to host 'granicus_production_attachments.s3.amazonaws.com'. Adding certificate verification is strongly advised. See: https://urllib3.readthedocs.io/en/latest/advanced-usage.html#tls-warnings\n",
      "  warnings.warn(\n",
      "C:\\Users\\ben97312\\Documents\\code\\notebooks\\Lib\\site-packages\\urllib3\\connectionpool.py:1103: InsecureRequestWarning: Unverified HTTPS request is being made to host 'granicus_production_attachments.s3.amazonaws.com'. Adding certificate verification is strongly advised. See: https://urllib3.readthedocs.io/en/latest/advanced-usage.html#tls-warnings\n",
      "  warnings.warn(\n"
     ]
    },
    {
     "name": "stdout",
     "output_type": "stream",
     "text": [
      "2020\n",
      "https://granicus_production_attachments.s3.amazonaws.com/greenbeltmd/fdc4bbd1cfe0a0bf1499357d1d40b1800.pdf\n"
     ]
    },
    {
     "name": "stderr",
     "output_type": "stream",
     "text": [
      "C:\\Users\\ben97312\\Documents\\code\\notebooks\\Lib\\site-packages\\urllib3\\connectionpool.py:1103: InsecureRequestWarning: Unverified HTTPS request is being made to host 'granicus_production_attachments.s3.amazonaws.com'. Adding certificate verification is strongly advised. See: https://urllib3.readthedocs.io/en/latest/advanced-usage.html#tls-warnings\n",
      "  warnings.warn(\n",
      "C:\\Users\\ben97312\\Documents\\code\\notebooks\\Lib\\site-packages\\urllib3\\connectionpool.py:1103: InsecureRequestWarning: Unverified HTTPS request is being made to host 'granicus_production_attachments.s3.amazonaws.com'. Adding certificate verification is strongly advised. See: https://urllib3.readthedocs.io/en/latest/advanced-usage.html#tls-warnings\n",
      "  warnings.warn(\n",
      "C:\\Users\\ben97312\\Documents\\code\\notebooks\\Lib\\site-packages\\urllib3\\connectionpool.py:1103: InsecureRequestWarning: Unverified HTTPS request is being made to host 'granicus_production_attachments.s3.amazonaws.com'. Adding certificate verification is strongly advised. See: https://urllib3.readthedocs.io/en/latest/advanced-usage.html#tls-warnings\n",
      "  warnings.warn(\n",
      "C:\\Users\\ben97312\\Documents\\code\\notebooks\\Lib\\site-packages\\urllib3\\connectionpool.py:1103: InsecureRequestWarning: Unverified HTTPS request is being made to host 'granicus_production_attachments.s3.amazonaws.com'. Adding certificate verification is strongly advised. See: https://urllib3.readthedocs.io/en/latest/advanced-usage.html#tls-warnings\n",
      "  warnings.warn(\n",
      "C:\\Users\\ben97312\\Documents\\code\\notebooks\\Lib\\site-packages\\urllib3\\connectionpool.py:1103: InsecureRequestWarning: Unverified HTTPS request is being made to host 'granicus_production_attachments.s3.amazonaws.com'. Adding certificate verification is strongly advised. See: https://urllib3.readthedocs.io/en/latest/advanced-usage.html#tls-warnings\n",
      "  warnings.warn(\n",
      "C:\\Users\\ben97312\\Documents\\code\\notebooks\\Lib\\site-packages\\urllib3\\connectionpool.py:1103: InsecureRequestWarning: Unverified HTTPS request is being made to host 'granicus_production_attachments.s3.amazonaws.com'. Adding certificate verification is strongly advised. See: https://urllib3.readthedocs.io/en/latest/advanced-usage.html#tls-warnings\n",
      "  warnings.warn(\n",
      "C:\\Users\\ben97312\\Documents\\code\\notebooks\\Lib\\site-packages\\urllib3\\connectionpool.py:1103: InsecureRequestWarning: Unverified HTTPS request is being made to host 'granicus_production_attachments.s3.amazonaws.com'. Adding certificate verification is strongly advised. See: https://urllib3.readthedocs.io/en/latest/advanced-usage.html#tls-warnings\n",
      "  warnings.warn(\n",
      "C:\\Users\\ben97312\\Documents\\code\\notebooks\\Lib\\site-packages\\urllib3\\connectionpool.py:1103: InsecureRequestWarning: Unverified HTTPS request is being made to host 'granicus_production_attachments.s3.amazonaws.com'. Adding certificate verification is strongly advised. See: https://urllib3.readthedocs.io/en/latest/advanced-usage.html#tls-warnings\n",
      "  warnings.warn(\n",
      "C:\\Users\\ben97312\\Documents\\code\\notebooks\\Lib\\site-packages\\urllib3\\connectionpool.py:1103: InsecureRequestWarning: Unverified HTTPS request is being made to host 'granicus_production_attachments.s3.amazonaws.com'. Adding certificate verification is strongly advised. See: https://urllib3.readthedocs.io/en/latest/advanced-usage.html#tls-warnings\n",
      "  warnings.warn(\n",
      "C:\\Users\\ben97312\\Documents\\code\\notebooks\\Lib\\site-packages\\urllib3\\connectionpool.py:1103: InsecureRequestWarning: Unverified HTTPS request is being made to host 'granicus_production_attachments.s3.amazonaws.com'. Adding certificate verification is strongly advised. See: https://urllib3.readthedocs.io/en/latest/advanced-usage.html#tls-warnings\n",
      "  warnings.warn(\n"
     ]
    },
    {
     "name": "stdout",
     "output_type": "stream",
     "text": [
      "2020\n",
      "https://granicus_production_attachments.s3.amazonaws.com/greenbeltmd/01986e41a2802f8beb7112b61eafe3bc0.pdf\n"
     ]
    },
    {
     "name": "stderr",
     "output_type": "stream",
     "text": [
      "C:\\Users\\ben97312\\Documents\\code\\notebooks\\Lib\\site-packages\\urllib3\\connectionpool.py:1103: InsecureRequestWarning: Unverified HTTPS request is being made to host 'granicus_production_attachments.s3.amazonaws.com'. Adding certificate verification is strongly advised. See: https://urllib3.readthedocs.io/en/latest/advanced-usage.html#tls-warnings\n",
      "  warnings.warn(\n"
     ]
    },
    {
     "name": "stdout",
     "output_type": "stream",
     "text": [
      "2020\n",
      "https://granicus_production_attachments.s3.amazonaws.com/greenbeltmd/0d3250aa05da22d225666185a72a12c60.pdf\n"
     ]
    },
    {
     "name": "stderr",
     "output_type": "stream",
     "text": [
      "C:\\Users\\ben97312\\Documents\\code\\notebooks\\Lib\\site-packages\\urllib3\\connectionpool.py:1103: InsecureRequestWarning: Unverified HTTPS request is being made to host 'granicus_production_attachments.s3.amazonaws.com'. Adding certificate verification is strongly advised. See: https://urllib3.readthedocs.io/en/latest/advanced-usage.html#tls-warnings\n",
      "  warnings.warn(\n"
     ]
    },
    {
     "name": "stdout",
     "output_type": "stream",
     "text": [
      "2020\n",
      "https://granicus_production_attachments.s3.amazonaws.com/greenbeltmd/9d2d3809778167e23f408baa395faaa70.pdf\n"
     ]
    },
    {
     "name": "stderr",
     "output_type": "stream",
     "text": [
      "C:\\Users\\ben97312\\Documents\\code\\notebooks\\Lib\\site-packages\\urllib3\\connectionpool.py:1103: InsecureRequestWarning: Unverified HTTPS request is being made to host 'granicus_production_attachments.s3.amazonaws.com'. Adding certificate verification is strongly advised. See: https://urllib3.readthedocs.io/en/latest/advanced-usage.html#tls-warnings\n",
      "  warnings.warn(\n",
      "C:\\Users\\ben97312\\Documents\\code\\notebooks\\Lib\\site-packages\\urllib3\\connectionpool.py:1103: InsecureRequestWarning: Unverified HTTPS request is being made to host 'granicus_production_attachments.s3.amazonaws.com'. Adding certificate verification is strongly advised. See: https://urllib3.readthedocs.io/en/latest/advanced-usage.html#tls-warnings\n",
      "  warnings.warn(\n",
      "C:\\Users\\ben97312\\Documents\\code\\notebooks\\Lib\\site-packages\\urllib3\\connectionpool.py:1103: InsecureRequestWarning: Unverified HTTPS request is being made to host 'granicus_production_attachments.s3.amazonaws.com'. Adding certificate verification is strongly advised. See: https://urllib3.readthedocs.io/en/latest/advanced-usage.html#tls-warnings\n",
      "  warnings.warn(\n",
      "C:\\Users\\ben97312\\Documents\\code\\notebooks\\Lib\\site-packages\\urllib3\\connectionpool.py:1103: InsecureRequestWarning: Unverified HTTPS request is being made to host 'granicus_production_attachments.s3.amazonaws.com'. Adding certificate verification is strongly advised. See: https://urllib3.readthedocs.io/en/latest/advanced-usage.html#tls-warnings\n",
      "  warnings.warn(\n",
      "C:\\Users\\ben97312\\Documents\\code\\notebooks\\Lib\\site-packages\\urllib3\\connectionpool.py:1103: InsecureRequestWarning: Unverified HTTPS request is being made to host 'granicus_production_attachments.s3.amazonaws.com'. Adding certificate verification is strongly advised. See: https://urllib3.readthedocs.io/en/latest/advanced-usage.html#tls-warnings\n",
      "  warnings.warn(\n",
      "C:\\Users\\ben97312\\Documents\\code\\notebooks\\Lib\\site-packages\\urllib3\\connectionpool.py:1103: InsecureRequestWarning: Unverified HTTPS request is being made to host 'granicus_production_attachments.s3.amazonaws.com'. Adding certificate verification is strongly advised. See: https://urllib3.readthedocs.io/en/latest/advanced-usage.html#tls-warnings\n",
      "  warnings.warn(\n",
      "C:\\Users\\ben97312\\Documents\\code\\notebooks\\Lib\\site-packages\\urllib3\\connectionpool.py:1103: InsecureRequestWarning: Unverified HTTPS request is being made to host 'granicus_production_attachments.s3.amazonaws.com'. Adding certificate verification is strongly advised. See: https://urllib3.readthedocs.io/en/latest/advanced-usage.html#tls-warnings\n",
      "  warnings.warn(\n",
      "C:\\Users\\ben97312\\Documents\\code\\notebooks\\Lib\\site-packages\\urllib3\\connectionpool.py:1103: InsecureRequestWarning: Unverified HTTPS request is being made to host 'granicus_production_attachments.s3.amazonaws.com'. Adding certificate verification is strongly advised. See: https://urllib3.readthedocs.io/en/latest/advanced-usage.html#tls-warnings\n",
      "  warnings.warn(\n",
      "C:\\Users\\ben97312\\Documents\\code\\notebooks\\Lib\\site-packages\\urllib3\\connectionpool.py:1103: InsecureRequestWarning: Unverified HTTPS request is being made to host 'granicus_production_attachments.s3.amazonaws.com'. Adding certificate verification is strongly advised. See: https://urllib3.readthedocs.io/en/latest/advanced-usage.html#tls-warnings\n",
      "  warnings.warn(\n"
     ]
    },
    {
     "name": "stdout",
     "output_type": "stream",
     "text": [
      "2020\n",
      "https://granicus_production_attachments.s3.amazonaws.com/greenbeltmd/639be2c43b378ce876247d12bb59522f0.pdf\n"
     ]
    },
    {
     "name": "stderr",
     "output_type": "stream",
     "text": [
      "C:\\Users\\ben97312\\Documents\\code\\notebooks\\Lib\\site-packages\\urllib3\\connectionpool.py:1103: InsecureRequestWarning: Unverified HTTPS request is being made to host 'granicus_production_attachments.s3.amazonaws.com'. Adding certificate verification is strongly advised. See: https://urllib3.readthedocs.io/en/latest/advanced-usage.html#tls-warnings\n",
      "  warnings.warn(\n"
     ]
    },
    {
     "name": "stdout",
     "output_type": "stream",
     "text": [
      "2020\n",
      "https://granicus_production_attachments.s3.amazonaws.com/greenbeltmd/990ba80758161bd116472ba2b9edbfaf0.pdf\n"
     ]
    },
    {
     "name": "stderr",
     "output_type": "stream",
     "text": [
      "C:\\Users\\ben97312\\Documents\\code\\notebooks\\Lib\\site-packages\\urllib3\\connectionpool.py:1103: InsecureRequestWarning: Unverified HTTPS request is being made to host 'granicus_production_attachments.s3.amazonaws.com'. Adding certificate verification is strongly advised. See: https://urllib3.readthedocs.io/en/latest/advanced-usage.html#tls-warnings\n",
      "  warnings.warn(\n"
     ]
    },
    {
     "name": "stdout",
     "output_type": "stream",
     "text": [
      "2020\n",
      "https://granicus_production_attachments.s3.amazonaws.com/greenbeltmd/adca54ac7d00c0663407fd7108828e720.pdf\n"
     ]
    },
    {
     "name": "stderr",
     "output_type": "stream",
     "text": [
      "C:\\Users\\ben97312\\Documents\\code\\notebooks\\Lib\\site-packages\\urllib3\\connectionpool.py:1103: InsecureRequestWarning: Unverified HTTPS request is being made to host 'granicus_production_attachments.s3.amazonaws.com'. Adding certificate verification is strongly advised. See: https://urllib3.readthedocs.io/en/latest/advanced-usage.html#tls-warnings\n",
      "  warnings.warn(\n"
     ]
    },
    {
     "name": "stdout",
     "output_type": "stream",
     "text": [
      "2020\n",
      "https://granicus_production_attachments.s3.amazonaws.com/greenbeltmd/92f2b83317ddb0fc6feb8c01142a8fe10.pdf\n"
     ]
    },
    {
     "name": "stderr",
     "output_type": "stream",
     "text": [
      "C:\\Users\\ben97312\\Documents\\code\\notebooks\\Lib\\site-packages\\urllib3\\connectionpool.py:1103: InsecureRequestWarning: Unverified HTTPS request is being made to host 'granicus_production_attachments.s3.amazonaws.com'. Adding certificate verification is strongly advised. See: https://urllib3.readthedocs.io/en/latest/advanced-usage.html#tls-warnings\n",
      "  warnings.warn(\n"
     ]
    },
    {
     "name": "stdout",
     "output_type": "stream",
     "text": [
      "2020\n",
      "https://granicus_production_attachments.s3.amazonaws.com/greenbeltmd/2c33ddf504c26e33d1ee64ebbba062960.pdf\n"
     ]
    },
    {
     "name": "stderr",
     "output_type": "stream",
     "text": [
      "C:\\Users\\ben97312\\Documents\\code\\notebooks\\Lib\\site-packages\\urllib3\\connectionpool.py:1103: InsecureRequestWarning: Unverified HTTPS request is being made to host 'granicus_production_attachments.s3.amazonaws.com'. Adding certificate verification is strongly advised. See: https://urllib3.readthedocs.io/en/latest/advanced-usage.html#tls-warnings\n",
      "  warnings.warn(\n"
     ]
    },
    {
     "name": "stdout",
     "output_type": "stream",
     "text": [
      "2020\n",
      "https://granicus_production_attachments.s3.amazonaws.com/greenbeltmd/e7354a74e4cdc3cf14b550de556e48fd0.pdf\n"
     ]
    },
    {
     "name": "stderr",
     "output_type": "stream",
     "text": [
      "C:\\Users\\ben97312\\Documents\\code\\notebooks\\Lib\\site-packages\\urllib3\\connectionpool.py:1103: InsecureRequestWarning: Unverified HTTPS request is being made to host 'granicus_production_attachments.s3.amazonaws.com'. Adding certificate verification is strongly advised. See: https://urllib3.readthedocs.io/en/latest/advanced-usage.html#tls-warnings\n",
      "  warnings.warn(\n",
      "C:\\Users\\ben97312\\Documents\\code\\notebooks\\Lib\\site-packages\\urllib3\\connectionpool.py:1103: InsecureRequestWarning: Unverified HTTPS request is being made to host 'granicus_production_attachments.s3.amazonaws.com'. Adding certificate verification is strongly advised. See: https://urllib3.readthedocs.io/en/latest/advanced-usage.html#tls-warnings\n",
      "  warnings.warn(\n",
      "C:\\Users\\ben97312\\Documents\\code\\notebooks\\Lib\\site-packages\\urllib3\\connectionpool.py:1103: InsecureRequestWarning: Unverified HTTPS request is being made to host 'granicus_production_attachments.s3.amazonaws.com'. Adding certificate verification is strongly advised. See: https://urllib3.readthedocs.io/en/latest/advanced-usage.html#tls-warnings\n",
      "  warnings.warn(\n",
      "C:\\Users\\ben97312\\Documents\\code\\notebooks\\Lib\\site-packages\\urllib3\\connectionpool.py:1103: InsecureRequestWarning: Unverified HTTPS request is being made to host 'granicus_production_attachments.s3.amazonaws.com'. Adding certificate verification is strongly advised. See: https://urllib3.readthedocs.io/en/latest/advanced-usage.html#tls-warnings\n",
      "  warnings.warn(\n"
     ]
    },
    {
     "name": "stdout",
     "output_type": "stream",
     "text": [
      "2020\n",
      "https://granicus_production_attachments.s3.amazonaws.com/greenbeltmd/296c78a19ea70a787b073d8caff5f1680.pdf\n"
     ]
    },
    {
     "name": "stderr",
     "output_type": "stream",
     "text": [
      "C:\\Users\\ben97312\\Documents\\code\\notebooks\\Lib\\site-packages\\urllib3\\connectionpool.py:1103: InsecureRequestWarning: Unverified HTTPS request is being made to host 'granicus_production_attachments.s3.amazonaws.com'. Adding certificate verification is strongly advised. See: https://urllib3.readthedocs.io/en/latest/advanced-usage.html#tls-warnings\n",
      "  warnings.warn(\n"
     ]
    },
    {
     "name": "stdout",
     "output_type": "stream",
     "text": [
      "2020\n",
      "https://granicus_production_attachments.s3.amazonaws.com/greenbeltmd/99dec1f38a4d44c157e7119d1d7fe7dc0.pdf\n"
     ]
    },
    {
     "name": "stderr",
     "output_type": "stream",
     "text": [
      "C:\\Users\\ben97312\\Documents\\code\\notebooks\\Lib\\site-packages\\urllib3\\connectionpool.py:1103: InsecureRequestWarning: Unverified HTTPS request is being made to host 'granicus_production_attachments.s3.amazonaws.com'. Adding certificate verification is strongly advised. See: https://urllib3.readthedocs.io/en/latest/advanced-usage.html#tls-warnings\n",
      "  warnings.warn(\n",
      "C:\\Users\\ben97312\\Documents\\code\\notebooks\\Lib\\site-packages\\urllib3\\connectionpool.py:1103: InsecureRequestWarning: Unverified HTTPS request is being made to host 'granicus_production_attachments.s3.amazonaws.com'. Adding certificate verification is strongly advised. See: https://urllib3.readthedocs.io/en/latest/advanced-usage.html#tls-warnings\n",
      "  warnings.warn(\n"
     ]
    },
    {
     "name": "stdout",
     "output_type": "stream",
     "text": [
      "2020\n",
      "https://granicus_production_attachments.s3.amazonaws.com/greenbeltmd/cab1d78b8fb99760802894923400c2180.pdf\n"
     ]
    },
    {
     "name": "stderr",
     "output_type": "stream",
     "text": [
      "C:\\Users\\ben97312\\Documents\\code\\notebooks\\Lib\\site-packages\\urllib3\\connectionpool.py:1103: InsecureRequestWarning: Unverified HTTPS request is being made to host 'granicus_production_attachments.s3.amazonaws.com'. Adding certificate verification is strongly advised. See: https://urllib3.readthedocs.io/en/latest/advanced-usage.html#tls-warnings\n",
      "  warnings.warn(\n"
     ]
    },
    {
     "name": "stdout",
     "output_type": "stream",
     "text": [
      "2020\n",
      "https://granicus_production_attachments.s3.amazonaws.com/greenbeltmd/3265f795dff3f60bb193a248b0de5d290.pdf\n"
     ]
    },
    {
     "name": "stderr",
     "output_type": "stream",
     "text": [
      "C:\\Users\\ben97312\\Documents\\code\\notebooks\\Lib\\site-packages\\urllib3\\connectionpool.py:1103: InsecureRequestWarning: Unverified HTTPS request is being made to host 'granicus_production_attachments.s3.amazonaws.com'. Adding certificate verification is strongly advised. See: https://urllib3.readthedocs.io/en/latest/advanced-usage.html#tls-warnings\n",
      "  warnings.warn(\n",
      "C:\\Users\\ben97312\\Documents\\code\\notebooks\\Lib\\site-packages\\urllib3\\connectionpool.py:1103: InsecureRequestWarning: Unverified HTTPS request is being made to host 'granicus_production_attachments.s3.amazonaws.com'. Adding certificate verification is strongly advised. See: https://urllib3.readthedocs.io/en/latest/advanced-usage.html#tls-warnings\n",
      "  warnings.warn(\n",
      "C:\\Users\\ben97312\\Documents\\code\\notebooks\\Lib\\site-packages\\urllib3\\connectionpool.py:1103: InsecureRequestWarning: Unverified HTTPS request is being made to host 'granicus_production_attachments.s3.amazonaws.com'. Adding certificate verification is strongly advised. See: https://urllib3.readthedocs.io/en/latest/advanced-usage.html#tls-warnings\n",
      "  warnings.warn(\n"
     ]
    },
    {
     "name": "stdout",
     "output_type": "stream",
     "text": [
      "2020\n",
      "https://granicus_production_attachments.s3.amazonaws.com/greenbeltmd/71163be3d028e1b02cbc095f45edd5fb0.pdf\n"
     ]
    },
    {
     "name": "stderr",
     "output_type": "stream",
     "text": [
      "C:\\Users\\ben97312\\Documents\\code\\notebooks\\Lib\\site-packages\\urllib3\\connectionpool.py:1103: InsecureRequestWarning: Unverified HTTPS request is being made to host 'granicus_production_attachments.s3.amazonaws.com'. Adding certificate verification is strongly advised. See: https://urllib3.readthedocs.io/en/latest/advanced-usage.html#tls-warnings\n",
      "  warnings.warn(\n"
     ]
    },
    {
     "name": "stdout",
     "output_type": "stream",
     "text": [
      "2020\n",
      "https://granicus_production_attachments.s3.amazonaws.com/greenbeltmd/4e94eab837d5c9959ca9cf08f8f22ccd0.pdf\n"
     ]
    },
    {
     "name": "stderr",
     "output_type": "stream",
     "text": [
      "C:\\Users\\ben97312\\Documents\\code\\notebooks\\Lib\\site-packages\\urllib3\\connectionpool.py:1103: InsecureRequestWarning: Unverified HTTPS request is being made to host 'granicus_production_attachments.s3.amazonaws.com'. Adding certificate verification is strongly advised. See: https://urllib3.readthedocs.io/en/latest/advanced-usage.html#tls-warnings\n",
      "  warnings.warn(\n"
     ]
    },
    {
     "name": "stdout",
     "output_type": "stream",
     "text": [
      "2020\n",
      "https://granicus_production_attachments.s3.amazonaws.com/greenbeltmd/eb6d319dd97fa5a4082b998650f059c10.pdf\n"
     ]
    },
    {
     "name": "stderr",
     "output_type": "stream",
     "text": [
      "C:\\Users\\ben97312\\Documents\\code\\notebooks\\Lib\\site-packages\\urllib3\\connectionpool.py:1103: InsecureRequestWarning: Unverified HTTPS request is being made to host 'granicus_production_attachments.s3.amazonaws.com'. Adding certificate verification is strongly advised. See: https://urllib3.readthedocs.io/en/latest/advanced-usage.html#tls-warnings\n",
      "  warnings.warn(\n"
     ]
    },
    {
     "name": "stdout",
     "output_type": "stream",
     "text": [
      "2020\n",
      "https://granicus_production_attachments.s3.amazonaws.com/greenbeltmd/5d392f83d51ede2897504f63228f6dae0.pdf\n"
     ]
    },
    {
     "name": "stderr",
     "output_type": "stream",
     "text": [
      "C:\\Users\\ben97312\\Documents\\code\\notebooks\\Lib\\site-packages\\urllib3\\connectionpool.py:1103: InsecureRequestWarning: Unverified HTTPS request is being made to host 'granicus_production_attachments.s3.amazonaws.com'. Adding certificate verification is strongly advised. See: https://urllib3.readthedocs.io/en/latest/advanced-usage.html#tls-warnings\n",
      "  warnings.warn(\n"
     ]
    },
    {
     "name": "stdout",
     "output_type": "stream",
     "text": [
      "2020\n",
      "https://granicus_production_attachments.s3.amazonaws.com/greenbeltmd/7fd531ac35ceae79e670b802a46d6f580.pdf\n"
     ]
    },
    {
     "name": "stderr",
     "output_type": "stream",
     "text": [
      "C:\\Users\\ben97312\\Documents\\code\\notebooks\\Lib\\site-packages\\urllib3\\connectionpool.py:1103: InsecureRequestWarning: Unverified HTTPS request is being made to host 'granicus_production_attachments.s3.amazonaws.com'. Adding certificate verification is strongly advised. See: https://urllib3.readthedocs.io/en/latest/advanced-usage.html#tls-warnings\n",
      "  warnings.warn(\n",
      "C:\\Users\\ben97312\\Documents\\code\\notebooks\\Lib\\site-packages\\urllib3\\connectionpool.py:1103: InsecureRequestWarning: Unverified HTTPS request is being made to host 'granicus_production_attachments.s3.amazonaws.com'. Adding certificate verification is strongly advised. See: https://urllib3.readthedocs.io/en/latest/advanced-usage.html#tls-warnings\n",
      "  warnings.warn(\n"
     ]
    },
    {
     "name": "stdout",
     "output_type": "stream",
     "text": [
      "2020\n",
      "https://granicus_production_attachments.s3.amazonaws.com/greenbeltmd/7606e4de32dbc58702696915a1fa97440.pdf\n"
     ]
    },
    {
     "name": "stderr",
     "output_type": "stream",
     "text": [
      "C:\\Users\\ben97312\\Documents\\code\\notebooks\\Lib\\site-packages\\urllib3\\connectionpool.py:1103: InsecureRequestWarning: Unverified HTTPS request is being made to host 'granicus_production_attachments.s3.amazonaws.com'. Adding certificate verification is strongly advised. See: https://urllib3.readthedocs.io/en/latest/advanced-usage.html#tls-warnings\n",
      "  warnings.warn(\n"
     ]
    },
    {
     "name": "stdout",
     "output_type": "stream",
     "text": [
      "2020\n",
      "https://granicus_production_attachments.s3.amazonaws.com/greenbeltmd/39553566e409995200ed42b9d8a8bd5a0.pdf\n"
     ]
    },
    {
     "name": "stderr",
     "output_type": "stream",
     "text": [
      "C:\\Users\\ben97312\\Documents\\code\\notebooks\\Lib\\site-packages\\urllib3\\connectionpool.py:1103: InsecureRequestWarning: Unverified HTTPS request is being made to host 'granicus_production_attachments.s3.amazonaws.com'. Adding certificate verification is strongly advised. See: https://urllib3.readthedocs.io/en/latest/advanced-usage.html#tls-warnings\n",
      "  warnings.warn(\n"
     ]
    },
    {
     "name": "stdout",
     "output_type": "stream",
     "text": [
      "2020\n",
      "https://granicus_production_attachments.s3.amazonaws.com/greenbeltmd/85d5c3db7246689b80f0988ecde53a940.pdf\n"
     ]
    },
    {
     "name": "stderr",
     "output_type": "stream",
     "text": [
      "C:\\Users\\ben97312\\Documents\\code\\notebooks\\Lib\\site-packages\\urllib3\\connectionpool.py:1103: InsecureRequestWarning: Unverified HTTPS request is being made to host 'granicus_production_attachments.s3.amazonaws.com'. Adding certificate verification is strongly advised. See: https://urllib3.readthedocs.io/en/latest/advanced-usage.html#tls-warnings\n",
      "  warnings.warn(\n"
     ]
    },
    {
     "name": "stdout",
     "output_type": "stream",
     "text": [
      "2020\n",
      "https://granicus_production_attachments.s3.amazonaws.com/greenbeltmd/02fbbf2ccf8293f81c0b0a8301e7cc750.pdf\n"
     ]
    },
    {
     "name": "stderr",
     "output_type": "stream",
     "text": [
      "C:\\Users\\ben97312\\Documents\\code\\notebooks\\Lib\\site-packages\\urllib3\\connectionpool.py:1103: InsecureRequestWarning: Unverified HTTPS request is being made to host 'granicus_production_attachments.s3.amazonaws.com'. Adding certificate verification is strongly advised. See: https://urllib3.readthedocs.io/en/latest/advanced-usage.html#tls-warnings\n",
      "  warnings.warn(\n"
     ]
    },
    {
     "name": "stdout",
     "output_type": "stream",
     "text": [
      "2020\n",
      "https://granicus_production_attachments.s3.amazonaws.com/greenbeltmd/2e51628ffd45a9c62c817da57e1231920.pdf\n"
     ]
    },
    {
     "name": "stderr",
     "output_type": "stream",
     "text": [
      "C:\\Users\\ben97312\\Documents\\code\\notebooks\\Lib\\site-packages\\urllib3\\connectionpool.py:1103: InsecureRequestWarning: Unverified HTTPS request is being made to host 'granicus_production_attachments.s3.amazonaws.com'. Adding certificate verification is strongly advised. See: https://urllib3.readthedocs.io/en/latest/advanced-usage.html#tls-warnings\n",
      "  warnings.warn(\n"
     ]
    },
    {
     "name": "stdout",
     "output_type": "stream",
     "text": [
      "2020\n",
      "https://granicus_production_attachments.s3.amazonaws.com/greenbeltmd/5e3116f20963891edac9ab6545375be40.pdf\n"
     ]
    },
    {
     "name": "stderr",
     "output_type": "stream",
     "text": [
      "C:\\Users\\ben97312\\Documents\\code\\notebooks\\Lib\\site-packages\\urllib3\\connectionpool.py:1103: InsecureRequestWarning: Unverified HTTPS request is being made to host 'granicus_production_attachments.s3.amazonaws.com'. Adding certificate verification is strongly advised. See: https://urllib3.readthedocs.io/en/latest/advanced-usage.html#tls-warnings\n",
      "  warnings.warn(\n"
     ]
    },
    {
     "name": "stdout",
     "output_type": "stream",
     "text": [
      "2020\n",
      "https://granicus_production_attachments.s3.amazonaws.com/greenbeltmd/35de011c32a342449f6deefae5a018b00.pdf\n"
     ]
    },
    {
     "name": "stderr",
     "output_type": "stream",
     "text": [
      "C:\\Users\\ben97312\\Documents\\code\\notebooks\\Lib\\site-packages\\urllib3\\connectionpool.py:1103: InsecureRequestWarning: Unverified HTTPS request is being made to host 'granicus_production_attachments.s3.amazonaws.com'. Adding certificate verification is strongly advised. See: https://urllib3.readthedocs.io/en/latest/advanced-usage.html#tls-warnings\n",
      "  warnings.warn(\n",
      "C:\\Users\\ben97312\\Documents\\code\\notebooks\\Lib\\site-packages\\urllib3\\connectionpool.py:1103: InsecureRequestWarning: Unverified HTTPS request is being made to host 'granicus_production_attachments.s3.amazonaws.com'. Adding certificate verification is strongly advised. See: https://urllib3.readthedocs.io/en/latest/advanced-usage.html#tls-warnings\n",
      "  warnings.warn(\n",
      "C:\\Users\\ben97312\\Documents\\code\\notebooks\\Lib\\site-packages\\urllib3\\connectionpool.py:1103: InsecureRequestWarning: Unverified HTTPS request is being made to host 'granicus_production_attachments.s3.amazonaws.com'. Adding certificate verification is strongly advised. See: https://urllib3.readthedocs.io/en/latest/advanced-usage.html#tls-warnings\n",
      "  warnings.warn(\n"
     ]
    },
    {
     "name": "stdout",
     "output_type": "stream",
     "text": [
      "2020\n",
      "https://granicus_production_attachments.s3.amazonaws.com/greenbeltmd/e3ce82c6d5a51c20688b5f16e434afbd0.pdf\n"
     ]
    },
    {
     "name": "stderr",
     "output_type": "stream",
     "text": [
      "C:\\Users\\ben97312\\Documents\\code\\notebooks\\Lib\\site-packages\\urllib3\\connectionpool.py:1103: InsecureRequestWarning: Unverified HTTPS request is being made to host 'granicus_production_attachments.s3.amazonaws.com'. Adding certificate verification is strongly advised. See: https://urllib3.readthedocs.io/en/latest/advanced-usage.html#tls-warnings\n",
      "  warnings.warn(\n"
     ]
    },
    {
     "name": "stdout",
     "output_type": "stream",
     "text": [
      "2019\n",
      "https://granicus_production_attachments.s3.amazonaws.com/greenbeltmd/554c4c34b570cb2937b8683333223ec70.pdf\n"
     ]
    },
    {
     "name": "stderr",
     "output_type": "stream",
     "text": [
      "C:\\Users\\ben97312\\Documents\\code\\notebooks\\Lib\\site-packages\\urllib3\\connectionpool.py:1103: InsecureRequestWarning: Unverified HTTPS request is being made to host 'granicus_production_attachments.s3.amazonaws.com'. Adding certificate verification is strongly advised. See: https://urllib3.readthedocs.io/en/latest/advanced-usage.html#tls-warnings\n",
      "  warnings.warn(\n"
     ]
    },
    {
     "name": "stdout",
     "output_type": "stream",
     "text": [
      "2019\n",
      "https://granicus_production_attachments.s3.amazonaws.com/greenbeltmd/a1a6e9bd98da733b9ede1b1de615b7140.pdf\n"
     ]
    },
    {
     "name": "stderr",
     "output_type": "stream",
     "text": [
      "C:\\Users\\ben97312\\Documents\\code\\notebooks\\Lib\\site-packages\\urllib3\\connectionpool.py:1103: InsecureRequestWarning: Unverified HTTPS request is being made to host 'granicus_production_attachments.s3.amazonaws.com'. Adding certificate verification is strongly advised. See: https://urllib3.readthedocs.io/en/latest/advanced-usage.html#tls-warnings\n",
      "  warnings.warn(\n",
      "C:\\Users\\ben97312\\Documents\\code\\notebooks\\Lib\\site-packages\\urllib3\\connectionpool.py:1103: InsecureRequestWarning: Unverified HTTPS request is being made to host 'granicus_production_attachments.s3.amazonaws.com'. Adding certificate verification is strongly advised. See: https://urllib3.readthedocs.io/en/latest/advanced-usage.html#tls-warnings\n",
      "  warnings.warn(\n"
     ]
    },
    {
     "name": "stdout",
     "output_type": "stream",
     "text": [
      "2019\n",
      "https://granicus_production_attachments.s3.amazonaws.com/greenbeltmd/1cb5e7f8eb6a3e971b786766d5627f2c0.pdf\n"
     ]
    },
    {
     "name": "stderr",
     "output_type": "stream",
     "text": [
      "C:\\Users\\ben97312\\Documents\\code\\notebooks\\Lib\\site-packages\\urllib3\\connectionpool.py:1103: InsecureRequestWarning: Unverified HTTPS request is being made to host 'granicus_production_attachments.s3.amazonaws.com'. Adding certificate verification is strongly advised. See: https://urllib3.readthedocs.io/en/latest/advanced-usage.html#tls-warnings\n",
      "  warnings.warn(\n"
     ]
    },
    {
     "name": "stdout",
     "output_type": "stream",
     "text": [
      "2019\n",
      "https://granicus_production_attachments.s3.amazonaws.com/greenbeltmd/ddc09bf1f28a18c85eb52108b0d954d80.pdf\n"
     ]
    },
    {
     "name": "stderr",
     "output_type": "stream",
     "text": [
      "C:\\Users\\ben97312\\Documents\\code\\notebooks\\Lib\\site-packages\\urllib3\\connectionpool.py:1103: InsecureRequestWarning: Unverified HTTPS request is being made to host 'granicus_production_attachments.s3.amazonaws.com'. Adding certificate verification is strongly advised. See: https://urllib3.readthedocs.io/en/latest/advanced-usage.html#tls-warnings\n",
      "  warnings.warn(\n"
     ]
    },
    {
     "name": "stdout",
     "output_type": "stream",
     "text": [
      "2019\n",
      "https://granicus_production_attachments.s3.amazonaws.com/greenbeltmd/52398b37255ac05ddd595d3fa757f7040.pdf\n"
     ]
    },
    {
     "name": "stderr",
     "output_type": "stream",
     "text": [
      "C:\\Users\\ben97312\\Documents\\code\\notebooks\\Lib\\site-packages\\urllib3\\connectionpool.py:1103: InsecureRequestWarning: Unverified HTTPS request is being made to host 'granicus_production_attachments.s3.amazonaws.com'. Adding certificate verification is strongly advised. See: https://urllib3.readthedocs.io/en/latest/advanced-usage.html#tls-warnings\n",
      "  warnings.warn(\n"
     ]
    },
    {
     "name": "stdout",
     "output_type": "stream",
     "text": [
      "2019\n",
      "https://granicus_production_attachments.s3.amazonaws.com/greenbeltmd/939cfd6349480cef5c2f76e8edbd751c0.pdf\n"
     ]
    },
    {
     "name": "stderr",
     "output_type": "stream",
     "text": [
      "C:\\Users\\ben97312\\Documents\\code\\notebooks\\Lib\\site-packages\\urllib3\\connectionpool.py:1103: InsecureRequestWarning: Unverified HTTPS request is being made to host 'granicus_production_attachments.s3.amazonaws.com'. Adding certificate verification is strongly advised. See: https://urllib3.readthedocs.io/en/latest/advanced-usage.html#tls-warnings\n",
      "  warnings.warn(\n"
     ]
    },
    {
     "name": "stdout",
     "output_type": "stream",
     "text": [
      "2019\n",
      "https://granicus_production_attachments.s3.amazonaws.com/greenbeltmd/5305d06abd2cc88dd439f47fb83472830.pdf\n"
     ]
    },
    {
     "name": "stderr",
     "output_type": "stream",
     "text": [
      "C:\\Users\\ben97312\\Documents\\code\\notebooks\\Lib\\site-packages\\urllib3\\connectionpool.py:1103: InsecureRequestWarning: Unverified HTTPS request is being made to host 'granicus_production_attachments.s3.amazonaws.com'. Adding certificate verification is strongly advised. See: https://urllib3.readthedocs.io/en/latest/advanced-usage.html#tls-warnings\n",
      "  warnings.warn(\n"
     ]
    },
    {
     "name": "stdout",
     "output_type": "stream",
     "text": [
      "2019\n",
      "https://granicus_production_attachments.s3.amazonaws.com/greenbeltmd/a10bbdfed30b15941d667622e7f422330.pdf\n"
     ]
    },
    {
     "name": "stderr",
     "output_type": "stream",
     "text": [
      "C:\\Users\\ben97312\\Documents\\code\\notebooks\\Lib\\site-packages\\urllib3\\connectionpool.py:1103: InsecureRequestWarning: Unverified HTTPS request is being made to host 'granicus_production_attachments.s3.amazonaws.com'. Adding certificate verification is strongly advised. See: https://urllib3.readthedocs.io/en/latest/advanced-usage.html#tls-warnings\n",
      "  warnings.warn(\n"
     ]
    },
    {
     "name": "stdout",
     "output_type": "stream",
     "text": [
      "2019\n",
      "https://granicus_production_attachments.s3.amazonaws.com/greenbeltmd/60f9cc1540712a7f164954d737f03c1e0.pdf\n"
     ]
    },
    {
     "name": "stderr",
     "output_type": "stream",
     "text": [
      "C:\\Users\\ben97312\\Documents\\code\\notebooks\\Lib\\site-packages\\urllib3\\connectionpool.py:1103: InsecureRequestWarning: Unverified HTTPS request is being made to host 'granicus_production_attachments.s3.amazonaws.com'. Adding certificate verification is strongly advised. See: https://urllib3.readthedocs.io/en/latest/advanced-usage.html#tls-warnings\n",
      "  warnings.warn(\n"
     ]
    },
    {
     "name": "stdout",
     "output_type": "stream",
     "text": [
      "2019\n",
      "https://granicus_production_attachments.s3.amazonaws.com/greenbeltmd/3b2d51e7385bf97d9f72de8e47bd32430.pdf\n"
     ]
    },
    {
     "name": "stderr",
     "output_type": "stream",
     "text": [
      "C:\\Users\\ben97312\\Documents\\code\\notebooks\\Lib\\site-packages\\urllib3\\connectionpool.py:1103: InsecureRequestWarning: Unverified HTTPS request is being made to host 'granicus_production_attachments.s3.amazonaws.com'. Adding certificate verification is strongly advised. See: https://urllib3.readthedocs.io/en/latest/advanced-usage.html#tls-warnings\n",
      "  warnings.warn(\n"
     ]
    },
    {
     "name": "stdout",
     "output_type": "stream",
     "text": [
      "2019\n",
      "https://granicus_production_attachments.s3.amazonaws.com/greenbeltmd/096b1a720151da0e15a7ed0c32371d890.pdf\n"
     ]
    },
    {
     "name": "stderr",
     "output_type": "stream",
     "text": [
      "C:\\Users\\ben97312\\Documents\\code\\notebooks\\Lib\\site-packages\\urllib3\\connectionpool.py:1103: InsecureRequestWarning: Unverified HTTPS request is being made to host 'granicus_production_attachments.s3.amazonaws.com'. Adding certificate verification is strongly advised. See: https://urllib3.readthedocs.io/en/latest/advanced-usage.html#tls-warnings\n",
      "  warnings.warn(\n"
     ]
    },
    {
     "name": "stdout",
     "output_type": "stream",
     "text": [
      "2019\n",
      "https://granicus_production_attachments.s3.amazonaws.com/greenbeltmd/8f3a98e07cf3a6c64c1b3b328e2851a30.pdf\n"
     ]
    },
    {
     "name": "stderr",
     "output_type": "stream",
     "text": [
      "C:\\Users\\ben97312\\Documents\\code\\notebooks\\Lib\\site-packages\\urllib3\\connectionpool.py:1103: InsecureRequestWarning: Unverified HTTPS request is being made to host 'granicus_production_attachments.s3.amazonaws.com'. Adding certificate verification is strongly advised. See: https://urllib3.readthedocs.io/en/latest/advanced-usage.html#tls-warnings\n",
      "  warnings.warn(\n"
     ]
    },
    {
     "name": "stdout",
     "output_type": "stream",
     "text": [
      "2019\n",
      "https://granicus_production_attachments.s3.amazonaws.com/greenbeltmd/0e02d7a1963d3be68a2cc0163c2115e60.pdf\n"
     ]
    },
    {
     "name": "stderr",
     "output_type": "stream",
     "text": [
      "C:\\Users\\ben97312\\Documents\\code\\notebooks\\Lib\\site-packages\\urllib3\\connectionpool.py:1103: InsecureRequestWarning: Unverified HTTPS request is being made to host 'granicus_production_attachments.s3.amazonaws.com'. Adding certificate verification is strongly advised. See: https://urllib3.readthedocs.io/en/latest/advanced-usage.html#tls-warnings\n",
      "  warnings.warn(\n"
     ]
    },
    {
     "name": "stdout",
     "output_type": "stream",
     "text": [
      "2019\n",
      "https://granicus_production_attachments.s3.amazonaws.com/greenbeltmd/466939f4ccfe434358027488421d215f0.pdf\n"
     ]
    },
    {
     "name": "stderr",
     "output_type": "stream",
     "text": [
      "C:\\Users\\ben97312\\Documents\\code\\notebooks\\Lib\\site-packages\\urllib3\\connectionpool.py:1103: InsecureRequestWarning: Unverified HTTPS request is being made to host 'granicus_production_attachments.s3.amazonaws.com'. Adding certificate verification is strongly advised. See: https://urllib3.readthedocs.io/en/latest/advanced-usage.html#tls-warnings\n",
      "  warnings.warn(\n"
     ]
    },
    {
     "name": "stdout",
     "output_type": "stream",
     "text": [
      "2019\n",
      "https://granicus_production_attachments.s3.amazonaws.com/greenbeltmd/02eef5410bd7e96dcb5538c2811b8e4c0.pdf\n"
     ]
    },
    {
     "name": "stderr",
     "output_type": "stream",
     "text": [
      "C:\\Users\\ben97312\\Documents\\code\\notebooks\\Lib\\site-packages\\urllib3\\connectionpool.py:1103: InsecureRequestWarning: Unverified HTTPS request is being made to host 'granicus_production_attachments.s3.amazonaws.com'. Adding certificate verification is strongly advised. See: https://urllib3.readthedocs.io/en/latest/advanced-usage.html#tls-warnings\n",
      "  warnings.warn(\n"
     ]
    },
    {
     "name": "stdout",
     "output_type": "stream",
     "text": [
      "2019\n",
      "https://granicus_production_attachments.s3.amazonaws.com/greenbeltmd/1f98bb2172b5834ec8c8ba2fe488b7930.pdf\n"
     ]
    },
    {
     "name": "stderr",
     "output_type": "stream",
     "text": [
      "C:\\Users\\ben97312\\Documents\\code\\notebooks\\Lib\\site-packages\\urllib3\\connectionpool.py:1103: InsecureRequestWarning: Unverified HTTPS request is being made to host 'granicus_production_attachments.s3.amazonaws.com'. Adding certificate verification is strongly advised. See: https://urllib3.readthedocs.io/en/latest/advanced-usage.html#tls-warnings\n",
      "  warnings.warn(\n",
      "C:\\Users\\ben97312\\Documents\\code\\notebooks\\Lib\\site-packages\\urllib3\\connectionpool.py:1103: InsecureRequestWarning: Unverified HTTPS request is being made to host 'granicus_production_attachments.s3.amazonaws.com'. Adding certificate verification is strongly advised. See: https://urllib3.readthedocs.io/en/latest/advanced-usage.html#tls-warnings\n",
      "  warnings.warn(\n"
     ]
    },
    {
     "name": "stdout",
     "output_type": "stream",
     "text": [
      "2019\n",
      "https://granicus_production_attachments.s3.amazonaws.com/greenbeltmd/ddfc6b003189186d52751cfb2d6ce8890.pdf\n"
     ]
    },
    {
     "name": "stderr",
     "output_type": "stream",
     "text": [
      "C:\\Users\\ben97312\\Documents\\code\\notebooks\\Lib\\site-packages\\urllib3\\connectionpool.py:1103: InsecureRequestWarning: Unverified HTTPS request is being made to host 'granicus_production_attachments.s3.amazonaws.com'. Adding certificate verification is strongly advised. See: https://urllib3.readthedocs.io/en/latest/advanced-usage.html#tls-warnings\n",
      "  warnings.warn(\n"
     ]
    },
    {
     "name": "stdout",
     "output_type": "stream",
     "text": [
      "2019\n",
      "https://granicus_production_attachments.s3.amazonaws.com/greenbeltmd/50739e00def17b7a4cd76aae8941bb0a0.pdf\n"
     ]
    },
    {
     "name": "stderr",
     "output_type": "stream",
     "text": [
      "C:\\Users\\ben97312\\Documents\\code\\notebooks\\Lib\\site-packages\\urllib3\\connectionpool.py:1103: InsecureRequestWarning: Unverified HTTPS request is being made to host 'granicus_production_attachments.s3.amazonaws.com'. Adding certificate verification is strongly advised. See: https://urllib3.readthedocs.io/en/latest/advanced-usage.html#tls-warnings\n",
      "  warnings.warn(\n",
      "C:\\Users\\ben97312\\Documents\\code\\notebooks\\Lib\\site-packages\\urllib3\\connectionpool.py:1103: InsecureRequestWarning: Unverified HTTPS request is being made to host 'granicus_production_attachments.s3.amazonaws.com'. Adding certificate verification is strongly advised. See: https://urllib3.readthedocs.io/en/latest/advanced-usage.html#tls-warnings\n",
      "  warnings.warn(\n",
      "C:\\Users\\ben97312\\Documents\\code\\notebooks\\Lib\\site-packages\\urllib3\\connectionpool.py:1103: InsecureRequestWarning: Unverified HTTPS request is being made to host 'granicus_production_attachments.s3.amazonaws.com'. Adding certificate verification is strongly advised. See: https://urllib3.readthedocs.io/en/latest/advanced-usage.html#tls-warnings\n",
      "  warnings.warn(\n"
     ]
    },
    {
     "name": "stdout",
     "output_type": "stream",
     "text": [
      "2019\n",
      "https://granicus_production_attachments.s3.amazonaws.com/greenbeltmd/bfd92102c2da4dad76b05247ee7526530.pdf\n"
     ]
    },
    {
     "name": "stderr",
     "output_type": "stream",
     "text": [
      "C:\\Users\\ben97312\\Documents\\code\\notebooks\\Lib\\site-packages\\urllib3\\connectionpool.py:1103: InsecureRequestWarning: Unverified HTTPS request is being made to host 'granicus_production_attachments.s3.amazonaws.com'. Adding certificate verification is strongly advised. See: https://urllib3.readthedocs.io/en/latest/advanced-usage.html#tls-warnings\n",
      "  warnings.warn(\n"
     ]
    },
    {
     "name": "stdout",
     "output_type": "stream",
     "text": [
      "2019\n",
      "http://greenbeltmd.granicus.com/GeneratedAgendaViewer.php?view_id=2\n",
      "Printing content causing IndexError:\n",
      "\tb'\\r\\n<!DOCTYPE html PUBLIC \"-//W3C//DTD XHTML 1.0 Transitional//EN\" \"https://www.w3.org/TR/xhtml1/DTD/xhtml1-transitional.dtd\">\\r\\n<html xmlns=\"http://www.w3.org/1999/xhtml\">\\r\\n<head id=\"Head1\"><title>\\r\\n\\t404 - Page Not Found\\r\\n</title><link href=\"../App_Themes/404/404.css\" type=\"text/css\" rel=\"stylesheet\" /></head>\\r\\n<script type=\"text/javascript\">\\r\\nfunction breakOut()\\r\\n{\\r\\n    if (top.location != location) {\\r\\n        top.location.href = document.location.href;\\r\\n    }\\r\\n}\\r\\n</script>\\r\\n<body onload=\"breakOut()\">\\r\\n\\r\\n<h1>Oops! <span>This link does not exist.</span> <a href=\"javascript:history.go(-1)\">&laquo; Go Back</a></h1>\\r\\n\\r\\n\\r\\n\\r\\n<h3>What happened? <span>List of possible reasons</span></h3>\\r\\n\\r\\n<ul>\\r\\n\\t<li>You entered the wrong URL</li>\\r\\n\\t<li>The link to this page is incorrect</li>\\r\\n\\t<li>The link you are trying to visit no longer exists</li>\\r\\n</ul>\\r\\n\\r\\n<div class=\"back\"><a href=\"javascript:history.go(-1)\">&laquo; Go Back</a></div>\\r\\n</body>\\r\\n</html>\\r\\n'\n",
      "2019\n",
      "http://greenbeltmd.granicus.com/GeneratedAgendaViewer.php?view_id=2\n",
      "Printing content causing IndexError:\n",
      "\tb'\\r\\n<!DOCTYPE html PUBLIC \"-//W3C//DTD XHTML 1.0 Transitional//EN\" \"https://www.w3.org/TR/xhtml1/DTD/xhtml1-transitional.dtd\">\\r\\n<html xmlns=\"http://www.w3.org/1999/xhtml\">\\r\\n<head id=\"Head1\"><title>\\r\\n\\t404 - Page Not Found\\r\\n</title><link href=\"../App_Themes/404/404.css\" type=\"text/css\" rel=\"stylesheet\" /></head>\\r\\n<script type=\"text/javascript\">\\r\\nfunction breakOut()\\r\\n{\\r\\n    if (top.location != location) {\\r\\n        top.location.href = document.location.href;\\r\\n    }\\r\\n}\\r\\n</script>\\r\\n<body onload=\"breakOut()\">\\r\\n\\r\\n<h1>Oops! <span>This link does not exist.</span> <a href=\"javascript:history.go(-1)\">&laquo; Go Back</a></h1>\\r\\n\\r\\n\\r\\n\\r\\n<h3>What happened? <span>List of possible reasons</span></h3>\\r\\n\\r\\n<ul>\\r\\n\\t<li>You entered the wrong URL</li>\\r\\n\\t<li>The link to this page is incorrect</li>\\r\\n\\t<li>The link you are trying to visit no longer exists</li>\\r\\n</ul>\\r\\n\\r\\n<div class=\"back\"><a href=\"javascript:history.go(-1)\">&laquo; Go Back</a></div>\\r\\n</body>\\r\\n</html>\\r\\n'\n",
      "2019\n",
      "https://granicus_production_attachments.s3.amazonaws.com/greenbeltmd/38f7fc28bfdf5efa3675dfbf1a9cf0d00.pdf\n"
     ]
    },
    {
     "name": "stderr",
     "output_type": "stream",
     "text": [
      "C:\\Users\\ben97312\\Documents\\code\\notebooks\\Lib\\site-packages\\urllib3\\connectionpool.py:1103: InsecureRequestWarning: Unverified HTTPS request is being made to host 'granicus_production_attachments.s3.amazonaws.com'. Adding certificate verification is strongly advised. See: https://urllib3.readthedocs.io/en/latest/advanced-usage.html#tls-warnings\n",
      "  warnings.warn(\n"
     ]
    },
    {
     "name": "stdout",
     "output_type": "stream",
     "text": [
      "2019\n",
      "https://granicus_production_attachments.s3.amazonaws.com/greenbeltmd/93492dc6db5ffd1a2fe6575b2e8f7f250.pdf\n"
     ]
    },
    {
     "name": "stderr",
     "output_type": "stream",
     "text": [
      "C:\\Users\\ben97312\\Documents\\code\\notebooks\\Lib\\site-packages\\urllib3\\connectionpool.py:1103: InsecureRequestWarning: Unverified HTTPS request is being made to host 'granicus_production_attachments.s3.amazonaws.com'. Adding certificate verification is strongly advised. See: https://urllib3.readthedocs.io/en/latest/advanced-usage.html#tls-warnings\n",
      "  warnings.warn(\n"
     ]
    },
    {
     "name": "stdout",
     "output_type": "stream",
     "text": [
      "2019\n",
      "https://granicus_production_attachments.s3.amazonaws.com/greenbeltmd/b5e3e55df8b60818576528f5f1468ad80.pdf\n"
     ]
    },
    {
     "name": "stderr",
     "output_type": "stream",
     "text": [
      "C:\\Users\\ben97312\\Documents\\code\\notebooks\\Lib\\site-packages\\urllib3\\connectionpool.py:1103: InsecureRequestWarning: Unverified HTTPS request is being made to host 'granicus_production_attachments.s3.amazonaws.com'. Adding certificate verification is strongly advised. See: https://urllib3.readthedocs.io/en/latest/advanced-usage.html#tls-warnings\n",
      "  warnings.warn(\n"
     ]
    },
    {
     "name": "stdout",
     "output_type": "stream",
     "text": [
      "2019\n",
      "https://granicus_production_attachments.s3.amazonaws.com/greenbeltmd/baf5ce6a2323a53c036efe06751a78c00.pdf\n"
     ]
    },
    {
     "name": "stderr",
     "output_type": "stream",
     "text": [
      "C:\\Users\\ben97312\\Documents\\code\\notebooks\\Lib\\site-packages\\urllib3\\connectionpool.py:1103: InsecureRequestWarning: Unverified HTTPS request is being made to host 'granicus_production_attachments.s3.amazonaws.com'. Adding certificate verification is strongly advised. See: https://urllib3.readthedocs.io/en/latest/advanced-usage.html#tls-warnings\n",
      "  warnings.warn(\n"
     ]
    },
    {
     "name": "stdout",
     "output_type": "stream",
     "text": [
      "2019\n",
      "https://granicus_production_attachments.s3.amazonaws.com/greenbeltmd/1f6fd0e5ce4c893a6ca9ffaecd519ef80.pdf\n"
     ]
    },
    {
     "name": "stderr",
     "output_type": "stream",
     "text": [
      "C:\\Users\\ben97312\\Documents\\code\\notebooks\\Lib\\site-packages\\urllib3\\connectionpool.py:1103: InsecureRequestWarning: Unverified HTTPS request is being made to host 'granicus_production_attachments.s3.amazonaws.com'. Adding certificate verification is strongly advised. See: https://urllib3.readthedocs.io/en/latest/advanced-usage.html#tls-warnings\n",
      "  warnings.warn(\n"
     ]
    },
    {
     "name": "stdout",
     "output_type": "stream",
     "text": [
      "2019\n",
      "https://granicus_production_attachments.s3.amazonaws.com/greenbeltmd/730dceee86f02ebaee89cb62b37627700.pdf\n"
     ]
    },
    {
     "name": "stderr",
     "output_type": "stream",
     "text": [
      "C:\\Users\\ben97312\\Documents\\code\\notebooks\\Lib\\site-packages\\urllib3\\connectionpool.py:1103: InsecureRequestWarning: Unverified HTTPS request is being made to host 'granicus_production_attachments.s3.amazonaws.com'. Adding certificate verification is strongly advised. See: https://urllib3.readthedocs.io/en/latest/advanced-usage.html#tls-warnings\n",
      "  warnings.warn(\n"
     ]
    },
    {
     "name": "stdout",
     "output_type": "stream",
     "text": [
      "2019\n",
      "https://granicus_production_attachments.s3.amazonaws.com/greenbeltmd/90271ec0dd58598a2453d7d501a7a3b40.pdf\n"
     ]
    },
    {
     "name": "stderr",
     "output_type": "stream",
     "text": [
      "C:\\Users\\ben97312\\Documents\\code\\notebooks\\Lib\\site-packages\\urllib3\\connectionpool.py:1103: InsecureRequestWarning: Unverified HTTPS request is being made to host 'granicus_production_attachments.s3.amazonaws.com'. Adding certificate verification is strongly advised. See: https://urllib3.readthedocs.io/en/latest/advanced-usage.html#tls-warnings\n",
      "  warnings.warn(\n",
      "C:\\Users\\ben97312\\Documents\\code\\notebooks\\Lib\\site-packages\\urllib3\\connectionpool.py:1103: InsecureRequestWarning: Unverified HTTPS request is being made to host 'granicus_production_attachments.s3.amazonaws.com'. Adding certificate verification is strongly advised. See: https://urllib3.readthedocs.io/en/latest/advanced-usage.html#tls-warnings\n",
      "  warnings.warn(\n"
     ]
    },
    {
     "name": "stdout",
     "output_type": "stream",
     "text": [
      "2019\n",
      "https://granicus_production_attachments.s3.amazonaws.com/greenbeltmd/47a0d0338a4d7d67da05d8d85dfa09370.pdf\n"
     ]
    },
    {
     "name": "stderr",
     "output_type": "stream",
     "text": [
      "C:\\Users\\ben97312\\Documents\\code\\notebooks\\Lib\\site-packages\\urllib3\\connectionpool.py:1103: InsecureRequestWarning: Unverified HTTPS request is being made to host 'granicus_production_attachments.s3.amazonaws.com'. Adding certificate verification is strongly advised. See: https://urllib3.readthedocs.io/en/latest/advanced-usage.html#tls-warnings\n",
      "  warnings.warn(\n"
     ]
    },
    {
     "name": "stdout",
     "output_type": "stream",
     "text": [
      "2019\n",
      "https://granicus_production_attachments.s3.amazonaws.com/greenbeltmd/e860434e352cddcffe34ed70d6f04a9c0.pdf\n"
     ]
    },
    {
     "name": "stderr",
     "output_type": "stream",
     "text": [
      "C:\\Users\\ben97312\\Documents\\code\\notebooks\\Lib\\site-packages\\urllib3\\connectionpool.py:1103: InsecureRequestWarning: Unverified HTTPS request is being made to host 'granicus_production_attachments.s3.amazonaws.com'. Adding certificate verification is strongly advised. See: https://urllib3.readthedocs.io/en/latest/advanced-usage.html#tls-warnings\n",
      "  warnings.warn(\n"
     ]
    },
    {
     "name": "stdout",
     "output_type": "stream",
     "text": [
      "2019\n",
      "https://granicus_production_attachments.s3.amazonaws.com/greenbeltmd/197e2c7077c3f7b9f5ddb1ed26adfaf20.pdf\n"
     ]
    },
    {
     "name": "stderr",
     "output_type": "stream",
     "text": [
      "C:\\Users\\ben97312\\Documents\\code\\notebooks\\Lib\\site-packages\\urllib3\\connectionpool.py:1103: InsecureRequestWarning: Unverified HTTPS request is being made to host 'granicus_production_attachments.s3.amazonaws.com'. Adding certificate verification is strongly advised. See: https://urllib3.readthedocs.io/en/latest/advanced-usage.html#tls-warnings\n",
      "  warnings.warn(\n"
     ]
    },
    {
     "name": "stdout",
     "output_type": "stream",
     "text": [
      "2019\n",
      "https://granicus_production_attachments.s3.amazonaws.com/greenbeltmd/ff8c795a96bc2c631be64d64367ed3390.pdf\n"
     ]
    },
    {
     "name": "stderr",
     "output_type": "stream",
     "text": [
      "C:\\Users\\ben97312\\Documents\\code\\notebooks\\Lib\\site-packages\\urllib3\\connectionpool.py:1103: InsecureRequestWarning: Unverified HTTPS request is being made to host 'granicus_production_attachments.s3.amazonaws.com'. Adding certificate verification is strongly advised. See: https://urllib3.readthedocs.io/en/latest/advanced-usage.html#tls-warnings\n",
      "  warnings.warn(\n"
     ]
    },
    {
     "name": "stdout",
     "output_type": "stream",
     "text": [
      "2019\n",
      "https://granicus_production_attachments.s3.amazonaws.com/greenbeltmd/dacf55d1ba6cf82f5e2e8acf3513fb160.pdf\n"
     ]
    },
    {
     "name": "stderr",
     "output_type": "stream",
     "text": [
      "C:\\Users\\ben97312\\Documents\\code\\notebooks\\Lib\\site-packages\\urllib3\\connectionpool.py:1103: InsecureRequestWarning: Unverified HTTPS request is being made to host 'granicus_production_attachments.s3.amazonaws.com'. Adding certificate verification is strongly advised. See: https://urllib3.readthedocs.io/en/latest/advanced-usage.html#tls-warnings\n",
      "  warnings.warn(\n",
      "C:\\Users\\ben97312\\Documents\\code\\notebooks\\Lib\\site-packages\\urllib3\\connectionpool.py:1103: InsecureRequestWarning: Unverified HTTPS request is being made to host 'granicus_production_attachments.s3.amazonaws.com'. Adding certificate verification is strongly advised. See: https://urllib3.readthedocs.io/en/latest/advanced-usage.html#tls-warnings\n",
      "  warnings.warn(\n",
      "C:\\Users\\ben97312\\Documents\\code\\notebooks\\Lib\\site-packages\\urllib3\\connectionpool.py:1103: InsecureRequestWarning: Unverified HTTPS request is being made to host 'granicus_production_attachments.s3.amazonaws.com'. Adding certificate verification is strongly advised. See: https://urllib3.readthedocs.io/en/latest/advanced-usage.html#tls-warnings\n",
      "  warnings.warn(\n",
      "C:\\Users\\ben97312\\Documents\\code\\notebooks\\Lib\\site-packages\\urllib3\\connectionpool.py:1103: InsecureRequestWarning: Unverified HTTPS request is being made to host 'granicus_production_attachments.s3.amazonaws.com'. Adding certificate verification is strongly advised. See: https://urllib3.readthedocs.io/en/latest/advanced-usage.html#tls-warnings\n",
      "  warnings.warn(\n",
      "C:\\Users\\ben97312\\Documents\\code\\notebooks\\Lib\\site-packages\\urllib3\\connectionpool.py:1103: InsecureRequestWarning: Unverified HTTPS request is being made to host 'granicus_production_attachments.s3.amazonaws.com'. Adding certificate verification is strongly advised. See: https://urllib3.readthedocs.io/en/latest/advanced-usage.html#tls-warnings\n",
      "  warnings.warn(\n",
      "C:\\Users\\ben97312\\Documents\\code\\notebooks\\Lib\\site-packages\\urllib3\\connectionpool.py:1103: InsecureRequestWarning: Unverified HTTPS request is being made to host 'granicus_production_attachments.s3.amazonaws.com'. Adding certificate verification is strongly advised. See: https://urllib3.readthedocs.io/en/latest/advanced-usage.html#tls-warnings\n",
      "  warnings.warn(\n",
      "C:\\Users\\ben97312\\Documents\\code\\notebooks\\Lib\\site-packages\\urllib3\\connectionpool.py:1103: InsecureRequestWarning: Unverified HTTPS request is being made to host 'granicus_production_attachments.s3.amazonaws.com'. Adding certificate verification is strongly advised. See: https://urllib3.readthedocs.io/en/latest/advanced-usage.html#tls-warnings\n",
      "  warnings.warn(\n",
      "C:\\Users\\ben97312\\Documents\\code\\notebooks\\Lib\\site-packages\\urllib3\\connectionpool.py:1103: InsecureRequestWarning: Unverified HTTPS request is being made to host 'granicus_production_attachments.s3.amazonaws.com'. Adding certificate verification is strongly advised. See: https://urllib3.readthedocs.io/en/latest/advanced-usage.html#tls-warnings\n",
      "  warnings.warn(\n",
      "C:\\Users\\ben97312\\Documents\\code\\notebooks\\Lib\\site-packages\\urllib3\\connectionpool.py:1103: InsecureRequestWarning: Unverified HTTPS request is being made to host 'granicus_production_attachments.s3.amazonaws.com'. Adding certificate verification is strongly advised. See: https://urllib3.readthedocs.io/en/latest/advanced-usage.html#tls-warnings\n",
      "  warnings.warn(\n"
     ]
    },
    {
     "name": "stdout",
     "output_type": "stream",
     "text": [
      "2019\n",
      "https://granicus_production_attachments.s3.amazonaws.com/greenbeltmd/08ffa86c39a317503d749910e7ae73090.pdf\n"
     ]
    },
    {
     "name": "stderr",
     "output_type": "stream",
     "text": [
      "C:\\Users\\ben97312\\Documents\\code\\notebooks\\Lib\\site-packages\\urllib3\\connectionpool.py:1103: InsecureRequestWarning: Unverified HTTPS request is being made to host 'granicus_production_attachments.s3.amazonaws.com'. Adding certificate verification is strongly advised. See: https://urllib3.readthedocs.io/en/latest/advanced-usage.html#tls-warnings\n",
      "  warnings.warn(\n"
     ]
    },
    {
     "name": "stdout",
     "output_type": "stream",
     "text": [
      "2019\n",
      "https://granicus_production_attachments.s3.amazonaws.com/greenbeltmd/22cdecacf82c9264e461dd70c9c68d970.pdf\n"
     ]
    },
    {
     "name": "stderr",
     "output_type": "stream",
     "text": [
      "C:\\Users\\ben97312\\Documents\\code\\notebooks\\Lib\\site-packages\\urllib3\\connectionpool.py:1103: InsecureRequestWarning: Unverified HTTPS request is being made to host 'granicus_production_attachments.s3.amazonaws.com'. Adding certificate verification is strongly advised. See: https://urllib3.readthedocs.io/en/latest/advanced-usage.html#tls-warnings\n",
      "  warnings.warn(\n",
      "C:\\Users\\ben97312\\Documents\\code\\notebooks\\Lib\\site-packages\\urllib3\\connectionpool.py:1103: InsecureRequestWarning: Unverified HTTPS request is being made to host 'granicus_production_attachments.s3.amazonaws.com'. Adding certificate verification is strongly advised. See: https://urllib3.readthedocs.io/en/latest/advanced-usage.html#tls-warnings\n",
      "  warnings.warn(\n"
     ]
    },
    {
     "name": "stdout",
     "output_type": "stream",
     "text": [
      "2019\n",
      "https://granicus_production_attachments.s3.amazonaws.com/greenbeltmd/ac149dec41d6ef60aabcbae0f2134a170.pdf\n"
     ]
    },
    {
     "name": "stderr",
     "output_type": "stream",
     "text": [
      "C:\\Users\\ben97312\\Documents\\code\\notebooks\\Lib\\site-packages\\urllib3\\connectionpool.py:1103: InsecureRequestWarning: Unverified HTTPS request is being made to host 'granicus_production_attachments.s3.amazonaws.com'. Adding certificate verification is strongly advised. See: https://urllib3.readthedocs.io/en/latest/advanced-usage.html#tls-warnings\n",
      "  warnings.warn(\n",
      "C:\\Users\\ben97312\\Documents\\code\\notebooks\\Lib\\site-packages\\urllib3\\connectionpool.py:1103: InsecureRequestWarning: Unverified HTTPS request is being made to host 'granicus_production_attachments.s3.amazonaws.com'. Adding certificate verification is strongly advised. See: https://urllib3.readthedocs.io/en/latest/advanced-usage.html#tls-warnings\n",
      "  warnings.warn(\n",
      "C:\\Users\\ben97312\\Documents\\code\\notebooks\\Lib\\site-packages\\urllib3\\connectionpool.py:1103: InsecureRequestWarning: Unverified HTTPS request is being made to host 'granicus_production_attachments.s3.amazonaws.com'. Adding certificate verification is strongly advised. See: https://urllib3.readthedocs.io/en/latest/advanced-usage.html#tls-warnings\n",
      "  warnings.warn(\n",
      "C:\\Users\\ben97312\\Documents\\code\\notebooks\\Lib\\site-packages\\urllib3\\connectionpool.py:1103: InsecureRequestWarning: Unverified HTTPS request is being made to host 'granicus_production_attachments.s3.amazonaws.com'. Adding certificate verification is strongly advised. See: https://urllib3.readthedocs.io/en/latest/advanced-usage.html#tls-warnings\n",
      "  warnings.warn(\n",
      "C:\\Users\\ben97312\\Documents\\code\\notebooks\\Lib\\site-packages\\urllib3\\connectionpool.py:1103: InsecureRequestWarning: Unverified HTTPS request is being made to host 'granicus_production_attachments.s3.amazonaws.com'. Adding certificate verification is strongly advised. See: https://urllib3.readthedocs.io/en/latest/advanced-usage.html#tls-warnings\n",
      "  warnings.warn(\n",
      "C:\\Users\\ben97312\\Documents\\code\\notebooks\\Lib\\site-packages\\urllib3\\connectionpool.py:1103: InsecureRequestWarning: Unverified HTTPS request is being made to host 'granicus_production_attachments.s3.amazonaws.com'. Adding certificate verification is strongly advised. See: https://urllib3.readthedocs.io/en/latest/advanced-usage.html#tls-warnings\n",
      "  warnings.warn(\n",
      "C:\\Users\\ben97312\\Documents\\code\\notebooks\\Lib\\site-packages\\urllib3\\connectionpool.py:1103: InsecureRequestWarning: Unverified HTTPS request is being made to host 'granicus_production_attachments.s3.amazonaws.com'. Adding certificate verification is strongly advised. See: https://urllib3.readthedocs.io/en/latest/advanced-usage.html#tls-warnings\n",
      "  warnings.warn(\n",
      "C:\\Users\\ben97312\\Documents\\code\\notebooks\\Lib\\site-packages\\urllib3\\connectionpool.py:1103: InsecureRequestWarning: Unverified HTTPS request is being made to host 'granicus_production_attachments.s3.amazonaws.com'. Adding certificate verification is strongly advised. See: https://urllib3.readthedocs.io/en/latest/advanced-usage.html#tls-warnings\n",
      "  warnings.warn(\n",
      "C:\\Users\\ben97312\\Documents\\code\\notebooks\\Lib\\site-packages\\urllib3\\connectionpool.py:1103: InsecureRequestWarning: Unverified HTTPS request is being made to host 'granicus_production_attachments.s3.amazonaws.com'. Adding certificate verification is strongly advised. See: https://urllib3.readthedocs.io/en/latest/advanced-usage.html#tls-warnings\n",
      "  warnings.warn(\n"
     ]
    },
    {
     "name": "stdout",
     "output_type": "stream",
     "text": [
      "2019\n",
      "https://granicus_production_attachments.s3.amazonaws.com/greenbeltmd/16da525c4583d94e862cbeaa693b6a5a0.pdf\n"
     ]
    },
    {
     "name": "stderr",
     "output_type": "stream",
     "text": [
      "C:\\Users\\ben97312\\Documents\\code\\notebooks\\Lib\\site-packages\\urllib3\\connectionpool.py:1103: InsecureRequestWarning: Unverified HTTPS request is being made to host 'granicus_production_attachments.s3.amazonaws.com'. Adding certificate verification is strongly advised. See: https://urllib3.readthedocs.io/en/latest/advanced-usage.html#tls-warnings\n",
      "  warnings.warn(\n",
      "C:\\Users\\ben97312\\Documents\\code\\notebooks\\Lib\\site-packages\\urllib3\\connectionpool.py:1103: InsecureRequestWarning: Unverified HTTPS request is being made to host 'granicus_production_attachments.s3.amazonaws.com'. Adding certificate verification is strongly advised. See: https://urllib3.readthedocs.io/en/latest/advanced-usage.html#tls-warnings\n",
      "  warnings.warn(\n"
     ]
    },
    {
     "name": "stdout",
     "output_type": "stream",
     "text": [
      "2019\n",
      "https://granicus_production_attachments.s3.amazonaws.com/greenbeltmd/5b358e1a466ad9ee08a6ba7e2b987f9f0.pdf\n"
     ]
    },
    {
     "name": "stderr",
     "output_type": "stream",
     "text": [
      "C:\\Users\\ben97312\\Documents\\code\\notebooks\\Lib\\site-packages\\urllib3\\connectionpool.py:1103: InsecureRequestWarning: Unverified HTTPS request is being made to host 'granicus_production_attachments.s3.amazonaws.com'. Adding certificate verification is strongly advised. See: https://urllib3.readthedocs.io/en/latest/advanced-usage.html#tls-warnings\n",
      "  warnings.warn(\n",
      "C:\\Users\\ben97312\\Documents\\code\\notebooks\\Lib\\site-packages\\urllib3\\connectionpool.py:1103: InsecureRequestWarning: Unverified HTTPS request is being made to host 'granicus_production_attachments.s3.amazonaws.com'. Adding certificate verification is strongly advised. See: https://urllib3.readthedocs.io/en/latest/advanced-usage.html#tls-warnings\n",
      "  warnings.warn(\n",
      "C:\\Users\\ben97312\\Documents\\code\\notebooks\\Lib\\site-packages\\urllib3\\connectionpool.py:1103: InsecureRequestWarning: Unverified HTTPS request is being made to host 'granicus_production_attachments.s3.amazonaws.com'. Adding certificate verification is strongly advised. See: https://urllib3.readthedocs.io/en/latest/advanced-usage.html#tls-warnings\n",
      "  warnings.warn(\n",
      "C:\\Users\\ben97312\\Documents\\code\\notebooks\\Lib\\site-packages\\urllib3\\connectionpool.py:1103: InsecureRequestWarning: Unverified HTTPS request is being made to host 'granicus_production_attachments.s3.amazonaws.com'. Adding certificate verification is strongly advised. See: https://urllib3.readthedocs.io/en/latest/advanced-usage.html#tls-warnings\n",
      "  warnings.warn(\n",
      "C:\\Users\\ben97312\\Documents\\code\\notebooks\\Lib\\site-packages\\urllib3\\connectionpool.py:1103: InsecureRequestWarning: Unverified HTTPS request is being made to host 'granicus_production_attachments.s3.amazonaws.com'. Adding certificate verification is strongly advised. See: https://urllib3.readthedocs.io/en/latest/advanced-usage.html#tls-warnings\n",
      "  warnings.warn(\n",
      "C:\\Users\\ben97312\\Documents\\code\\notebooks\\Lib\\site-packages\\urllib3\\connectionpool.py:1103: InsecureRequestWarning: Unverified HTTPS request is being made to host 'granicus_production_attachments.s3.amazonaws.com'. Adding certificate verification is strongly advised. See: https://urllib3.readthedocs.io/en/latest/advanced-usage.html#tls-warnings\n",
      "  warnings.warn(\n"
     ]
    },
    {
     "name": "stdout",
     "output_type": "stream",
     "text": [
      "2018\n",
      "https://granicus_production_attachments.s3.amazonaws.com/greenbeltmd/480b93361889a1d9f065ccae44e58f1d0.pdf\n"
     ]
    },
    {
     "name": "stderr",
     "output_type": "stream",
     "text": [
      "C:\\Users\\ben97312\\Documents\\code\\notebooks\\Lib\\site-packages\\urllib3\\connectionpool.py:1103: InsecureRequestWarning: Unverified HTTPS request is being made to host 'granicus_production_attachments.s3.amazonaws.com'. Adding certificate verification is strongly advised. See: https://urllib3.readthedocs.io/en/latest/advanced-usage.html#tls-warnings\n",
      "  warnings.warn(\n",
      "C:\\Users\\ben97312\\Documents\\code\\notebooks\\Lib\\site-packages\\urllib3\\connectionpool.py:1103: InsecureRequestWarning: Unverified HTTPS request is being made to host 'greenbeltmd.granicus.com'. Adding certificate verification is strongly advised. See: https://urllib3.readthedocs.io/en/latest/advanced-usage.html#tls-warnings\n",
      "  warnings.warn(\n"
     ]
    },
    {
     "name": "stdout",
     "output_type": "stream",
     "text": [
      "2018\n",
      "https://granicus_production_attachments.s3.amazonaws.com/greenbeltmd/cc0278999d580c379465d730ade734170.pdf\n"
     ]
    },
    {
     "name": "stderr",
     "output_type": "stream",
     "text": [
      "C:\\Users\\ben97312\\Documents\\code\\notebooks\\Lib\\site-packages\\urllib3\\connectionpool.py:1103: InsecureRequestWarning: Unverified HTTPS request is being made to host 'granicus_production_attachments.s3.amazonaws.com'. Adding certificate verification is strongly advised. See: https://urllib3.readthedocs.io/en/latest/advanced-usage.html#tls-warnings\n",
      "  warnings.warn(\n"
     ]
    },
    {
     "name": "stdout",
     "output_type": "stream",
     "text": [
      "2018\n",
      "https://granicus_production_attachments.s3.amazonaws.com/greenbeltmd/6de71879d32cf34e19e2147e5224ab320.pdf\n"
     ]
    },
    {
     "name": "stderr",
     "output_type": "stream",
     "text": [
      "C:\\Users\\ben97312\\Documents\\code\\notebooks\\Lib\\site-packages\\urllib3\\connectionpool.py:1103: InsecureRequestWarning: Unverified HTTPS request is being made to host 'granicus_production_attachments.s3.amazonaws.com'. Adding certificate verification is strongly advised. See: https://urllib3.readthedocs.io/en/latest/advanced-usage.html#tls-warnings\n",
      "  warnings.warn(\n"
     ]
    },
    {
     "name": "stdout",
     "output_type": "stream",
     "text": [
      "2018\n",
      "https://d3n9y02raazwpg.cloudfront.net/greenbeltmd/ad494741-d21a-11e8-a2a6-0050569183fa-8eed8d71-50af-102c-95ad-57135c92ca3f-1544895307.pdf\n"
     ]
    },
    {
     "name": "stderr",
     "output_type": "stream",
     "text": [
      "C:\\Users\\ben97312\\Documents\\code\\notebooks\\Lib\\site-packages\\urllib3\\connectionpool.py:1103: InsecureRequestWarning: Unverified HTTPS request is being made to host 'd3n9y02raazwpg.cloudfront.net'. Adding certificate verification is strongly advised. See: https://urllib3.readthedocs.io/en/latest/advanced-usage.html#tls-warnings\n",
      "  warnings.warn(\n"
     ]
    },
    {
     "name": "stdout",
     "output_type": "stream",
     "text": [
      "2018\n",
      "https://granicus_production_attachments.s3.amazonaws.com/greenbeltmd/984e96a50a00bf62cef50112fc3375c00.pdf\n"
     ]
    },
    {
     "name": "stderr",
     "output_type": "stream",
     "text": [
      "C:\\Users\\ben97312\\Documents\\code\\notebooks\\Lib\\site-packages\\urllib3\\connectionpool.py:1103: InsecureRequestWarning: Unverified HTTPS request is being made to host 'granicus_production_attachments.s3.amazonaws.com'. Adding certificate verification is strongly advised. See: https://urllib3.readthedocs.io/en/latest/advanced-usage.html#tls-warnings\n",
      "  warnings.warn(\n"
     ]
    },
    {
     "name": "stdout",
     "output_type": "stream",
     "text": [
      "2018\n",
      "https://granicus_production_attachments.s3.amazonaws.com/greenbeltmd/808749d0db1c16a9393653320fcaf27e0.pdf\n"
     ]
    },
    {
     "name": "stderr",
     "output_type": "stream",
     "text": [
      "C:\\Users\\ben97312\\Documents\\code\\notebooks\\Lib\\site-packages\\urllib3\\connectionpool.py:1103: InsecureRequestWarning: Unverified HTTPS request is being made to host 'granicus_production_attachments.s3.amazonaws.com'. Adding certificate verification is strongly advised. See: https://urllib3.readthedocs.io/en/latest/advanced-usage.html#tls-warnings\n",
      "  warnings.warn(\n"
     ]
    },
    {
     "name": "stdout",
     "output_type": "stream",
     "text": [
      "2018\n",
      "https://greenbeltmd.granicus.com/DocumentViewer.php?file=greenbeltmd_999653cb4d2e72027cd64fa94cd7f244.pdf&view=1\n"
     ]
    },
    {
     "name": "stderr",
     "output_type": "stream",
     "text": [
      "C:\\Users\\ben97312\\Documents\\code\\notebooks\\Lib\\site-packages\\urllib3\\connectionpool.py:1103: InsecureRequestWarning: Unverified HTTPS request is being made to host 'greenbeltmd.granicus.com'. Adding certificate verification is strongly advised. See: https://urllib3.readthedocs.io/en/latest/advanced-usage.html#tls-warnings\n",
      "  warnings.warn(\n"
     ]
    },
    {
     "name": "stdout",
     "output_type": "stream",
     "text": [
      "2018\n",
      "https://granicus_production_attachments.s3.amazonaws.com/greenbeltmd/decec0047507a9411b3905429a36a1c30.pdf\n"
     ]
    },
    {
     "name": "stderr",
     "output_type": "stream",
     "text": [
      "C:\\Users\\ben97312\\Documents\\code\\notebooks\\Lib\\site-packages\\urllib3\\connectionpool.py:1103: InsecureRequestWarning: Unverified HTTPS request is being made to host 'granicus_production_attachments.s3.amazonaws.com'. Adding certificate verification is strongly advised. See: https://urllib3.readthedocs.io/en/latest/advanced-usage.html#tls-warnings\n",
      "  warnings.warn(\n"
     ]
    },
    {
     "name": "stdout",
     "output_type": "stream",
     "text": [
      "2018\n",
      "https://granicus_production_attachments.s3.amazonaws.com/greenbeltmd/34f0268a488fbbd3e5cb2e55ae10a6360.pdf\n"
     ]
    },
    {
     "name": "stderr",
     "output_type": "stream",
     "text": [
      "C:\\Users\\ben97312\\Documents\\code\\notebooks\\Lib\\site-packages\\urllib3\\connectionpool.py:1103: InsecureRequestWarning: Unverified HTTPS request is being made to host 'granicus_production_attachments.s3.amazonaws.com'. Adding certificate verification is strongly advised. See: https://urllib3.readthedocs.io/en/latest/advanced-usage.html#tls-warnings\n",
      "  warnings.warn(\n"
     ]
    },
    {
     "name": "stdout",
     "output_type": "stream",
     "text": [
      "2018\n",
      "https://granicus_production_attachments.s3.amazonaws.com/greenbeltmd/1417e7675eafc39917cb7bde63d93c2f0.pdf\n"
     ]
    },
    {
     "name": "stderr",
     "output_type": "stream",
     "text": [
      "C:\\Users\\ben97312\\Documents\\code\\notebooks\\Lib\\site-packages\\urllib3\\connectionpool.py:1103: InsecureRequestWarning: Unverified HTTPS request is being made to host 'granicus_production_attachments.s3.amazonaws.com'. Adding certificate verification is strongly advised. See: https://urllib3.readthedocs.io/en/latest/advanced-usage.html#tls-warnings\n",
      "  warnings.warn(\n"
     ]
    },
    {
     "name": "stdout",
     "output_type": "stream",
     "text": [
      "2018\n",
      "https://granicus_production_attachments.s3.amazonaws.com/greenbeltmd/056c1400a38fa7afecb9a74ff34b8e040.pdf\n"
     ]
    },
    {
     "name": "stderr",
     "output_type": "stream",
     "text": [
      "C:\\Users\\ben97312\\Documents\\code\\notebooks\\Lib\\site-packages\\urllib3\\connectionpool.py:1103: InsecureRequestWarning: Unverified HTTPS request is being made to host 'granicus_production_attachments.s3.amazonaws.com'. Adding certificate verification is strongly advised. See: https://urllib3.readthedocs.io/en/latest/advanced-usage.html#tls-warnings\n",
      "  warnings.warn(\n"
     ]
    },
    {
     "name": "stdout",
     "output_type": "stream",
     "text": [
      "2018\n",
      "https://granicus_production_attachments.s3.amazonaws.com/greenbeltmd/19a8d431a9c7bed726affacf2f193eaa0.pdf\n"
     ]
    },
    {
     "name": "stderr",
     "output_type": "stream",
     "text": [
      "C:\\Users\\ben97312\\Documents\\code\\notebooks\\Lib\\site-packages\\urllib3\\connectionpool.py:1103: InsecureRequestWarning: Unverified HTTPS request is being made to host 'granicus_production_attachments.s3.amazonaws.com'. Adding certificate verification is strongly advised. See: https://urllib3.readthedocs.io/en/latest/advanced-usage.html#tls-warnings\n",
      "  warnings.warn(\n"
     ]
    },
    {
     "name": "stdout",
     "output_type": "stream",
     "text": [
      "2018\n",
      "https://granicus_production_attachments.s3.amazonaws.com/greenbeltmd/55ec248ab512ba781e23e07931d2f889.pdf\n"
     ]
    },
    {
     "name": "stderr",
     "output_type": "stream",
     "text": [
      "C:\\Users\\ben97312\\Documents\\code\\notebooks\\Lib\\site-packages\\urllib3\\connectionpool.py:1103: InsecureRequestWarning: Unverified HTTPS request is being made to host 'granicus_production_attachments.s3.amazonaws.com'. Adding certificate verification is strongly advised. See: https://urllib3.readthedocs.io/en/latest/advanced-usage.html#tls-warnings\n",
      "  warnings.warn(\n"
     ]
    },
    {
     "name": "stdout",
     "output_type": "stream",
     "text": [
      "2018\n",
      "https://granicus_production_attachments.s3.amazonaws.com/greenbeltmd/7fe9f2343c068adb13eb3f49d966150d.pdf\n"
     ]
    },
    {
     "name": "stderr",
     "output_type": "stream",
     "text": [
      "C:\\Users\\ben97312\\Documents\\code\\notebooks\\Lib\\site-packages\\urllib3\\connectionpool.py:1103: InsecureRequestWarning: Unverified HTTPS request is being made to host 'granicus_production_attachments.s3.amazonaws.com'. Adding certificate verification is strongly advised. See: https://urllib3.readthedocs.io/en/latest/advanced-usage.html#tls-warnings\n",
      "  warnings.warn(\n"
     ]
    },
    {
     "name": "stdout",
     "output_type": "stream",
     "text": [
      "2018\n",
      "https://granicus_production_attachments.s3.amazonaws.com/greenbeltmd/bc1bd8a4af9579ff23fd58bc98cbac5b.pdf\n"
     ]
    },
    {
     "name": "stderr",
     "output_type": "stream",
     "text": [
      "C:\\Users\\ben97312\\Documents\\code\\notebooks\\Lib\\site-packages\\urllib3\\connectionpool.py:1103: InsecureRequestWarning: Unverified HTTPS request is being made to host 'granicus_production_attachments.s3.amazonaws.com'. Adding certificate verification is strongly advised. See: https://urllib3.readthedocs.io/en/latest/advanced-usage.html#tls-warnings\n",
      "  warnings.warn(\n"
     ]
    },
    {
     "name": "stdout",
     "output_type": "stream",
     "text": [
      "2018\n",
      "https://granicus_production_attachments.s3.amazonaws.com/greenbeltmd/d4b9f61a70e04c7bd0fc62da6db8b6f0.pdf\n"
     ]
    },
    {
     "name": "stderr",
     "output_type": "stream",
     "text": [
      "C:\\Users\\ben97312\\Documents\\code\\notebooks\\Lib\\site-packages\\urllib3\\connectionpool.py:1103: InsecureRequestWarning: Unverified HTTPS request is being made to host 'granicus_production_attachments.s3.amazonaws.com'. Adding certificate verification is strongly advised. See: https://urllib3.readthedocs.io/en/latest/advanced-usage.html#tls-warnings\n",
      "  warnings.warn(\n"
     ]
    },
    {
     "name": "stdout",
     "output_type": "stream",
     "text": [
      "2018\n",
      "https://granicus_production_attachments.s3.amazonaws.com/greenbeltmd/d164f8180d4e68054bfbc7cffd924464.pdf\n"
     ]
    },
    {
     "name": "stderr",
     "output_type": "stream",
     "text": [
      "C:\\Users\\ben97312\\Documents\\code\\notebooks\\Lib\\site-packages\\urllib3\\connectionpool.py:1103: InsecureRequestWarning: Unverified HTTPS request is being made to host 'granicus_production_attachments.s3.amazonaws.com'. Adding certificate verification is strongly advised. See: https://urllib3.readthedocs.io/en/latest/advanced-usage.html#tls-warnings\n",
      "  warnings.warn(\n"
     ]
    },
    {
     "name": "stdout",
     "output_type": "stream",
     "text": [
      "2018\n",
      "https://granicus_production_attachments.s3.amazonaws.com/greenbeltmd/3b9735d201c54c9d496b90b5695a2f24.pdf\n"
     ]
    },
    {
     "name": "stderr",
     "output_type": "stream",
     "text": [
      "C:\\Users\\ben97312\\Documents\\code\\notebooks\\Lib\\site-packages\\urllib3\\connectionpool.py:1103: InsecureRequestWarning: Unverified HTTPS request is being made to host 'granicus_production_attachments.s3.amazonaws.com'. Adding certificate verification is strongly advised. See: https://urllib3.readthedocs.io/en/latest/advanced-usage.html#tls-warnings\n",
      "  warnings.warn(\n"
     ]
    },
    {
     "name": "stdout",
     "output_type": "stream",
     "text": [
      "2018\n",
      "https://granicus_production_attachments.s3.amazonaws.com/greenbeltmd/71eec01bacc45b88dac4a973edbf8b3a.pdf\n"
     ]
    },
    {
     "name": "stderr",
     "output_type": "stream",
     "text": [
      "C:\\Users\\ben97312\\Documents\\code\\notebooks\\Lib\\site-packages\\urllib3\\connectionpool.py:1103: InsecureRequestWarning: Unverified HTTPS request is being made to host 'granicus_production_attachments.s3.amazonaws.com'. Adding certificate verification is strongly advised. See: https://urllib3.readthedocs.io/en/latest/advanced-usage.html#tls-warnings\n",
      "  warnings.warn(\n",
      "C:\\Users\\ben97312\\Documents\\code\\notebooks\\Lib\\site-packages\\urllib3\\connectionpool.py:1103: InsecureRequestWarning: Unverified HTTPS request is being made to host 'legistarweb-production.s3.amazonaws.com'. Adding certificate verification is strongly advised. See: https://urllib3.readthedocs.io/en/latest/advanced-usage.html#tls-warnings\n",
      "  warnings.warn(\n"
     ]
    },
    {
     "name": "stdout",
     "output_type": "stream",
     "text": [
      "2018\n",
      "https://granicus_production_attachments.s3.amazonaws.com/greenbeltmd/1c30dbe5d47e2bc4317545a1af31b7fe.pdf\n"
     ]
    },
    {
     "name": "stderr",
     "output_type": "stream",
     "text": [
      "C:\\Users\\ben97312\\Documents\\code\\notebooks\\Lib\\site-packages\\urllib3\\connectionpool.py:1103: InsecureRequestWarning: Unverified HTTPS request is being made to host 'granicus_production_attachments.s3.amazonaws.com'. Adding certificate verification is strongly advised. See: https://urllib3.readthedocs.io/en/latest/advanced-usage.html#tls-warnings\n",
      "  warnings.warn(\n",
      "C:\\Users\\ben97312\\Documents\\code\\notebooks\\Lib\\site-packages\\urllib3\\connectionpool.py:1103: InsecureRequestWarning: Unverified HTTPS request is being made to host 'legistarweb-production.s3.amazonaws.com'. Adding certificate verification is strongly advised. See: https://urllib3.readthedocs.io/en/latest/advanced-usage.html#tls-warnings\n",
      "  warnings.warn(\n"
     ]
    },
    {
     "name": "stdout",
     "output_type": "stream",
     "text": [
      "2018\n",
      "https://legistarweb-production.s3.amazonaws.com/uploads/attachment/attachment/228091/Wave_Cannabis_Medical_Dispensary.pdf\n"
     ]
    },
    {
     "name": "stderr",
     "output_type": "stream",
     "text": [
      "C:\\Users\\ben97312\\Documents\\code\\notebooks\\Lib\\site-packages\\urllib3\\connectionpool.py:1103: InsecureRequestWarning: Unverified HTTPS request is being made to host 'legistarweb-production.s3.amazonaws.com'. Adding certificate verification is strongly advised. See: https://urllib3.readthedocs.io/en/latest/advanced-usage.html#tls-warnings\n",
      "  warnings.warn(\n"
     ]
    },
    {
     "name": "stdout",
     "output_type": "stream",
     "text": [
      "2018\n",
      "https://granicus_production_attachments.s3.amazonaws.com/greenbeltmd/fe03a4a96440c7d1d098967ecb00a513.pdf\n"
     ]
    },
    {
     "name": "stderr",
     "output_type": "stream",
     "text": [
      "C:\\Users\\ben97312\\Documents\\code\\notebooks\\Lib\\site-packages\\urllib3\\connectionpool.py:1103: InsecureRequestWarning: Unverified HTTPS request is being made to host 'granicus_production_attachments.s3.amazonaws.com'. Adding certificate verification is strongly advised. See: https://urllib3.readthedocs.io/en/latest/advanced-usage.html#tls-warnings\n",
      "  warnings.warn(\n"
     ]
    },
    {
     "name": "stdout",
     "output_type": "stream",
     "text": [
      "2018\n",
      "https://granicus_production_attachments.s3.amazonaws.com/greenbeltmd/808f828df53cb053b05d5997c334430f.pdf\n"
     ]
    },
    {
     "name": "stderr",
     "output_type": "stream",
     "text": [
      "C:\\Users\\ben97312\\Documents\\code\\notebooks\\Lib\\site-packages\\urllib3\\connectionpool.py:1103: InsecureRequestWarning: Unverified HTTPS request is being made to host 'granicus_production_attachments.s3.amazonaws.com'. Adding certificate verification is strongly advised. See: https://urllib3.readthedocs.io/en/latest/advanced-usage.html#tls-warnings\n",
      "  warnings.warn(\n",
      "IOPub data rate exceeded.\n",
      "The notebook server will temporarily stop sending output\n",
      "to the client in order to avoid crashing it.\n",
      "To change this limit, set the config variable\n",
      "`--NotebookApp.iopub_data_rate_limit`.\n",
      "\n",
      "Current values:\n",
      "NotebookApp.iopub_data_rate_limit=1000000.0 (bytes/sec)\n",
      "NotebookApp.rate_limit_window=3.0 (secs)\n",
      "\n",
      "C:\\Users\\ben97312\\Documents\\code\\notebooks\\Lib\\site-packages\\urllib3\\connectionpool.py:1103: InsecureRequestWarning: Unverified HTTPS request is being made to host 'legistarweb-production.s3.amazonaws.com'. Adding certificate verification is strongly advised. See: https://urllib3.readthedocs.io/en/latest/advanced-usage.html#tls-warnings\n",
      "  warnings.warn(\n",
      "C:\\Users\\ben97312\\Documents\\code\\notebooks\\Lib\\site-packages\\urllib3\\connectionpool.py:1103: InsecureRequestWarning: Unverified HTTPS request is being made to host 'granicus_production_attachments.s3.amazonaws.com'. Adding certificate verification is strongly advised. See: https://urllib3.readthedocs.io/en/latest/advanced-usage.html#tls-warnings\n",
      "  warnings.warn(\n",
      "C:\\Users\\ben97312\\Documents\\code\\notebooks\\Lib\\site-packages\\urllib3\\connectionpool.py:1103: InsecureRequestWarning: Unverified HTTPS request is being made to host 'granicus_production_attachments.s3.amazonaws.com'. Adding certificate verification is strongly advised. See: https://urllib3.readthedocs.io/en/latest/advanced-usage.html#tls-warnings\n",
      "  warnings.warn(\n",
      "C:\\Users\\ben97312\\Documents\\code\\notebooks\\Lib\\site-packages\\urllib3\\connectionpool.py:1103: InsecureRequestWarning: Unverified HTTPS request is being made to host 'greenbeltmd.granicus.com'. Adding certificate verification is strongly advised. See: https://urllib3.readthedocs.io/en/latest/advanced-usage.html#tls-warnings\n",
      "  warnings.warn(\n",
      "C:\\Users\\ben97312\\Documents\\code\\notebooks\\Lib\\site-packages\\urllib3\\connectionpool.py:1103: InsecureRequestWarning: Unverified HTTPS request is being made to host 'granicus_production_attachments.s3.amazonaws.com'. Adding certificate verification is strongly advised. See: https://urllib3.readthedocs.io/en/latest/advanced-usage.html#tls-warnings\n",
      "  warnings.warn(\n",
      "C:\\Users\\ben97312\\Documents\\code\\notebooks\\Lib\\site-packages\\urllib3\\connectionpool.py:1103: InsecureRequestWarning: Unverified HTTPS request is being made to host 'granicus_production_attachments.s3.amazonaws.com'. Adding certificate verification is strongly advised. See: https://urllib3.readthedocs.io/en/latest/advanced-usage.html#tls-warnings\n",
      "  warnings.warn(\n",
      "C:\\Users\\ben97312\\Documents\\code\\notebooks\\Lib\\site-packages\\urllib3\\connectionpool.py:1103: InsecureRequestWarning: Unverified HTTPS request is being made to host 'greenbeltmd.granicus.com'. Adding certificate verification is strongly advised. See: https://urllib3.readthedocs.io/en/latest/advanced-usage.html#tls-warnings\n",
      "  warnings.warn(\n"
     ]
    },
    {
     "name": "stdout",
     "output_type": "stream",
     "text": [
      "2018\n",
      "http://greenbeltmd.granicus.com/GeneratedAgendaViewer.php?view_id=2\n",
      "Printing content causing IndexError:\n",
      "\tb'\\r\\n<!DOCTYPE html PUBLIC \"-//W3C//DTD XHTML 1.0 Transitional//EN\" \"https://www.w3.org/TR/xhtml1/DTD/xhtml1-transitional.dtd\">\\r\\n<html xmlns=\"http://www.w3.org/1999/xhtml\">\\r\\n<head id=\"Head1\"><title>\\r\\n\\t404 - Page Not Found\\r\\n</title><link href=\"../App_Themes/404/404.css\" type=\"text/css\" rel=\"stylesheet\" /></head>\\r\\n<script type=\"text/javascript\">\\r\\nfunction breakOut()\\r\\n{\\r\\n    if (top.location != location) {\\r\\n        top.location.href = document.location.href;\\r\\n    }\\r\\n}\\r\\n</script>\\r\\n<body onload=\"breakOut()\">\\r\\n\\r\\n<h1>Oops! <span>This link does not exist.</span> <a href=\"javascript:history.go(-1)\">&laquo; Go Back</a></h1>\\r\\n\\r\\n\\r\\n\\r\\n<h3>What happened? <span>List of possible reasons</span></h3>\\r\\n\\r\\n<ul>\\r\\n\\t<li>You entered the wrong URL</li>\\r\\n\\t<li>The link to this page is incorrect</li>\\r\\n\\t<li>The link you are trying to visit no longer exists</li>\\r\\n</ul>\\r\\n\\r\\n<div class=\"back\"><a href=\"javascript:history.go(-1)\">&laquo; Go Back</a></div>\\r\\n</body>\\r\\n</html>\\r\\n'\n"
     ]
    },
    {
     "name": "stderr",
     "output_type": "stream",
     "text": [
      "C:\\Users\\ben97312\\Documents\\code\\notebooks\\Lib\\site-packages\\urllib3\\connectionpool.py:1103: InsecureRequestWarning: Unverified HTTPS request is being made to host 'greenbeltmd.granicus.com'. Adding certificate verification is strongly advised. See: https://urllib3.readthedocs.io/en/latest/advanced-usage.html#tls-warnings\n",
      "  warnings.warn(\n"
     ]
    },
    {
     "name": "stdout",
     "output_type": "stream",
     "text": [
      "2018\n",
      "http://greenbeltmd.granicus.com/GeneratedAgendaViewer.php?view_id=2\n",
      "Printing content causing IndexError:\n",
      "\tb'\\r\\n<!DOCTYPE html PUBLIC \"-//W3C//DTD XHTML 1.0 Transitional//EN\" \"https://www.w3.org/TR/xhtml1/DTD/xhtml1-transitional.dtd\">\\r\\n<html xmlns=\"http://www.w3.org/1999/xhtml\">\\r\\n<head id=\"Head1\"><title>\\r\\n\\t404 - Page Not Found\\r\\n</title><link href=\"../App_Themes/404/404.css\" type=\"text/css\" rel=\"stylesheet\" /></head>\\r\\n<script type=\"text/javascript\">\\r\\nfunction breakOut()\\r\\n{\\r\\n    if (top.location != location) {\\r\\n        top.location.href = document.location.href;\\r\\n    }\\r\\n}\\r\\n</script>\\r\\n<body onload=\"breakOut()\">\\r\\n\\r\\n<h1>Oops! <span>This link does not exist.</span> <a href=\"javascript:history.go(-1)\">&laquo; Go Back</a></h1>\\r\\n\\r\\n\\r\\n\\r\\n<h3>What happened? <span>List of possible reasons</span></h3>\\r\\n\\r\\n<ul>\\r\\n\\t<li>You entered the wrong URL</li>\\r\\n\\t<li>The link to this page is incorrect</li>\\r\\n\\t<li>The link you are trying to visit no longer exists</li>\\r\\n</ul>\\r\\n\\r\\n<div class=\"back\"><a href=\"javascript:history.go(-1)\">&laquo; Go Back</a></div>\\r\\n</body>\\r\\n</html>\\r\\n'\n"
     ]
    },
    {
     "name": "stderr",
     "output_type": "stream",
     "text": [
      "C:\\Users\\ben97312\\Documents\\code\\notebooks\\Lib\\site-packages\\urllib3\\connectionpool.py:1103: InsecureRequestWarning: Unverified HTTPS request is being made to host 'greenbeltmd.granicus.com'. Adding certificate verification is strongly advised. See: https://urllib3.readthedocs.io/en/latest/advanced-usage.html#tls-warnings\n",
      "  warnings.warn(\n"
     ]
    },
    {
     "name": "stdout",
     "output_type": "stream",
     "text": [
      "2018\n",
      "http://greenbeltmd.granicus.com/GeneratedAgendaViewer.php?view_id=2\n",
      "Printing content causing IndexError:\n",
      "\tb'\\r\\n<!DOCTYPE html PUBLIC \"-//W3C//DTD XHTML 1.0 Transitional//EN\" \"https://www.w3.org/TR/xhtml1/DTD/xhtml1-transitional.dtd\">\\r\\n<html xmlns=\"http://www.w3.org/1999/xhtml\">\\r\\n<head id=\"Head1\"><title>\\r\\n\\t404 - Page Not Found\\r\\n</title><link href=\"../App_Themes/404/404.css\" type=\"text/css\" rel=\"stylesheet\" /></head>\\r\\n<script type=\"text/javascript\">\\r\\nfunction breakOut()\\r\\n{\\r\\n    if (top.location != location) {\\r\\n        top.location.href = document.location.href;\\r\\n    }\\r\\n}\\r\\n</script>\\r\\n<body onload=\"breakOut()\">\\r\\n\\r\\n<h1>Oops! <span>This link does not exist.</span> <a href=\"javascript:history.go(-1)\">&laquo; Go Back</a></h1>\\r\\n\\r\\n\\r\\n\\r\\n<h3>What happened? <span>List of possible reasons</span></h3>\\r\\n\\r\\n<ul>\\r\\n\\t<li>You entered the wrong URL</li>\\r\\n\\t<li>The link to this page is incorrect</li>\\r\\n\\t<li>The link you are trying to visit no longer exists</li>\\r\\n</ul>\\r\\n\\r\\n<div class=\"back\"><a href=\"javascript:history.go(-1)\">&laquo; Go Back</a></div>\\r\\n</body>\\r\\n</html>\\r\\n'\n"
     ]
    },
    {
     "name": "stderr",
     "output_type": "stream",
     "text": [
      "C:\\Users\\ben97312\\Documents\\code\\notebooks\\Lib\\site-packages\\urllib3\\connectionpool.py:1103: InsecureRequestWarning: Unverified HTTPS request is being made to host 'greenbeltmd.granicus.com'. Adding certificate verification is strongly advised. See: https://urllib3.readthedocs.io/en/latest/advanced-usage.html#tls-warnings\n",
      "  warnings.warn(\n"
     ]
    },
    {
     "name": "stdout",
     "output_type": "stream",
     "text": [
      "2018\n",
      "http://greenbeltmd.granicus.com/GeneratedAgendaViewer.php?view_id=2\n",
      "Printing content causing IndexError:\n",
      "\tb'\\r\\n<!DOCTYPE html PUBLIC \"-//W3C//DTD XHTML 1.0 Transitional//EN\" \"https://www.w3.org/TR/xhtml1/DTD/xhtml1-transitional.dtd\">\\r\\n<html xmlns=\"http://www.w3.org/1999/xhtml\">\\r\\n<head id=\"Head1\"><title>\\r\\n\\t404 - Page Not Found\\r\\n</title><link href=\"../App_Themes/404/404.css\" type=\"text/css\" rel=\"stylesheet\" /></head>\\r\\n<script type=\"text/javascript\">\\r\\nfunction breakOut()\\r\\n{\\r\\n    if (top.location != location) {\\r\\n        top.location.href = document.location.href;\\r\\n    }\\r\\n}\\r\\n</script>\\r\\n<body onload=\"breakOut()\">\\r\\n\\r\\n<h1>Oops! <span>This link does not exist.</span> <a href=\"javascript:history.go(-1)\">&laquo; Go Back</a></h1>\\r\\n\\r\\n\\r\\n\\r\\n<h3>What happened? <span>List of possible reasons</span></h3>\\r\\n\\r\\n<ul>\\r\\n\\t<li>You entered the wrong URL</li>\\r\\n\\t<li>The link to this page is incorrect</li>\\r\\n\\t<li>The link you are trying to visit no longer exists</li>\\r\\n</ul>\\r\\n\\r\\n<div class=\"back\"><a href=\"javascript:history.go(-1)\">&laquo; Go Back</a></div>\\r\\n</body>\\r\\n</html>\\r\\n'\n",
      "2018\n",
      "http://greenbeltmd.granicus.com/GeneratedAgendaViewer.php?view_id=2\n",
      "Printing content causing IndexError:\n",
      "\tb'\\r\\n<!DOCTYPE html PUBLIC \"-//W3C//DTD XHTML 1.0 Transitional//EN\" \"https://www.w3.org/TR/xhtml1/DTD/xhtml1-transitional.dtd\">\\r\\n<html xmlns=\"http://www.w3.org/1999/xhtml\">\\r\\n<head id=\"Head1\"><title>\\r\\n\\t404 - Page Not Found\\r\\n</title><link href=\"../App_Themes/404/404.css\" type=\"text/css\" rel=\"stylesheet\" /></head>\\r\\n<script type=\"text/javascript\">\\r\\nfunction breakOut()\\r\\n{\\r\\n    if (top.location != location) {\\r\\n        top.location.href = document.location.href;\\r\\n    }\\r\\n}\\r\\n</script>\\r\\n<body onload=\"breakOut()\">\\r\\n\\r\\n<h1>Oops! <span>This link does not exist.</span> <a href=\"javascript:history.go(-1)\">&laquo; Go Back</a></h1>\\r\\n\\r\\n\\r\\n\\r\\n<h3>What happened? <span>List of possible reasons</span></h3>\\r\\n\\r\\n<ul>\\r\\n\\t<li>You entered the wrong URL</li>\\r\\n\\t<li>The link to this page is incorrect</li>\\r\\n\\t<li>The link you are trying to visit no longer exists</li>\\r\\n</ul>\\r\\n\\r\\n<div class=\"back\"><a href=\"javascript:history.go(-1)\">&laquo; Go Back</a></div>\\r\\n</body>\\r\\n</html>\\r\\n'\n"
     ]
    },
    {
     "name": "stderr",
     "output_type": "stream",
     "text": [
      "C:\\Users\\ben97312\\Documents\\code\\notebooks\\Lib\\site-packages\\urllib3\\connectionpool.py:1103: InsecureRequestWarning: Unverified HTTPS request is being made to host 'greenbeltmd.granicus.com'. Adding certificate verification is strongly advised. See: https://urllib3.readthedocs.io/en/latest/advanced-usage.html#tls-warnings\n",
      "  warnings.warn(\n"
     ]
    },
    {
     "name": "stdout",
     "output_type": "stream",
     "text": [
      "2018\n",
      "https://greenbeltmd.granicus.com/DocumentViewer.php?file=greenbeltmd_0d7dae65ab457a36842b74dc58fb14c3.pdf&view=1\n"
     ]
    },
    {
     "name": "stderr",
     "output_type": "stream",
     "text": [
      "C:\\Users\\ben97312\\Documents\\code\\notebooks\\Lib\\site-packages\\urllib3\\connectionpool.py:1103: InsecureRequestWarning: Unverified HTTPS request is being made to host 'greenbeltmd.granicus.com'. Adding certificate verification is strongly advised. See: https://urllib3.readthedocs.io/en/latest/advanced-usage.html#tls-warnings\n",
      "  warnings.warn(\n"
     ]
    },
    {
     "name": "stdout",
     "output_type": "stream",
     "text": [
      "2018\n",
      "http://greenbeltmd.granicus.com/GeneratedAgendaViewer.php?view_id=2\n",
      "Printing content causing IndexError:\n",
      "\tb'\\r\\n<!DOCTYPE html PUBLIC \"-//W3C//DTD XHTML 1.0 Transitional//EN\" \"https://www.w3.org/TR/xhtml1/DTD/xhtml1-transitional.dtd\">\\r\\n<html xmlns=\"http://www.w3.org/1999/xhtml\">\\r\\n<head id=\"Head1\"><title>\\r\\n\\t404 - Page Not Found\\r\\n</title><link href=\"../App_Themes/404/404.css\" type=\"text/css\" rel=\"stylesheet\" /></head>\\r\\n<script type=\"text/javascript\">\\r\\nfunction breakOut()\\r\\n{\\r\\n    if (top.location != location) {\\r\\n        top.location.href = document.location.href;\\r\\n    }\\r\\n}\\r\\n</script>\\r\\n<body onload=\"breakOut()\">\\r\\n\\r\\n<h1>Oops! <span>This link does not exist.</span> <a href=\"javascript:history.go(-1)\">&laquo; Go Back</a></h1>\\r\\n\\r\\n\\r\\n\\r\\n<h3>What happened? <span>List of possible reasons</span></h3>\\r\\n\\r\\n<ul>\\r\\n\\t<li>You entered the wrong URL</li>\\r\\n\\t<li>The link to this page is incorrect</li>\\r\\n\\t<li>The link you are trying to visit no longer exists</li>\\r\\n</ul>\\r\\n\\r\\n<div class=\"back\"><a href=\"javascript:history.go(-1)\">&laquo; Go Back</a></div>\\r\\n</body>\\r\\n</html>\\r\\n'\n"
     ]
    },
    {
     "name": "stderr",
     "output_type": "stream",
     "text": [
      "C:\\Users\\ben97312\\Documents\\code\\notebooks\\Lib\\site-packages\\urllib3\\connectionpool.py:1103: InsecureRequestWarning: Unverified HTTPS request is being made to host 'greenbeltmd.granicus.com'. Adding certificate verification is strongly advised. See: https://urllib3.readthedocs.io/en/latest/advanced-usage.html#tls-warnings\n",
      "  warnings.warn(\n",
      "C:\\Users\\ben97312\\Documents\\code\\notebooks\\Lib\\site-packages\\urllib3\\connectionpool.py:1103: InsecureRequestWarning: Unverified HTTPS request is being made to host 'greenbeltmd.granicus.com'. Adding certificate verification is strongly advised. See: https://urllib3.readthedocs.io/en/latest/advanced-usage.html#tls-warnings\n",
      "  warnings.warn(\n"
     ]
    },
    {
     "name": "stdout",
     "output_type": "stream",
     "text": [
      "2018\n",
      "http://greenbeltmd.granicus.com/GeneratedAgendaViewer.php?view_id=2\n",
      "Printing content causing IndexError:\n",
      "\tb'\\r\\n<!DOCTYPE html PUBLIC \"-//W3C//DTD XHTML 1.0 Transitional//EN\" \"https://www.w3.org/TR/xhtml1/DTD/xhtml1-transitional.dtd\">\\r\\n<html xmlns=\"http://www.w3.org/1999/xhtml\">\\r\\n<head id=\"Head1\"><title>\\r\\n\\t404 - Page Not Found\\r\\n</title><link href=\"../App_Themes/404/404.css\" type=\"text/css\" rel=\"stylesheet\" /></head>\\r\\n<script type=\"text/javascript\">\\r\\nfunction breakOut()\\r\\n{\\r\\n    if (top.location != location) {\\r\\n        top.location.href = document.location.href;\\r\\n    }\\r\\n}\\r\\n</script>\\r\\n<body onload=\"breakOut()\">\\r\\n\\r\\n<h1>Oops! <span>This link does not exist.</span> <a href=\"javascript:history.go(-1)\">&laquo; Go Back</a></h1>\\r\\n\\r\\n\\r\\n\\r\\n<h3>What happened? <span>List of possible reasons</span></h3>\\r\\n\\r\\n<ul>\\r\\n\\t<li>You entered the wrong URL</li>\\r\\n\\t<li>The link to this page is incorrect</li>\\r\\n\\t<li>The link you are trying to visit no longer exists</li>\\r\\n</ul>\\r\\n\\r\\n<div class=\"back\"><a href=\"javascript:history.go(-1)\">&laquo; Go Back</a></div>\\r\\n</body>\\r\\n</html>\\r\\n'\n",
      "2018\n",
      "http://greenbeltmd.granicus.com/GeneratedAgendaViewer.php?view_id=2\n",
      "Printing content causing IndexError:\n",
      "\tb'\\r\\n<!DOCTYPE html PUBLIC \"-//W3C//DTD XHTML 1.0 Transitional//EN\" \"https://www.w3.org/TR/xhtml1/DTD/xhtml1-transitional.dtd\">\\r\\n<html xmlns=\"http://www.w3.org/1999/xhtml\">\\r\\n<head id=\"Head1\"><title>\\r\\n\\t404 - Page Not Found\\r\\n</title><link href=\"../App_Themes/404/404.css\" type=\"text/css\" rel=\"stylesheet\" /></head>\\r\\n<script type=\"text/javascript\">\\r\\nfunction breakOut()\\r\\n{\\r\\n    if (top.location != location) {\\r\\n        top.location.href = document.location.href;\\r\\n    }\\r\\n}\\r\\n</script>\\r\\n<body onload=\"breakOut()\">\\r\\n\\r\\n<h1>Oops! <span>This link does not exist.</span> <a href=\"javascript:history.go(-1)\">&laquo; Go Back</a></h1>\\r\\n\\r\\n\\r\\n\\r\\n<h3>What happened? <span>List of possible reasons</span></h3>\\r\\n\\r\\n<ul>\\r\\n\\t<li>You entered the wrong URL</li>\\r\\n\\t<li>The link to this page is incorrect</li>\\r\\n\\t<li>The link you are trying to visit no longer exists</li>\\r\\n</ul>\\r\\n\\r\\n<div class=\"back\"><a href=\"javascript:history.go(-1)\">&laquo; Go Back</a></div>\\r\\n</body>\\r\\n</html>\\r\\n'\n",
      "2018\n",
      "https://greenbeltmd.granicus.com/DocumentViewer.php?file=greenbeltmd_da886c562c9561a8b6eebba8d0a8da14.pdf&view=1\n"
     ]
    },
    {
     "name": "stderr",
     "output_type": "stream",
     "text": [
      "C:\\Users\\ben97312\\Documents\\code\\notebooks\\Lib\\site-packages\\urllib3\\connectionpool.py:1103: InsecureRequestWarning: Unverified HTTPS request is being made to host 'greenbeltmd.granicus.com'. Adding certificate verification is strongly advised. See: https://urllib3.readthedocs.io/en/latest/advanced-usage.html#tls-warnings\n",
      "  warnings.warn(\n",
      "C:\\Users\\ben97312\\Documents\\code\\notebooks\\Lib\\site-packages\\urllib3\\connectionpool.py:1103: InsecureRequestWarning: Unverified HTTPS request is being made to host 'greenbeltmd.granicus.com'. Adding certificate verification is strongly advised. See: https://urllib3.readthedocs.io/en/latest/advanced-usage.html#tls-warnings\n",
      "  warnings.warn(\n"
     ]
    },
    {
     "name": "stdout",
     "output_type": "stream",
     "text": [
      "2018\n",
      "http://greenbeltmd.granicus.com/GeneratedAgendaViewer.php?view_id=2\n",
      "Printing content causing IndexError:\n",
      "\tb'\\r\\n<!DOCTYPE html PUBLIC \"-//W3C//DTD XHTML 1.0 Transitional//EN\" \"https://www.w3.org/TR/xhtml1/DTD/xhtml1-transitional.dtd\">\\r\\n<html xmlns=\"http://www.w3.org/1999/xhtml\">\\r\\n<head id=\"Head1\"><title>\\r\\n\\t404 - Page Not Found\\r\\n</title><link href=\"../App_Themes/404/404.css\" type=\"text/css\" rel=\"stylesheet\" /></head>\\r\\n<script type=\"text/javascript\">\\r\\nfunction breakOut()\\r\\n{\\r\\n    if (top.location != location) {\\r\\n        top.location.href = document.location.href;\\r\\n    }\\r\\n}\\r\\n</script>\\r\\n<body onload=\"breakOut()\">\\r\\n\\r\\n<h1>Oops! <span>This link does not exist.</span> <a href=\"javascript:history.go(-1)\">&laquo; Go Back</a></h1>\\r\\n\\r\\n\\r\\n\\r\\n<h3>What happened? <span>List of possible reasons</span></h3>\\r\\n\\r\\n<ul>\\r\\n\\t<li>You entered the wrong URL</li>\\r\\n\\t<li>The link to this page is incorrect</li>\\r\\n\\t<li>The link you are trying to visit no longer exists</li>\\r\\n</ul>\\r\\n\\r\\n<div class=\"back\"><a href=\"javascript:history.go(-1)\">&laquo; Go Back</a></div>\\r\\n</body>\\r\\n</html>\\r\\n'\n"
     ]
    },
    {
     "name": "stderr",
     "output_type": "stream",
     "text": [
      "C:\\Users\\ben97312\\Documents\\code\\notebooks\\Lib\\site-packages\\urllib3\\connectionpool.py:1103: InsecureRequestWarning: Unverified HTTPS request is being made to host 'greenbeltmd.granicus.com'. Adding certificate verification is strongly advised. See: https://urllib3.readthedocs.io/en/latest/advanced-usage.html#tls-warnings\n",
      "  warnings.warn(\n"
     ]
    },
    {
     "name": "stdout",
     "output_type": "stream",
     "text": [
      "2018\n",
      "http://greenbeltmd.granicus.com/GeneratedAgendaViewer.php?view_id=2\n",
      "Printing content causing IndexError:\n",
      "\tb'\\r\\n<!DOCTYPE html PUBLIC \"-//W3C//DTD XHTML 1.0 Transitional//EN\" \"https://www.w3.org/TR/xhtml1/DTD/xhtml1-transitional.dtd\">\\r\\n<html xmlns=\"http://www.w3.org/1999/xhtml\">\\r\\n<head id=\"Head1\"><title>\\r\\n\\t404 - Page Not Found\\r\\n</title><link href=\"../App_Themes/404/404.css\" type=\"text/css\" rel=\"stylesheet\" /></head>\\r\\n<script type=\"text/javascript\">\\r\\nfunction breakOut()\\r\\n{\\r\\n    if (top.location != location) {\\r\\n        top.location.href = document.location.href;\\r\\n    }\\r\\n}\\r\\n</script>\\r\\n<body onload=\"breakOut()\">\\r\\n\\r\\n<h1>Oops! <span>This link does not exist.</span> <a href=\"javascript:history.go(-1)\">&laquo; Go Back</a></h1>\\r\\n\\r\\n\\r\\n\\r\\n<h3>What happened? <span>List of possible reasons</span></h3>\\r\\n\\r\\n<ul>\\r\\n\\t<li>You entered the wrong URL</li>\\r\\n\\t<li>The link to this page is incorrect</li>\\r\\n\\t<li>The link you are trying to visit no longer exists</li>\\r\\n</ul>\\r\\n\\r\\n<div class=\"back\"><a href=\"javascript:history.go(-1)\">&laquo; Go Back</a></div>\\r\\n</body>\\r\\n</html>\\r\\n'\n",
      "2018\n",
      "http://greenbeltmd.granicus.com/GeneratedAgendaViewer.php?view_id=2\n",
      "Printing content causing IndexError:\n",
      "\tb'\\r\\n<!DOCTYPE html PUBLIC \"-//W3C//DTD XHTML 1.0 Transitional//EN\" \"https://www.w3.org/TR/xhtml1/DTD/xhtml1-transitional.dtd\">\\r\\n<html xmlns=\"http://www.w3.org/1999/xhtml\">\\r\\n<head id=\"Head1\"><title>\\r\\n\\t404 - Page Not Found\\r\\n</title><link href=\"../App_Themes/404/404.css\" type=\"text/css\" rel=\"stylesheet\" /></head>\\r\\n<script type=\"text/javascript\">\\r\\nfunction breakOut()\\r\\n{\\r\\n    if (top.location != location) {\\r\\n        top.location.href = document.location.href;\\r\\n    }\\r\\n}\\r\\n</script>\\r\\n<body onload=\"breakOut()\">\\r\\n\\r\\n<h1>Oops! <span>This link does not exist.</span> <a href=\"javascript:history.go(-1)\">&laquo; Go Back</a></h1>\\r\\n\\r\\n\\r\\n\\r\\n<h3>What happened? <span>List of possible reasons</span></h3>\\r\\n\\r\\n<ul>\\r\\n\\t<li>You entered the wrong URL</li>\\r\\n\\t<li>The link to this page is incorrect</li>\\r\\n\\t<li>The link you are trying to visit no longer exists</li>\\r\\n</ul>\\r\\n\\r\\n<div class=\"back\"><a href=\"javascript:history.go(-1)\">&laquo; Go Back</a></div>\\r\\n</body>\\r\\n</html>\\r\\n'\n",
      "2018\n",
      "https://greenbeltmd.granicus.com/DocumentViewer.php?file=greenbeltmd_78c9251bd47bd33eda275a702e7322ea.pdf&view=1\n"
     ]
    },
    {
     "name": "stderr",
     "output_type": "stream",
     "text": [
      "C:\\Users\\ben97312\\Documents\\code\\notebooks\\Lib\\site-packages\\urllib3\\connectionpool.py:1103: InsecureRequestWarning: Unverified HTTPS request is being made to host 'greenbeltmd.granicus.com'. Adding certificate verification is strongly advised. See: https://urllib3.readthedocs.io/en/latest/advanced-usage.html#tls-warnings\n",
      "  warnings.warn(\n"
     ]
    },
    {
     "name": "stdout",
     "output_type": "stream",
     "text": [
      "2018\n",
      "https://greenbeltmd.granicus.com/DocumentViewer.php?file=greenbeltmd_ef5424ad7a495ff37fed04807846695f.pdf&view=1\n"
     ]
    },
    {
     "name": "stderr",
     "output_type": "stream",
     "text": [
      "C:\\Users\\ben97312\\Documents\\code\\notebooks\\Lib\\site-packages\\urllib3\\connectionpool.py:1103: InsecureRequestWarning: Unverified HTTPS request is being made to host 'greenbeltmd.granicus.com'. Adding certificate verification is strongly advised. See: https://urllib3.readthedocs.io/en/latest/advanced-usage.html#tls-warnings\n",
      "  warnings.warn(\n"
     ]
    },
    {
     "name": "stdout",
     "output_type": "stream",
     "text": [
      "2018\n",
      "https://greenbeltmd.granicus.com/DocumentViewer.php?file=greenbeltmd_1bac6fa7eb715a85b9e3aef0306a50e9.pdf&view=1\n"
     ]
    },
    {
     "name": "stderr",
     "output_type": "stream",
     "text": [
      "C:\\Users\\ben97312\\Documents\\code\\notebooks\\Lib\\site-packages\\urllib3\\connectionpool.py:1103: InsecureRequestWarning: Unverified HTTPS request is being made to host 'greenbeltmd.granicus.com'. Adding certificate verification is strongly advised. See: https://urllib3.readthedocs.io/en/latest/advanced-usage.html#tls-warnings\n",
      "  warnings.warn(\n"
     ]
    },
    {
     "name": "stdout",
     "output_type": "stream",
     "text": [
      "2018\n",
      "https://greenbeltmd.granicus.com/DocumentViewer.php?file=greenbeltmd_e3d11da61f03b2de811e5e368f06575a.pdf&view=1\n"
     ]
    },
    {
     "name": "stderr",
     "output_type": "stream",
     "text": [
      "C:\\Users\\ben97312\\Documents\\code\\notebooks\\Lib\\site-packages\\urllib3\\connectionpool.py:1103: InsecureRequestWarning: Unverified HTTPS request is being made to host 'greenbeltmd.granicus.com'. Adding certificate verification is strongly advised. See: https://urllib3.readthedocs.io/en/latest/advanced-usage.html#tls-warnings\n",
      "  warnings.warn(\n"
     ]
    },
    {
     "name": "stdout",
     "output_type": "stream",
     "text": [
      "2018\n",
      "http://greenbeltmd.granicus.com/GeneratedAgendaViewer.php?view_id=2\n",
      "Printing content causing IndexError:\n",
      "\tb'\\r\\n<!DOCTYPE html PUBLIC \"-//W3C//DTD XHTML 1.0 Transitional//EN\" \"https://www.w3.org/TR/xhtml1/DTD/xhtml1-transitional.dtd\">\\r\\n<html xmlns=\"http://www.w3.org/1999/xhtml\">\\r\\n<head id=\"Head1\"><title>\\r\\n\\t404 - Page Not Found\\r\\n</title><link href=\"../App_Themes/404/404.css\" type=\"text/css\" rel=\"stylesheet\" /></head>\\r\\n<script type=\"text/javascript\">\\r\\nfunction breakOut()\\r\\n{\\r\\n    if (top.location != location) {\\r\\n        top.location.href = document.location.href;\\r\\n    }\\r\\n}\\r\\n</script>\\r\\n<body onload=\"breakOut()\">\\r\\n\\r\\n<h1>Oops! <span>This link does not exist.</span> <a href=\"javascript:history.go(-1)\">&laquo; Go Back</a></h1>\\r\\n\\r\\n\\r\\n\\r\\n<h3>What happened? <span>List of possible reasons</span></h3>\\r\\n\\r\\n<ul>\\r\\n\\t<li>You entered the wrong URL</li>\\r\\n\\t<li>The link to this page is incorrect</li>\\r\\n\\t<li>The link you are trying to visit no longer exists</li>\\r\\n</ul>\\r\\n\\r\\n<div class=\"back\"><a href=\"javascript:history.go(-1)\">&laquo; Go Back</a></div>\\r\\n</body>\\r\\n</html>\\r\\n'\n",
      "2018\n",
      "http://greenbeltmd.granicus.com/GeneratedAgendaViewer.php?view_id=2\n",
      "Printing content causing IndexError:\n",
      "\tb'\\r\\n<!DOCTYPE html PUBLIC \"-//W3C//DTD XHTML 1.0 Transitional//EN\" \"https://www.w3.org/TR/xhtml1/DTD/xhtml1-transitional.dtd\">\\r\\n<html xmlns=\"http://www.w3.org/1999/xhtml\">\\r\\n<head id=\"Head1\"><title>\\r\\n\\t404 - Page Not Found\\r\\n</title><link href=\"../App_Themes/404/404.css\" type=\"text/css\" rel=\"stylesheet\" /></head>\\r\\n<script type=\"text/javascript\">\\r\\nfunction breakOut()\\r\\n{\\r\\n    if (top.location != location) {\\r\\n        top.location.href = document.location.href;\\r\\n    }\\r\\n}\\r\\n</script>\\r\\n<body onload=\"breakOut()\">\\r\\n\\r\\n<h1>Oops! <span>This link does not exist.</span> <a href=\"javascript:history.go(-1)\">&laquo; Go Back</a></h1>\\r\\n\\r\\n\\r\\n\\r\\n<h3>What happened? <span>List of possible reasons</span></h3>\\r\\n\\r\\n<ul>\\r\\n\\t<li>You entered the wrong URL</li>\\r\\n\\t<li>The link to this page is incorrect</li>\\r\\n\\t<li>The link you are trying to visit no longer exists</li>\\r\\n</ul>\\r\\n\\r\\n<div class=\"back\"><a href=\"javascript:history.go(-1)\">&laquo; Go Back</a></div>\\r\\n</body>\\r\\n</html>\\r\\n'\n"
     ]
    },
    {
     "name": "stderr",
     "output_type": "stream",
     "text": [
      "C:\\Users\\ben97312\\Documents\\code\\notebooks\\Lib\\site-packages\\urllib3\\connectionpool.py:1103: InsecureRequestWarning: Unverified HTTPS request is being made to host 'greenbeltmd.granicus.com'. Adding certificate verification is strongly advised. See: https://urllib3.readthedocs.io/en/latest/advanced-usage.html#tls-warnings\n",
      "  warnings.warn(\n"
     ]
    },
    {
     "name": "stdout",
     "output_type": "stream",
     "text": [
      "2017\n",
      "http://greenbeltmd.granicus.com/GeneratedAgendaViewer.php?view_id=2\n",
      "Printing content causing IndexError:\n",
      "\tb'\\r\\n<!DOCTYPE html PUBLIC \"-//W3C//DTD XHTML 1.0 Transitional//EN\" \"https://www.w3.org/TR/xhtml1/DTD/xhtml1-transitional.dtd\">\\r\\n<html xmlns=\"http://www.w3.org/1999/xhtml\">\\r\\n<head id=\"Head1\"><title>\\r\\n\\t404 - Page Not Found\\r\\n</title><link href=\"../App_Themes/404/404.css\" type=\"text/css\" rel=\"stylesheet\" /></head>\\r\\n<script type=\"text/javascript\">\\r\\nfunction breakOut()\\r\\n{\\r\\n    if (top.location != location) {\\r\\n        top.location.href = document.location.href;\\r\\n    }\\r\\n}\\r\\n</script>\\r\\n<body onload=\"breakOut()\">\\r\\n\\r\\n<h1>Oops! <span>This link does not exist.</span> <a href=\"javascript:history.go(-1)\">&laquo; Go Back</a></h1>\\r\\n\\r\\n\\r\\n\\r\\n<h3>What happened? <span>List of possible reasons</span></h3>\\r\\n\\r\\n<ul>\\r\\n\\t<li>You entered the wrong URL</li>\\r\\n\\t<li>The link to this page is incorrect</li>\\r\\n\\t<li>The link you are trying to visit no longer exists</li>\\r\\n</ul>\\r\\n\\r\\n<div class=\"back\"><a href=\"javascript:history.go(-1)\">&laquo; Go Back</a></div>\\r\\n</body>\\r\\n</html>\\r\\n'\n",
      "2017\n",
      "https://greenbeltmd.granicus.com/DocumentViewer.php?file=greenbeltmd_d9898d92bfe4b47092a92e9e2fbf0c80.pdf&view=1\n"
     ]
    },
    {
     "name": "stderr",
     "output_type": "stream",
     "text": [
      "C:\\Users\\ben97312\\Documents\\code\\notebooks\\Lib\\site-packages\\urllib3\\connectionpool.py:1103: InsecureRequestWarning: Unverified HTTPS request is being made to host 'greenbeltmd.granicus.com'. Adding certificate verification is strongly advised. See: https://urllib3.readthedocs.io/en/latest/advanced-usage.html#tls-warnings\n",
      "  warnings.warn(\n"
     ]
    },
    {
     "name": "stdout",
     "output_type": "stream",
     "text": [
      "2017\n",
      "https://greenbeltmd.granicus.com/DocumentViewer.php?file=greenbeltmd_388b054013d5e2303d614de217d4574d.pdf&view=1\n"
     ]
    },
    {
     "name": "stderr",
     "output_type": "stream",
     "text": [
      "C:\\Users\\ben97312\\Documents\\code\\notebooks\\Lib\\site-packages\\urllib3\\connectionpool.py:1103: InsecureRequestWarning: Unverified HTTPS request is being made to host 'greenbeltmd.granicus.com'. Adding certificate verification is strongly advised. See: https://urllib3.readthedocs.io/en/latest/advanced-usage.html#tls-warnings\n",
      "  warnings.warn(\n"
     ]
    },
    {
     "name": "stdout",
     "output_type": "stream",
     "text": [
      "2017\n",
      "https://greenbeltmd.granicus.com/DocumentViewer.php?file=greenbeltmd_df63dc7337277d90f2db9349b5e34353.pdf&view=1\n"
     ]
    },
    {
     "name": "stderr",
     "output_type": "stream",
     "text": [
      "C:\\Users\\ben97312\\Documents\\code\\notebooks\\Lib\\site-packages\\urllib3\\connectionpool.py:1103: InsecureRequestWarning: Unverified HTTPS request is being made to host 'greenbeltmd.granicus.com'. Adding certificate verification is strongly advised. See: https://urllib3.readthedocs.io/en/latest/advanced-usage.html#tls-warnings\n",
      "  warnings.warn(\n"
     ]
    },
    {
     "name": "stdout",
     "output_type": "stream",
     "text": [
      "2017\n",
      "http://greenbeltmd.granicus.com/GeneratedAgendaViewer.php?view_id=2\n",
      "Printing content causing IndexError:\n",
      "\tb'\\r\\n<!DOCTYPE html PUBLIC \"-//W3C//DTD XHTML 1.0 Transitional//EN\" \"https://www.w3.org/TR/xhtml1/DTD/xhtml1-transitional.dtd\">\\r\\n<html xmlns=\"http://www.w3.org/1999/xhtml\">\\r\\n<head id=\"Head1\"><title>\\r\\n\\t404 - Page Not Found\\r\\n</title><link href=\"../App_Themes/404/404.css\" type=\"text/css\" rel=\"stylesheet\" /></head>\\r\\n<script type=\"text/javascript\">\\r\\nfunction breakOut()\\r\\n{\\r\\n    if (top.location != location) {\\r\\n        top.location.href = document.location.href;\\r\\n    }\\r\\n}\\r\\n</script>\\r\\n<body onload=\"breakOut()\">\\r\\n\\r\\n<h1>Oops! <span>This link does not exist.</span> <a href=\"javascript:history.go(-1)\">&laquo; Go Back</a></h1>\\r\\n\\r\\n\\r\\n\\r\\n<h3>What happened? <span>List of possible reasons</span></h3>\\r\\n\\r\\n<ul>\\r\\n\\t<li>You entered the wrong URL</li>\\r\\n\\t<li>The link to this page is incorrect</li>\\r\\n\\t<li>The link you are trying to visit no longer exists</li>\\r\\n</ul>\\r\\n\\r\\n<div class=\"back\"><a href=\"javascript:history.go(-1)\">&laquo; Go Back</a></div>\\r\\n</body>\\r\\n</html>\\r\\n'\n",
      "2017\n",
      "https://greenbeltmd.granicus.com/DocumentViewer.php?file=greenbeltmd_8f43bda9af4b5c384610dc19778c3f8f.pdf&view=1\n"
     ]
    },
    {
     "name": "stderr",
     "output_type": "stream",
     "text": [
      "C:\\Users\\ben97312\\Documents\\code\\notebooks\\Lib\\site-packages\\urllib3\\connectionpool.py:1103: InsecureRequestWarning: Unverified HTTPS request is being made to host 'greenbeltmd.granicus.com'. Adding certificate verification is strongly advised. See: https://urllib3.readthedocs.io/en/latest/advanced-usage.html#tls-warnings\n",
      "  warnings.warn(\n"
     ]
    },
    {
     "name": "stdout",
     "output_type": "stream",
     "text": [
      "2017\n",
      "http://greenbeltmd.granicus.com/GeneratedAgendaViewer.php?view_id=2\n",
      "Printing content causing IndexError:\n",
      "\tb'\\r\\n<!DOCTYPE html PUBLIC \"-//W3C//DTD XHTML 1.0 Transitional//EN\" \"https://www.w3.org/TR/xhtml1/DTD/xhtml1-transitional.dtd\">\\r\\n<html xmlns=\"http://www.w3.org/1999/xhtml\">\\r\\n<head id=\"Head1\"><title>\\r\\n\\t404 - Page Not Found\\r\\n</title><link href=\"../App_Themes/404/404.css\" type=\"text/css\" rel=\"stylesheet\" /></head>\\r\\n<script type=\"text/javascript\">\\r\\nfunction breakOut()\\r\\n{\\r\\n    if (top.location != location) {\\r\\n        top.location.href = document.location.href;\\r\\n    }\\r\\n}\\r\\n</script>\\r\\n<body onload=\"breakOut()\">\\r\\n\\r\\n<h1>Oops! <span>This link does not exist.</span> <a href=\"javascript:history.go(-1)\">&laquo; Go Back</a></h1>\\r\\n\\r\\n\\r\\n\\r\\n<h3>What happened? <span>List of possible reasons</span></h3>\\r\\n\\r\\n<ul>\\r\\n\\t<li>You entered the wrong URL</li>\\r\\n\\t<li>The link to this page is incorrect</li>\\r\\n\\t<li>The link you are trying to visit no longer exists</li>\\r\\n</ul>\\r\\n\\r\\n<div class=\"back\"><a href=\"javascript:history.go(-1)\">&laquo; Go Back</a></div>\\r\\n</body>\\r\\n</html>\\r\\n'\n",
      "2017\n",
      "https://greenbeltmd.granicus.com/DocumentViewer.php?file=greenbeltmd_5bf78003379eaf825f50de1b8cc6a690.pdf&view=1\n"
     ]
    },
    {
     "name": "stderr",
     "output_type": "stream",
     "text": [
      "C:\\Users\\ben97312\\Documents\\code\\notebooks\\Lib\\site-packages\\urllib3\\connectionpool.py:1103: InsecureRequestWarning: Unverified HTTPS request is being made to host 'greenbeltmd.granicus.com'. Adding certificate verification is strongly advised. See: https://urllib3.readthedocs.io/en/latest/advanced-usage.html#tls-warnings\n",
      "  warnings.warn(\n"
     ]
    },
    {
     "name": "stdout",
     "output_type": "stream",
     "text": [
      "2017\n",
      "https://greenbeltmd.granicus.com/DocumentViewer.php?file=greenbeltmd_d06ca19646c632416209323ca272de0d.pdf&view=1\n"
     ]
    },
    {
     "name": "stderr",
     "output_type": "stream",
     "text": [
      "C:\\Users\\ben97312\\Documents\\code\\notebooks\\Lib\\site-packages\\urllib3\\connectionpool.py:1103: InsecureRequestWarning: Unverified HTTPS request is being made to host 'greenbeltmd.granicus.com'. Adding certificate verification is strongly advised. See: https://urllib3.readthedocs.io/en/latest/advanced-usage.html#tls-warnings\n",
      "  warnings.warn(\n"
     ]
    },
    {
     "name": "stdout",
     "output_type": "stream",
     "text": [
      "2017\n",
      "http://greenbeltmd.granicus.com/GeneratedAgendaViewer.php?view_id=2\n",
      "Printing content causing IndexError:\n",
      "\tb'\\r\\n<!DOCTYPE html PUBLIC \"-//W3C//DTD XHTML 1.0 Transitional//EN\" \"https://www.w3.org/TR/xhtml1/DTD/xhtml1-transitional.dtd\">\\r\\n<html xmlns=\"http://www.w3.org/1999/xhtml\">\\r\\n<head id=\"Head1\"><title>\\r\\n\\t404 - Page Not Found\\r\\n</title><link href=\"../App_Themes/404/404.css\" type=\"text/css\" rel=\"stylesheet\" /></head>\\r\\n<script type=\"text/javascript\">\\r\\nfunction breakOut()\\r\\n{\\r\\n    if (top.location != location) {\\r\\n        top.location.href = document.location.href;\\r\\n    }\\r\\n}\\r\\n</script>\\r\\n<body onload=\"breakOut()\">\\r\\n\\r\\n<h1>Oops! <span>This link does not exist.</span> <a href=\"javascript:history.go(-1)\">&laquo; Go Back</a></h1>\\r\\n\\r\\n\\r\\n\\r\\n<h3>What happened? <span>List of possible reasons</span></h3>\\r\\n\\r\\n<ul>\\r\\n\\t<li>You entered the wrong URL</li>\\r\\n\\t<li>The link to this page is incorrect</li>\\r\\n\\t<li>The link you are trying to visit no longer exists</li>\\r\\n</ul>\\r\\n\\r\\n<div class=\"back\"><a href=\"javascript:history.go(-1)\">&laquo; Go Back</a></div>\\r\\n</body>\\r\\n</html>\\r\\n'\n",
      "2017\n",
      "https://greenbeltmd.granicus.com/DocumentViewer.php?file=greenbeltmd_6baf4600c91539c103c375cd9dc6d0f2.pdf&view=1\n"
     ]
    },
    {
     "name": "stderr",
     "output_type": "stream",
     "text": [
      "C:\\Users\\ben97312\\Documents\\code\\notebooks\\Lib\\site-packages\\urllib3\\connectionpool.py:1103: InsecureRequestWarning: Unverified HTTPS request is being made to host 'greenbeltmd.granicus.com'. Adding certificate verification is strongly advised. See: https://urllib3.readthedocs.io/en/latest/advanced-usage.html#tls-warnings\n",
      "  warnings.warn(\n"
     ]
    },
    {
     "name": "stdout",
     "output_type": "stream",
     "text": [
      "2017\n",
      "https://greenbeltmd.granicus.com/DocumentViewer.php?file=greenbeltmd_a66a6825e645b0e2fe4b9edf7a8134d5.pdf&view=1\n"
     ]
    },
    {
     "name": "stderr",
     "output_type": "stream",
     "text": [
      "C:\\Users\\ben97312\\Documents\\code\\notebooks\\Lib\\site-packages\\urllib3\\connectionpool.py:1103: InsecureRequestWarning: Unverified HTTPS request is being made to host 'greenbeltmd.granicus.com'. Adding certificate verification is strongly advised. See: https://urllib3.readthedocs.io/en/latest/advanced-usage.html#tls-warnings\n",
      "  warnings.warn(\n"
     ]
    },
    {
     "name": "stdout",
     "output_type": "stream",
     "text": [
      "2017\n",
      "http://greenbeltmd.granicus.com/GeneratedAgendaViewer.php?view_id=2\n",
      "Printing content causing IndexError:\n",
      "\tb'\\r\\n<!DOCTYPE html PUBLIC \"-//W3C//DTD XHTML 1.0 Transitional//EN\" \"https://www.w3.org/TR/xhtml1/DTD/xhtml1-transitional.dtd\">\\r\\n<html xmlns=\"http://www.w3.org/1999/xhtml\">\\r\\n<head id=\"Head1\"><title>\\r\\n\\t404 - Page Not Found\\r\\n</title><link href=\"../App_Themes/404/404.css\" type=\"text/css\" rel=\"stylesheet\" /></head>\\r\\n<script type=\"text/javascript\">\\r\\nfunction breakOut()\\r\\n{\\r\\n    if (top.location != location) {\\r\\n        top.location.href = document.location.href;\\r\\n    }\\r\\n}\\r\\n</script>\\r\\n<body onload=\"breakOut()\">\\r\\n\\r\\n<h1>Oops! <span>This link does not exist.</span> <a href=\"javascript:history.go(-1)\">&laquo; Go Back</a></h1>\\r\\n\\r\\n\\r\\n\\r\\n<h3>What happened? <span>List of possible reasons</span></h3>\\r\\n\\r\\n<ul>\\r\\n\\t<li>You entered the wrong URL</li>\\r\\n\\t<li>The link to this page is incorrect</li>\\r\\n\\t<li>The link you are trying to visit no longer exists</li>\\r\\n</ul>\\r\\n\\r\\n<div class=\"back\"><a href=\"javascript:history.go(-1)\">&laquo; Go Back</a></div>\\r\\n</body>\\r\\n</html>\\r\\n'\n",
      "2017\n",
      "https://greenbeltmd.granicus.com/DocumentViewer.php?file=greenbeltmd_f2cd459d430ec5c1650d64372fe22c4b.pdf&view=1\n"
     ]
    },
    {
     "name": "stderr",
     "output_type": "stream",
     "text": [
      "C:\\Users\\ben97312\\Documents\\code\\notebooks\\Lib\\site-packages\\urllib3\\connectionpool.py:1103: InsecureRequestWarning: Unverified HTTPS request is being made to host 'greenbeltmd.granicus.com'. Adding certificate verification is strongly advised. See: https://urllib3.readthedocs.io/en/latest/advanced-usage.html#tls-warnings\n",
      "  warnings.warn(\n"
     ]
    },
    {
     "name": "stdout",
     "output_type": "stream",
     "text": [
      "2017\n",
      "http://greenbeltmd.granicus.com/GeneratedAgendaViewer.php?view_id=2\n",
      "Printing content causing IndexError:\n",
      "\tb'\\r\\n<!DOCTYPE html PUBLIC \"-//W3C//DTD XHTML 1.0 Transitional//EN\" \"https://www.w3.org/TR/xhtml1/DTD/xhtml1-transitional.dtd\">\\r\\n<html xmlns=\"http://www.w3.org/1999/xhtml\">\\r\\n<head id=\"Head1\"><title>\\r\\n\\t404 - Page Not Found\\r\\n</title><link href=\"../App_Themes/404/404.css\" type=\"text/css\" rel=\"stylesheet\" /></head>\\r\\n<script type=\"text/javascript\">\\r\\nfunction breakOut()\\r\\n{\\r\\n    if (top.location != location) {\\r\\n        top.location.href = document.location.href;\\r\\n    }\\r\\n}\\r\\n</script>\\r\\n<body onload=\"breakOut()\">\\r\\n\\r\\n<h1>Oops! <span>This link does not exist.</span> <a href=\"javascript:history.go(-1)\">&laquo; Go Back</a></h1>\\r\\n\\r\\n\\r\\n\\r\\n<h3>What happened? <span>List of possible reasons</span></h3>\\r\\n\\r\\n<ul>\\r\\n\\t<li>You entered the wrong URL</li>\\r\\n\\t<li>The link to this page is incorrect</li>\\r\\n\\t<li>The link you are trying to visit no longer exists</li>\\r\\n</ul>\\r\\n\\r\\n<div class=\"back\"><a href=\"javascript:history.go(-1)\">&laquo; Go Back</a></div>\\r\\n</body>\\r\\n</html>\\r\\n'\n",
      "2017\n",
      "https://greenbeltmd.granicus.com/DocumentViewer.php?file=greenbeltmd_7ace7008518814b02071b345f326e3ed.pdf&view=1\n"
     ]
    },
    {
     "name": "stderr",
     "output_type": "stream",
     "text": [
      "C:\\Users\\ben97312\\Documents\\code\\notebooks\\Lib\\site-packages\\urllib3\\connectionpool.py:1103: InsecureRequestWarning: Unverified HTTPS request is being made to host 'greenbeltmd.granicus.com'. Adding certificate verification is strongly advised. See: https://urllib3.readthedocs.io/en/latest/advanced-usage.html#tls-warnings\n",
      "  warnings.warn(\n"
     ]
    },
    {
     "name": "stdout",
     "output_type": "stream",
     "text": [
      "2017\n",
      "https://greenbeltmd.granicus.com/DocumentViewer.php?file=greenbeltmd_60f9fdd6e6cbb68fbd6249a99fcb5291.pdf&view=1\n"
     ]
    },
    {
     "name": "stderr",
     "output_type": "stream",
     "text": [
      "C:\\Users\\ben97312\\Documents\\code\\notebooks\\Lib\\site-packages\\urllib3\\connectionpool.py:1103: InsecureRequestWarning: Unverified HTTPS request is being made to host 'greenbeltmd.granicus.com'. Adding certificate verification is strongly advised. See: https://urllib3.readthedocs.io/en/latest/advanced-usage.html#tls-warnings\n",
      "  warnings.warn(\n"
     ]
    },
    {
     "name": "stdout",
     "output_type": "stream",
     "text": [
      "2017\n",
      "http://greenbeltmd.granicus.com/GeneratedAgendaViewer.php?view_id=2\n",
      "Printing content causing IndexError:\n",
      "\tb'\\r\\n<!DOCTYPE html PUBLIC \"-//W3C//DTD XHTML 1.0 Transitional//EN\" \"https://www.w3.org/TR/xhtml1/DTD/xhtml1-transitional.dtd\">\\r\\n<html xmlns=\"http://www.w3.org/1999/xhtml\">\\r\\n<head id=\"Head1\"><title>\\r\\n\\t404 - Page Not Found\\r\\n</title><link href=\"../App_Themes/404/404.css\" type=\"text/css\" rel=\"stylesheet\" /></head>\\r\\n<script type=\"text/javascript\">\\r\\nfunction breakOut()\\r\\n{\\r\\n    if (top.location != location) {\\r\\n        top.location.href = document.location.href;\\r\\n    }\\r\\n}\\r\\n</script>\\r\\n<body onload=\"breakOut()\">\\r\\n\\r\\n<h1>Oops! <span>This link does not exist.</span> <a href=\"javascript:history.go(-1)\">&laquo; Go Back</a></h1>\\r\\n\\r\\n\\r\\n\\r\\n<h3>What happened? <span>List of possible reasons</span></h3>\\r\\n\\r\\n<ul>\\r\\n\\t<li>You entered the wrong URL</li>\\r\\n\\t<li>The link to this page is incorrect</li>\\r\\n\\t<li>The link you are trying to visit no longer exists</li>\\r\\n</ul>\\r\\n\\r\\n<div class=\"back\"><a href=\"javascript:history.go(-1)\">&laquo; Go Back</a></div>\\r\\n</body>\\r\\n</html>\\r\\n'\n",
      "2017\n",
      "http://greenbeltmd.granicus.com/GeneratedAgendaViewer.php?view_id=2\n",
      "Printing content causing IndexError:\n",
      "\tb'\\r\\n<!DOCTYPE html PUBLIC \"-//W3C//DTD XHTML 1.0 Transitional//EN\" \"https://www.w3.org/TR/xhtml1/DTD/xhtml1-transitional.dtd\">\\r\\n<html xmlns=\"http://www.w3.org/1999/xhtml\">\\r\\n<head id=\"Head1\"><title>\\r\\n\\t404 - Page Not Found\\r\\n</title><link href=\"../App_Themes/404/404.css\" type=\"text/css\" rel=\"stylesheet\" /></head>\\r\\n<script type=\"text/javascript\">\\r\\nfunction breakOut()\\r\\n{\\r\\n    if (top.location != location) {\\r\\n        top.location.href = document.location.href;\\r\\n    }\\r\\n}\\r\\n</script>\\r\\n<body onload=\"breakOut()\">\\r\\n\\r\\n<h1>Oops! <span>This link does not exist.</span> <a href=\"javascript:history.go(-1)\">&laquo; Go Back</a></h1>\\r\\n\\r\\n\\r\\n\\r\\n<h3>What happened? <span>List of possible reasons</span></h3>\\r\\n\\r\\n<ul>\\r\\n\\t<li>You entered the wrong URL</li>\\r\\n\\t<li>The link to this page is incorrect</li>\\r\\n\\t<li>The link you are trying to visit no longer exists</li>\\r\\n</ul>\\r\\n\\r\\n<div class=\"back\"><a href=\"javascript:history.go(-1)\">&laquo; Go Back</a></div>\\r\\n</body>\\r\\n</html>\\r\\n'\n",
      "2017\n",
      "https://greenbeltmd.granicus.com/DocumentViewer.php?file=greenbeltmd_f5e203fd177cf9078c8d1e005ea4418b.pdf&view=1\n"
     ]
    },
    {
     "name": "stderr",
     "output_type": "stream",
     "text": [
      "C:\\Users\\ben97312\\Documents\\code\\notebooks\\Lib\\site-packages\\urllib3\\connectionpool.py:1103: InsecureRequestWarning: Unverified HTTPS request is being made to host 'greenbeltmd.granicus.com'. Adding certificate verification is strongly advised. See: https://urllib3.readthedocs.io/en/latest/advanced-usage.html#tls-warnings\n",
      "  warnings.warn(\n",
      "C:\\Users\\ben97312\\Documents\\code\\notebooks\\Lib\\site-packages\\urllib3\\connectionpool.py:1103: InsecureRequestWarning: Unverified HTTPS request is being made to host 'greenbeltmd.granicus.com'. Adding certificate verification is strongly advised. See: https://urllib3.readthedocs.io/en/latest/advanced-usage.html#tls-warnings\n",
      "  warnings.warn(\n"
     ]
    },
    {
     "name": "stdout",
     "output_type": "stream",
     "text": [
      "2017\n",
      "https://greenbeltmd.granicus.com/DocumentViewer.php?file=greenbeltmd_42fdda172b9d4a16a4ab1ba797854df4.pdf&view=1\n"
     ]
    },
    {
     "name": "stderr",
     "output_type": "stream",
     "text": [
      "C:\\Users\\ben97312\\Documents\\code\\notebooks\\Lib\\site-packages\\urllib3\\connectionpool.py:1103: InsecureRequestWarning: Unverified HTTPS request is being made to host 'greenbeltmd.granicus.com'. Adding certificate verification is strongly advised. See: https://urllib3.readthedocs.io/en/latest/advanced-usage.html#tls-warnings\n",
      "  warnings.warn(\n"
     ]
    },
    {
     "name": "stdout",
     "output_type": "stream",
     "text": [
      "2017\n",
      "https://greenbeltmd.granicus.com/DocumentViewer.php?file=greenbeltmd_c1ad828d8528c079b141cfe9eba46240.pdf&view=1\n"
     ]
    },
    {
     "name": "stderr",
     "output_type": "stream",
     "text": [
      "C:\\Users\\ben97312\\Documents\\code\\notebooks\\Lib\\site-packages\\urllib3\\connectionpool.py:1103: InsecureRequestWarning: Unverified HTTPS request is being made to host 'greenbeltmd.granicus.com'. Adding certificate verification is strongly advised. See: https://urllib3.readthedocs.io/en/latest/advanced-usage.html#tls-warnings\n",
      "  warnings.warn(\n"
     ]
    },
    {
     "name": "stdout",
     "output_type": "stream",
     "text": [
      "2017\n",
      "https://greenbeltmd.granicus.com/DocumentViewer.php?file=greenbeltmd_f8a319fcda08cd1162a255097c2864fc.pdf&view=1\n"
     ]
    },
    {
     "name": "stderr",
     "output_type": "stream",
     "text": [
      "C:\\Users\\ben97312\\Documents\\code\\notebooks\\Lib\\site-packages\\urllib3\\connectionpool.py:1103: InsecureRequestWarning: Unverified HTTPS request is being made to host 'greenbeltmd.granicus.com'. Adding certificate verification is strongly advised. See: https://urllib3.readthedocs.io/en/latest/advanced-usage.html#tls-warnings\n",
      "  warnings.warn(\n"
     ]
    },
    {
     "name": "stdout",
     "output_type": "stream",
     "text": [
      "2017\n",
      "https://greenbeltmd.granicus.com/DocumentViewer.php?file=greenbeltmd_c966471294d2a92b24d2bdc782c4d2f7.pdf&view=1\n"
     ]
    },
    {
     "name": "stderr",
     "output_type": "stream",
     "text": [
      "C:\\Users\\ben97312\\Documents\\code\\notebooks\\Lib\\site-packages\\urllib3\\connectionpool.py:1103: InsecureRequestWarning: Unverified HTTPS request is being made to host 'greenbeltmd.granicus.com'. Adding certificate verification is strongly advised. See: https://urllib3.readthedocs.io/en/latest/advanced-usage.html#tls-warnings\n",
      "  warnings.warn(\n",
      "C:\\Users\\ben97312\\Documents\\code\\notebooks\\Lib\\site-packages\\urllib3\\connectionpool.py:1103: InsecureRequestWarning: Unverified HTTPS request is being made to host 'greenbeltmd.granicus.com'. Adding certificate verification is strongly advised. See: https://urllib3.readthedocs.io/en/latest/advanced-usage.html#tls-warnings\n",
      "  warnings.warn(\n",
      "C:\\Users\\ben97312\\Documents\\code\\notebooks\\Lib\\site-packages\\urllib3\\connectionpool.py:1103: InsecureRequestWarning: Unverified HTTPS request is being made to host 'greenbeltmd.granicus.com'. Adding certificate verification is strongly advised. See: https://urllib3.readthedocs.io/en/latest/advanced-usage.html#tls-warnings\n",
      "  warnings.warn(\n"
     ]
    },
    {
     "name": "stdout",
     "output_type": "stream",
     "text": [
      "2017\n",
      "http://greenbeltmd.granicus.com/GeneratedAgendaViewer.php?view_id=2\n",
      "Printing content causing IndexError:\n",
      "\tb'\\r\\n<!DOCTYPE html PUBLIC \"-//W3C//DTD XHTML 1.0 Transitional//EN\" \"https://www.w3.org/TR/xhtml1/DTD/xhtml1-transitional.dtd\">\\r\\n<html xmlns=\"http://www.w3.org/1999/xhtml\">\\r\\n<head id=\"Head1\"><title>\\r\\n\\t404 - Page Not Found\\r\\n</title><link href=\"../App_Themes/404/404.css\" type=\"text/css\" rel=\"stylesheet\" /></head>\\r\\n<script type=\"text/javascript\">\\r\\nfunction breakOut()\\r\\n{\\r\\n    if (top.location != location) {\\r\\n        top.location.href = document.location.href;\\r\\n    }\\r\\n}\\r\\n</script>\\r\\n<body onload=\"breakOut()\">\\r\\n\\r\\n<h1>Oops! <span>This link does not exist.</span> <a href=\"javascript:history.go(-1)\">&laquo; Go Back</a></h1>\\r\\n\\r\\n\\r\\n\\r\\n<h3>What happened? <span>List of possible reasons</span></h3>\\r\\n\\r\\n<ul>\\r\\n\\t<li>You entered the wrong URL</li>\\r\\n\\t<li>The link to this page is incorrect</li>\\r\\n\\t<li>The link you are trying to visit no longer exists</li>\\r\\n</ul>\\r\\n\\r\\n<div class=\"back\"><a href=\"javascript:history.go(-1)\">&laquo; Go Back</a></div>\\r\\n</body>\\r\\n</html>\\r\\n'\n"
     ]
    },
    {
     "name": "stderr",
     "output_type": "stream",
     "text": [
      "C:\\Users\\ben97312\\Documents\\code\\notebooks\\Lib\\site-packages\\urllib3\\connectionpool.py:1103: InsecureRequestWarning: Unverified HTTPS request is being made to host 'greenbeltmd.granicus.com'. Adding certificate verification is strongly advised. See: https://urllib3.readthedocs.io/en/latest/advanced-usage.html#tls-warnings\n",
      "  warnings.warn(\n"
     ]
    },
    {
     "name": "stdout",
     "output_type": "stream",
     "text": [
      "2017\n",
      "http://greenbeltmd.granicus.com/GeneratedAgendaViewer.php?view_id=2\n",
      "Printing content causing IndexError:\n",
      "\tb'\\r\\n<!DOCTYPE html PUBLIC \"-//W3C//DTD XHTML 1.0 Transitional//EN\" \"https://www.w3.org/TR/xhtml1/DTD/xhtml1-transitional.dtd\">\\r\\n<html xmlns=\"http://www.w3.org/1999/xhtml\">\\r\\n<head id=\"Head1\"><title>\\r\\n\\t404 - Page Not Found\\r\\n</title><link href=\"../App_Themes/404/404.css\" type=\"text/css\" rel=\"stylesheet\" /></head>\\r\\n<script type=\"text/javascript\">\\r\\nfunction breakOut()\\r\\n{\\r\\n    if (top.location != location) {\\r\\n        top.location.href = document.location.href;\\r\\n    }\\r\\n}\\r\\n</script>\\r\\n<body onload=\"breakOut()\">\\r\\n\\r\\n<h1>Oops! <span>This link does not exist.</span> <a href=\"javascript:history.go(-1)\">&laquo; Go Back</a></h1>\\r\\n\\r\\n\\r\\n\\r\\n<h3>What happened? <span>List of possible reasons</span></h3>\\r\\n\\r\\n<ul>\\r\\n\\t<li>You entered the wrong URL</li>\\r\\n\\t<li>The link to this page is incorrect</li>\\r\\n\\t<li>The link you are trying to visit no longer exists</li>\\r\\n</ul>\\r\\n\\r\\n<div class=\"back\"><a href=\"javascript:history.go(-1)\">&laquo; Go Back</a></div>\\r\\n</body>\\r\\n</html>\\r\\n'\n"
     ]
    },
    {
     "name": "stderr",
     "output_type": "stream",
     "text": [
      "C:\\Users\\ben97312\\Documents\\code\\notebooks\\Lib\\site-packages\\urllib3\\connectionpool.py:1103: InsecureRequestWarning: Unverified HTTPS request is being made to host 'greenbeltmd.granicus.com'. Adding certificate verification is strongly advised. See: https://urllib3.readthedocs.io/en/latest/advanced-usage.html#tls-warnings\n",
      "  warnings.warn(\n",
      "C:\\Users\\ben97312\\Documents\\code\\notebooks\\Lib\\site-packages\\urllib3\\connectionpool.py:1103: InsecureRequestWarning: Unverified HTTPS request is being made to host 'greenbeltmd.granicus.com'. Adding certificate verification is strongly advised. See: https://urllib3.readthedocs.io/en/latest/advanced-usage.html#tls-warnings\n",
      "  warnings.warn(\n"
     ]
    },
    {
     "name": "stdout",
     "output_type": "stream",
     "text": [
      "2017\n",
      "http://greenbeltmd.granicus.com/GeneratedAgendaViewer.php?view_id=2\n",
      "Printing content causing IndexError:\n",
      "\tb'\\r\\n<!DOCTYPE html PUBLIC \"-//W3C//DTD XHTML 1.0 Transitional//EN\" \"https://www.w3.org/TR/xhtml1/DTD/xhtml1-transitional.dtd\">\\r\\n<html xmlns=\"http://www.w3.org/1999/xhtml\">\\r\\n<head id=\"Head1\"><title>\\r\\n\\t404 - Page Not Found\\r\\n</title><link href=\"../App_Themes/404/404.css\" type=\"text/css\" rel=\"stylesheet\" /></head>\\r\\n<script type=\"text/javascript\">\\r\\nfunction breakOut()\\r\\n{\\r\\n    if (top.location != location) {\\r\\n        top.location.href = document.location.href;\\r\\n    }\\r\\n}\\r\\n</script>\\r\\n<body onload=\"breakOut()\">\\r\\n\\r\\n<h1>Oops! <span>This link does not exist.</span> <a href=\"javascript:history.go(-1)\">&laquo; Go Back</a></h1>\\r\\n\\r\\n\\r\\n\\r\\n<h3>What happened? <span>List of possible reasons</span></h3>\\r\\n\\r\\n<ul>\\r\\n\\t<li>You entered the wrong URL</li>\\r\\n\\t<li>The link to this page is incorrect</li>\\r\\n\\t<li>The link you are trying to visit no longer exists</li>\\r\\n</ul>\\r\\n\\r\\n<div class=\"back\"><a href=\"javascript:history.go(-1)\">&laquo; Go Back</a></div>\\r\\n</body>\\r\\n</html>\\r\\n'\n"
     ]
    },
    {
     "name": "stderr",
     "output_type": "stream",
     "text": [
      "C:\\Users\\ben97312\\Documents\\code\\notebooks\\Lib\\site-packages\\urllib3\\connectionpool.py:1103: InsecureRequestWarning: Unverified HTTPS request is being made to host 'greenbeltmd.granicus.com'. Adding certificate verification is strongly advised. See: https://urllib3.readthedocs.io/en/latest/advanced-usage.html#tls-warnings\n",
      "  warnings.warn(\n"
     ]
    },
    {
     "name": "stdout",
     "output_type": "stream",
     "text": [
      "2017\n",
      "http://greenbeltmd.granicus.com/GeneratedAgendaViewer.php?view_id=2\n",
      "Printing content causing IndexError:\n",
      "\tb'\\r\\n<!DOCTYPE html PUBLIC \"-//W3C//DTD XHTML 1.0 Transitional//EN\" \"https://www.w3.org/TR/xhtml1/DTD/xhtml1-transitional.dtd\">\\r\\n<html xmlns=\"http://www.w3.org/1999/xhtml\">\\r\\n<head id=\"Head1\"><title>\\r\\n\\t404 - Page Not Found\\r\\n</title><link href=\"../App_Themes/404/404.css\" type=\"text/css\" rel=\"stylesheet\" /></head>\\r\\n<script type=\"text/javascript\">\\r\\nfunction breakOut()\\r\\n{\\r\\n    if (top.location != location) {\\r\\n        top.location.href = document.location.href;\\r\\n    }\\r\\n}\\r\\n</script>\\r\\n<body onload=\"breakOut()\">\\r\\n\\r\\n<h1>Oops! <span>This link does not exist.</span> <a href=\"javascript:history.go(-1)\">&laquo; Go Back</a></h1>\\r\\n\\r\\n\\r\\n\\r\\n<h3>What happened? <span>List of possible reasons</span></h3>\\r\\n\\r\\n<ul>\\r\\n\\t<li>You entered the wrong URL</li>\\r\\n\\t<li>The link to this page is incorrect</li>\\r\\n\\t<li>The link you are trying to visit no longer exists</li>\\r\\n</ul>\\r\\n\\r\\n<div class=\"back\"><a href=\"javascript:history.go(-1)\">&laquo; Go Back</a></div>\\r\\n</body>\\r\\n</html>\\r\\n'\n"
     ]
    },
    {
     "name": "stderr",
     "output_type": "stream",
     "text": [
      "C:\\Users\\ben97312\\Documents\\code\\notebooks\\Lib\\site-packages\\urllib3\\connectionpool.py:1103: InsecureRequestWarning: Unverified HTTPS request is being made to host 'greenbeltmd.granicus.com'. Adding certificate verification is strongly advised. See: https://urllib3.readthedocs.io/en/latest/advanced-usage.html#tls-warnings\n",
      "  warnings.warn(\n",
      "C:\\Users\\ben97312\\Documents\\code\\notebooks\\Lib\\site-packages\\urllib3\\connectionpool.py:1103: InsecureRequestWarning: Unverified HTTPS request is being made to host 'greenbeltmd.granicus.com'. Adding certificate verification is strongly advised. See: https://urllib3.readthedocs.io/en/latest/advanced-usage.html#tls-warnings\n",
      "  warnings.warn(\n",
      "C:\\Users\\ben97312\\Documents\\code\\notebooks\\Lib\\site-packages\\urllib3\\connectionpool.py:1103: InsecureRequestWarning: Unverified HTTPS request is being made to host 'greenbeltmd.granicus.com'. Adding certificate verification is strongly advised. See: https://urllib3.readthedocs.io/en/latest/advanced-usage.html#tls-warnings\n",
      "  warnings.warn(\n"
     ]
    },
    {
     "name": "stdout",
     "output_type": "stream",
     "text": [
      "2017\n",
      "http://greenbeltmd.granicus.com/GeneratedAgendaViewer.php?view_id=2\n",
      "Printing content causing IndexError:\n",
      "\tb'\\r\\n<!DOCTYPE html PUBLIC \"-//W3C//DTD XHTML 1.0 Transitional//EN\" \"https://www.w3.org/TR/xhtml1/DTD/xhtml1-transitional.dtd\">\\r\\n<html xmlns=\"http://www.w3.org/1999/xhtml\">\\r\\n<head id=\"Head1\"><title>\\r\\n\\t404 - Page Not Found\\r\\n</title><link href=\"../App_Themes/404/404.css\" type=\"text/css\" rel=\"stylesheet\" /></head>\\r\\n<script type=\"text/javascript\">\\r\\nfunction breakOut()\\r\\n{\\r\\n    if (top.location != location) {\\r\\n        top.location.href = document.location.href;\\r\\n    }\\r\\n}\\r\\n</script>\\r\\n<body onload=\"breakOut()\">\\r\\n\\r\\n<h1>Oops! <span>This link does not exist.</span> <a href=\"javascript:history.go(-1)\">&laquo; Go Back</a></h1>\\r\\n\\r\\n\\r\\n\\r\\n<h3>What happened? <span>List of possible reasons</span></h3>\\r\\n\\r\\n<ul>\\r\\n\\t<li>You entered the wrong URL</li>\\r\\n\\t<li>The link to this page is incorrect</li>\\r\\n\\t<li>The link you are trying to visit no longer exists</li>\\r\\n</ul>\\r\\n\\r\\n<div class=\"back\"><a href=\"javascript:history.go(-1)\">&laquo; Go Back</a></div>\\r\\n</body>\\r\\n</html>\\r\\n'\n"
     ]
    },
    {
     "name": "stderr",
     "output_type": "stream",
     "text": [
      "C:\\Users\\ben97312\\Documents\\code\\notebooks\\Lib\\site-packages\\urllib3\\connectionpool.py:1103: InsecureRequestWarning: Unverified HTTPS request is being made to host 'greenbeltmd.granicus.com'. Adding certificate verification is strongly advised. See: https://urllib3.readthedocs.io/en/latest/advanced-usage.html#tls-warnings\n",
      "  warnings.warn(\n",
      "C:\\Users\\ben97312\\Documents\\code\\notebooks\\Lib\\site-packages\\urllib3\\connectionpool.py:1103: InsecureRequestWarning: Unverified HTTPS request is being made to host 'greenbeltmd.granicus.com'. Adding certificate verification is strongly advised. See: https://urllib3.readthedocs.io/en/latest/advanced-usage.html#tls-warnings\n",
      "  warnings.warn(\n"
     ]
    },
    {
     "name": "stdout",
     "output_type": "stream",
     "text": [
      "2017\n",
      "http://greenbeltmd.granicus.com/GeneratedAgendaViewer.php?view_id=2\n",
      "Printing content causing IndexError:\n",
      "\tb'\\r\\n<!DOCTYPE html PUBLIC \"-//W3C//DTD XHTML 1.0 Transitional//EN\" \"https://www.w3.org/TR/xhtml1/DTD/xhtml1-transitional.dtd\">\\r\\n<html xmlns=\"http://www.w3.org/1999/xhtml\">\\r\\n<head id=\"Head1\"><title>\\r\\n\\t404 - Page Not Found\\r\\n</title><link href=\"../App_Themes/404/404.css\" type=\"text/css\" rel=\"stylesheet\" /></head>\\r\\n<script type=\"text/javascript\">\\r\\nfunction breakOut()\\r\\n{\\r\\n    if (top.location != location) {\\r\\n        top.location.href = document.location.href;\\r\\n    }\\r\\n}\\r\\n</script>\\r\\n<body onload=\"breakOut()\">\\r\\n\\r\\n<h1>Oops! <span>This link does not exist.</span> <a href=\"javascript:history.go(-1)\">&laquo; Go Back</a></h1>\\r\\n\\r\\n\\r\\n\\r\\n<h3>What happened? <span>List of possible reasons</span></h3>\\r\\n\\r\\n<ul>\\r\\n\\t<li>You entered the wrong URL</li>\\r\\n\\t<li>The link to this page is incorrect</li>\\r\\n\\t<li>The link you are trying to visit no longer exists</li>\\r\\n</ul>\\r\\n\\r\\n<div class=\"back\"><a href=\"javascript:history.go(-1)\">&laquo; Go Back</a></div>\\r\\n</body>\\r\\n</html>\\r\\n'\n"
     ]
    },
    {
     "name": "stderr",
     "output_type": "stream",
     "text": [
      "C:\\Users\\ben97312\\Documents\\code\\notebooks\\Lib\\site-packages\\urllib3\\connectionpool.py:1103: InsecureRequestWarning: Unverified HTTPS request is being made to host 'greenbeltmd.granicus.com'. Adding certificate verification is strongly advised. See: https://urllib3.readthedocs.io/en/latest/advanced-usage.html#tls-warnings\n",
      "  warnings.warn(\n",
      "C:\\Users\\ben97312\\Documents\\code\\notebooks\\Lib\\site-packages\\urllib3\\connectionpool.py:1103: InsecureRequestWarning: Unverified HTTPS request is being made to host 'greenbeltmd.granicus.com'. Adding certificate verification is strongly advised. See: https://urllib3.readthedocs.io/en/latest/advanced-usage.html#tls-warnings\n",
      "  warnings.warn(\n"
     ]
    },
    {
     "name": "stdout",
     "output_type": "stream",
     "text": [
      "2017\n",
      "http://greenbeltmd.granicus.com/GeneratedAgendaViewer.php?view_id=2\n",
      "Printing content causing IndexError:\n",
      "\tb'\\r\\n<!DOCTYPE html PUBLIC \"-//W3C//DTD XHTML 1.0 Transitional//EN\" \"https://www.w3.org/TR/xhtml1/DTD/xhtml1-transitional.dtd\">\\r\\n<html xmlns=\"http://www.w3.org/1999/xhtml\">\\r\\n<head id=\"Head1\"><title>\\r\\n\\t404 - Page Not Found\\r\\n</title><link href=\"../App_Themes/404/404.css\" type=\"text/css\" rel=\"stylesheet\" /></head>\\r\\n<script type=\"text/javascript\">\\r\\nfunction breakOut()\\r\\n{\\r\\n    if (top.location != location) {\\r\\n        top.location.href = document.location.href;\\r\\n    }\\r\\n}\\r\\n</script>\\r\\n<body onload=\"breakOut()\">\\r\\n\\r\\n<h1>Oops! <span>This link does not exist.</span> <a href=\"javascript:history.go(-1)\">&laquo; Go Back</a></h1>\\r\\n\\r\\n\\r\\n\\r\\n<h3>What happened? <span>List of possible reasons</span></h3>\\r\\n\\r\\n<ul>\\r\\n\\t<li>You entered the wrong URL</li>\\r\\n\\t<li>The link to this page is incorrect</li>\\r\\n\\t<li>The link you are trying to visit no longer exists</li>\\r\\n</ul>\\r\\n\\r\\n<div class=\"back\"><a href=\"javascript:history.go(-1)\">&laquo; Go Back</a></div>\\r\\n</body>\\r\\n</html>\\r\\n'\n"
     ]
    },
    {
     "name": "stderr",
     "output_type": "stream",
     "text": [
      "C:\\Users\\ben97312\\Documents\\code\\notebooks\\Lib\\site-packages\\urllib3\\connectionpool.py:1103: InsecureRequestWarning: Unverified HTTPS request is being made to host 'greenbeltmd.granicus.com'. Adding certificate verification is strongly advised. See: https://urllib3.readthedocs.io/en/latest/advanced-usage.html#tls-warnings\n",
      "  warnings.warn(\n",
      "C:\\Users\\ben97312\\Documents\\code\\notebooks\\Lib\\site-packages\\urllib3\\connectionpool.py:1103: InsecureRequestWarning: Unverified HTTPS request is being made to host 'greenbeltmd.granicus.com'. Adding certificate verification is strongly advised. See: https://urllib3.readthedocs.io/en/latest/advanced-usage.html#tls-warnings\n",
      "  warnings.warn(\n"
     ]
    },
    {
     "name": "stdout",
     "output_type": "stream",
     "text": [
      "2017\n",
      "https://greenbeltmd.granicus.com/DocumentViewer.php?file=greenbeltmd_bf00400e26eb6e323b26d42690da33e3.pdf&view=1\n"
     ]
    },
    {
     "name": "stderr",
     "output_type": "stream",
     "text": [
      "C:\\Users\\ben97312\\Documents\\code\\notebooks\\Lib\\site-packages\\urllib3\\connectionpool.py:1103: InsecureRequestWarning: Unverified HTTPS request is being made to host 'greenbeltmd.granicus.com'. Adding certificate verification is strongly advised. See: https://urllib3.readthedocs.io/en/latest/advanced-usage.html#tls-warnings\n",
      "  warnings.warn(\n",
      "C:\\Users\\ben97312\\Documents\\code\\notebooks\\Lib\\site-packages\\urllib3\\connectionpool.py:1103: InsecureRequestWarning: Unverified HTTPS request is being made to host 'greenbeltmd.granicus.com'. Adding certificate verification is strongly advised. See: https://urllib3.readthedocs.io/en/latest/advanced-usage.html#tls-warnings\n",
      "  warnings.warn(\n"
     ]
    },
    {
     "name": "stdout",
     "output_type": "stream",
     "text": [
      "2017\n",
      "http://greenbeltmd.granicus.com/GeneratedAgendaViewer.php?view_id=2\n",
      "Printing content causing IndexError:\n",
      "\tb'\\r\\n<!DOCTYPE html PUBLIC \"-//W3C//DTD XHTML 1.0 Transitional//EN\" \"https://www.w3.org/TR/xhtml1/DTD/xhtml1-transitional.dtd\">\\r\\n<html xmlns=\"http://www.w3.org/1999/xhtml\">\\r\\n<head id=\"Head1\"><title>\\r\\n\\t404 - Page Not Found\\r\\n</title><link href=\"../App_Themes/404/404.css\" type=\"text/css\" rel=\"stylesheet\" /></head>\\r\\n<script type=\"text/javascript\">\\r\\nfunction breakOut()\\r\\n{\\r\\n    if (top.location != location) {\\r\\n        top.location.href = document.location.href;\\r\\n    }\\r\\n}\\r\\n</script>\\r\\n<body onload=\"breakOut()\">\\r\\n\\r\\n<h1>Oops! <span>This link does not exist.</span> <a href=\"javascript:history.go(-1)\">&laquo; Go Back</a></h1>\\r\\n\\r\\n\\r\\n\\r\\n<h3>What happened? <span>List of possible reasons</span></h3>\\r\\n\\r\\n<ul>\\r\\n\\t<li>You entered the wrong URL</li>\\r\\n\\t<li>The link to this page is incorrect</li>\\r\\n\\t<li>The link you are trying to visit no longer exists</li>\\r\\n</ul>\\r\\n\\r\\n<div class=\"back\"><a href=\"javascript:history.go(-1)\">&laquo; Go Back</a></div>\\r\\n</body>\\r\\n</html>\\r\\n'\n"
     ]
    },
    {
     "name": "stderr",
     "output_type": "stream",
     "text": [
      "C:\\Users\\ben97312\\Documents\\code\\notebooks\\Lib\\site-packages\\urllib3\\connectionpool.py:1103: InsecureRequestWarning: Unverified HTTPS request is being made to host 'greenbeltmd.granicus.com'. Adding certificate verification is strongly advised. See: https://urllib3.readthedocs.io/en/latest/advanced-usage.html#tls-warnings\n",
      "  warnings.warn(\n",
      "C:\\Users\\ben97312\\Documents\\code\\notebooks\\Lib\\site-packages\\urllib3\\connectionpool.py:1103: InsecureRequestWarning: Unverified HTTPS request is being made to host 'greenbeltmd.granicus.com'. Adding certificate verification is strongly advised. See: https://urllib3.readthedocs.io/en/latest/advanced-usage.html#tls-warnings\n",
      "  warnings.warn(\n"
     ]
    },
    {
     "name": "stdout",
     "output_type": "stream",
     "text": [
      "2017\n",
      "https://greenbeltmd.granicus.com/DocumentViewer.php?file=greenbeltmd_ceecf119f7191b20e76bda3bf5fb6fd9.pdf&view=1\n"
     ]
    },
    {
     "name": "stderr",
     "output_type": "stream",
     "text": [
      "C:\\Users\\ben97312\\Documents\\code\\notebooks\\Lib\\site-packages\\urllib3\\connectionpool.py:1103: InsecureRequestWarning: Unverified HTTPS request is being made to host 'greenbeltmd.granicus.com'. Adding certificate verification is strongly advised. See: https://urllib3.readthedocs.io/en/latest/advanced-usage.html#tls-warnings\n",
      "  warnings.warn(\n"
     ]
    },
    {
     "name": "stdout",
     "output_type": "stream",
     "text": [
      "2017\n",
      "http://greenbeltmd.granicus.com/GeneratedAgendaViewer.php?view_id=2\n",
      "Printing content causing IndexError:\n",
      "\tb'\\r\\n<!DOCTYPE html PUBLIC \"-//W3C//DTD XHTML 1.0 Transitional//EN\" \"https://www.w3.org/TR/xhtml1/DTD/xhtml1-transitional.dtd\">\\r\\n<html xmlns=\"http://www.w3.org/1999/xhtml\">\\r\\n<head id=\"Head1\"><title>\\r\\n\\t404 - Page Not Found\\r\\n</title><link href=\"../App_Themes/404/404.css\" type=\"text/css\" rel=\"stylesheet\" /></head>\\r\\n<script type=\"text/javascript\">\\r\\nfunction breakOut()\\r\\n{\\r\\n    if (top.location != location) {\\r\\n        top.location.href = document.location.href;\\r\\n    }\\r\\n}\\r\\n</script>\\r\\n<body onload=\"breakOut()\">\\r\\n\\r\\n<h1>Oops! <span>This link does not exist.</span> <a href=\"javascript:history.go(-1)\">&laquo; Go Back</a></h1>\\r\\n\\r\\n\\r\\n\\r\\n<h3>What happened? <span>List of possible reasons</span></h3>\\r\\n\\r\\n<ul>\\r\\n\\t<li>You entered the wrong URL</li>\\r\\n\\t<li>The link to this page is incorrect</li>\\r\\n\\t<li>The link you are trying to visit no longer exists</li>\\r\\n</ul>\\r\\n\\r\\n<div class=\"back\"><a href=\"javascript:history.go(-1)\">&laquo; Go Back</a></div>\\r\\n</body>\\r\\n</html>\\r\\n'\n",
      "2017\n",
      "https://greenbeltmd.granicus.com/DocumentViewer.php?file=greenbeltmd_39bddf9656f9b2b93aee57720ccf44ae.pdf&view=1\n"
     ]
    },
    {
     "name": "stderr",
     "output_type": "stream",
     "text": [
      "C:\\Users\\ben97312\\Documents\\code\\notebooks\\Lib\\site-packages\\urllib3\\connectionpool.py:1103: InsecureRequestWarning: Unverified HTTPS request is being made to host 'greenbeltmd.granicus.com'. Adding certificate verification is strongly advised. See: https://urllib3.readthedocs.io/en/latest/advanced-usage.html#tls-warnings\n",
      "  warnings.warn(\n"
     ]
    },
    {
     "name": "stdout",
     "output_type": "stream",
     "text": [
      "2017\n",
      "http://greenbeltmd.granicus.com/GeneratedAgendaViewer.php?view_id=2\n",
      "Printing content causing IndexError:\n",
      "\tb'\\r\\n<!DOCTYPE html PUBLIC \"-//W3C//DTD XHTML 1.0 Transitional//EN\" \"https://www.w3.org/TR/xhtml1/DTD/xhtml1-transitional.dtd\">\\r\\n<html xmlns=\"http://www.w3.org/1999/xhtml\">\\r\\n<head id=\"Head1\"><title>\\r\\n\\t404 - Page Not Found\\r\\n</title><link href=\"../App_Themes/404/404.css\" type=\"text/css\" rel=\"stylesheet\" /></head>\\r\\n<script type=\"text/javascript\">\\r\\nfunction breakOut()\\r\\n{\\r\\n    if (top.location != location) {\\r\\n        top.location.href = document.location.href;\\r\\n    }\\r\\n}\\r\\n</script>\\r\\n<body onload=\"breakOut()\">\\r\\n\\r\\n<h1>Oops! <span>This link does not exist.</span> <a href=\"javascript:history.go(-1)\">&laquo; Go Back</a></h1>\\r\\n\\r\\n\\r\\n\\r\\n<h3>What happened? <span>List of possible reasons</span></h3>\\r\\n\\r\\n<ul>\\r\\n\\t<li>You entered the wrong URL</li>\\r\\n\\t<li>The link to this page is incorrect</li>\\r\\n\\t<li>The link you are trying to visit no longer exists</li>\\r\\n</ul>\\r\\n\\r\\n<div class=\"back\"><a href=\"javascript:history.go(-1)\">&laquo; Go Back</a></div>\\r\\n</body>\\r\\n</html>\\r\\n'\n",
      "2017\n",
      "https://greenbeltmd.granicus.com/DocumentViewer.php?file=greenbeltmd_4cd7636bd8a8d99a23025ead3fb37f3d.pdf&view=1\n"
     ]
    },
    {
     "name": "stderr",
     "output_type": "stream",
     "text": [
      "C:\\Users\\ben97312\\Documents\\code\\notebooks\\Lib\\site-packages\\urllib3\\connectionpool.py:1103: InsecureRequestWarning: Unverified HTTPS request is being made to host 'greenbeltmd.granicus.com'. Adding certificate verification is strongly advised. See: https://urllib3.readthedocs.io/en/latest/advanced-usage.html#tls-warnings\n",
      "  warnings.warn(\n"
     ]
    },
    {
     "name": "stdout",
     "output_type": "stream",
     "text": [
      "2017\n",
      "https://greenbeltmd.granicus.com/DocumentViewer.php?file=greenbeltmd_3125f6ddd1879042fd75c1403ee64e8f.pdf&view=1\n"
     ]
    },
    {
     "name": "stderr",
     "output_type": "stream",
     "text": [
      "C:\\Users\\ben97312\\Documents\\code\\notebooks\\Lib\\site-packages\\urllib3\\connectionpool.py:1103: InsecureRequestWarning: Unverified HTTPS request is being made to host 'greenbeltmd.granicus.com'. Adding certificate verification is strongly advised. See: https://urllib3.readthedocs.io/en/latest/advanced-usage.html#tls-warnings\n",
      "  warnings.warn(\n"
     ]
    },
    {
     "name": "stdout",
     "output_type": "stream",
     "text": [
      "2017\n",
      "http://greenbeltmd.granicus.com/GeneratedAgendaViewer.php?view_id=2\n",
      "Printing content causing IndexError:\n",
      "\tb'\\r\\n<!DOCTYPE html PUBLIC \"-//W3C//DTD XHTML 1.0 Transitional//EN\" \"https://www.w3.org/TR/xhtml1/DTD/xhtml1-transitional.dtd\">\\r\\n<html xmlns=\"http://www.w3.org/1999/xhtml\">\\r\\n<head id=\"Head1\"><title>\\r\\n\\t404 - Page Not Found\\r\\n</title><link href=\"../App_Themes/404/404.css\" type=\"text/css\" rel=\"stylesheet\" /></head>\\r\\n<script type=\"text/javascript\">\\r\\nfunction breakOut()\\r\\n{\\r\\n    if (top.location != location) {\\r\\n        top.location.href = document.location.href;\\r\\n    }\\r\\n}\\r\\n</script>\\r\\n<body onload=\"breakOut()\">\\r\\n\\r\\n<h1>Oops! <span>This link does not exist.</span> <a href=\"javascript:history.go(-1)\">&laquo; Go Back</a></h1>\\r\\n\\r\\n\\r\\n\\r\\n<h3>What happened? <span>List of possible reasons</span></h3>\\r\\n\\r\\n<ul>\\r\\n\\t<li>You entered the wrong URL</li>\\r\\n\\t<li>The link to this page is incorrect</li>\\r\\n\\t<li>The link you are trying to visit no longer exists</li>\\r\\n</ul>\\r\\n\\r\\n<div class=\"back\"><a href=\"javascript:history.go(-1)\">&laquo; Go Back</a></div>\\r\\n</body>\\r\\n</html>\\r\\n'\n",
      "2017\n",
      "https://greenbeltmd.granicus.com/DocumentViewer.php?file=greenbeltmd_150a98682732c450ccb01b02421dda3c.pdf&view=1\n"
     ]
    },
    {
     "name": "stderr",
     "output_type": "stream",
     "text": [
      "C:\\Users\\ben97312\\Documents\\code\\notebooks\\Lib\\site-packages\\urllib3\\connectionpool.py:1103: InsecureRequestWarning: Unverified HTTPS request is being made to host 'greenbeltmd.granicus.com'. Adding certificate verification is strongly advised. See: https://urllib3.readthedocs.io/en/latest/advanced-usage.html#tls-warnings\n",
      "  warnings.warn(\n"
     ]
    },
    {
     "name": "stdout",
     "output_type": "stream",
     "text": [
      "2017\n",
      "https://greenbeltmd.granicus.com/DocumentViewer.php?file=greenbeltmd_40554a7819b3d6c2888576a5209e1a20.pdf&view=1\n"
     ]
    },
    {
     "name": "stderr",
     "output_type": "stream",
     "text": [
      "C:\\Users\\ben97312\\Documents\\code\\notebooks\\Lib\\site-packages\\urllib3\\connectionpool.py:1103: InsecureRequestWarning: Unverified HTTPS request is being made to host 'greenbeltmd.granicus.com'. Adding certificate verification is strongly advised. See: https://urllib3.readthedocs.io/en/latest/advanced-usage.html#tls-warnings\n",
      "  warnings.warn(\n"
     ]
    },
    {
     "name": "stdout",
     "output_type": "stream",
     "text": [
      "2017\n",
      "https://greenbeltmd.granicus.com/DocumentViewer.php?file=greenbeltmd_543600d0e14db68ff990ccdecb6e1313.pdf&view=1\n"
     ]
    },
    {
     "name": "stderr",
     "output_type": "stream",
     "text": [
      "C:\\Users\\ben97312\\Documents\\code\\notebooks\\Lib\\site-packages\\urllib3\\connectionpool.py:1103: InsecureRequestWarning: Unverified HTTPS request is being made to host 'greenbeltmd.granicus.com'. Adding certificate verification is strongly advised. See: https://urllib3.readthedocs.io/en/latest/advanced-usage.html#tls-warnings\n",
      "  warnings.warn(\n"
     ]
    },
    {
     "name": "stdout",
     "output_type": "stream",
     "text": [
      "2017\n",
      "http://greenbeltmd.granicus.com/GeneratedAgendaViewer.php?view_id=2\n",
      "Printing content causing IndexError:\n",
      "\tb'\\r\\n<!DOCTYPE html PUBLIC \"-//W3C//DTD XHTML 1.0 Transitional//EN\" \"https://www.w3.org/TR/xhtml1/DTD/xhtml1-transitional.dtd\">\\r\\n<html xmlns=\"http://www.w3.org/1999/xhtml\">\\r\\n<head id=\"Head1\"><title>\\r\\n\\t404 - Page Not Found\\r\\n</title><link href=\"../App_Themes/404/404.css\" type=\"text/css\" rel=\"stylesheet\" /></head>\\r\\n<script type=\"text/javascript\">\\r\\nfunction breakOut()\\r\\n{\\r\\n    if (top.location != location) {\\r\\n        top.location.href = document.location.href;\\r\\n    }\\r\\n}\\r\\n</script>\\r\\n<body onload=\"breakOut()\">\\r\\n\\r\\n<h1>Oops! <span>This link does not exist.</span> <a href=\"javascript:history.go(-1)\">&laquo; Go Back</a></h1>\\r\\n\\r\\n\\r\\n\\r\\n<h3>What happened? <span>List of possible reasons</span></h3>\\r\\n\\r\\n<ul>\\r\\n\\t<li>You entered the wrong URL</li>\\r\\n\\t<li>The link to this page is incorrect</li>\\r\\n\\t<li>The link you are trying to visit no longer exists</li>\\r\\n</ul>\\r\\n\\r\\n<div class=\"back\"><a href=\"javascript:history.go(-1)\">&laquo; Go Back</a></div>\\r\\n</body>\\r\\n</html>\\r\\n'\n",
      "2017\n",
      "https://greenbeltmd.granicus.com/DocumentViewer.php?file=greenbeltmd_1c8c2f14fcd56ea286f00dea50fa5fbb.pdf&view=1\n"
     ]
    },
    {
     "name": "stderr",
     "output_type": "stream",
     "text": [
      "C:\\Users\\ben97312\\Documents\\code\\notebooks\\Lib\\site-packages\\urllib3\\connectionpool.py:1103: InsecureRequestWarning: Unverified HTTPS request is being made to host 'greenbeltmd.granicus.com'. Adding certificate verification is strongly advised. See: https://urllib3.readthedocs.io/en/latest/advanced-usage.html#tls-warnings\n",
      "  warnings.warn(\n"
     ]
    },
    {
     "name": "stdout",
     "output_type": "stream",
     "text": [
      "2017\n",
      "http://greenbeltmd.granicus.com/GeneratedAgendaViewer.php?view_id=2\n",
      "Printing content causing IndexError:\n",
      "\tb'\\r\\n<!DOCTYPE html PUBLIC \"-//W3C//DTD XHTML 1.0 Transitional//EN\" \"https://www.w3.org/TR/xhtml1/DTD/xhtml1-transitional.dtd\">\\r\\n<html xmlns=\"http://www.w3.org/1999/xhtml\">\\r\\n<head id=\"Head1\"><title>\\r\\n\\t404 - Page Not Found\\r\\n</title><link href=\"../App_Themes/404/404.css\" type=\"text/css\" rel=\"stylesheet\" /></head>\\r\\n<script type=\"text/javascript\">\\r\\nfunction breakOut()\\r\\n{\\r\\n    if (top.location != location) {\\r\\n        top.location.href = document.location.href;\\r\\n    }\\r\\n}\\r\\n</script>\\r\\n<body onload=\"breakOut()\">\\r\\n\\r\\n<h1>Oops! <span>This link does not exist.</span> <a href=\"javascript:history.go(-1)\">&laquo; Go Back</a></h1>\\r\\n\\r\\n\\r\\n\\r\\n<h3>What happened? <span>List of possible reasons</span></h3>\\r\\n\\r\\n<ul>\\r\\n\\t<li>You entered the wrong URL</li>\\r\\n\\t<li>The link to this page is incorrect</li>\\r\\n\\t<li>The link you are trying to visit no longer exists</li>\\r\\n</ul>\\r\\n\\r\\n<div class=\"back\"><a href=\"javascript:history.go(-1)\">&laquo; Go Back</a></div>\\r\\n</body>\\r\\n</html>\\r\\n'\n"
     ]
    },
    {
     "name": "stderr",
     "output_type": "stream",
     "text": [
      "C:\\Users\\ben97312\\Documents\\code\\notebooks\\Lib\\site-packages\\urllib3\\connectionpool.py:1103: InsecureRequestWarning: Unverified HTTPS request is being made to host 'greenbeltmd.granicus.com'. Adding certificate verification is strongly advised. See: https://urllib3.readthedocs.io/en/latest/advanced-usage.html#tls-warnings\n",
      "  warnings.warn(\n"
     ]
    },
    {
     "name": "stdout",
     "output_type": "stream",
     "text": [
      "2016\n",
      "https://greenbeltmd.granicus.com/DocumentViewer.php?file=greenbeltmd_6c0b40f0c77ac0dd1445b3e4c88f3833.pdf&view=1\n"
     ]
    },
    {
     "name": "stderr",
     "output_type": "stream",
     "text": [
      "C:\\Users\\ben97312\\Documents\\code\\notebooks\\Lib\\site-packages\\urllib3\\connectionpool.py:1103: InsecureRequestWarning: Unverified HTTPS request is being made to host 'greenbeltmd.granicus.com'. Adding certificate verification is strongly advised. See: https://urllib3.readthedocs.io/en/latest/advanced-usage.html#tls-warnings\n",
      "  warnings.warn(\n"
     ]
    },
    {
     "name": "stdout",
     "output_type": "stream",
     "text": [
      "2016\n",
      "http://greenbeltmd.granicus.com/GeneratedAgendaViewer.php?view_id=2\n",
      "Printing content causing IndexError:\n",
      "\tb'\\r\\n<!DOCTYPE html PUBLIC \"-//W3C//DTD XHTML 1.0 Transitional//EN\" \"https://www.w3.org/TR/xhtml1/DTD/xhtml1-transitional.dtd\">\\r\\n<html xmlns=\"http://www.w3.org/1999/xhtml\">\\r\\n<head id=\"Head1\"><title>\\r\\n\\t404 - Page Not Found\\r\\n</title><link href=\"../App_Themes/404/404.css\" type=\"text/css\" rel=\"stylesheet\" /></head>\\r\\n<script type=\"text/javascript\">\\r\\nfunction breakOut()\\r\\n{\\r\\n    if (top.location != location) {\\r\\n        top.location.href = document.location.href;\\r\\n    }\\r\\n}\\r\\n</script>\\r\\n<body onload=\"breakOut()\">\\r\\n\\r\\n<h1>Oops! <span>This link does not exist.</span> <a href=\"javascript:history.go(-1)\">&laquo; Go Back</a></h1>\\r\\n\\r\\n\\r\\n\\r\\n<h3>What happened? <span>List of possible reasons</span></h3>\\r\\n\\r\\n<ul>\\r\\n\\t<li>You entered the wrong URL</li>\\r\\n\\t<li>The link to this page is incorrect</li>\\r\\n\\t<li>The link you are trying to visit no longer exists</li>\\r\\n</ul>\\r\\n\\r\\n<div class=\"back\"><a href=\"javascript:history.go(-1)\">&laquo; Go Back</a></div>\\r\\n</body>\\r\\n</html>\\r\\n'\n",
      "2016\n",
      "https://greenbeltmd.granicus.com/DocumentViewer.php?file=greenbeltmd_70d21cc1d2b19e4c8e0343a67db083fe.pdf&view=1\n"
     ]
    },
    {
     "name": "stderr",
     "output_type": "stream",
     "text": [
      "C:\\Users\\ben97312\\Documents\\code\\notebooks\\Lib\\site-packages\\urllib3\\connectionpool.py:1103: InsecureRequestWarning: Unverified HTTPS request is being made to host 'greenbeltmd.granicus.com'. Adding certificate verification is strongly advised. See: https://urllib3.readthedocs.io/en/latest/advanced-usage.html#tls-warnings\n",
      "  warnings.warn(\n"
     ]
    },
    {
     "name": "stdout",
     "output_type": "stream",
     "text": [
      "2016\n",
      "http://greenbeltmd.granicus.com/GeneratedAgendaViewer.php?view_id=2\n",
      "Printing content causing IndexError:\n",
      "\tb'\\r\\n<!DOCTYPE html PUBLIC \"-//W3C//DTD XHTML 1.0 Transitional//EN\" \"https://www.w3.org/TR/xhtml1/DTD/xhtml1-transitional.dtd\">\\r\\n<html xmlns=\"http://www.w3.org/1999/xhtml\">\\r\\n<head id=\"Head1\"><title>\\r\\n\\t404 - Page Not Found\\r\\n</title><link href=\"../App_Themes/404/404.css\" type=\"text/css\" rel=\"stylesheet\" /></head>\\r\\n<script type=\"text/javascript\">\\r\\nfunction breakOut()\\r\\n{\\r\\n    if (top.location != location) {\\r\\n        top.location.href = document.location.href;\\r\\n    }\\r\\n}\\r\\n</script>\\r\\n<body onload=\"breakOut()\">\\r\\n\\r\\n<h1>Oops! <span>This link does not exist.</span> <a href=\"javascript:history.go(-1)\">&laquo; Go Back</a></h1>\\r\\n\\r\\n\\r\\n\\r\\n<h3>What happened? <span>List of possible reasons</span></h3>\\r\\n\\r\\n<ul>\\r\\n\\t<li>You entered the wrong URL</li>\\r\\n\\t<li>The link to this page is incorrect</li>\\r\\n\\t<li>The link you are trying to visit no longer exists</li>\\r\\n</ul>\\r\\n\\r\\n<div class=\"back\"><a href=\"javascript:history.go(-1)\">&laquo; Go Back</a></div>\\r\\n</body>\\r\\n</html>\\r\\n'\n",
      "2016\n",
      "https://greenbeltmd.granicus.com/DocumentViewer.php?file=greenbeltmd_aaa2ffb727b48a6b6f11c78c94eff5c5.pdf&view=1\n"
     ]
    },
    {
     "name": "stderr",
     "output_type": "stream",
     "text": [
      "C:\\Users\\ben97312\\Documents\\code\\notebooks\\Lib\\site-packages\\urllib3\\connectionpool.py:1103: InsecureRequestWarning: Unverified HTTPS request is being made to host 'greenbeltmd.granicus.com'. Adding certificate verification is strongly advised. See: https://urllib3.readthedocs.io/en/latest/advanced-usage.html#tls-warnings\n",
      "  warnings.warn(\n"
     ]
    },
    {
     "name": "stdout",
     "output_type": "stream",
     "text": [
      "2016\n",
      "https://greenbeltmd.granicus.com/DocumentViewer.php?file=greenbeltmd_6ac99f4bcd4dfd1f1832f9bb0be37a0a.pdf&view=1\n"
     ]
    },
    {
     "name": "stderr",
     "output_type": "stream",
     "text": [
      "C:\\Users\\ben97312\\Documents\\code\\notebooks\\Lib\\site-packages\\urllib3\\connectionpool.py:1103: InsecureRequestWarning: Unverified HTTPS request is being made to host 'greenbeltmd.granicus.com'. Adding certificate verification is strongly advised. See: https://urllib3.readthedocs.io/en/latest/advanced-usage.html#tls-warnings\n",
      "  warnings.warn(\n"
     ]
    },
    {
     "name": "stdout",
     "output_type": "stream",
     "text": [
      "2016\n",
      "https://greenbeltmd.granicus.com/DocumentViewer.php?file=greenbeltmd_6c1fe9e415afbfdeb295f8c757d49fbc.pdf&view=1\n"
     ]
    },
    {
     "name": "stderr",
     "output_type": "stream",
     "text": [
      "C:\\Users\\ben97312\\Documents\\code\\notebooks\\Lib\\site-packages\\urllib3\\connectionpool.py:1103: InsecureRequestWarning: Unverified HTTPS request is being made to host 'greenbeltmd.granicus.com'. Adding certificate verification is strongly advised. See: https://urllib3.readthedocs.io/en/latest/advanced-usage.html#tls-warnings\n",
      "  warnings.warn(\n"
     ]
    },
    {
     "name": "stdout",
     "output_type": "stream",
     "text": [
      "2016\n",
      "https://greenbeltmd.granicus.com/DocumentViewer.php?file=greenbeltmd_486262f87938070681ca5265f7e10e6d.pdf&view=1\n"
     ]
    },
    {
     "name": "stderr",
     "output_type": "stream",
     "text": [
      "C:\\Users\\ben97312\\Documents\\code\\notebooks\\Lib\\site-packages\\urllib3\\connectionpool.py:1103: InsecureRequestWarning: Unverified HTTPS request is being made to host 'greenbeltmd.granicus.com'. Adding certificate verification is strongly advised. See: https://urllib3.readthedocs.io/en/latest/advanced-usage.html#tls-warnings\n",
      "  warnings.warn(\n"
     ]
    },
    {
     "name": "stdout",
     "output_type": "stream",
     "text": [
      "2016\n",
      "http://greenbeltmd.granicus.com/GeneratedAgendaViewer.php?view_id=2\n",
      "Printing content causing IndexError:\n",
      "\tb'\\r\\n<!DOCTYPE html PUBLIC \"-//W3C//DTD XHTML 1.0 Transitional//EN\" \"https://www.w3.org/TR/xhtml1/DTD/xhtml1-transitional.dtd\">\\r\\n<html xmlns=\"http://www.w3.org/1999/xhtml\">\\r\\n<head id=\"Head1\"><title>\\r\\n\\t404 - Page Not Found\\r\\n</title><link href=\"../App_Themes/404/404.css\" type=\"text/css\" rel=\"stylesheet\" /></head>\\r\\n<script type=\"text/javascript\">\\r\\nfunction breakOut()\\r\\n{\\r\\n    if (top.location != location) {\\r\\n        top.location.href = document.location.href;\\r\\n    }\\r\\n}\\r\\n</script>\\r\\n<body onload=\"breakOut()\">\\r\\n\\r\\n<h1>Oops! <span>This link does not exist.</span> <a href=\"javascript:history.go(-1)\">&laquo; Go Back</a></h1>\\r\\n\\r\\n\\r\\n\\r\\n<h3>What happened? <span>List of possible reasons</span></h3>\\r\\n\\r\\n<ul>\\r\\n\\t<li>You entered the wrong URL</li>\\r\\n\\t<li>The link to this page is incorrect</li>\\r\\n\\t<li>The link you are trying to visit no longer exists</li>\\r\\n</ul>\\r\\n\\r\\n<div class=\"back\"><a href=\"javascript:history.go(-1)\">&laquo; Go Back</a></div>\\r\\n</body>\\r\\n</html>\\r\\n'\n",
      "2016\n",
      "http://greenbeltmd.granicus.com/GeneratedAgendaViewer.php?view_id=2\n",
      "Printing content causing IndexError:\n",
      "\tb'\\r\\n<!DOCTYPE html PUBLIC \"-//W3C//DTD XHTML 1.0 Transitional//EN\" \"https://www.w3.org/TR/xhtml1/DTD/xhtml1-transitional.dtd\">\\r\\n<html xmlns=\"http://www.w3.org/1999/xhtml\">\\r\\n<head id=\"Head1\"><title>\\r\\n\\t404 - Page Not Found\\r\\n</title><link href=\"../App_Themes/404/404.css\" type=\"text/css\" rel=\"stylesheet\" /></head>\\r\\n<script type=\"text/javascript\">\\r\\nfunction breakOut()\\r\\n{\\r\\n    if (top.location != location) {\\r\\n        top.location.href = document.location.href;\\r\\n    }\\r\\n}\\r\\n</script>\\r\\n<body onload=\"breakOut()\">\\r\\n\\r\\n<h1>Oops! <span>This link does not exist.</span> <a href=\"javascript:history.go(-1)\">&laquo; Go Back</a></h1>\\r\\n\\r\\n\\r\\n\\r\\n<h3>What happened? <span>List of possible reasons</span></h3>\\r\\n\\r\\n<ul>\\r\\n\\t<li>You entered the wrong URL</li>\\r\\n\\t<li>The link to this page is incorrect</li>\\r\\n\\t<li>The link you are trying to visit no longer exists</li>\\r\\n</ul>\\r\\n\\r\\n<div class=\"back\"><a href=\"javascript:history.go(-1)\">&laquo; Go Back</a></div>\\r\\n</body>\\r\\n</html>\\r\\n'\n",
      "2016\n",
      "https://greenbeltmd.granicus.com/DocumentViewer.php?file=greenbeltmd_5a6f9ff703422979bfb8cc4d2d96190b.pdf&view=1\n"
     ]
    },
    {
     "name": "stderr",
     "output_type": "stream",
     "text": [
      "C:\\Users\\ben97312\\Documents\\code\\notebooks\\Lib\\site-packages\\urllib3\\connectionpool.py:1103: InsecureRequestWarning: Unverified HTTPS request is being made to host 'greenbeltmd.granicus.com'. Adding certificate verification is strongly advised. See: https://urllib3.readthedocs.io/en/latest/advanced-usage.html#tls-warnings\n",
      "  warnings.warn(\n"
     ]
    },
    {
     "name": "stdout",
     "output_type": "stream",
     "text": [
      "2016\n",
      "https://greenbeltmd.granicus.com/DocumentViewer.php?file=greenbeltmd_027de26ebf4e223d8eed64261a57966a.pdf&view=1\n"
     ]
    },
    {
     "name": "stderr",
     "output_type": "stream",
     "text": [
      "C:\\Users\\ben97312\\Documents\\code\\notebooks\\Lib\\site-packages\\urllib3\\connectionpool.py:1103: InsecureRequestWarning: Unverified HTTPS request is being made to host 'greenbeltmd.granicus.com'. Adding certificate verification is strongly advised. See: https://urllib3.readthedocs.io/en/latest/advanced-usage.html#tls-warnings\n",
      "  warnings.warn(\n"
     ]
    },
    {
     "name": "stdout",
     "output_type": "stream",
     "text": [
      "2016\n",
      "http://greenbeltmd.granicus.com/GeneratedAgendaViewer.php?view_id=2\n",
      "Printing content causing IndexError:\n",
      "\tb'\\r\\n<!DOCTYPE html PUBLIC \"-//W3C//DTD XHTML 1.0 Transitional//EN\" \"https://www.w3.org/TR/xhtml1/DTD/xhtml1-transitional.dtd\">\\r\\n<html xmlns=\"http://www.w3.org/1999/xhtml\">\\r\\n<head id=\"Head1\"><title>\\r\\n\\t404 - Page Not Found\\r\\n</title><link href=\"../App_Themes/404/404.css\" type=\"text/css\" rel=\"stylesheet\" /></head>\\r\\n<script type=\"text/javascript\">\\r\\nfunction breakOut()\\r\\n{\\r\\n    if (top.location != location) {\\r\\n        top.location.href = document.location.href;\\r\\n    }\\r\\n}\\r\\n</script>\\r\\n<body onload=\"breakOut()\">\\r\\n\\r\\n<h1>Oops! <span>This link does not exist.</span> <a href=\"javascript:history.go(-1)\">&laquo; Go Back</a></h1>\\r\\n\\r\\n\\r\\n\\r\\n<h3>What happened? <span>List of possible reasons</span></h3>\\r\\n\\r\\n<ul>\\r\\n\\t<li>You entered the wrong URL</li>\\r\\n\\t<li>The link to this page is incorrect</li>\\r\\n\\t<li>The link you are trying to visit no longer exists</li>\\r\\n</ul>\\r\\n\\r\\n<div class=\"back\"><a href=\"javascript:history.go(-1)\">&laquo; Go Back</a></div>\\r\\n</body>\\r\\n</html>\\r\\n'\n",
      "2016\n",
      "https://greenbeltmd.granicus.com/DocumentViewer.php?file=greenbeltmd_61b29bc6bba3fc7b2d19fe4f1b31dff1.pdf&view=1\n"
     ]
    },
    {
     "name": "stderr",
     "output_type": "stream",
     "text": [
      "C:\\Users\\ben97312\\Documents\\code\\notebooks\\Lib\\site-packages\\urllib3\\connectionpool.py:1103: InsecureRequestWarning: Unverified HTTPS request is being made to host 'greenbeltmd.granicus.com'. Adding certificate verification is strongly advised. See: https://urllib3.readthedocs.io/en/latest/advanced-usage.html#tls-warnings\n",
      "  warnings.warn(\n"
     ]
    },
    {
     "name": "stdout",
     "output_type": "stream",
     "text": [
      "2016\n",
      "https://greenbeltmd.granicus.com/DocumentViewer.php?file=greenbeltmd_5cfd3b56ff0c006c9f2ef813be7fd448.pdf&view=1\n"
     ]
    },
    {
     "name": "stderr",
     "output_type": "stream",
     "text": [
      "C:\\Users\\ben97312\\Documents\\code\\notebooks\\Lib\\site-packages\\urllib3\\connectionpool.py:1103: InsecureRequestWarning: Unverified HTTPS request is being made to host 'greenbeltmd.granicus.com'. Adding certificate verification is strongly advised. See: https://urllib3.readthedocs.io/en/latest/advanced-usage.html#tls-warnings\n",
      "  warnings.warn(\n"
     ]
    },
    {
     "name": "stdout",
     "output_type": "stream",
     "text": [
      "2016\n",
      "http://greenbeltmd.granicus.com/GeneratedAgendaViewer.php?view_id=2\n",
      "Printing content causing IndexError:\n",
      "\tb'\\r\\n<!DOCTYPE html PUBLIC \"-//W3C//DTD XHTML 1.0 Transitional//EN\" \"https://www.w3.org/TR/xhtml1/DTD/xhtml1-transitional.dtd\">\\r\\n<html xmlns=\"http://www.w3.org/1999/xhtml\">\\r\\n<head id=\"Head1\"><title>\\r\\n\\t404 - Page Not Found\\r\\n</title><link href=\"../App_Themes/404/404.css\" type=\"text/css\" rel=\"stylesheet\" /></head>\\r\\n<script type=\"text/javascript\">\\r\\nfunction breakOut()\\r\\n{\\r\\n    if (top.location != location) {\\r\\n        top.location.href = document.location.href;\\r\\n    }\\r\\n}\\r\\n</script>\\r\\n<body onload=\"breakOut()\">\\r\\n\\r\\n<h1>Oops! <span>This link does not exist.</span> <a href=\"javascript:history.go(-1)\">&laquo; Go Back</a></h1>\\r\\n\\r\\n\\r\\n\\r\\n<h3>What happened? <span>List of possible reasons</span></h3>\\r\\n\\r\\n<ul>\\r\\n\\t<li>You entered the wrong URL</li>\\r\\n\\t<li>The link to this page is incorrect</li>\\r\\n\\t<li>The link you are trying to visit no longer exists</li>\\r\\n</ul>\\r\\n\\r\\n<div class=\"back\"><a href=\"javascript:history.go(-1)\">&laquo; Go Back</a></div>\\r\\n</body>\\r\\n</html>\\r\\n'\n"
     ]
    },
    {
     "name": "stderr",
     "output_type": "stream",
     "text": [
      "C:\\Users\\ben97312\\Documents\\code\\notebooks\\Lib\\site-packages\\urllib3\\connectionpool.py:1103: InsecureRequestWarning: Unverified HTTPS request is being made to host 'greenbeltmd.granicus.com'. Adding certificate verification is strongly advised. See: https://urllib3.readthedocs.io/en/latest/advanced-usage.html#tls-warnings\n",
      "  warnings.warn(\n",
      "C:\\Users\\ben97312\\Documents\\code\\notebooks\\Lib\\site-packages\\urllib3\\connectionpool.py:1103: InsecureRequestWarning: Unverified HTTPS request is being made to host 'greenbeltmd.granicus.com'. Adding certificate verification is strongly advised. See: https://urllib3.readthedocs.io/en/latest/advanced-usage.html#tls-warnings\n",
      "  warnings.warn(\n"
     ]
    },
    {
     "name": "stdout",
     "output_type": "stream",
     "text": [
      "2016\n",
      "https://greenbeltmd.granicus.com/DocumentViewer.php?file=greenbeltmd_cff38427af6cebdc80c0ed800228db51.pdf&view=1\n"
     ]
    },
    {
     "name": "stderr",
     "output_type": "stream",
     "text": [
      "C:\\Users\\ben97312\\Documents\\code\\notebooks\\Lib\\site-packages\\urllib3\\connectionpool.py:1103: InsecureRequestWarning: Unverified HTTPS request is being made to host 'greenbeltmd.granicus.com'. Adding certificate verification is strongly advised. See: https://urllib3.readthedocs.io/en/latest/advanced-usage.html#tls-warnings\n",
      "  warnings.warn(\n",
      "C:\\Users\\ben97312\\Documents\\code\\notebooks\\Lib\\site-packages\\urllib3\\connectionpool.py:1103: InsecureRequestWarning: Unverified HTTPS request is being made to host 'greenbeltmd.granicus.com'. Adding certificate verification is strongly advised. See: https://urllib3.readthedocs.io/en/latest/advanced-usage.html#tls-warnings\n",
      "  warnings.warn(\n",
      "C:\\Users\\ben97312\\Documents\\code\\notebooks\\Lib\\site-packages\\urllib3\\connectionpool.py:1103: InsecureRequestWarning: Unverified HTTPS request is being made to host 'greenbeltmd.granicus.com'. Adding certificate verification is strongly advised. See: https://urllib3.readthedocs.io/en/latest/advanced-usage.html#tls-warnings\n",
      "  warnings.warn(\n"
     ]
    },
    {
     "name": "stdout",
     "output_type": "stream",
     "text": [
      "2016\n",
      "https://greenbeltmd.granicus.com/DocumentViewer.php?file=greenbeltmd_ba65cd11da3285eb552764bd1827921e.pdf&view=1\n"
     ]
    },
    {
     "name": "stderr",
     "output_type": "stream",
     "text": [
      "C:\\Users\\ben97312\\Documents\\code\\notebooks\\Lib\\site-packages\\urllib3\\connectionpool.py:1103: InsecureRequestWarning: Unverified HTTPS request is being made to host 'greenbeltmd.granicus.com'. Adding certificate verification is strongly advised. See: https://urllib3.readthedocs.io/en/latest/advanced-usage.html#tls-warnings\n",
      "  warnings.warn(\n",
      "C:\\Users\\ben97312\\Documents\\code\\notebooks\\Lib\\site-packages\\urllib3\\connectionpool.py:1103: InsecureRequestWarning: Unverified HTTPS request is being made to host 'greenbeltmd.granicus.com'. Adding certificate verification is strongly advised. See: https://urllib3.readthedocs.io/en/latest/advanced-usage.html#tls-warnings\n",
      "  warnings.warn(\n"
     ]
    },
    {
     "name": "stdout",
     "output_type": "stream",
     "text": [
      "2016\n",
      "http://greenbeltmd.granicus.com/GeneratedAgendaViewer.php?view_id=2\n",
      "Printing content causing IndexError:\n",
      "\tb'\\r\\n<!DOCTYPE html PUBLIC \"-//W3C//DTD XHTML 1.0 Transitional//EN\" \"https://www.w3.org/TR/xhtml1/DTD/xhtml1-transitional.dtd\">\\r\\n<html xmlns=\"http://www.w3.org/1999/xhtml\">\\r\\n<head id=\"Head1\"><title>\\r\\n\\t404 - Page Not Found\\r\\n</title><link href=\"../App_Themes/404/404.css\" type=\"text/css\" rel=\"stylesheet\" /></head>\\r\\n<script type=\"text/javascript\">\\r\\nfunction breakOut()\\r\\n{\\r\\n    if (top.location != location) {\\r\\n        top.location.href = document.location.href;\\r\\n    }\\r\\n}\\r\\n</script>\\r\\n<body onload=\"breakOut()\">\\r\\n\\r\\n<h1>Oops! <span>This link does not exist.</span> <a href=\"javascript:history.go(-1)\">&laquo; Go Back</a></h1>\\r\\n\\r\\n\\r\\n\\r\\n<h3>What happened? <span>List of possible reasons</span></h3>\\r\\n\\r\\n<ul>\\r\\n\\t<li>You entered the wrong URL</li>\\r\\n\\t<li>The link to this page is incorrect</li>\\r\\n\\t<li>The link you are trying to visit no longer exists</li>\\r\\n</ul>\\r\\n\\r\\n<div class=\"back\"><a href=\"javascript:history.go(-1)\">&laquo; Go Back</a></div>\\r\\n</body>\\r\\n</html>\\r\\n'\n",
      "2016\n",
      "https://greenbeltmd.granicus.com/DocumentViewer.php?file=greenbeltmd_285de1d1c1777a19fab3b2912ed08e82.pdf&view=1\n"
     ]
    },
    {
     "name": "stderr",
     "output_type": "stream",
     "text": [
      "C:\\Users\\ben97312\\Documents\\code\\notebooks\\Lib\\site-packages\\urllib3\\connectionpool.py:1103: InsecureRequestWarning: Unverified HTTPS request is being made to host 'greenbeltmd.granicus.com'. Adding certificate verification is strongly advised. See: https://urllib3.readthedocs.io/en/latest/advanced-usage.html#tls-warnings\n",
      "  warnings.warn(\n"
     ]
    },
    {
     "name": "stdout",
     "output_type": "stream",
     "text": [
      "2016\n",
      "https://greenbeltmd.granicus.com/DocumentViewer.php?file=greenbeltmd_13754a0e98ddabdcd812698c36ec7fad.pdf&view=1\n"
     ]
    },
    {
     "name": "stderr",
     "output_type": "stream",
     "text": [
      "C:\\Users\\ben97312\\Documents\\code\\notebooks\\Lib\\site-packages\\urllib3\\connectionpool.py:1103: InsecureRequestWarning: Unverified HTTPS request is being made to host 'greenbeltmd.granicus.com'. Adding certificate verification is strongly advised. See: https://urllib3.readthedocs.io/en/latest/advanced-usage.html#tls-warnings\n",
      "  warnings.warn(\n"
     ]
    },
    {
     "name": "stdout",
     "output_type": "stream",
     "text": [
      "2016\n",
      "https://greenbeltmd.granicus.com/DocumentViewer.php?file=greenbeltmd_eaa23114d1499b8a2424a0b7849f6e41.pdf&view=1\n"
     ]
    },
    {
     "name": "stderr",
     "output_type": "stream",
     "text": [
      "C:\\Users\\ben97312\\Documents\\code\\notebooks\\Lib\\site-packages\\urllib3\\connectionpool.py:1103: InsecureRequestWarning: Unverified HTTPS request is being made to host 'greenbeltmd.granicus.com'. Adding certificate verification is strongly advised. See: https://urllib3.readthedocs.io/en/latest/advanced-usage.html#tls-warnings\n",
      "  warnings.warn(\n"
     ]
    },
    {
     "name": "stdout",
     "output_type": "stream",
     "text": [
      "2016\n",
      "https://greenbeltmd.granicus.com/DocumentViewer.php?file=greenbeltmd_af5dbab24c0a427444cb0b5e40442a23.pdf&view=1\n"
     ]
    },
    {
     "name": "stderr",
     "output_type": "stream",
     "text": [
      "C:\\Users\\ben97312\\Documents\\code\\notebooks\\Lib\\site-packages\\urllib3\\connectionpool.py:1103: InsecureRequestWarning: Unverified HTTPS request is being made to host 'greenbeltmd.granicus.com'. Adding certificate verification is strongly advised. See: https://urllib3.readthedocs.io/en/latest/advanced-usage.html#tls-warnings\n",
      "  warnings.warn(\n"
     ]
    },
    {
     "name": "stdout",
     "output_type": "stream",
     "text": [
      "2016\n",
      "http://greenbeltmd.granicus.com/GeneratedAgendaViewer.php?view_id=2\n",
      "Printing content causing IndexError:\n",
      "\tb'\\r\\n<!DOCTYPE html PUBLIC \"-//W3C//DTD XHTML 1.0 Transitional//EN\" \"https://www.w3.org/TR/xhtml1/DTD/xhtml1-transitional.dtd\">\\r\\n<html xmlns=\"http://www.w3.org/1999/xhtml\">\\r\\n<head id=\"Head1\"><title>\\r\\n\\t404 - Page Not Found\\r\\n</title><link href=\"../App_Themes/404/404.css\" type=\"text/css\" rel=\"stylesheet\" /></head>\\r\\n<script type=\"text/javascript\">\\r\\nfunction breakOut()\\r\\n{\\r\\n    if (top.location != location) {\\r\\n        top.location.href = document.location.href;\\r\\n    }\\r\\n}\\r\\n</script>\\r\\n<body onload=\"breakOut()\">\\r\\n\\r\\n<h1>Oops! <span>This link does not exist.</span> <a href=\"javascript:history.go(-1)\">&laquo; Go Back</a></h1>\\r\\n\\r\\n\\r\\n\\r\\n<h3>What happened? <span>List of possible reasons</span></h3>\\r\\n\\r\\n<ul>\\r\\n\\t<li>You entered the wrong URL</li>\\r\\n\\t<li>The link to this page is incorrect</li>\\r\\n\\t<li>The link you are trying to visit no longer exists</li>\\r\\n</ul>\\r\\n\\r\\n<div class=\"back\"><a href=\"javascript:history.go(-1)\">&laquo; Go Back</a></div>\\r\\n</body>\\r\\n</html>\\r\\n'\n",
      "2016\n",
      "http://greenbeltmd.granicus.com/GeneratedAgendaViewer.php?view_id=2\n",
      "Printing content causing IndexError:\n",
      "\tb'\\r\\n<!DOCTYPE html PUBLIC \"-//W3C//DTD XHTML 1.0 Transitional//EN\" \"https://www.w3.org/TR/xhtml1/DTD/xhtml1-transitional.dtd\">\\r\\n<html xmlns=\"http://www.w3.org/1999/xhtml\">\\r\\n<head id=\"Head1\"><title>\\r\\n\\t404 - Page Not Found\\r\\n</title><link href=\"../App_Themes/404/404.css\" type=\"text/css\" rel=\"stylesheet\" /></head>\\r\\n<script type=\"text/javascript\">\\r\\nfunction breakOut()\\r\\n{\\r\\n    if (top.location != location) {\\r\\n        top.location.href = document.location.href;\\r\\n    }\\r\\n}\\r\\n</script>\\r\\n<body onload=\"breakOut()\">\\r\\n\\r\\n<h1>Oops! <span>This link does not exist.</span> <a href=\"javascript:history.go(-1)\">&laquo; Go Back</a></h1>\\r\\n\\r\\n\\r\\n\\r\\n<h3>What happened? <span>List of possible reasons</span></h3>\\r\\n\\r\\n<ul>\\r\\n\\t<li>You entered the wrong URL</li>\\r\\n\\t<li>The link to this page is incorrect</li>\\r\\n\\t<li>The link you are trying to visit no longer exists</li>\\r\\n</ul>\\r\\n\\r\\n<div class=\"back\"><a href=\"javascript:history.go(-1)\">&laquo; Go Back</a></div>\\r\\n</body>\\r\\n</html>\\r\\n'\n"
     ]
    },
    {
     "name": "stderr",
     "output_type": "stream",
     "text": [
      "C:\\Users\\ben97312\\Documents\\code\\notebooks\\Lib\\site-packages\\urllib3\\connectionpool.py:1103: InsecureRequestWarning: Unverified HTTPS request is being made to host 'greenbeltmd.granicus.com'. Adding certificate verification is strongly advised. See: https://urllib3.readthedocs.io/en/latest/advanced-usage.html#tls-warnings\n",
      "  warnings.warn(\n"
     ]
    },
    {
     "name": "stdout",
     "output_type": "stream",
     "text": [
      "2016\n",
      "http://greenbeltmd.granicus.com/GeneratedAgendaViewer.php?view_id=2\n",
      "Printing content causing IndexError:\n",
      "\tb'\\r\\n<!DOCTYPE html PUBLIC \"-//W3C//DTD XHTML 1.0 Transitional//EN\" \"https://www.w3.org/TR/xhtml1/DTD/xhtml1-transitional.dtd\">\\r\\n<html xmlns=\"http://www.w3.org/1999/xhtml\">\\r\\n<head id=\"Head1\"><title>\\r\\n\\t404 - Page Not Found\\r\\n</title><link href=\"../App_Themes/404/404.css\" type=\"text/css\" rel=\"stylesheet\" /></head>\\r\\n<script type=\"text/javascript\">\\r\\nfunction breakOut()\\r\\n{\\r\\n    if (top.location != location) {\\r\\n        top.location.href = document.location.href;\\r\\n    }\\r\\n}\\r\\n</script>\\r\\n<body onload=\"breakOut()\">\\r\\n\\r\\n<h1>Oops! <span>This link does not exist.</span> <a href=\"javascript:history.go(-1)\">&laquo; Go Back</a></h1>\\r\\n\\r\\n\\r\\n\\r\\n<h3>What happened? <span>List of possible reasons</span></h3>\\r\\n\\r\\n<ul>\\r\\n\\t<li>You entered the wrong URL</li>\\r\\n\\t<li>The link to this page is incorrect</li>\\r\\n\\t<li>The link you are trying to visit no longer exists</li>\\r\\n</ul>\\r\\n\\r\\n<div class=\"back\"><a href=\"javascript:history.go(-1)\">&laquo; Go Back</a></div>\\r\\n</body>\\r\\n</html>\\r\\n'\n"
     ]
    },
    {
     "name": "stderr",
     "output_type": "stream",
     "text": [
      "C:\\Users\\ben97312\\Documents\\code\\notebooks\\Lib\\site-packages\\urllib3\\connectionpool.py:1103: InsecureRequestWarning: Unverified HTTPS request is being made to host 'greenbeltmd.granicus.com'. Adding certificate verification is strongly advised. See: https://urllib3.readthedocs.io/en/latest/advanced-usage.html#tls-warnings\n",
      "  warnings.warn(\n"
     ]
    },
    {
     "name": "stdout",
     "output_type": "stream",
     "text": [
      "2016\n",
      "http://greenbeltmd.granicus.com/GeneratedAgendaViewer.php?view_id=2\n",
      "Printing content causing IndexError:\n",
      "\tb'\\r\\n<!DOCTYPE html PUBLIC \"-//W3C//DTD XHTML 1.0 Transitional//EN\" \"https://www.w3.org/TR/xhtml1/DTD/xhtml1-transitional.dtd\">\\r\\n<html xmlns=\"http://www.w3.org/1999/xhtml\">\\r\\n<head id=\"Head1\"><title>\\r\\n\\t404 - Page Not Found\\r\\n</title><link href=\"../App_Themes/404/404.css\" type=\"text/css\" rel=\"stylesheet\" /></head>\\r\\n<script type=\"text/javascript\">\\r\\nfunction breakOut()\\r\\n{\\r\\n    if (top.location != location) {\\r\\n        top.location.href = document.location.href;\\r\\n    }\\r\\n}\\r\\n</script>\\r\\n<body onload=\"breakOut()\">\\r\\n\\r\\n<h1>Oops! <span>This link does not exist.</span> <a href=\"javascript:history.go(-1)\">&laquo; Go Back</a></h1>\\r\\n\\r\\n\\r\\n\\r\\n<h3>What happened? <span>List of possible reasons</span></h3>\\r\\n\\r\\n<ul>\\r\\n\\t<li>You entered the wrong URL</li>\\r\\n\\t<li>The link to this page is incorrect</li>\\r\\n\\t<li>The link you are trying to visit no longer exists</li>\\r\\n</ul>\\r\\n\\r\\n<div class=\"back\"><a href=\"javascript:history.go(-1)\">&laquo; Go Back</a></div>\\r\\n</body>\\r\\n</html>\\r\\n'\n"
     ]
    },
    {
     "name": "stderr",
     "output_type": "stream",
     "text": [
      "C:\\Users\\ben97312\\Documents\\code\\notebooks\\Lib\\site-packages\\urllib3\\connectionpool.py:1103: InsecureRequestWarning: Unverified HTTPS request is being made to host 'greenbeltmd.granicus.com'. Adding certificate verification is strongly advised. See: https://urllib3.readthedocs.io/en/latest/advanced-usage.html#tls-warnings\n",
      "  warnings.warn(\n"
     ]
    },
    {
     "name": "stdout",
     "output_type": "stream",
     "text": [
      "2016\n",
      "http://greenbeltmd.granicus.com/GeneratedAgendaViewer.php?view_id=2\n",
      "Printing content causing IndexError:\n",
      "\tb'\\r\\n<!DOCTYPE html PUBLIC \"-//W3C//DTD XHTML 1.0 Transitional//EN\" \"https://www.w3.org/TR/xhtml1/DTD/xhtml1-transitional.dtd\">\\r\\n<html xmlns=\"http://www.w3.org/1999/xhtml\">\\r\\n<head id=\"Head1\"><title>\\r\\n\\t404 - Page Not Found\\r\\n</title><link href=\"../App_Themes/404/404.css\" type=\"text/css\" rel=\"stylesheet\" /></head>\\r\\n<script type=\"text/javascript\">\\r\\nfunction breakOut()\\r\\n{\\r\\n    if (top.location != location) {\\r\\n        top.location.href = document.location.href;\\r\\n    }\\r\\n}\\r\\n</script>\\r\\n<body onload=\"breakOut()\">\\r\\n\\r\\n<h1>Oops! <span>This link does not exist.</span> <a href=\"javascript:history.go(-1)\">&laquo; Go Back</a></h1>\\r\\n\\r\\n\\r\\n\\r\\n<h3>What happened? <span>List of possible reasons</span></h3>\\r\\n\\r\\n<ul>\\r\\n\\t<li>You entered the wrong URL</li>\\r\\n\\t<li>The link to this page is incorrect</li>\\r\\n\\t<li>The link you are trying to visit no longer exists</li>\\r\\n</ul>\\r\\n\\r\\n<div class=\"back\"><a href=\"javascript:history.go(-1)\">&laquo; Go Back</a></div>\\r\\n</body>\\r\\n</html>\\r\\n'\n",
      "2016\n",
      "http://greenbeltmd.granicus.com/GeneratedAgendaViewer.php?view_id=2\n",
      "Printing content causing IndexError:\n",
      "\tb'\\r\\n<!DOCTYPE html PUBLIC \"-//W3C//DTD XHTML 1.0 Transitional//EN\" \"https://www.w3.org/TR/xhtml1/DTD/xhtml1-transitional.dtd\">\\r\\n<html xmlns=\"http://www.w3.org/1999/xhtml\">\\r\\n<head id=\"Head1\"><title>\\r\\n\\t404 - Page Not Found\\r\\n</title><link href=\"../App_Themes/404/404.css\" type=\"text/css\" rel=\"stylesheet\" /></head>\\r\\n<script type=\"text/javascript\">\\r\\nfunction breakOut()\\r\\n{\\r\\n    if (top.location != location) {\\r\\n        top.location.href = document.location.href;\\r\\n    }\\r\\n}\\r\\n</script>\\r\\n<body onload=\"breakOut()\">\\r\\n\\r\\n<h1>Oops! <span>This link does not exist.</span> <a href=\"javascript:history.go(-1)\">&laquo; Go Back</a></h1>\\r\\n\\r\\n\\r\\n\\r\\n<h3>What happened? <span>List of possible reasons</span></h3>\\r\\n\\r\\n<ul>\\r\\n\\t<li>You entered the wrong URL</li>\\r\\n\\t<li>The link to this page is incorrect</li>\\r\\n\\t<li>The link you are trying to visit no longer exists</li>\\r\\n</ul>\\r\\n\\r\\n<div class=\"back\"><a href=\"javascript:history.go(-1)\">&laquo; Go Back</a></div>\\r\\n</body>\\r\\n</html>\\r\\n'\n"
     ]
    },
    {
     "name": "stderr",
     "output_type": "stream",
     "text": [
      "C:\\Users\\ben97312\\Documents\\code\\notebooks\\Lib\\site-packages\\urllib3\\connectionpool.py:1103: InsecureRequestWarning: Unverified HTTPS request is being made to host 'greenbeltmd.granicus.com'. Adding certificate verification is strongly advised. See: https://urllib3.readthedocs.io/en/latest/advanced-usage.html#tls-warnings\n",
      "  warnings.warn(\n",
      "C:\\Users\\ben97312\\Documents\\code\\notebooks\\Lib\\site-packages\\urllib3\\connectionpool.py:1103: InsecureRequestWarning: Unverified HTTPS request is being made to host 'greenbeltmd.granicus.com'. Adding certificate verification is strongly advised. See: https://urllib3.readthedocs.io/en/latest/advanced-usage.html#tls-warnings\n",
      "  warnings.warn(\n"
     ]
    },
    {
     "name": "stdout",
     "output_type": "stream",
     "text": [
      "2016\n",
      "http://greenbeltmd.granicus.com/GeneratedAgendaViewer.php?view_id=2\n",
      "Printing content causing IndexError:\n",
      "\tb'\\r\\n<!DOCTYPE html PUBLIC \"-//W3C//DTD XHTML 1.0 Transitional//EN\" \"https://www.w3.org/TR/xhtml1/DTD/xhtml1-transitional.dtd\">\\r\\n<html xmlns=\"http://www.w3.org/1999/xhtml\">\\r\\n<head id=\"Head1\"><title>\\r\\n\\t404 - Page Not Found\\r\\n</title><link href=\"../App_Themes/404/404.css\" type=\"text/css\" rel=\"stylesheet\" /></head>\\r\\n<script type=\"text/javascript\">\\r\\nfunction breakOut()\\r\\n{\\r\\n    if (top.location != location) {\\r\\n        top.location.href = document.location.href;\\r\\n    }\\r\\n}\\r\\n</script>\\r\\n<body onload=\"breakOut()\">\\r\\n\\r\\n<h1>Oops! <span>This link does not exist.</span> <a href=\"javascript:history.go(-1)\">&laquo; Go Back</a></h1>\\r\\n\\r\\n\\r\\n\\r\\n<h3>What happened? <span>List of possible reasons</span></h3>\\r\\n\\r\\n<ul>\\r\\n\\t<li>You entered the wrong URL</li>\\r\\n\\t<li>The link to this page is incorrect</li>\\r\\n\\t<li>The link you are trying to visit no longer exists</li>\\r\\n</ul>\\r\\n\\r\\n<div class=\"back\"><a href=\"javascript:history.go(-1)\">&laquo; Go Back</a></div>\\r\\n</body>\\r\\n</html>\\r\\n'\n"
     ]
    },
    {
     "name": "stderr",
     "output_type": "stream",
     "text": [
      "C:\\Users\\ben97312\\Documents\\code\\notebooks\\Lib\\site-packages\\urllib3\\connectionpool.py:1103: InsecureRequestWarning: Unverified HTTPS request is being made to host 'greenbeltmd.granicus.com'. Adding certificate verification is strongly advised. See: https://urllib3.readthedocs.io/en/latest/advanced-usage.html#tls-warnings\n",
      "  warnings.warn(\n",
      "C:\\Users\\ben97312\\Documents\\code\\notebooks\\Lib\\site-packages\\urllib3\\connectionpool.py:1103: InsecureRequestWarning: Unverified HTTPS request is being made to host 'greenbeltmd.granicus.com'. Adding certificate verification is strongly advised. See: https://urllib3.readthedocs.io/en/latest/advanced-usage.html#tls-warnings\n",
      "  warnings.warn(\n"
     ]
    },
    {
     "name": "stdout",
     "output_type": "stream",
     "text": [
      "2016\n",
      "http://greenbeltmd.granicus.com/GeneratedAgendaViewer.php?view_id=2\n",
      "Printing content causing IndexError:\n",
      "\tb'\\r\\n<!DOCTYPE html PUBLIC \"-//W3C//DTD XHTML 1.0 Transitional//EN\" \"https://www.w3.org/TR/xhtml1/DTD/xhtml1-transitional.dtd\">\\r\\n<html xmlns=\"http://www.w3.org/1999/xhtml\">\\r\\n<head id=\"Head1\"><title>\\r\\n\\t404 - Page Not Found\\r\\n</title><link href=\"../App_Themes/404/404.css\" type=\"text/css\" rel=\"stylesheet\" /></head>\\r\\n<script type=\"text/javascript\">\\r\\nfunction breakOut()\\r\\n{\\r\\n    if (top.location != location) {\\r\\n        top.location.href = document.location.href;\\r\\n    }\\r\\n}\\r\\n</script>\\r\\n<body onload=\"breakOut()\">\\r\\n\\r\\n<h1>Oops! <span>This link does not exist.</span> <a href=\"javascript:history.go(-1)\">&laquo; Go Back</a></h1>\\r\\n\\r\\n\\r\\n\\r\\n<h3>What happened? <span>List of possible reasons</span></h3>\\r\\n\\r\\n<ul>\\r\\n\\t<li>You entered the wrong URL</li>\\r\\n\\t<li>The link to this page is incorrect</li>\\r\\n\\t<li>The link you are trying to visit no longer exists</li>\\r\\n</ul>\\r\\n\\r\\n<div class=\"back\"><a href=\"javascript:history.go(-1)\">&laquo; Go Back</a></div>\\r\\n</body>\\r\\n</html>\\r\\n'\n"
     ]
    },
    {
     "name": "stderr",
     "output_type": "stream",
     "text": [
      "C:\\Users\\ben97312\\Documents\\code\\notebooks\\Lib\\site-packages\\urllib3\\connectionpool.py:1103: InsecureRequestWarning: Unverified HTTPS request is being made to host 'greenbeltmd.granicus.com'. Adding certificate verification is strongly advised. See: https://urllib3.readthedocs.io/en/latest/advanced-usage.html#tls-warnings\n",
      "  warnings.warn(\n",
      "C:\\Users\\ben97312\\Documents\\code\\notebooks\\Lib\\site-packages\\urllib3\\connectionpool.py:1103: InsecureRequestWarning: Unverified HTTPS request is being made to host 'greenbeltmd.granicus.com'. Adding certificate verification is strongly advised. See: https://urllib3.readthedocs.io/en/latest/advanced-usage.html#tls-warnings\n",
      "  warnings.warn(\n"
     ]
    },
    {
     "name": "stdout",
     "output_type": "stream",
     "text": [
      "2016\n",
      "http://greenbeltmd.granicus.com/GeneratedAgendaViewer.php?view_id=2\n",
      "Printing content causing IndexError:\n",
      "\tb'\\r\\n<!DOCTYPE html PUBLIC \"-//W3C//DTD XHTML 1.0 Transitional//EN\" \"https://www.w3.org/TR/xhtml1/DTD/xhtml1-transitional.dtd\">\\r\\n<html xmlns=\"http://www.w3.org/1999/xhtml\">\\r\\n<head id=\"Head1\"><title>\\r\\n\\t404 - Page Not Found\\r\\n</title><link href=\"../App_Themes/404/404.css\" type=\"text/css\" rel=\"stylesheet\" /></head>\\r\\n<script type=\"text/javascript\">\\r\\nfunction breakOut()\\r\\n{\\r\\n    if (top.location != location) {\\r\\n        top.location.href = document.location.href;\\r\\n    }\\r\\n}\\r\\n</script>\\r\\n<body onload=\"breakOut()\">\\r\\n\\r\\n<h1>Oops! <span>This link does not exist.</span> <a href=\"javascript:history.go(-1)\">&laquo; Go Back</a></h1>\\r\\n\\r\\n\\r\\n\\r\\n<h3>What happened? <span>List of possible reasons</span></h3>\\r\\n\\r\\n<ul>\\r\\n\\t<li>You entered the wrong URL</li>\\r\\n\\t<li>The link to this page is incorrect</li>\\r\\n\\t<li>The link you are trying to visit no longer exists</li>\\r\\n</ul>\\r\\n\\r\\n<div class=\"back\"><a href=\"javascript:history.go(-1)\">&laquo; Go Back</a></div>\\r\\n</body>\\r\\n</html>\\r\\n'\n",
      "2016\n",
      "http://greenbeltmd.granicus.com/GeneratedAgendaViewer.php?view_id=2\n",
      "Printing content causing IndexError:\n",
      "\tb'\\r\\n<!DOCTYPE html PUBLIC \"-//W3C//DTD XHTML 1.0 Transitional//EN\" \"https://www.w3.org/TR/xhtml1/DTD/xhtml1-transitional.dtd\">\\r\\n<html xmlns=\"http://www.w3.org/1999/xhtml\">\\r\\n<head id=\"Head1\"><title>\\r\\n\\t404 - Page Not Found\\r\\n</title><link href=\"../App_Themes/404/404.css\" type=\"text/css\" rel=\"stylesheet\" /></head>\\r\\n<script type=\"text/javascript\">\\r\\nfunction breakOut()\\r\\n{\\r\\n    if (top.location != location) {\\r\\n        top.location.href = document.location.href;\\r\\n    }\\r\\n}\\r\\n</script>\\r\\n<body onload=\"breakOut()\">\\r\\n\\r\\n<h1>Oops! <span>This link does not exist.</span> <a href=\"javascript:history.go(-1)\">&laquo; Go Back</a></h1>\\r\\n\\r\\n\\r\\n\\r\\n<h3>What happened? <span>List of possible reasons</span></h3>\\r\\n\\r\\n<ul>\\r\\n\\t<li>You entered the wrong URL</li>\\r\\n\\t<li>The link to this page is incorrect</li>\\r\\n\\t<li>The link you are trying to visit no longer exists</li>\\r\\n</ul>\\r\\n\\r\\n<div class=\"back\"><a href=\"javascript:history.go(-1)\">&laquo; Go Back</a></div>\\r\\n</body>\\r\\n</html>\\r\\n'\n",
      "2016\n",
      "http://greenbeltmd.granicus.com/GeneratedAgendaViewer.php?view_id=2\n",
      "Printing content causing IndexError:\n",
      "\tb'\\r\\n<!DOCTYPE html PUBLIC \"-//W3C//DTD XHTML 1.0 Transitional//EN\" \"https://www.w3.org/TR/xhtml1/DTD/xhtml1-transitional.dtd\">\\r\\n<html xmlns=\"http://www.w3.org/1999/xhtml\">\\r\\n<head id=\"Head1\"><title>\\r\\n\\t404 - Page Not Found\\r\\n</title><link href=\"../App_Themes/404/404.css\" type=\"text/css\" rel=\"stylesheet\" /></head>\\r\\n<script type=\"text/javascript\">\\r\\nfunction breakOut()\\r\\n{\\r\\n    if (top.location != location) {\\r\\n        top.location.href = document.location.href;\\r\\n    }\\r\\n}\\r\\n</script>\\r\\n<body onload=\"breakOut()\">\\r\\n\\r\\n<h1>Oops! <span>This link does not exist.</span> <a href=\"javascript:history.go(-1)\">&laquo; Go Back</a></h1>\\r\\n\\r\\n\\r\\n\\r\\n<h3>What happened? <span>List of possible reasons</span></h3>\\r\\n\\r\\n<ul>\\r\\n\\t<li>You entered the wrong URL</li>\\r\\n\\t<li>The link to this page is incorrect</li>\\r\\n\\t<li>The link you are trying to visit no longer exists</li>\\r\\n</ul>\\r\\n\\r\\n<div class=\"back\"><a href=\"javascript:history.go(-1)\">&laquo; Go Back</a></div>\\r\\n</body>\\r\\n</html>\\r\\n'\n"
     ]
    },
    {
     "name": "stderr",
     "output_type": "stream",
     "text": [
      "C:\\Users\\ben97312\\Documents\\code\\notebooks\\Lib\\site-packages\\urllib3\\connectionpool.py:1103: InsecureRequestWarning: Unverified HTTPS request is being made to host 'greenbeltmd.granicus.com'. Adding certificate verification is strongly advised. See: https://urllib3.readthedocs.io/en/latest/advanced-usage.html#tls-warnings\n",
      "  warnings.warn(\n"
     ]
    },
    {
     "name": "stdout",
     "output_type": "stream",
     "text": [
      "2016\n",
      "http://greenbeltmd.granicus.com/GeneratedAgendaViewer.php?view_id=2\n",
      "Printing content causing IndexError:\n",
      "\tb'\\r\\n<!DOCTYPE html PUBLIC \"-//W3C//DTD XHTML 1.0 Transitional//EN\" \"https://www.w3.org/TR/xhtml1/DTD/xhtml1-transitional.dtd\">\\r\\n<html xmlns=\"http://www.w3.org/1999/xhtml\">\\r\\n<head id=\"Head1\"><title>\\r\\n\\t404 - Page Not Found\\r\\n</title><link href=\"../App_Themes/404/404.css\" type=\"text/css\" rel=\"stylesheet\" /></head>\\r\\n<script type=\"text/javascript\">\\r\\nfunction breakOut()\\r\\n{\\r\\n    if (top.location != location) {\\r\\n        top.location.href = document.location.href;\\r\\n    }\\r\\n}\\r\\n</script>\\r\\n<body onload=\"breakOut()\">\\r\\n\\r\\n<h1>Oops! <span>This link does not exist.</span> <a href=\"javascript:history.go(-1)\">&laquo; Go Back</a></h1>\\r\\n\\r\\n\\r\\n\\r\\n<h3>What happened? <span>List of possible reasons</span></h3>\\r\\n\\r\\n<ul>\\r\\n\\t<li>You entered the wrong URL</li>\\r\\n\\t<li>The link to this page is incorrect</li>\\r\\n\\t<li>The link you are trying to visit no longer exists</li>\\r\\n</ul>\\r\\n\\r\\n<div class=\"back\"><a href=\"javascript:history.go(-1)\">&laquo; Go Back</a></div>\\r\\n</body>\\r\\n</html>\\r\\n'\n"
     ]
    },
    {
     "name": "stderr",
     "output_type": "stream",
     "text": [
      "C:\\Users\\ben97312\\Documents\\code\\notebooks\\Lib\\site-packages\\urllib3\\connectionpool.py:1103: InsecureRequestWarning: Unverified HTTPS request is being made to host 'greenbeltmd.granicus.com'. Adding certificate verification is strongly advised. See: https://urllib3.readthedocs.io/en/latest/advanced-usage.html#tls-warnings\n",
      "  warnings.warn(\n"
     ]
    },
    {
     "name": "stdout",
     "output_type": "stream",
     "text": [
      "2016\n",
      "http://greenbeltmd.granicus.com/GeneratedAgendaViewer.php?view_id=2\n",
      "Printing content causing IndexError:\n",
      "\tb'\\r\\n<!DOCTYPE html PUBLIC \"-//W3C//DTD XHTML 1.0 Transitional//EN\" \"https://www.w3.org/TR/xhtml1/DTD/xhtml1-transitional.dtd\">\\r\\n<html xmlns=\"http://www.w3.org/1999/xhtml\">\\r\\n<head id=\"Head1\"><title>\\r\\n\\t404 - Page Not Found\\r\\n</title><link href=\"../App_Themes/404/404.css\" type=\"text/css\" rel=\"stylesheet\" /></head>\\r\\n<script type=\"text/javascript\">\\r\\nfunction breakOut()\\r\\n{\\r\\n    if (top.location != location) {\\r\\n        top.location.href = document.location.href;\\r\\n    }\\r\\n}\\r\\n</script>\\r\\n<body onload=\"breakOut()\">\\r\\n\\r\\n<h1>Oops! <span>This link does not exist.</span> <a href=\"javascript:history.go(-1)\">&laquo; Go Back</a></h1>\\r\\n\\r\\n\\r\\n\\r\\n<h3>What happened? <span>List of possible reasons</span></h3>\\r\\n\\r\\n<ul>\\r\\n\\t<li>You entered the wrong URL</li>\\r\\n\\t<li>The link to this page is incorrect</li>\\r\\n\\t<li>The link you are trying to visit no longer exists</li>\\r\\n</ul>\\r\\n\\r\\n<div class=\"back\"><a href=\"javascript:history.go(-1)\">&laquo; Go Back</a></div>\\r\\n</body>\\r\\n</html>\\r\\n'\n",
      "2016\n",
      "http://greenbeltmd.granicus.com/GeneratedAgendaViewer.php?view_id=2\n",
      "Printing content causing IndexError:\n",
      "\tb'\\r\\n<!DOCTYPE html PUBLIC \"-//W3C//DTD XHTML 1.0 Transitional//EN\" \"https://www.w3.org/TR/xhtml1/DTD/xhtml1-transitional.dtd\">\\r\\n<html xmlns=\"http://www.w3.org/1999/xhtml\">\\r\\n<head id=\"Head1\"><title>\\r\\n\\t404 - Page Not Found\\r\\n</title><link href=\"../App_Themes/404/404.css\" type=\"text/css\" rel=\"stylesheet\" /></head>\\r\\n<script type=\"text/javascript\">\\r\\nfunction breakOut()\\r\\n{\\r\\n    if (top.location != location) {\\r\\n        top.location.href = document.location.href;\\r\\n    }\\r\\n}\\r\\n</script>\\r\\n<body onload=\"breakOut()\">\\r\\n\\r\\n<h1>Oops! <span>This link does not exist.</span> <a href=\"javascript:history.go(-1)\">&laquo; Go Back</a></h1>\\r\\n\\r\\n\\r\\n\\r\\n<h3>What happened? <span>List of possible reasons</span></h3>\\r\\n\\r\\n<ul>\\r\\n\\t<li>You entered the wrong URL</li>\\r\\n\\t<li>The link to this page is incorrect</li>\\r\\n\\t<li>The link you are trying to visit no longer exists</li>\\r\\n</ul>\\r\\n\\r\\n<div class=\"back\"><a href=\"javascript:history.go(-1)\">&laquo; Go Back</a></div>\\r\\n</body>\\r\\n</html>\\r\\n'\n",
      "2016\n",
      "https://greenbeltmd.granicus.com/DocumentViewer.php?file=greenbeltmd_fb21ce91cfcb1af57c431a0a8c0d97fb.pdf&view=1\n"
     ]
    },
    {
     "name": "stderr",
     "output_type": "stream",
     "text": [
      "C:\\Users\\ben97312\\Documents\\code\\notebooks\\Lib\\site-packages\\urllib3\\connectionpool.py:1103: InsecureRequestWarning: Unverified HTTPS request is being made to host 'greenbeltmd.granicus.com'. Adding certificate verification is strongly advised. See: https://urllib3.readthedocs.io/en/latest/advanced-usage.html#tls-warnings\n",
      "  warnings.warn(\n"
     ]
    },
    {
     "name": "stdout",
     "output_type": "stream",
     "text": [
      "2015\n",
      "http://greenbeltmd.granicus.com/GeneratedAgendaViewer.php?view_id=2\n",
      "Printing content causing IndexError:\n",
      "\tb'\\r\\n<!DOCTYPE html PUBLIC \"-//W3C//DTD XHTML 1.0 Transitional//EN\" \"https://www.w3.org/TR/xhtml1/DTD/xhtml1-transitional.dtd\">\\r\\n<html xmlns=\"http://www.w3.org/1999/xhtml\">\\r\\n<head id=\"Head1\"><title>\\r\\n\\t404 - Page Not Found\\r\\n</title><link href=\"../App_Themes/404/404.css\" type=\"text/css\" rel=\"stylesheet\" /></head>\\r\\n<script type=\"text/javascript\">\\r\\nfunction breakOut()\\r\\n{\\r\\n    if (top.location != location) {\\r\\n        top.location.href = document.location.href;\\r\\n    }\\r\\n}\\r\\n</script>\\r\\n<body onload=\"breakOut()\">\\r\\n\\r\\n<h1>Oops! <span>This link does not exist.</span> <a href=\"javascript:history.go(-1)\">&laquo; Go Back</a></h1>\\r\\n\\r\\n\\r\\n\\r\\n<h3>What happened? <span>List of possible reasons</span></h3>\\r\\n\\r\\n<ul>\\r\\n\\t<li>You entered the wrong URL</li>\\r\\n\\t<li>The link to this page is incorrect</li>\\r\\n\\t<li>The link you are trying to visit no longer exists</li>\\r\\n</ul>\\r\\n\\r\\n<div class=\"back\"><a href=\"javascript:history.go(-1)\">&laquo; Go Back</a></div>\\r\\n</body>\\r\\n</html>\\r\\n'\n"
     ]
    },
    {
     "name": "stderr",
     "output_type": "stream",
     "text": [
      "C:\\Users\\ben97312\\Documents\\code\\notebooks\\Lib\\site-packages\\urllib3\\connectionpool.py:1103: InsecureRequestWarning: Unverified HTTPS request is being made to host 'greenbeltmd.granicus.com'. Adding certificate verification is strongly advised. See: https://urllib3.readthedocs.io/en/latest/advanced-usage.html#tls-warnings\n",
      "  warnings.warn(\n",
      "C:\\Users\\ben97312\\Documents\\code\\notebooks\\Lib\\site-packages\\urllib3\\connectionpool.py:1103: InsecureRequestWarning: Unverified HTTPS request is being made to host 'greenbeltmd.granicus.com'. Adding certificate verification is strongly advised. See: https://urllib3.readthedocs.io/en/latest/advanced-usage.html#tls-warnings\n",
      "  warnings.warn(\n"
     ]
    },
    {
     "name": "stdout",
     "output_type": "stream",
     "text": [
      "2015\n",
      "http://greenbeltmd.granicus.com/GeneratedAgendaViewer.php?view_id=2\n",
      "Printing content causing IndexError:\n",
      "\tb'\\r\\n<!DOCTYPE html PUBLIC \"-//W3C//DTD XHTML 1.0 Transitional//EN\" \"https://www.w3.org/TR/xhtml1/DTD/xhtml1-transitional.dtd\">\\r\\n<html xmlns=\"http://www.w3.org/1999/xhtml\">\\r\\n<head id=\"Head1\"><title>\\r\\n\\t404 - Page Not Found\\r\\n</title><link href=\"../App_Themes/404/404.css\" type=\"text/css\" rel=\"stylesheet\" /></head>\\r\\n<script type=\"text/javascript\">\\r\\nfunction breakOut()\\r\\n{\\r\\n    if (top.location != location) {\\r\\n        top.location.href = document.location.href;\\r\\n    }\\r\\n}\\r\\n</script>\\r\\n<body onload=\"breakOut()\">\\r\\n\\r\\n<h1>Oops! <span>This link does not exist.</span> <a href=\"javascript:history.go(-1)\">&laquo; Go Back</a></h1>\\r\\n\\r\\n\\r\\n\\r\\n<h3>What happened? <span>List of possible reasons</span></h3>\\r\\n\\r\\n<ul>\\r\\n\\t<li>You entered the wrong URL</li>\\r\\n\\t<li>The link to this page is incorrect</li>\\r\\n\\t<li>The link you are trying to visit no longer exists</li>\\r\\n</ul>\\r\\n\\r\\n<div class=\"back\"><a href=\"javascript:history.go(-1)\">&laquo; Go Back</a></div>\\r\\n</body>\\r\\n</html>\\r\\n'\n",
      "2015\n",
      "https://greenbeltmd.granicus.com/DocumentViewer.php?file=greenbeltmd_3f7086c755208963a0ecc6ffa446976c.pdf&view=1\n"
     ]
    },
    {
     "name": "stderr",
     "output_type": "stream",
     "text": [
      "C:\\Users\\ben97312\\Documents\\code\\notebooks\\Lib\\site-packages\\urllib3\\connectionpool.py:1103: InsecureRequestWarning: Unverified HTTPS request is being made to host 'greenbeltmd.granicus.com'. Adding certificate verification is strongly advised. See: https://urllib3.readthedocs.io/en/latest/advanced-usage.html#tls-warnings\n",
      "  warnings.warn(\n"
     ]
    },
    {
     "name": "stdout",
     "output_type": "stream",
     "text": [
      "2015\n",
      "http://greenbeltmd.granicus.com/GeneratedAgendaViewer.php?view_id=2\n",
      "Printing content causing IndexError:\n",
      "\tb'\\r\\n<!DOCTYPE html PUBLIC \"-//W3C//DTD XHTML 1.0 Transitional//EN\" \"https://www.w3.org/TR/xhtml1/DTD/xhtml1-transitional.dtd\">\\r\\n<html xmlns=\"http://www.w3.org/1999/xhtml\">\\r\\n<head id=\"Head1\"><title>\\r\\n\\t404 - Page Not Found\\r\\n</title><link href=\"../App_Themes/404/404.css\" type=\"text/css\" rel=\"stylesheet\" /></head>\\r\\n<script type=\"text/javascript\">\\r\\nfunction breakOut()\\r\\n{\\r\\n    if (top.location != location) {\\r\\n        top.location.href = document.location.href;\\r\\n    }\\r\\n}\\r\\n</script>\\r\\n<body onload=\"breakOut()\">\\r\\n\\r\\n<h1>Oops! <span>This link does not exist.</span> <a href=\"javascript:history.go(-1)\">&laquo; Go Back</a></h1>\\r\\n\\r\\n\\r\\n\\r\\n<h3>What happened? <span>List of possible reasons</span></h3>\\r\\n\\r\\n<ul>\\r\\n\\t<li>You entered the wrong URL</li>\\r\\n\\t<li>The link to this page is incorrect</li>\\r\\n\\t<li>The link you are trying to visit no longer exists</li>\\r\\n</ul>\\r\\n\\r\\n<div class=\"back\"><a href=\"javascript:history.go(-1)\">&laquo; Go Back</a></div>\\r\\n</body>\\r\\n</html>\\r\\n'\n",
      "2015\n",
      "https://greenbeltmd.granicus.com/DocumentViewer.php?file=greenbeltmd_3ddb907a63f8e3ed88f32aaab68b050d.pdf&view=1\n"
     ]
    },
    {
     "name": "stderr",
     "output_type": "stream",
     "text": [
      "C:\\Users\\ben97312\\Documents\\code\\notebooks\\Lib\\site-packages\\urllib3\\connectionpool.py:1103: InsecureRequestWarning: Unverified HTTPS request is being made to host 'greenbeltmd.granicus.com'. Adding certificate verification is strongly advised. See: https://urllib3.readthedocs.io/en/latest/advanced-usage.html#tls-warnings\n",
      "  warnings.warn(\n",
      "C:\\Users\\ben97312\\Documents\\code\\notebooks\\Lib\\site-packages\\urllib3\\connectionpool.py:1103: InsecureRequestWarning: Unverified HTTPS request is being made to host 'greenbeltmd.granicus.com'. Adding certificate verification is strongly advised. See: https://urllib3.readthedocs.io/en/latest/advanced-usage.html#tls-warnings\n",
      "  warnings.warn(\n"
     ]
    },
    {
     "name": "stdout",
     "output_type": "stream",
     "text": [
      "2015\n",
      "http://greenbeltmd.granicus.com/GeneratedAgendaViewer.php?view_id=2\n",
      "Printing content causing IndexError:\n",
      "\tb'\\r\\n<!DOCTYPE html PUBLIC \"-//W3C//DTD XHTML 1.0 Transitional//EN\" \"https://www.w3.org/TR/xhtml1/DTD/xhtml1-transitional.dtd\">\\r\\n<html xmlns=\"http://www.w3.org/1999/xhtml\">\\r\\n<head id=\"Head1\"><title>\\r\\n\\t404 - Page Not Found\\r\\n</title><link href=\"../App_Themes/404/404.css\" type=\"text/css\" rel=\"stylesheet\" /></head>\\r\\n<script type=\"text/javascript\">\\r\\nfunction breakOut()\\r\\n{\\r\\n    if (top.location != location) {\\r\\n        top.location.href = document.location.href;\\r\\n    }\\r\\n}\\r\\n</script>\\r\\n<body onload=\"breakOut()\">\\r\\n\\r\\n<h1>Oops! <span>This link does not exist.</span> <a href=\"javascript:history.go(-1)\">&laquo; Go Back</a></h1>\\r\\n\\r\\n\\r\\n\\r\\n<h3>What happened? <span>List of possible reasons</span></h3>\\r\\n\\r\\n<ul>\\r\\n\\t<li>You entered the wrong URL</li>\\r\\n\\t<li>The link to this page is incorrect</li>\\r\\n\\t<li>The link you are trying to visit no longer exists</li>\\r\\n</ul>\\r\\n\\r\\n<div class=\"back\"><a href=\"javascript:history.go(-1)\">&laquo; Go Back</a></div>\\r\\n</body>\\r\\n</html>\\r\\n'\n",
      "2015\n",
      "https://greenbeltmd.granicus.com/DocumentViewer.php?file=greenbeltmd_828bd7b8b958acfc53784f6de8830614.pdf&view=1\n"
     ]
    },
    {
     "name": "stderr",
     "output_type": "stream",
     "text": [
      "C:\\Users\\ben97312\\Documents\\code\\notebooks\\Lib\\site-packages\\urllib3\\connectionpool.py:1103: InsecureRequestWarning: Unverified HTTPS request is being made to host 'greenbeltmd.granicus.com'. Adding certificate verification is strongly advised. See: https://urllib3.readthedocs.io/en/latest/advanced-usage.html#tls-warnings\n",
      "  warnings.warn(\n"
     ]
    },
    {
     "name": "stdout",
     "output_type": "stream",
     "text": [
      "2015\n",
      "https://greenbeltmd.granicus.com/DocumentViewer.php?file=greenbeltmd_f5bb980bd7834f51abc2815bc6ccb8f8.pdf&view=1\n"
     ]
    },
    {
     "name": "stderr",
     "output_type": "stream",
     "text": [
      "C:\\Users\\ben97312\\Documents\\code\\notebooks\\Lib\\site-packages\\urllib3\\connectionpool.py:1103: InsecureRequestWarning: Unverified HTTPS request is being made to host 'greenbeltmd.granicus.com'. Adding certificate verification is strongly advised. See: https://urllib3.readthedocs.io/en/latest/advanced-usage.html#tls-warnings\n",
      "  warnings.warn(\n"
     ]
    },
    {
     "name": "stdout",
     "output_type": "stream",
     "text": [
      "2015\n",
      "http://greenbeltmd.granicus.com/GeneratedAgendaViewer.php?view_id=2\n",
      "Printing content causing IndexError:\n",
      "\tb'\\r\\n<!DOCTYPE html PUBLIC \"-//W3C//DTD XHTML 1.0 Transitional//EN\" \"https://www.w3.org/TR/xhtml1/DTD/xhtml1-transitional.dtd\">\\r\\n<html xmlns=\"http://www.w3.org/1999/xhtml\">\\r\\n<head id=\"Head1\"><title>\\r\\n\\t404 - Page Not Found\\r\\n</title><link href=\"../App_Themes/404/404.css\" type=\"text/css\" rel=\"stylesheet\" /></head>\\r\\n<script type=\"text/javascript\">\\r\\nfunction breakOut()\\r\\n{\\r\\n    if (top.location != location) {\\r\\n        top.location.href = document.location.href;\\r\\n    }\\r\\n}\\r\\n</script>\\r\\n<body onload=\"breakOut()\">\\r\\n\\r\\n<h1>Oops! <span>This link does not exist.</span> <a href=\"javascript:history.go(-1)\">&laquo; Go Back</a></h1>\\r\\n\\r\\n\\r\\n\\r\\n<h3>What happened? <span>List of possible reasons</span></h3>\\r\\n\\r\\n<ul>\\r\\n\\t<li>You entered the wrong URL</li>\\r\\n\\t<li>The link to this page is incorrect</li>\\r\\n\\t<li>The link you are trying to visit no longer exists</li>\\r\\n</ul>\\r\\n\\r\\n<div class=\"back\"><a href=\"javascript:history.go(-1)\">&laquo; Go Back</a></div>\\r\\n</body>\\r\\n</html>\\r\\n'\n"
     ]
    },
    {
     "name": "stderr",
     "output_type": "stream",
     "text": [
      "C:\\Users\\ben97312\\Documents\\code\\notebooks\\Lib\\site-packages\\urllib3\\connectionpool.py:1103: InsecureRequestWarning: Unverified HTTPS request is being made to host 'greenbeltmd.granicus.com'. Adding certificate verification is strongly advised. See: https://urllib3.readthedocs.io/en/latest/advanced-usage.html#tls-warnings\n",
      "  warnings.warn(\n"
     ]
    },
    {
     "name": "stdout",
     "output_type": "stream",
     "text": [
      "2015\n",
      "https://greenbeltmd.granicus.com/DocumentViewer.php?file=greenbeltmd_fd36645321bb27a01b723ab8a2eb125e.pdf&view=1\n"
     ]
    },
    {
     "name": "stderr",
     "output_type": "stream",
     "text": [
      "C:\\Users\\ben97312\\Documents\\code\\notebooks\\Lib\\site-packages\\urllib3\\connectionpool.py:1103: InsecureRequestWarning: Unverified HTTPS request is being made to host 'greenbeltmd.granicus.com'. Adding certificate verification is strongly advised. See: https://urllib3.readthedocs.io/en/latest/advanced-usage.html#tls-warnings\n",
      "  warnings.warn(\n"
     ]
    },
    {
     "name": "stdout",
     "output_type": "stream",
     "text": [
      "2015\n",
      "https://greenbeltmd.granicus.com/DocumentViewer.php?file=greenbeltmd_3c7e146140b60d3e43845a40580b2d9f.pdf&view=1\n"
     ]
    },
    {
     "name": "stderr",
     "output_type": "stream",
     "text": [
      "C:\\Users\\ben97312\\Documents\\code\\notebooks\\Lib\\site-packages\\urllib3\\connectionpool.py:1103: InsecureRequestWarning: Unverified HTTPS request is being made to host 'greenbeltmd.granicus.com'. Adding certificate verification is strongly advised. See: https://urllib3.readthedocs.io/en/latest/advanced-usage.html#tls-warnings\n",
      "  warnings.warn(\n"
     ]
    },
    {
     "name": "stdout",
     "output_type": "stream",
     "text": [
      "2015\n",
      "http://greenbeltmd.granicus.com/GeneratedAgendaViewer.php?view_id=2\n",
      "Printing content causing IndexError:\n",
      "\tb'\\r\\n<!DOCTYPE html PUBLIC \"-//W3C//DTD XHTML 1.0 Transitional//EN\" \"https://www.w3.org/TR/xhtml1/DTD/xhtml1-transitional.dtd\">\\r\\n<html xmlns=\"http://www.w3.org/1999/xhtml\">\\r\\n<head id=\"Head1\"><title>\\r\\n\\t404 - Page Not Found\\r\\n</title><link href=\"../App_Themes/404/404.css\" type=\"text/css\" rel=\"stylesheet\" /></head>\\r\\n<script type=\"text/javascript\">\\r\\nfunction breakOut()\\r\\n{\\r\\n    if (top.location != location) {\\r\\n        top.location.href = document.location.href;\\r\\n    }\\r\\n}\\r\\n</script>\\r\\n<body onload=\"breakOut()\">\\r\\n\\r\\n<h1>Oops! <span>This link does not exist.</span> <a href=\"javascript:history.go(-1)\">&laquo; Go Back</a></h1>\\r\\n\\r\\n\\r\\n\\r\\n<h3>What happened? <span>List of possible reasons</span></h3>\\r\\n\\r\\n<ul>\\r\\n\\t<li>You entered the wrong URL</li>\\r\\n\\t<li>The link to this page is incorrect</li>\\r\\n\\t<li>The link you are trying to visit no longer exists</li>\\r\\n</ul>\\r\\n\\r\\n<div class=\"back\"><a href=\"javascript:history.go(-1)\">&laquo; Go Back</a></div>\\r\\n</body>\\r\\n</html>\\r\\n'\n"
     ]
    },
    {
     "name": "stderr",
     "output_type": "stream",
     "text": [
      "C:\\Users\\ben97312\\Documents\\code\\notebooks\\Lib\\site-packages\\urllib3\\connectionpool.py:1103: InsecureRequestWarning: Unverified HTTPS request is being made to host 'greenbeltmd.granicus.com'. Adding certificate verification is strongly advised. See: https://urllib3.readthedocs.io/en/latest/advanced-usage.html#tls-warnings\n",
      "  warnings.warn(\n"
     ]
    },
    {
     "name": "stdout",
     "output_type": "stream",
     "text": [
      "2015\n",
      "http://greenbeltmd.granicus.com/GeneratedAgendaViewer.php?view_id=2\n",
      "Printing content causing IndexError:\n",
      "\tb'\\r\\n<!DOCTYPE html PUBLIC \"-//W3C//DTD XHTML 1.0 Transitional//EN\" \"https://www.w3.org/TR/xhtml1/DTD/xhtml1-transitional.dtd\">\\r\\n<html xmlns=\"http://www.w3.org/1999/xhtml\">\\r\\n<head id=\"Head1\"><title>\\r\\n\\t404 - Page Not Found\\r\\n</title><link href=\"../App_Themes/404/404.css\" type=\"text/css\" rel=\"stylesheet\" /></head>\\r\\n<script type=\"text/javascript\">\\r\\nfunction breakOut()\\r\\n{\\r\\n    if (top.location != location) {\\r\\n        top.location.href = document.location.href;\\r\\n    }\\r\\n}\\r\\n</script>\\r\\n<body onload=\"breakOut()\">\\r\\n\\r\\n<h1>Oops! <span>This link does not exist.</span> <a href=\"javascript:history.go(-1)\">&laquo; Go Back</a></h1>\\r\\n\\r\\n\\r\\n\\r\\n<h3>What happened? <span>List of possible reasons</span></h3>\\r\\n\\r\\n<ul>\\r\\n\\t<li>You entered the wrong URL</li>\\r\\n\\t<li>The link to this page is incorrect</li>\\r\\n\\t<li>The link you are trying to visit no longer exists</li>\\r\\n</ul>\\r\\n\\r\\n<div class=\"back\"><a href=\"javascript:history.go(-1)\">&laquo; Go Back</a></div>\\r\\n</body>\\r\\n</html>\\r\\n'\n",
      "2015\n",
      "http://greenbeltmd.granicus.com/GeneratedAgendaViewer.php?view_id=2\n",
      "Printing content causing IndexError:\n",
      "\tb'\\r\\n<!DOCTYPE html PUBLIC \"-//W3C//DTD XHTML 1.0 Transitional//EN\" \"https://www.w3.org/TR/xhtml1/DTD/xhtml1-transitional.dtd\">\\r\\n<html xmlns=\"http://www.w3.org/1999/xhtml\">\\r\\n<head id=\"Head1\"><title>\\r\\n\\t404 - Page Not Found\\r\\n</title><link href=\"../App_Themes/404/404.css\" type=\"text/css\" rel=\"stylesheet\" /></head>\\r\\n<script type=\"text/javascript\">\\r\\nfunction breakOut()\\r\\n{\\r\\n    if (top.location != location) {\\r\\n        top.location.href = document.location.href;\\r\\n    }\\r\\n}\\r\\n</script>\\r\\n<body onload=\"breakOut()\">\\r\\n\\r\\n<h1>Oops! <span>This link does not exist.</span> <a href=\"javascript:history.go(-1)\">&laquo; Go Back</a></h1>\\r\\n\\r\\n\\r\\n\\r\\n<h3>What happened? <span>List of possible reasons</span></h3>\\r\\n\\r\\n<ul>\\r\\n\\t<li>You entered the wrong URL</li>\\r\\n\\t<li>The link to this page is incorrect</li>\\r\\n\\t<li>The link you are trying to visit no longer exists</li>\\r\\n</ul>\\r\\n\\r\\n<div class=\"back\"><a href=\"javascript:history.go(-1)\">&laquo; Go Back</a></div>\\r\\n</body>\\r\\n</html>\\r\\n'\n"
     ]
    },
    {
     "name": "stderr",
     "output_type": "stream",
     "text": [
      "C:\\Users\\ben97312\\Documents\\code\\notebooks\\Lib\\site-packages\\urllib3\\connectionpool.py:1103: InsecureRequestWarning: Unverified HTTPS request is being made to host 'greenbeltmd.granicus.com'. Adding certificate verification is strongly advised. See: https://urllib3.readthedocs.io/en/latest/advanced-usage.html#tls-warnings\n",
      "  warnings.warn(\n"
     ]
    },
    {
     "name": "stdout",
     "output_type": "stream",
     "text": [
      "2015\n",
      "https://greenbeltmd.granicus.com/DocumentViewer.php?file=greenbeltmd_afe48c5f524731dba4707730287f4b95.pdf&view=1\n"
     ]
    },
    {
     "name": "stderr",
     "output_type": "stream",
     "text": [
      "C:\\Users\\ben97312\\Documents\\code\\notebooks\\Lib\\site-packages\\urllib3\\connectionpool.py:1103: InsecureRequestWarning: Unverified HTTPS request is being made to host 'greenbeltmd.granicus.com'. Adding certificate verification is strongly advised. See: https://urllib3.readthedocs.io/en/latest/advanced-usage.html#tls-warnings\n",
      "  warnings.warn(\n"
     ]
    },
    {
     "name": "stdout",
     "output_type": "stream",
     "text": [
      "2015\n",
      "https://greenbeltmd.granicus.com/DocumentViewer.php?file=greenbeltmd_084ff0722756a766dcf27105e61f785f.pdf&view=1\n"
     ]
    },
    {
     "name": "stderr",
     "output_type": "stream",
     "text": [
      "C:\\Users\\ben97312\\Documents\\code\\notebooks\\Lib\\site-packages\\urllib3\\connectionpool.py:1103: InsecureRequestWarning: Unverified HTTPS request is being made to host 'greenbeltmd.granicus.com'. Adding certificate verification is strongly advised. See: https://urllib3.readthedocs.io/en/latest/advanced-usage.html#tls-warnings\n",
      "  warnings.warn(\n"
     ]
    },
    {
     "name": "stdout",
     "output_type": "stream",
     "text": [
      "2015\n",
      "http://greenbeltmd.granicus.com/GeneratedAgendaViewer.php?view_id=2\n",
      "Printing content causing IndexError:\n",
      "\tb'\\r\\n<!DOCTYPE html PUBLIC \"-//W3C//DTD XHTML 1.0 Transitional//EN\" \"https://www.w3.org/TR/xhtml1/DTD/xhtml1-transitional.dtd\">\\r\\n<html xmlns=\"http://www.w3.org/1999/xhtml\">\\r\\n<head id=\"Head1\"><title>\\r\\n\\t404 - Page Not Found\\r\\n</title><link href=\"../App_Themes/404/404.css\" type=\"text/css\" rel=\"stylesheet\" /></head>\\r\\n<script type=\"text/javascript\">\\r\\nfunction breakOut()\\r\\n{\\r\\n    if (top.location != location) {\\r\\n        top.location.href = document.location.href;\\r\\n    }\\r\\n}\\r\\n</script>\\r\\n<body onload=\"breakOut()\">\\r\\n\\r\\n<h1>Oops! <span>This link does not exist.</span> <a href=\"javascript:history.go(-1)\">&laquo; Go Back</a></h1>\\r\\n\\r\\n\\r\\n\\r\\n<h3>What happened? <span>List of possible reasons</span></h3>\\r\\n\\r\\n<ul>\\r\\n\\t<li>You entered the wrong URL</li>\\r\\n\\t<li>The link to this page is incorrect</li>\\r\\n\\t<li>The link you are trying to visit no longer exists</li>\\r\\n</ul>\\r\\n\\r\\n<div class=\"back\"><a href=\"javascript:history.go(-1)\">&laquo; Go Back</a></div>\\r\\n</body>\\r\\n</html>\\r\\n'\n",
      "2015\n",
      "http://greenbeltmd.granicus.com/GeneratedAgendaViewer.php?view_id=2\n",
      "Printing content causing IndexError:\n",
      "\tb'\\r\\n<!DOCTYPE html PUBLIC \"-//W3C//DTD XHTML 1.0 Transitional//EN\" \"https://www.w3.org/TR/xhtml1/DTD/xhtml1-transitional.dtd\">\\r\\n<html xmlns=\"http://www.w3.org/1999/xhtml\">\\r\\n<head id=\"Head1\"><title>\\r\\n\\t404 - Page Not Found\\r\\n</title><link href=\"../App_Themes/404/404.css\" type=\"text/css\" rel=\"stylesheet\" /></head>\\r\\n<script type=\"text/javascript\">\\r\\nfunction breakOut()\\r\\n{\\r\\n    if (top.location != location) {\\r\\n        top.location.href = document.location.href;\\r\\n    }\\r\\n}\\r\\n</script>\\r\\n<body onload=\"breakOut()\">\\r\\n\\r\\n<h1>Oops! <span>This link does not exist.</span> <a href=\"javascript:history.go(-1)\">&laquo; Go Back</a></h1>\\r\\n\\r\\n\\r\\n\\r\\n<h3>What happened? <span>List of possible reasons</span></h3>\\r\\n\\r\\n<ul>\\r\\n\\t<li>You entered the wrong URL</li>\\r\\n\\t<li>The link to this page is incorrect</li>\\r\\n\\t<li>The link you are trying to visit no longer exists</li>\\r\\n</ul>\\r\\n\\r\\n<div class=\"back\"><a href=\"javascript:history.go(-1)\">&laquo; Go Back</a></div>\\r\\n</body>\\r\\n</html>\\r\\n'\n",
      "2015\n",
      "http://greenbeltmd.granicus.com/GeneratedAgendaViewer.php?view_id=2\n",
      "Printing content causing IndexError:\n",
      "\tb'\\r\\n<!DOCTYPE html PUBLIC \"-//W3C//DTD XHTML 1.0 Transitional//EN\" \"https://www.w3.org/TR/xhtml1/DTD/xhtml1-transitional.dtd\">\\r\\n<html xmlns=\"http://www.w3.org/1999/xhtml\">\\r\\n<head id=\"Head1\"><title>\\r\\n\\t404 - Page Not Found\\r\\n</title><link href=\"../App_Themes/404/404.css\" type=\"text/css\" rel=\"stylesheet\" /></head>\\r\\n<script type=\"text/javascript\">\\r\\nfunction breakOut()\\r\\n{\\r\\n    if (top.location != location) {\\r\\n        top.location.href = document.location.href;\\r\\n    }\\r\\n}\\r\\n</script>\\r\\n<body onload=\"breakOut()\">\\r\\n\\r\\n<h1>Oops! <span>This link does not exist.</span> <a href=\"javascript:history.go(-1)\">&laquo; Go Back</a></h1>\\r\\n\\r\\n\\r\\n\\r\\n<h3>What happened? <span>List of possible reasons</span></h3>\\r\\n\\r\\n<ul>\\r\\n\\t<li>You entered the wrong URL</li>\\r\\n\\t<li>The link to this page is incorrect</li>\\r\\n\\t<li>The link you are trying to visit no longer exists</li>\\r\\n</ul>\\r\\n\\r\\n<div class=\"back\"><a href=\"javascript:history.go(-1)\">&laquo; Go Back</a></div>\\r\\n</body>\\r\\n</html>\\r\\n'\n"
     ]
    },
    {
     "name": "stderr",
     "output_type": "stream",
     "text": [
      "C:\\Users\\ben97312\\Documents\\code\\notebooks\\Lib\\site-packages\\urllib3\\connectionpool.py:1103: InsecureRequestWarning: Unverified HTTPS request is being made to host 'greenbeltmd.granicus.com'. Adding certificate verification is strongly advised. See: https://urllib3.readthedocs.io/en/latest/advanced-usage.html#tls-warnings\n",
      "  warnings.warn(\n"
     ]
    },
    {
     "name": "stdout",
     "output_type": "stream",
     "text": [
      "2015\n",
      "http://greenbeltmd.granicus.com/GeneratedAgendaViewer.php?view_id=2\n",
      "Printing content causing IndexError:\n",
      "\tb'\\r\\n<!DOCTYPE html PUBLIC \"-//W3C//DTD XHTML 1.0 Transitional//EN\" \"https://www.w3.org/TR/xhtml1/DTD/xhtml1-transitional.dtd\">\\r\\n<html xmlns=\"http://www.w3.org/1999/xhtml\">\\r\\n<head id=\"Head1\"><title>\\r\\n\\t404 - Page Not Found\\r\\n</title><link href=\"../App_Themes/404/404.css\" type=\"text/css\" rel=\"stylesheet\" /></head>\\r\\n<script type=\"text/javascript\">\\r\\nfunction breakOut()\\r\\n{\\r\\n    if (top.location != location) {\\r\\n        top.location.href = document.location.href;\\r\\n    }\\r\\n}\\r\\n</script>\\r\\n<body onload=\"breakOut()\">\\r\\n\\r\\n<h1>Oops! <span>This link does not exist.</span> <a href=\"javascript:history.go(-1)\">&laquo; Go Back</a></h1>\\r\\n\\r\\n\\r\\n\\r\\n<h3>What happened? <span>List of possible reasons</span></h3>\\r\\n\\r\\n<ul>\\r\\n\\t<li>You entered the wrong URL</li>\\r\\n\\t<li>The link to this page is incorrect</li>\\r\\n\\t<li>The link you are trying to visit no longer exists</li>\\r\\n</ul>\\r\\n\\r\\n<div class=\"back\"><a href=\"javascript:history.go(-1)\">&laquo; Go Back</a></div>\\r\\n</body>\\r\\n</html>\\r\\n'\n",
      "2015\n",
      "https://greenbeltmd.granicus.com/DocumentViewer.php?file=greenbeltmd_54c523cbc0c2bbee2d999683cab21f6f.pdf&view=1\n"
     ]
    },
    {
     "name": "stderr",
     "output_type": "stream",
     "text": [
      "C:\\Users\\ben97312\\Documents\\code\\notebooks\\Lib\\site-packages\\urllib3\\connectionpool.py:1103: InsecureRequestWarning: Unverified HTTPS request is being made to host 'greenbeltmd.granicus.com'. Adding certificate verification is strongly advised. See: https://urllib3.readthedocs.io/en/latest/advanced-usage.html#tls-warnings\n",
      "  warnings.warn(\n"
     ]
    },
    {
     "name": "stdout",
     "output_type": "stream",
     "text": [
      "2015\n",
      "http://greenbeltmd.granicus.com/GeneratedAgendaViewer.php?view_id=2\n",
      "Printing content causing IndexError:\n",
      "\tb'\\r\\n<!DOCTYPE html PUBLIC \"-//W3C//DTD XHTML 1.0 Transitional//EN\" \"https://www.w3.org/TR/xhtml1/DTD/xhtml1-transitional.dtd\">\\r\\n<html xmlns=\"http://www.w3.org/1999/xhtml\">\\r\\n<head id=\"Head1\"><title>\\r\\n\\t404 - Page Not Found\\r\\n</title><link href=\"../App_Themes/404/404.css\" type=\"text/css\" rel=\"stylesheet\" /></head>\\r\\n<script type=\"text/javascript\">\\r\\nfunction breakOut()\\r\\n{\\r\\n    if (top.location != location) {\\r\\n        top.location.href = document.location.href;\\r\\n    }\\r\\n}\\r\\n</script>\\r\\n<body onload=\"breakOut()\">\\r\\n\\r\\n<h1>Oops! <span>This link does not exist.</span> <a href=\"javascript:history.go(-1)\">&laquo; Go Back</a></h1>\\r\\n\\r\\n\\r\\n\\r\\n<h3>What happened? <span>List of possible reasons</span></h3>\\r\\n\\r\\n<ul>\\r\\n\\t<li>You entered the wrong URL</li>\\r\\n\\t<li>The link to this page is incorrect</li>\\r\\n\\t<li>The link you are trying to visit no longer exists</li>\\r\\n</ul>\\r\\n\\r\\n<div class=\"back\"><a href=\"javascript:history.go(-1)\">&laquo; Go Back</a></div>\\r\\n</body>\\r\\n</html>\\r\\n'\n",
      "2015\n",
      "https://greenbeltmd.granicus.com/DocumentViewer.php?file=greenbeltmd_388d089b81070e6ee88a2ba7a20f7a12.pdf&view=1\n"
     ]
    },
    {
     "name": "stderr",
     "output_type": "stream",
     "text": [
      "C:\\Users\\ben97312\\Documents\\code\\notebooks\\Lib\\site-packages\\urllib3\\connectionpool.py:1103: InsecureRequestWarning: Unverified HTTPS request is being made to host 'greenbeltmd.granicus.com'. Adding certificate verification is strongly advised. See: https://urllib3.readthedocs.io/en/latest/advanced-usage.html#tls-warnings\n",
      "  warnings.warn(\n"
     ]
    },
    {
     "name": "stdout",
     "output_type": "stream",
     "text": [
      "2015\n",
      "https://greenbeltmd.granicus.com/DocumentViewer.php?file=greenbeltmd_48a41ff0cb4257e2151e339874ac2a1a.pdf&view=1\n"
     ]
    },
    {
     "name": "stderr",
     "output_type": "stream",
     "text": [
      "C:\\Users\\ben97312\\Documents\\code\\notebooks\\Lib\\site-packages\\urllib3\\connectionpool.py:1103: InsecureRequestWarning: Unverified HTTPS request is being made to host 'greenbeltmd.granicus.com'. Adding certificate verification is strongly advised. See: https://urllib3.readthedocs.io/en/latest/advanced-usage.html#tls-warnings\n",
      "  warnings.warn(\n"
     ]
    },
    {
     "name": "stdout",
     "output_type": "stream",
     "text": [
      "2015\n",
      "https://greenbeltmd.granicus.com/DocumentViewer.php?file=greenbeltmd_0ac2f63f5e5c052614a8c1a5e001d1ea.pdf&view=1\n"
     ]
    },
    {
     "name": "stderr",
     "output_type": "stream",
     "text": [
      "C:\\Users\\ben97312\\Documents\\code\\notebooks\\Lib\\site-packages\\urllib3\\connectionpool.py:1103: InsecureRequestWarning: Unverified HTTPS request is being made to host 'greenbeltmd.granicus.com'. Adding certificate verification is strongly advised. See: https://urllib3.readthedocs.io/en/latest/advanced-usage.html#tls-warnings\n",
      "  warnings.warn(\n"
     ]
    },
    {
     "name": "stdout",
     "output_type": "stream",
     "text": [
      "2015\n",
      "http://greenbeltmd.granicus.com/GeneratedAgendaViewer.php?view_id=2\n",
      "Printing content causing IndexError:\n",
      "\tb'\\r\\n<!DOCTYPE html PUBLIC \"-//W3C//DTD XHTML 1.0 Transitional//EN\" \"https://www.w3.org/TR/xhtml1/DTD/xhtml1-transitional.dtd\">\\r\\n<html xmlns=\"http://www.w3.org/1999/xhtml\">\\r\\n<head id=\"Head1\"><title>\\r\\n\\t404 - Page Not Found\\r\\n</title><link href=\"../App_Themes/404/404.css\" type=\"text/css\" rel=\"stylesheet\" /></head>\\r\\n<script type=\"text/javascript\">\\r\\nfunction breakOut()\\r\\n{\\r\\n    if (top.location != location) {\\r\\n        top.location.href = document.location.href;\\r\\n    }\\r\\n}\\r\\n</script>\\r\\n<body onload=\"breakOut()\">\\r\\n\\r\\n<h1>Oops! <span>This link does not exist.</span> <a href=\"javascript:history.go(-1)\">&laquo; Go Back</a></h1>\\r\\n\\r\\n\\r\\n\\r\\n<h3>What happened? <span>List of possible reasons</span></h3>\\r\\n\\r\\n<ul>\\r\\n\\t<li>You entered the wrong URL</li>\\r\\n\\t<li>The link to this page is incorrect</li>\\r\\n\\t<li>The link you are trying to visit no longer exists</li>\\r\\n</ul>\\r\\n\\r\\n<div class=\"back\"><a href=\"javascript:history.go(-1)\">&laquo; Go Back</a></div>\\r\\n</body>\\r\\n</html>\\r\\n'\n",
      "2015\n",
      "http://greenbeltmd.granicus.com/GeneratedAgendaViewer.php?view_id=2\n",
      "Printing content causing IndexError:\n",
      "\tb'\\r\\n<!DOCTYPE html PUBLIC \"-//W3C//DTD XHTML 1.0 Transitional//EN\" \"https://www.w3.org/TR/xhtml1/DTD/xhtml1-transitional.dtd\">\\r\\n<html xmlns=\"http://www.w3.org/1999/xhtml\">\\r\\n<head id=\"Head1\"><title>\\r\\n\\t404 - Page Not Found\\r\\n</title><link href=\"../App_Themes/404/404.css\" type=\"text/css\" rel=\"stylesheet\" /></head>\\r\\n<script type=\"text/javascript\">\\r\\nfunction breakOut()\\r\\n{\\r\\n    if (top.location != location) {\\r\\n        top.location.href = document.location.href;\\r\\n    }\\r\\n}\\r\\n</script>\\r\\n<body onload=\"breakOut()\">\\r\\n\\r\\n<h1>Oops! <span>This link does not exist.</span> <a href=\"javascript:history.go(-1)\">&laquo; Go Back</a></h1>\\r\\n\\r\\n\\r\\n\\r\\n<h3>What happened? <span>List of possible reasons</span></h3>\\r\\n\\r\\n<ul>\\r\\n\\t<li>You entered the wrong URL</li>\\r\\n\\t<li>The link to this page is incorrect</li>\\r\\n\\t<li>The link you are trying to visit no longer exists</li>\\r\\n</ul>\\r\\n\\r\\n<div class=\"back\"><a href=\"javascript:history.go(-1)\">&laquo; Go Back</a></div>\\r\\n</body>\\r\\n</html>\\r\\n'\n",
      "2015\n",
      "http://greenbeltmd.granicus.com/GeneratedAgendaViewer.php?view_id=2\n",
      "Printing content causing IndexError:\n",
      "\tb'\\r\\n<!DOCTYPE html PUBLIC \"-//W3C//DTD XHTML 1.0 Transitional//EN\" \"https://www.w3.org/TR/xhtml1/DTD/xhtml1-transitional.dtd\">\\r\\n<html xmlns=\"http://www.w3.org/1999/xhtml\">\\r\\n<head id=\"Head1\"><title>\\r\\n\\t404 - Page Not Found\\r\\n</title><link href=\"../App_Themes/404/404.css\" type=\"text/css\" rel=\"stylesheet\" /></head>\\r\\n<script type=\"text/javascript\">\\r\\nfunction breakOut()\\r\\n{\\r\\n    if (top.location != location) {\\r\\n        top.location.href = document.location.href;\\r\\n    }\\r\\n}\\r\\n</script>\\r\\n<body onload=\"breakOut()\">\\r\\n\\r\\n<h1>Oops! <span>This link does not exist.</span> <a href=\"javascript:history.go(-1)\">&laquo; Go Back</a></h1>\\r\\n\\r\\n\\r\\n\\r\\n<h3>What happened? <span>List of possible reasons</span></h3>\\r\\n\\r\\n<ul>\\r\\n\\t<li>You entered the wrong URL</li>\\r\\n\\t<li>The link to this page is incorrect</li>\\r\\n\\t<li>The link you are trying to visit no longer exists</li>\\r\\n</ul>\\r\\n\\r\\n<div class=\"back\"><a href=\"javascript:history.go(-1)\">&laquo; Go Back</a></div>\\r\\n</body>\\r\\n</html>\\r\\n'\n",
      "2015\n",
      "http://greenbeltmd.granicus.com/GeneratedAgendaViewer.php?view_id=2\n",
      "Printing content causing IndexError:\n",
      "\tb'\\r\\n<!DOCTYPE html PUBLIC \"-//W3C//DTD XHTML 1.0 Transitional//EN\" \"https://www.w3.org/TR/xhtml1/DTD/xhtml1-transitional.dtd\">\\r\\n<html xmlns=\"http://www.w3.org/1999/xhtml\">\\r\\n<head id=\"Head1\"><title>\\r\\n\\t404 - Page Not Found\\r\\n</title><link href=\"../App_Themes/404/404.css\" type=\"text/css\" rel=\"stylesheet\" /></head>\\r\\n<script type=\"text/javascript\">\\r\\nfunction breakOut()\\r\\n{\\r\\n    if (top.location != location) {\\r\\n        top.location.href = document.location.href;\\r\\n    }\\r\\n}\\r\\n</script>\\r\\n<body onload=\"breakOut()\">\\r\\n\\r\\n<h1>Oops! <span>This link does not exist.</span> <a href=\"javascript:history.go(-1)\">&laquo; Go Back</a></h1>\\r\\n\\r\\n\\r\\n\\r\\n<h3>What happened? <span>List of possible reasons</span></h3>\\r\\n\\r\\n<ul>\\r\\n\\t<li>You entered the wrong URL</li>\\r\\n\\t<li>The link to this page is incorrect</li>\\r\\n\\t<li>The link you are trying to visit no longer exists</li>\\r\\n</ul>\\r\\n\\r\\n<div class=\"back\"><a href=\"javascript:history.go(-1)\">&laquo; Go Back</a></div>\\r\\n</body>\\r\\n</html>\\r\\n'\n",
      "2015\n",
      "https://greenbeltmd.granicus.com/DocumentViewer.php?file=greenbeltmd_e805e83480c9497a0f95d56db7b27a60.pdf&view=1\n"
     ]
    },
    {
     "name": "stderr",
     "output_type": "stream",
     "text": [
      "C:\\Users\\ben97312\\Documents\\code\\notebooks\\Lib\\site-packages\\urllib3\\connectionpool.py:1103: InsecureRequestWarning: Unverified HTTPS request is being made to host 'greenbeltmd.granicus.com'. Adding certificate verification is strongly advised. See: https://urllib3.readthedocs.io/en/latest/advanced-usage.html#tls-warnings\n",
      "  warnings.warn(\n"
     ]
    },
    {
     "name": "stdout",
     "output_type": "stream",
     "text": [
      "2015\n",
      "http://greenbeltmd.granicus.com/GeneratedAgendaViewer.php?view_id=2\n",
      "Printing content causing IndexError:\n",
      "\tb'\\r\\n<!DOCTYPE html PUBLIC \"-//W3C//DTD XHTML 1.0 Transitional//EN\" \"https://www.w3.org/TR/xhtml1/DTD/xhtml1-transitional.dtd\">\\r\\n<html xmlns=\"http://www.w3.org/1999/xhtml\">\\r\\n<head id=\"Head1\"><title>\\r\\n\\t404 - Page Not Found\\r\\n</title><link href=\"../App_Themes/404/404.css\" type=\"text/css\" rel=\"stylesheet\" /></head>\\r\\n<script type=\"text/javascript\">\\r\\nfunction breakOut()\\r\\n{\\r\\n    if (top.location != location) {\\r\\n        top.location.href = document.location.href;\\r\\n    }\\r\\n}\\r\\n</script>\\r\\n<body onload=\"breakOut()\">\\r\\n\\r\\n<h1>Oops! <span>This link does not exist.</span> <a href=\"javascript:history.go(-1)\">&laquo; Go Back</a></h1>\\r\\n\\r\\n\\r\\n\\r\\n<h3>What happened? <span>List of possible reasons</span></h3>\\r\\n\\r\\n<ul>\\r\\n\\t<li>You entered the wrong URL</li>\\r\\n\\t<li>The link to this page is incorrect</li>\\r\\n\\t<li>The link you are trying to visit no longer exists</li>\\r\\n</ul>\\r\\n\\r\\n<div class=\"back\"><a href=\"javascript:history.go(-1)\">&laquo; Go Back</a></div>\\r\\n</body>\\r\\n</html>\\r\\n'\n"
     ]
    },
    {
     "name": "stderr",
     "output_type": "stream",
     "text": [
      "C:\\Users\\ben97312\\Documents\\code\\notebooks\\Lib\\site-packages\\urllib3\\connectionpool.py:1103: InsecureRequestWarning: Unverified HTTPS request is being made to host 'greenbeltmd.granicus.com'. Adding certificate verification is strongly advised. See: https://urllib3.readthedocs.io/en/latest/advanced-usage.html#tls-warnings\n",
      "  warnings.warn(\n"
     ]
    },
    {
     "name": "stdout",
     "output_type": "stream",
     "text": [
      "2015\n",
      "http://greenbeltmd.granicus.com/GeneratedAgendaViewer.php?view_id=2\n",
      "Printing content causing IndexError:\n",
      "\tb'\\r\\n<!DOCTYPE html PUBLIC \"-//W3C//DTD XHTML 1.0 Transitional//EN\" \"https://www.w3.org/TR/xhtml1/DTD/xhtml1-transitional.dtd\">\\r\\n<html xmlns=\"http://www.w3.org/1999/xhtml\">\\r\\n<head id=\"Head1\"><title>\\r\\n\\t404 - Page Not Found\\r\\n</title><link href=\"../App_Themes/404/404.css\" type=\"text/css\" rel=\"stylesheet\" /></head>\\r\\n<script type=\"text/javascript\">\\r\\nfunction breakOut()\\r\\n{\\r\\n    if (top.location != location) {\\r\\n        top.location.href = document.location.href;\\r\\n    }\\r\\n}\\r\\n</script>\\r\\n<body onload=\"breakOut()\">\\r\\n\\r\\n<h1>Oops! <span>This link does not exist.</span> <a href=\"javascript:history.go(-1)\">&laquo; Go Back</a></h1>\\r\\n\\r\\n\\r\\n\\r\\n<h3>What happened? <span>List of possible reasons</span></h3>\\r\\n\\r\\n<ul>\\r\\n\\t<li>You entered the wrong URL</li>\\r\\n\\t<li>The link to this page is incorrect</li>\\r\\n\\t<li>The link you are trying to visit no longer exists</li>\\r\\n</ul>\\r\\n\\r\\n<div class=\"back\"><a href=\"javascript:history.go(-1)\">&laquo; Go Back</a></div>\\r\\n</body>\\r\\n</html>\\r\\n'\n",
      "2015\n",
      "https://greenbeltmd.granicus.com/DocumentViewer.php?file=greenbeltmd_cb51382f4935582378964be3914862b3.pdf&view=1\n"
     ]
    },
    {
     "name": "stderr",
     "output_type": "stream",
     "text": [
      "C:\\Users\\ben97312\\Documents\\code\\notebooks\\Lib\\site-packages\\urllib3\\connectionpool.py:1103: InsecureRequestWarning: Unverified HTTPS request is being made to host 'greenbeltmd.granicus.com'. Adding certificate verification is strongly advised. See: https://urllib3.readthedocs.io/en/latest/advanced-usage.html#tls-warnings\n",
      "  warnings.warn(\n"
     ]
    },
    {
     "name": "stdout",
     "output_type": "stream",
     "text": [
      "2015\n",
      "https://greenbeltmd.granicus.com/DocumentViewer.php?file=greenbeltmd_44e04159dba1d8a992c35556cdfec930.pdf&view=1\n"
     ]
    },
    {
     "name": "stderr",
     "output_type": "stream",
     "text": [
      "C:\\Users\\ben97312\\Documents\\code\\notebooks\\Lib\\site-packages\\urllib3\\connectionpool.py:1103: InsecureRequestWarning: Unverified HTTPS request is being made to host 'greenbeltmd.granicus.com'. Adding certificate verification is strongly advised. See: https://urllib3.readthedocs.io/en/latest/advanced-usage.html#tls-warnings\n",
      "  warnings.warn(\n",
      "C:\\Users\\ben97312\\Documents\\code\\notebooks\\Lib\\site-packages\\urllib3\\connectionpool.py:1103: InsecureRequestWarning: Unverified HTTPS request is being made to host 'greenbeltmd.granicus.com'. Adding certificate verification is strongly advised. See: https://urllib3.readthedocs.io/en/latest/advanced-usage.html#tls-warnings\n",
      "  warnings.warn(\n"
     ]
    },
    {
     "name": "stdout",
     "output_type": "stream",
     "text": [
      "2015\n",
      "http://greenbeltmd.granicus.com/GeneratedAgendaViewer.php?view_id=2\n",
      "Printing content causing IndexError:\n",
      "\tb'\\r\\n<!DOCTYPE html PUBLIC \"-//W3C//DTD XHTML 1.0 Transitional//EN\" \"https://www.w3.org/TR/xhtml1/DTD/xhtml1-transitional.dtd\">\\r\\n<html xmlns=\"http://www.w3.org/1999/xhtml\">\\r\\n<head id=\"Head1\"><title>\\r\\n\\t404 - Page Not Found\\r\\n</title><link href=\"../App_Themes/404/404.css\" type=\"text/css\" rel=\"stylesheet\" /></head>\\r\\n<script type=\"text/javascript\">\\r\\nfunction breakOut()\\r\\n{\\r\\n    if (top.location != location) {\\r\\n        top.location.href = document.location.href;\\r\\n    }\\r\\n}\\r\\n</script>\\r\\n<body onload=\"breakOut()\">\\r\\n\\r\\n<h1>Oops! <span>This link does not exist.</span> <a href=\"javascript:history.go(-1)\">&laquo; Go Back</a></h1>\\r\\n\\r\\n\\r\\n\\r\\n<h3>What happened? <span>List of possible reasons</span></h3>\\r\\n\\r\\n<ul>\\r\\n\\t<li>You entered the wrong URL</li>\\r\\n\\t<li>The link to this page is incorrect</li>\\r\\n\\t<li>The link you are trying to visit no longer exists</li>\\r\\n</ul>\\r\\n\\r\\n<div class=\"back\"><a href=\"javascript:history.go(-1)\">&laquo; Go Back</a></div>\\r\\n</body>\\r\\n</html>\\r\\n'\n",
      "2015\n",
      "http://greenbeltmd.granicus.com/GeneratedAgendaViewer.php?view_id=2\n",
      "Printing content causing IndexError:\n",
      "\tb'\\r\\n<!DOCTYPE html PUBLIC \"-//W3C//DTD XHTML 1.0 Transitional//EN\" \"https://www.w3.org/TR/xhtml1/DTD/xhtml1-transitional.dtd\">\\r\\n<html xmlns=\"http://www.w3.org/1999/xhtml\">\\r\\n<head id=\"Head1\"><title>\\r\\n\\t404 - Page Not Found\\r\\n</title><link href=\"../App_Themes/404/404.css\" type=\"text/css\" rel=\"stylesheet\" /></head>\\r\\n<script type=\"text/javascript\">\\r\\nfunction breakOut()\\r\\n{\\r\\n    if (top.location != location) {\\r\\n        top.location.href = document.location.href;\\r\\n    }\\r\\n}\\r\\n</script>\\r\\n<body onload=\"breakOut()\">\\r\\n\\r\\n<h1>Oops! <span>This link does not exist.</span> <a href=\"javascript:history.go(-1)\">&laquo; Go Back</a></h1>\\r\\n\\r\\n\\r\\n\\r\\n<h3>What happened? <span>List of possible reasons</span></h3>\\r\\n\\r\\n<ul>\\r\\n\\t<li>You entered the wrong URL</li>\\r\\n\\t<li>The link to this page is incorrect</li>\\r\\n\\t<li>The link you are trying to visit no longer exists</li>\\r\\n</ul>\\r\\n\\r\\n<div class=\"back\"><a href=\"javascript:history.go(-1)\">&laquo; Go Back</a></div>\\r\\n</body>\\r\\n</html>\\r\\n'\n",
      "2015\n",
      "http://greenbeltmd.granicus.com/GeneratedAgendaViewer.php?view_id=2\n",
      "Printing content causing IndexError:\n",
      "\tb'\\r\\n<!DOCTYPE html PUBLIC \"-//W3C//DTD XHTML 1.0 Transitional//EN\" \"https://www.w3.org/TR/xhtml1/DTD/xhtml1-transitional.dtd\">\\r\\n<html xmlns=\"http://www.w3.org/1999/xhtml\">\\r\\n<head id=\"Head1\"><title>\\r\\n\\t404 - Page Not Found\\r\\n</title><link href=\"../App_Themes/404/404.css\" type=\"text/css\" rel=\"stylesheet\" /></head>\\r\\n<script type=\"text/javascript\">\\r\\nfunction breakOut()\\r\\n{\\r\\n    if (top.location != location) {\\r\\n        top.location.href = document.location.href;\\r\\n    }\\r\\n}\\r\\n</script>\\r\\n<body onload=\"breakOut()\">\\r\\n\\r\\n<h1>Oops! <span>This link does not exist.</span> <a href=\"javascript:history.go(-1)\">&laquo; Go Back</a></h1>\\r\\n\\r\\n\\r\\n\\r\\n<h3>What happened? <span>List of possible reasons</span></h3>\\r\\n\\r\\n<ul>\\r\\n\\t<li>You entered the wrong URL</li>\\r\\n\\t<li>The link to this page is incorrect</li>\\r\\n\\t<li>The link you are trying to visit no longer exists</li>\\r\\n</ul>\\r\\n\\r\\n<div class=\"back\"><a href=\"javascript:history.go(-1)\">&laquo; Go Back</a></div>\\r\\n</body>\\r\\n</html>\\r\\n'\n",
      "2014\n",
      "https://greenbeltmd.granicus.com/DocumentViewer.php?file=greenbeltmd_eefbca942ed6bfcf2adb642971eb921c.pdf&view=1\n"
     ]
    },
    {
     "name": "stderr",
     "output_type": "stream",
     "text": [
      "C:\\Users\\ben97312\\Documents\\code\\notebooks\\Lib\\site-packages\\urllib3\\connectionpool.py:1103: InsecureRequestWarning: Unverified HTTPS request is being made to host 'greenbeltmd.granicus.com'. Adding certificate verification is strongly advised. See: https://urllib3.readthedocs.io/en/latest/advanced-usage.html#tls-warnings\n",
      "  warnings.warn(\n"
     ]
    },
    {
     "name": "stdout",
     "output_type": "stream",
     "text": [
      "2014\n",
      "http://greenbeltmd.granicus.com/GeneratedAgendaViewer.php?view_id=2\n",
      "Printing content causing IndexError:\n",
      "\tb'\\r\\n<!DOCTYPE html PUBLIC \"-//W3C//DTD XHTML 1.0 Transitional//EN\" \"https://www.w3.org/TR/xhtml1/DTD/xhtml1-transitional.dtd\">\\r\\n<html xmlns=\"http://www.w3.org/1999/xhtml\">\\r\\n<head id=\"Head1\"><title>\\r\\n\\t404 - Page Not Found\\r\\n</title><link href=\"../App_Themes/404/404.css\" type=\"text/css\" rel=\"stylesheet\" /></head>\\r\\n<script type=\"text/javascript\">\\r\\nfunction breakOut()\\r\\n{\\r\\n    if (top.location != location) {\\r\\n        top.location.href = document.location.href;\\r\\n    }\\r\\n}\\r\\n</script>\\r\\n<body onload=\"breakOut()\">\\r\\n\\r\\n<h1>Oops! <span>This link does not exist.</span> <a href=\"javascript:history.go(-1)\">&laquo; Go Back</a></h1>\\r\\n\\r\\n\\r\\n\\r\\n<h3>What happened? <span>List of possible reasons</span></h3>\\r\\n\\r\\n<ul>\\r\\n\\t<li>You entered the wrong URL</li>\\r\\n\\t<li>The link to this page is incorrect</li>\\r\\n\\t<li>The link you are trying to visit no longer exists</li>\\r\\n</ul>\\r\\n\\r\\n<div class=\"back\"><a href=\"javascript:history.go(-1)\">&laquo; Go Back</a></div>\\r\\n</body>\\r\\n</html>\\r\\n'\n",
      "2014\n",
      "http://greenbeltmd.granicus.com/GeneratedAgendaViewer.php?view_id=2\n",
      "Printing content causing IndexError:\n",
      "\tb'\\r\\n<!DOCTYPE html PUBLIC \"-//W3C//DTD XHTML 1.0 Transitional//EN\" \"https://www.w3.org/TR/xhtml1/DTD/xhtml1-transitional.dtd\">\\r\\n<html xmlns=\"http://www.w3.org/1999/xhtml\">\\r\\n<head id=\"Head1\"><title>\\r\\n\\t404 - Page Not Found\\r\\n</title><link href=\"../App_Themes/404/404.css\" type=\"text/css\" rel=\"stylesheet\" /></head>\\r\\n<script type=\"text/javascript\">\\r\\nfunction breakOut()\\r\\n{\\r\\n    if (top.location != location) {\\r\\n        top.location.href = document.location.href;\\r\\n    }\\r\\n}\\r\\n</script>\\r\\n<body onload=\"breakOut()\">\\r\\n\\r\\n<h1>Oops! <span>This link does not exist.</span> <a href=\"javascript:history.go(-1)\">&laquo; Go Back</a></h1>\\r\\n\\r\\n\\r\\n\\r\\n<h3>What happened? <span>List of possible reasons</span></h3>\\r\\n\\r\\n<ul>\\r\\n\\t<li>You entered the wrong URL</li>\\r\\n\\t<li>The link to this page is incorrect</li>\\r\\n\\t<li>The link you are trying to visit no longer exists</li>\\r\\n</ul>\\r\\n\\r\\n<div class=\"back\"><a href=\"javascript:history.go(-1)\">&laquo; Go Back</a></div>\\r\\n</body>\\r\\n</html>\\r\\n'\n",
      "2014\n",
      "http://greenbeltmd.granicus.com/GeneratedAgendaViewer.php?view_id=2\n",
      "Printing content causing IndexError:\n",
      "\tb'\\r\\n<!DOCTYPE html PUBLIC \"-//W3C//DTD XHTML 1.0 Transitional//EN\" \"https://www.w3.org/TR/xhtml1/DTD/xhtml1-transitional.dtd\">\\r\\n<html xmlns=\"http://www.w3.org/1999/xhtml\">\\r\\n<head id=\"Head1\"><title>\\r\\n\\t404 - Page Not Found\\r\\n</title><link href=\"../App_Themes/404/404.css\" type=\"text/css\" rel=\"stylesheet\" /></head>\\r\\n<script type=\"text/javascript\">\\r\\nfunction breakOut()\\r\\n{\\r\\n    if (top.location != location) {\\r\\n        top.location.href = document.location.href;\\r\\n    }\\r\\n}\\r\\n</script>\\r\\n<body onload=\"breakOut()\">\\r\\n\\r\\n<h1>Oops! <span>This link does not exist.</span> <a href=\"javascript:history.go(-1)\">&laquo; Go Back</a></h1>\\r\\n\\r\\n\\r\\n\\r\\n<h3>What happened? <span>List of possible reasons</span></h3>\\r\\n\\r\\n<ul>\\r\\n\\t<li>You entered the wrong URL</li>\\r\\n\\t<li>The link to this page is incorrect</li>\\r\\n\\t<li>The link you are trying to visit no longer exists</li>\\r\\n</ul>\\r\\n\\r\\n<div class=\"back\"><a href=\"javascript:history.go(-1)\">&laquo; Go Back</a></div>\\r\\n</body>\\r\\n</html>\\r\\n'\n",
      "2014\n",
      "http://greenbeltmd.granicus.com/GeneratedAgendaViewer.php?view_id=2\n",
      "Printing content causing IndexError:\n",
      "\tb'\\r\\n<!DOCTYPE html PUBLIC \"-//W3C//DTD XHTML 1.0 Transitional//EN\" \"https://www.w3.org/TR/xhtml1/DTD/xhtml1-transitional.dtd\">\\r\\n<html xmlns=\"http://www.w3.org/1999/xhtml\">\\r\\n<head id=\"Head1\"><title>\\r\\n\\t404 - Page Not Found\\r\\n</title><link href=\"../App_Themes/404/404.css\" type=\"text/css\" rel=\"stylesheet\" /></head>\\r\\n<script type=\"text/javascript\">\\r\\nfunction breakOut()\\r\\n{\\r\\n    if (top.location != location) {\\r\\n        top.location.href = document.location.href;\\r\\n    }\\r\\n}\\r\\n</script>\\r\\n<body onload=\"breakOut()\">\\r\\n\\r\\n<h1>Oops! <span>This link does not exist.</span> <a href=\"javascript:history.go(-1)\">&laquo; Go Back</a></h1>\\r\\n\\r\\n\\r\\n\\r\\n<h3>What happened? <span>List of possible reasons</span></h3>\\r\\n\\r\\n<ul>\\r\\n\\t<li>You entered the wrong URL</li>\\r\\n\\t<li>The link to this page is incorrect</li>\\r\\n\\t<li>The link you are trying to visit no longer exists</li>\\r\\n</ul>\\r\\n\\r\\n<div class=\"back\"><a href=\"javascript:history.go(-1)\">&laquo; Go Back</a></div>\\r\\n</body>\\r\\n</html>\\r\\n'\n",
      "2014\n",
      "http://md-greenbelt.civicplus.com/AgendaCenter/ViewFile/Agenda/10272014-375?html=true\n",
      "Printing content causing IndexError:\n",
      "\tb'<!DOCTYPE html PUBLIC \"-//W3C//DTD XHTML 1.0 Strict//EN\" \"http://www.w3.org/TR/xhtml1/DTD/xhtml1-strict.dtd\">\\r\\n<html xmlns=\"http://www.w3.org/1999/xhtml\">\\r\\n<head>\\r\\n<meta http-equiv=\"Content-Type\" content=\"text/html; charset=iso-8859-1\"/>\\r\\n<title>404 - File or directory not found.</title>\\r\\n<style type=\"text/css\">\\r\\n<!--\\r\\nbody{margin:0;font-size:.7em;font-family:Verdana, Arial, Helvetica, sans-serif;background:#EEEEEE;}\\r\\nfieldset{padding:0 15px 10px 15px;} \\r\\nh1{font-size:2.4em;margin:0;color:#FFF;}\\r\\nh2{font-size:1.7em;margin:0;color:#CC0000;} \\r\\nh3{font-size:1.2em;margin:10px 0 0 0;color:#000000;} \\r\\n#header{width:96%;margin:0 0 0 0;padding:6px 2% 6px 2%;font-family:\"trebuchet MS\", Verdana, sans-serif;color:#FFF;\\r\\nbackground-color:#555555;}\\r\\n#content{margin:0 0 0 2%;position:relative;}\\r\\n.content-container{background:#FFF;width:96%;margin-top:8px;padding:10px;position:relative;}\\r\\n-->\\r\\n</style>\\r\\n</head>\\r\\n<body>\\r\\n<div id=\"header\"><h1>Server Error</h1></div>\\r\\n<div id=\"content\">\\r\\n <div class=\"content-container\"><fieldset>\\r\\n  <h2>404 - File or directory not found.</h2>\\r\\n  <h3>The resource you are looking for might have been removed, had its name changed, or is temporarily unavailable.</h3>\\r\\n </fieldset></div>\\r\\n</div>\\r\\n</body>\\r\\n</html>\\r\\n'\n",
      "2014\n",
      "http://greenbeltmd.granicus.com/GeneratedAgendaViewer.php?view_id=2\n",
      "Printing content causing IndexError:\n",
      "\tb'\\r\\n<!DOCTYPE html PUBLIC \"-//W3C//DTD XHTML 1.0 Transitional//EN\" \"https://www.w3.org/TR/xhtml1/DTD/xhtml1-transitional.dtd\">\\r\\n<html xmlns=\"http://www.w3.org/1999/xhtml\">\\r\\n<head id=\"Head1\"><title>\\r\\n\\t404 - Page Not Found\\r\\n</title><link href=\"../App_Themes/404/404.css\" type=\"text/css\" rel=\"stylesheet\" /></head>\\r\\n<script type=\"text/javascript\">\\r\\nfunction breakOut()\\r\\n{\\r\\n    if (top.location != location) {\\r\\n        top.location.href = document.location.href;\\r\\n    }\\r\\n}\\r\\n</script>\\r\\n<body onload=\"breakOut()\">\\r\\n\\r\\n<h1>Oops! <span>This link does not exist.</span> <a href=\"javascript:history.go(-1)\">&laquo; Go Back</a></h1>\\r\\n\\r\\n\\r\\n\\r\\n<h3>What happened? <span>List of possible reasons</span></h3>\\r\\n\\r\\n<ul>\\r\\n\\t<li>You entered the wrong URL</li>\\r\\n\\t<li>The link to this page is incorrect</li>\\r\\n\\t<li>The link you are trying to visit no longer exists</li>\\r\\n</ul>\\r\\n\\r\\n<div class=\"back\"><a href=\"javascript:history.go(-1)\">&laquo; Go Back</a></div>\\r\\n</body>\\r\\n</html>\\r\\n'\n",
      "2014\n",
      "http://greenbeltmd.granicus.com/GeneratedAgendaViewer.php?view_id=2\n",
      "Printing content causing IndexError:\n",
      "\tb'\\r\\n<!DOCTYPE html PUBLIC \"-//W3C//DTD XHTML 1.0 Transitional//EN\" \"https://www.w3.org/TR/xhtml1/DTD/xhtml1-transitional.dtd\">\\r\\n<html xmlns=\"http://www.w3.org/1999/xhtml\">\\r\\n<head id=\"Head1\"><title>\\r\\n\\t404 - Page Not Found\\r\\n</title><link href=\"../App_Themes/404/404.css\" type=\"text/css\" rel=\"stylesheet\" /></head>\\r\\n<script type=\"text/javascript\">\\r\\nfunction breakOut()\\r\\n{\\r\\n    if (top.location != location) {\\r\\n        top.location.href = document.location.href;\\r\\n    }\\r\\n}\\r\\n</script>\\r\\n<body onload=\"breakOut()\">\\r\\n\\r\\n<h1>Oops! <span>This link does not exist.</span> <a href=\"javascript:history.go(-1)\">&laquo; Go Back</a></h1>\\r\\n\\r\\n\\r\\n\\r\\n<h3>What happened? <span>List of possible reasons</span></h3>\\r\\n\\r\\n<ul>\\r\\n\\t<li>You entered the wrong URL</li>\\r\\n\\t<li>The link to this page is incorrect</li>\\r\\n\\t<li>The link you are trying to visit no longer exists</li>\\r\\n</ul>\\r\\n\\r\\n<div class=\"back\"><a href=\"javascript:history.go(-1)\">&laquo; Go Back</a></div>\\r\\n</body>\\r\\n</html>\\r\\n'\n"
     ]
    },
    {
     "name": "stdout",
     "output_type": "stream",
     "text": [
      "2014\n",
      "http://greenbeltmd.granicus.com/GeneratedAgendaViewer.php?view_id=2\n",
      "Printing content causing IndexError:\n",
      "\tb'\\r\\n<!DOCTYPE html PUBLIC \"-//W3C//DTD XHTML 1.0 Transitional//EN\" \"https://www.w3.org/TR/xhtml1/DTD/xhtml1-transitional.dtd\">\\r\\n<html xmlns=\"http://www.w3.org/1999/xhtml\">\\r\\n<head id=\"Head1\"><title>\\r\\n\\t404 - Page Not Found\\r\\n</title><link href=\"../App_Themes/404/404.css\" type=\"text/css\" rel=\"stylesheet\" /></head>\\r\\n<script type=\"text/javascript\">\\r\\nfunction breakOut()\\r\\n{\\r\\n    if (top.location != location) {\\r\\n        top.location.href = document.location.href;\\r\\n    }\\r\\n}\\r\\n</script>\\r\\n<body onload=\"breakOut()\">\\r\\n\\r\\n<h1>Oops! <span>This link does not exist.</span> <a href=\"javascript:history.go(-1)\">&laquo; Go Back</a></h1>\\r\\n\\r\\n\\r\\n\\r\\n<h3>What happened? <span>List of possible reasons</span></h3>\\r\\n\\r\\n<ul>\\r\\n\\t<li>You entered the wrong URL</li>\\r\\n\\t<li>The link to this page is incorrect</li>\\r\\n\\t<li>The link you are trying to visit no longer exists</li>\\r\\n</ul>\\r\\n\\r\\n<div class=\"back\"><a href=\"javascript:history.go(-1)\">&laquo; Go Back</a></div>\\r\\n</body>\\r\\n</html>\\r\\n'\n",
      "2014\n",
      "http://greenbeltmd.granicus.com/GeneratedAgendaViewer.php?view_id=2\n",
      "Printing content causing IndexError:\n",
      "\tb'\\r\\n<!DOCTYPE html PUBLIC \"-//W3C//DTD XHTML 1.0 Transitional//EN\" \"https://www.w3.org/TR/xhtml1/DTD/xhtml1-transitional.dtd\">\\r\\n<html xmlns=\"http://www.w3.org/1999/xhtml\">\\r\\n<head id=\"Head1\"><title>\\r\\n\\t404 - Page Not Found\\r\\n</title><link href=\"../App_Themes/404/404.css\" type=\"text/css\" rel=\"stylesheet\" /></head>\\r\\n<script type=\"text/javascript\">\\r\\nfunction breakOut()\\r\\n{\\r\\n    if (top.location != location) {\\r\\n        top.location.href = document.location.href;\\r\\n    }\\r\\n}\\r\\n</script>\\r\\n<body onload=\"breakOut()\">\\r\\n\\r\\n<h1>Oops! <span>This link does not exist.</span> <a href=\"javascript:history.go(-1)\">&laquo; Go Back</a></h1>\\r\\n\\r\\n\\r\\n\\r\\n<h3>What happened? <span>List of possible reasons</span></h3>\\r\\n\\r\\n<ul>\\r\\n\\t<li>You entered the wrong URL</li>\\r\\n\\t<li>The link to this page is incorrect</li>\\r\\n\\t<li>The link you are trying to visit no longer exists</li>\\r\\n</ul>\\r\\n\\r\\n<div class=\"back\"><a href=\"javascript:history.go(-1)\">&laquo; Go Back</a></div>\\r\\n</body>\\r\\n</html>\\r\\n'\n",
      "2014\n",
      "http://greenbeltmd.granicus.com/GeneratedAgendaViewer.php?view_id=2\n",
      "Printing content causing IndexError:\n",
      "\tb'\\r\\n<!DOCTYPE html PUBLIC \"-//W3C//DTD XHTML 1.0 Transitional//EN\" \"https://www.w3.org/TR/xhtml1/DTD/xhtml1-transitional.dtd\">\\r\\n<html xmlns=\"http://www.w3.org/1999/xhtml\">\\r\\n<head id=\"Head1\"><title>\\r\\n\\t404 - Page Not Found\\r\\n</title><link href=\"../App_Themes/404/404.css\" type=\"text/css\" rel=\"stylesheet\" /></head>\\r\\n<script type=\"text/javascript\">\\r\\nfunction breakOut()\\r\\n{\\r\\n    if (top.location != location) {\\r\\n        top.location.href = document.location.href;\\r\\n    }\\r\\n}\\r\\n</script>\\r\\n<body onload=\"breakOut()\">\\r\\n\\r\\n<h1>Oops! <span>This link does not exist.</span> <a href=\"javascript:history.go(-1)\">&laquo; Go Back</a></h1>\\r\\n\\r\\n\\r\\n\\r\\n<h3>What happened? <span>List of possible reasons</span></h3>\\r\\n\\r\\n<ul>\\r\\n\\t<li>You entered the wrong URL</li>\\r\\n\\t<li>The link to this page is incorrect</li>\\r\\n\\t<li>The link you are trying to visit no longer exists</li>\\r\\n</ul>\\r\\n\\r\\n<div class=\"back\"><a href=\"javascript:history.go(-1)\">&laquo; Go Back</a></div>\\r\\n</body>\\r\\n</html>\\r\\n'\n",
      "2014\n",
      "http://md-greenbelt.civicplus.com/AgendaCenter/ViewFile/Agenda/04072014-283?html=true\n",
      "Printing content causing IndexError:\n",
      "\tb'<!DOCTYPE html PUBLIC \"-//W3C//DTD XHTML 1.0 Strict//EN\" \"http://www.w3.org/TR/xhtml1/DTD/xhtml1-strict.dtd\">\\r\\n<html xmlns=\"http://www.w3.org/1999/xhtml\">\\r\\n<head>\\r\\n<meta http-equiv=\"Content-Type\" content=\"text/html; charset=iso-8859-1\"/>\\r\\n<title>404 - File or directory not found.</title>\\r\\n<style type=\"text/css\">\\r\\n<!--\\r\\nbody{margin:0;font-size:.7em;font-family:Verdana, Arial, Helvetica, sans-serif;background:#EEEEEE;}\\r\\nfieldset{padding:0 15px 10px 15px;} \\r\\nh1{font-size:2.4em;margin:0;color:#FFF;}\\r\\nh2{font-size:1.7em;margin:0;color:#CC0000;} \\r\\nh3{font-size:1.2em;margin:10px 0 0 0;color:#000000;} \\r\\n#header{width:96%;margin:0 0 0 0;padding:6px 2% 6px 2%;font-family:\"trebuchet MS\", Verdana, sans-serif;color:#FFF;\\r\\nbackground-color:#555555;}\\r\\n#content{margin:0 0 0 2%;position:relative;}\\r\\n.content-container{background:#FFF;width:96%;margin-top:8px;padding:10px;position:relative;}\\r\\n-->\\r\\n</style>\\r\\n</head>\\r\\n<body>\\r\\n<div id=\"header\"><h1>Server Error</h1></div>\\r\\n<div id=\"content\">\\r\\n <div class=\"content-container\"><fieldset>\\r\\n  <h2>404 - File or directory not found.</h2>\\r\\n  <h3>The resource you are looking for might have been removed, had its name changed, or is temporarily unavailable.</h3>\\r\\n </fieldset></div>\\r\\n</div>\\r\\n</body>\\r\\n</html>\\r\\n'\n",
      "2013\n",
      "http://md-greenbelt.civicplus.com/AgendaCenter/ViewFile/Agenda/08122013-160?html=true\n",
      "Printing content causing IndexError:\n",
      "\tb'<!DOCTYPE html PUBLIC \"-//W3C//DTD XHTML 1.0 Strict//EN\" \"http://www.w3.org/TR/xhtml1/DTD/xhtml1-strict.dtd\">\\r\\n<html xmlns=\"http://www.w3.org/1999/xhtml\">\\r\\n<head>\\r\\n<meta http-equiv=\"Content-Type\" content=\"text/html; charset=iso-8859-1\"/>\\r\\n<title>404 - File or directory not found.</title>\\r\\n<style type=\"text/css\">\\r\\n<!--\\r\\nbody{margin:0;font-size:.7em;font-family:Verdana, Arial, Helvetica, sans-serif;background:#EEEEEE;}\\r\\nfieldset{padding:0 15px 10px 15px;} \\r\\nh1{font-size:2.4em;margin:0;color:#FFF;}\\r\\nh2{font-size:1.7em;margin:0;color:#CC0000;} \\r\\nh3{font-size:1.2em;margin:10px 0 0 0;color:#000000;} \\r\\n#header{width:96%;margin:0 0 0 0;padding:6px 2% 6px 2%;font-family:\"trebuchet MS\", Verdana, sans-serif;color:#FFF;\\r\\nbackground-color:#555555;}\\r\\n#content{margin:0 0 0 2%;position:relative;}\\r\\n.content-container{background:#FFF;width:96%;margin-top:8px;padding:10px;position:relative;}\\r\\n-->\\r\\n</style>\\r\\n</head>\\r\\n<body>\\r\\n<div id=\"header\"><h1>Server Error</h1></div>\\r\\n<div id=\"content\">\\r\\n <div class=\"content-container\"><fieldset>\\r\\n  <h2>404 - File or directory not found.</h2>\\r\\n  <h3>The resource you are looking for might have been removed, had its name changed, or is temporarily unavailable.</h3>\\r\\n </fieldset></div>\\r\\n</div>\\r\\n</body>\\r\\n</html>\\r\\n'\n",
      "2013\n",
      "http://md-greenbelt.civicplus.com/AgendaCenter/ViewFile/Agenda/07082013-154?html=true\n",
      "Printing content causing IndexError:\n",
      "\tb'<!DOCTYPE html PUBLIC \"-//W3C//DTD XHTML 1.0 Strict//EN\" \"http://www.w3.org/TR/xhtml1/DTD/xhtml1-strict.dtd\">\\r\\n<html xmlns=\"http://www.w3.org/1999/xhtml\">\\r\\n<head>\\r\\n<meta http-equiv=\"Content-Type\" content=\"text/html; charset=iso-8859-1\"/>\\r\\n<title>404 - File or directory not found.</title>\\r\\n<style type=\"text/css\">\\r\\n<!--\\r\\nbody{margin:0;font-size:.7em;font-family:Verdana, Arial, Helvetica, sans-serif;background:#EEEEEE;}\\r\\nfieldset{padding:0 15px 10px 15px;} \\r\\nh1{font-size:2.4em;margin:0;color:#FFF;}\\r\\nh2{font-size:1.7em;margin:0;color:#CC0000;} \\r\\nh3{font-size:1.2em;margin:10px 0 0 0;color:#000000;} \\r\\n#header{width:96%;margin:0 0 0 0;padding:6px 2% 6px 2%;font-family:\"trebuchet MS\", Verdana, sans-serif;color:#FFF;\\r\\nbackground-color:#555555;}\\r\\n#content{margin:0 0 0 2%;position:relative;}\\r\\n.content-container{background:#FFF;width:96%;margin-top:8px;padding:10px;position:relative;}\\r\\n-->\\r\\n</style>\\r\\n</head>\\r\\n<body>\\r\\n<div id=\"header\"><h1>Server Error</h1></div>\\r\\n<div id=\"content\">\\r\\n <div class=\"content-container\"><fieldset>\\r\\n  <h2>404 - File or directory not found.</h2>\\r\\n  <h3>The resource you are looking for might have been removed, had its name changed, or is temporarily unavailable.</h3>\\r\\n </fieldset></div>\\r\\n</div>\\r\\n</body>\\r\\n</html>\\r\\n'\n",
      "2013\n",
      "http://md-greenbelt.civicplus.com/AgendaCenter/ViewFile/Agenda/06172013-155?html=true\n",
      "Printing content causing IndexError:\n",
      "\tb'<!DOCTYPE html PUBLIC \"-//W3C//DTD XHTML 1.0 Strict//EN\" \"http://www.w3.org/TR/xhtml1/DTD/xhtml1-strict.dtd\">\\r\\n<html xmlns=\"http://www.w3.org/1999/xhtml\">\\r\\n<head>\\r\\n<meta http-equiv=\"Content-Type\" content=\"text/html; charset=iso-8859-1\"/>\\r\\n<title>404 - File or directory not found.</title>\\r\\n<style type=\"text/css\">\\r\\n<!--\\r\\nbody{margin:0;font-size:.7em;font-family:Verdana, Arial, Helvetica, sans-serif;background:#EEEEEE;}\\r\\nfieldset{padding:0 15px 10px 15px;} \\r\\nh1{font-size:2.4em;margin:0;color:#FFF;}\\r\\nh2{font-size:1.7em;margin:0;color:#CC0000;} \\r\\nh3{font-size:1.2em;margin:10px 0 0 0;color:#000000;} \\r\\n#header{width:96%;margin:0 0 0 0;padding:6px 2% 6px 2%;font-family:\"trebuchet MS\", Verdana, sans-serif;color:#FFF;\\r\\nbackground-color:#555555;}\\r\\n#content{margin:0 0 0 2%;position:relative;}\\r\\n.content-container{background:#FFF;width:96%;margin-top:8px;padding:10px;position:relative;}\\r\\n-->\\r\\n</style>\\r\\n</head>\\r\\n<body>\\r\\n<div id=\"header\"><h1>Server Error</h1></div>\\r\\n<div id=\"content\">\\r\\n <div class=\"content-container\"><fieldset>\\r\\n  <h2>404 - File or directory not found.</h2>\\r\\n  <h3>The resource you are looking for might have been removed, had its name changed, or is temporarily unavailable.</h3>\\r\\n </fieldset></div>\\r\\n</div>\\r\\n</body>\\r\\n</html>\\r\\n'\n"
     ]
    },
    {
     "name": "stdout",
     "output_type": "stream",
     "text": [
      "2013\n",
      "http://md-greenbelt.civicplus.com/AgendaCenter/ViewFile/Agenda/06032013-156?html=true\n",
      "Printing content causing IndexError:\n",
      "\tb'<!DOCTYPE html PUBLIC \"-//W3C//DTD XHTML 1.0 Strict//EN\" \"http://www.w3.org/TR/xhtml1/DTD/xhtml1-strict.dtd\">\\r\\n<html xmlns=\"http://www.w3.org/1999/xhtml\">\\r\\n<head>\\r\\n<meta http-equiv=\"Content-Type\" content=\"text/html; charset=iso-8859-1\"/>\\r\\n<title>404 - File or directory not found.</title>\\r\\n<style type=\"text/css\">\\r\\n<!--\\r\\nbody{margin:0;font-size:.7em;font-family:Verdana, Arial, Helvetica, sans-serif;background:#EEEEEE;}\\r\\nfieldset{padding:0 15px 10px 15px;} \\r\\nh1{font-size:2.4em;margin:0;color:#FFF;}\\r\\nh2{font-size:1.7em;margin:0;color:#CC0000;} \\r\\nh3{font-size:1.2em;margin:10px 0 0 0;color:#000000;} \\r\\n#header{width:96%;margin:0 0 0 0;padding:6px 2% 6px 2%;font-family:\"trebuchet MS\", Verdana, sans-serif;color:#FFF;\\r\\nbackground-color:#555555;}\\r\\n#content{margin:0 0 0 2%;position:relative;}\\r\\n.content-container{background:#FFF;width:96%;margin-top:8px;padding:10px;position:relative;}\\r\\n-->\\r\\n</style>\\r\\n</head>\\r\\n<body>\\r\\n<div id=\"header\"><h1>Server Error</h1></div>\\r\\n<div id=\"content\">\\r\\n <div class=\"content-container\"><fieldset>\\r\\n  <h2>404 - File or directory not found.</h2>\\r\\n  <h3>The resource you are looking for might have been removed, had its name changed, or is temporarily unavailable.</h3>\\r\\n </fieldset></div>\\r\\n</div>\\r\\n</body>\\r\\n</html>\\r\\n'\n",
      "2013\n",
      "http://md-greenbelt.civicplus.com/AgendaCenter/ViewFile/Agenda/05282013-157?html=true\n",
      "Printing content causing IndexError:\n",
      "\tb'<!DOCTYPE html PUBLIC \"-//W3C//DTD XHTML 1.0 Strict//EN\" \"http://www.w3.org/TR/xhtml1/DTD/xhtml1-strict.dtd\">\\r\\n<html xmlns=\"http://www.w3.org/1999/xhtml\">\\r\\n<head>\\r\\n<meta http-equiv=\"Content-Type\" content=\"text/html; charset=iso-8859-1\"/>\\r\\n<title>404 - File or directory not found.</title>\\r\\n<style type=\"text/css\">\\r\\n<!--\\r\\nbody{margin:0;font-size:.7em;font-family:Verdana, Arial, Helvetica, sans-serif;background:#EEEEEE;}\\r\\nfieldset{padding:0 15px 10px 15px;} \\r\\nh1{font-size:2.4em;margin:0;color:#FFF;}\\r\\nh2{font-size:1.7em;margin:0;color:#CC0000;} \\r\\nh3{font-size:1.2em;margin:10px 0 0 0;color:#000000;} \\r\\n#header{width:96%;margin:0 0 0 0;padding:6px 2% 6px 2%;font-family:\"trebuchet MS\", Verdana, sans-serif;color:#FFF;\\r\\nbackground-color:#555555;}\\r\\n#content{margin:0 0 0 2%;position:relative;}\\r\\n.content-container{background:#FFF;width:96%;margin-top:8px;padding:10px;position:relative;}\\r\\n-->\\r\\n</style>\\r\\n</head>\\r\\n<body>\\r\\n<div id=\"header\"><h1>Server Error</h1></div>\\r\\n<div id=\"content\">\\r\\n <div class=\"content-container\"><fieldset>\\r\\n  <h2>404 - File or directory not found.</h2>\\r\\n  <h3>The resource you are looking for might have been removed, had its name changed, or is temporarily unavailable.</h3>\\r\\n </fieldset></div>\\r\\n</div>\\r\\n</body>\\r\\n</html>\\r\\n'\n",
      "2013\n",
      "http://md-greenbelt.civicplus.com/AgendaCenter/ViewFile/Agenda/05132013-158?html=true\n",
      "Printing content causing IndexError:\n",
      "\tb'<!DOCTYPE html PUBLIC \"-//W3C//DTD XHTML 1.0 Strict//EN\" \"http://www.w3.org/TR/xhtml1/DTD/xhtml1-strict.dtd\">\\r\\n<html xmlns=\"http://www.w3.org/1999/xhtml\">\\r\\n<head>\\r\\n<meta http-equiv=\"Content-Type\" content=\"text/html; charset=iso-8859-1\"/>\\r\\n<title>404 - File or directory not found.</title>\\r\\n<style type=\"text/css\">\\r\\n<!--\\r\\nbody{margin:0;font-size:.7em;font-family:Verdana, Arial, Helvetica, sans-serif;background:#EEEEEE;}\\r\\nfieldset{padding:0 15px 10px 15px;} \\r\\nh1{font-size:2.4em;margin:0;color:#FFF;}\\r\\nh2{font-size:1.7em;margin:0;color:#CC0000;} \\r\\nh3{font-size:1.2em;margin:10px 0 0 0;color:#000000;} \\r\\n#header{width:96%;margin:0 0 0 0;padding:6px 2% 6px 2%;font-family:\"trebuchet MS\", Verdana, sans-serif;color:#FFF;\\r\\nbackground-color:#555555;}\\r\\n#content{margin:0 0 0 2%;position:relative;}\\r\\n.content-container{background:#FFF;width:96%;margin-top:8px;padding:10px;position:relative;}\\r\\n-->\\r\\n</style>\\r\\n</head>\\r\\n<body>\\r\\n<div id=\"header\"><h1>Server Error</h1></div>\\r\\n<div id=\"content\">\\r\\n <div class=\"content-container\"><fieldset>\\r\\n  <h2>404 - File or directory not found.</h2>\\r\\n  <h3>The resource you are looking for might have been removed, had its name changed, or is temporarily unavailable.</h3>\\r\\n </fieldset></div>\\r\\n</div>\\r\\n</body>\\r\\n</html>\\r\\n'\n",
      "2013\n",
      "http://md-greenbelt.civicplus.com/AgendaCenter/ViewFile/Agenda/04222013-159?html=true\n",
      "Printing content causing IndexError:\n",
      "\tb'<!DOCTYPE html PUBLIC \"-//W3C//DTD XHTML 1.0 Strict//EN\" \"http://www.w3.org/TR/xhtml1/DTD/xhtml1-strict.dtd\">\\r\\n<html xmlns=\"http://www.w3.org/1999/xhtml\">\\r\\n<head>\\r\\n<meta http-equiv=\"Content-Type\" content=\"text/html; charset=iso-8859-1\"/>\\r\\n<title>404 - File or directory not found.</title>\\r\\n<style type=\"text/css\">\\r\\n<!--\\r\\nbody{margin:0;font-size:.7em;font-family:Verdana, Arial, Helvetica, sans-serif;background:#EEEEEE;}\\r\\nfieldset{padding:0 15px 10px 15px;} \\r\\nh1{font-size:2.4em;margin:0;color:#FFF;}\\r\\nh2{font-size:1.7em;margin:0;color:#CC0000;} \\r\\nh3{font-size:1.2em;margin:10px 0 0 0;color:#000000;} \\r\\n#header{width:96%;margin:0 0 0 0;padding:6px 2% 6px 2%;font-family:\"trebuchet MS\", Verdana, sans-serif;color:#FFF;\\r\\nbackground-color:#555555;}\\r\\n#content{margin:0 0 0 2%;position:relative;}\\r\\n.content-container{background:#FFF;width:96%;margin-top:8px;padding:10px;position:relative;}\\r\\n-->\\r\\n</style>\\r\\n</head>\\r\\n<body>\\r\\n<div id=\"header\"><h1>Server Error</h1></div>\\r\\n<div id=\"content\">\\r\\n <div class=\"content-container\"><fieldset>\\r\\n  <h2>404 - File or directory not found.</h2>\\r\\n  <h3>The resource you are looking for might have been removed, had its name changed, or is temporarily unavailable.</h3>\\r\\n </fieldset></div>\\r\\n</div>\\r\\n</body>\\r\\n</html>\\r\\n'\n",
      "2013\n",
      "https://www.greenbeltmd.gov/city_government/agenda_packet_4_8_2013/agenda.htm\n",
      "Printing content causing IndexError:\n",
      "\tb''\n",
      "2013\n",
      "https://www.greenbeltmd.gov/city_government/agenda_packet_3_27_13/agenda.html\n",
      "Printing content causing IndexError:\n",
      "\tb''\n",
      "2013\n",
      "https://www.greenbeltmd.gov/city_government/agenda_packet_3_11_13/agenda.html\n",
      "Printing content causing IndexError:\n",
      "\tb''\n",
      "2013\n",
      "https://www.greenbeltmd.gov/city_government/agenda_packet_2_25_13/agenda.html\n",
      "Printing content causing IndexError:\n",
      "\tb''\n",
      "2013\n",
      "https://www.greenbeltmd.gov/city_government/agenda_packet_2_11_13/agenda.html\n",
      "Printing content causing IndexError:\n",
      "\tb''\n",
      "2013\n",
      "https://www.greenbeltmd.gov/city_government/agenda_packet_1_28_13/agenda.html\n",
      "Printing content causing IndexError:\n",
      "\tb''\n",
      "2012\n",
      "http://md-greenbelt.civicplus.com/AgendaCenter/ViewFile/Agenda/12102012-70?html=true\n",
      "Printing content causing IndexError:\n",
      "\tb'<!DOCTYPE html PUBLIC \"-//W3C//DTD XHTML 1.0 Strict//EN\" \"http://www.w3.org/TR/xhtml1/DTD/xhtml1-strict.dtd\">\\r\\n<html xmlns=\"http://www.w3.org/1999/xhtml\">\\r\\n<head>\\r\\n<meta http-equiv=\"Content-Type\" content=\"text/html; charset=iso-8859-1\"/>\\r\\n<title>404 - File or directory not found.</title>\\r\\n<style type=\"text/css\">\\r\\n<!--\\r\\nbody{margin:0;font-size:.7em;font-family:Verdana, Arial, Helvetica, sans-serif;background:#EEEEEE;}\\r\\nfieldset{padding:0 15px 10px 15px;} \\r\\nh1{font-size:2.4em;margin:0;color:#FFF;}\\r\\nh2{font-size:1.7em;margin:0;color:#CC0000;} \\r\\nh3{font-size:1.2em;margin:10px 0 0 0;color:#000000;} \\r\\n#header{width:96%;margin:0 0 0 0;padding:6px 2% 6px 2%;font-family:\"trebuchet MS\", Verdana, sans-serif;color:#FFF;\\r\\nbackground-color:#555555;}\\r\\n#content{margin:0 0 0 2%;position:relative;}\\r\\n.content-container{background:#FFF;width:96%;margin-top:8px;padding:10px;position:relative;}\\r\\n-->\\r\\n</style>\\r\\n</head>\\r\\n<body>\\r\\n<div id=\"header\"><h1>Server Error</h1></div>\\r\\n<div id=\"content\">\\r\\n <div class=\"content-container\"><fieldset>\\r\\n  <h2>404 - File or directory not found.</h2>\\r\\n  <h3>The resource you are looking for might have been removed, had its name changed, or is temporarily unavailable.</h3>\\r\\n </fieldset></div>\\r\\n</div>\\r\\n</body>\\r\\n</html>\\r\\n'\n",
      "2012\n",
      "http://md-greenbelt.civicplus.com/AgendaCenter/ViewFile/Agenda/11262012-68?html=true\n",
      "Printing content causing IndexError:\n",
      "\tb'<!DOCTYPE html PUBLIC \"-//W3C//DTD XHTML 1.0 Strict//EN\" \"http://www.w3.org/TR/xhtml1/DTD/xhtml1-strict.dtd\">\\r\\n<html xmlns=\"http://www.w3.org/1999/xhtml\">\\r\\n<head>\\r\\n<meta http-equiv=\"Content-Type\" content=\"text/html; charset=iso-8859-1\"/>\\r\\n<title>404 - File or directory not found.</title>\\r\\n<style type=\"text/css\">\\r\\n<!--\\r\\nbody{margin:0;font-size:.7em;font-family:Verdana, Arial, Helvetica, sans-serif;background:#EEEEEE;}\\r\\nfieldset{padding:0 15px 10px 15px;} \\r\\nh1{font-size:2.4em;margin:0;color:#FFF;}\\r\\nh2{font-size:1.7em;margin:0;color:#CC0000;} \\r\\nh3{font-size:1.2em;margin:10px 0 0 0;color:#000000;} \\r\\n#header{width:96%;margin:0 0 0 0;padding:6px 2% 6px 2%;font-family:\"trebuchet MS\", Verdana, sans-serif;color:#FFF;\\r\\nbackground-color:#555555;}\\r\\n#content{margin:0 0 0 2%;position:relative;}\\r\\n.content-container{background:#FFF;width:96%;margin-top:8px;padding:10px;position:relative;}\\r\\n-->\\r\\n</style>\\r\\n</head>\\r\\n<body>\\r\\n<div id=\"header\"><h1>Server Error</h1></div>\\r\\n<div id=\"content\">\\r\\n <div class=\"content-container\"><fieldset>\\r\\n  <h2>404 - File or directory not found.</h2>\\r\\n  <h3>The resource you are looking for might have been removed, had its name changed, or is temporarily unavailable.</h3>\\r\\n </fieldset></div>\\r\\n</div>\\r\\n</body>\\r\\n</html>\\r\\n'\n"
     ]
    },
    {
     "name": "stdout",
     "output_type": "stream",
     "text": [
      "2012\n",
      "http://md-greenbelt.civicplus.com/AgendaCenter/ViewFile/Agenda/11132012-65?html=true\n",
      "Printing content causing IndexError:\n",
      "\tb'<!DOCTYPE html PUBLIC \"-//W3C//DTD XHTML 1.0 Strict//EN\" \"http://www.w3.org/TR/xhtml1/DTD/xhtml1-strict.dtd\">\\r\\n<html xmlns=\"http://www.w3.org/1999/xhtml\">\\r\\n<head>\\r\\n<meta http-equiv=\"Content-Type\" content=\"text/html; charset=iso-8859-1\"/>\\r\\n<title>404 - File or directory not found.</title>\\r\\n<style type=\"text/css\">\\r\\n<!--\\r\\nbody{margin:0;font-size:.7em;font-family:Verdana, Arial, Helvetica, sans-serif;background:#EEEEEE;}\\r\\nfieldset{padding:0 15px 10px 15px;} \\r\\nh1{font-size:2.4em;margin:0;color:#FFF;}\\r\\nh2{font-size:1.7em;margin:0;color:#CC0000;} \\r\\nh3{font-size:1.2em;margin:10px 0 0 0;color:#000000;} \\r\\n#header{width:96%;margin:0 0 0 0;padding:6px 2% 6px 2%;font-family:\"trebuchet MS\", Verdana, sans-serif;color:#FFF;\\r\\nbackground-color:#555555;}\\r\\n#content{margin:0 0 0 2%;position:relative;}\\r\\n.content-container{background:#FFF;width:96%;margin-top:8px;padding:10px;position:relative;}\\r\\n-->\\r\\n</style>\\r\\n</head>\\r\\n<body>\\r\\n<div id=\"header\"><h1>Server Error</h1></div>\\r\\n<div id=\"content\">\\r\\n <div class=\"content-container\"><fieldset>\\r\\n  <h2>404 - File or directory not found.</h2>\\r\\n  <h3>The resource you are looking for might have been removed, had its name changed, or is temporarily unavailable.</h3>\\r\\n </fieldset></div>\\r\\n</div>\\r\\n</body>\\r\\n</html>\\r\\n'\n",
      "2012\n",
      "http://md-greenbelt.civicplus.com/AgendaCenter/ViewFile/Agenda/10222012-63?html=true\n",
      "Printing content causing IndexError:\n",
      "\tb'<!DOCTYPE html PUBLIC \"-//W3C//DTD XHTML 1.0 Strict//EN\" \"http://www.w3.org/TR/xhtml1/DTD/xhtml1-strict.dtd\">\\r\\n<html xmlns=\"http://www.w3.org/1999/xhtml\">\\r\\n<head>\\r\\n<meta http-equiv=\"Content-Type\" content=\"text/html; charset=iso-8859-1\"/>\\r\\n<title>404 - File or directory not found.</title>\\r\\n<style type=\"text/css\">\\r\\n<!--\\r\\nbody{margin:0;font-size:.7em;font-family:Verdana, Arial, Helvetica, sans-serif;background:#EEEEEE;}\\r\\nfieldset{padding:0 15px 10px 15px;} \\r\\nh1{font-size:2.4em;margin:0;color:#FFF;}\\r\\nh2{font-size:1.7em;margin:0;color:#CC0000;} \\r\\nh3{font-size:1.2em;margin:10px 0 0 0;color:#000000;} \\r\\n#header{width:96%;margin:0 0 0 0;padding:6px 2% 6px 2%;font-family:\"trebuchet MS\", Verdana, sans-serif;color:#FFF;\\r\\nbackground-color:#555555;}\\r\\n#content{margin:0 0 0 2%;position:relative;}\\r\\n.content-container{background:#FFF;width:96%;margin-top:8px;padding:10px;position:relative;}\\r\\n-->\\r\\n</style>\\r\\n</head>\\r\\n<body>\\r\\n<div id=\"header\"><h1>Server Error</h1></div>\\r\\n<div id=\"content\">\\r\\n <div class=\"content-container\"><fieldset>\\r\\n  <h2>404 - File or directory not found.</h2>\\r\\n  <h3>The resource you are looking for might have been removed, had its name changed, or is temporarily unavailable.</h3>\\r\\n </fieldset></div>\\r\\n</div>\\r\\n</body>\\r\\n</html>\\r\\n'\n",
      "2012\n",
      "http://md-greenbelt.civicplus.com/AgendaCenter/ViewFile/Agenda/10092012-60?html=true\n",
      "Printing content causing IndexError:\n",
      "\tb'<!DOCTYPE html PUBLIC \"-//W3C//DTD XHTML 1.0 Strict//EN\" \"http://www.w3.org/TR/xhtml1/DTD/xhtml1-strict.dtd\">\\r\\n<html xmlns=\"http://www.w3.org/1999/xhtml\">\\r\\n<head>\\r\\n<meta http-equiv=\"Content-Type\" content=\"text/html; charset=iso-8859-1\"/>\\r\\n<title>404 - File or directory not found.</title>\\r\\n<style type=\"text/css\">\\r\\n<!--\\r\\nbody{margin:0;font-size:.7em;font-family:Verdana, Arial, Helvetica, sans-serif;background:#EEEEEE;}\\r\\nfieldset{padding:0 15px 10px 15px;} \\r\\nh1{font-size:2.4em;margin:0;color:#FFF;}\\r\\nh2{font-size:1.7em;margin:0;color:#CC0000;} \\r\\nh3{font-size:1.2em;margin:10px 0 0 0;color:#000000;} \\r\\n#header{width:96%;margin:0 0 0 0;padding:6px 2% 6px 2%;font-family:\"trebuchet MS\", Verdana, sans-serif;color:#FFF;\\r\\nbackground-color:#555555;}\\r\\n#content{margin:0 0 0 2%;position:relative;}\\r\\n.content-container{background:#FFF;width:96%;margin-top:8px;padding:10px;position:relative;}\\r\\n-->\\r\\n</style>\\r\\n</head>\\r\\n<body>\\r\\n<div id=\"header\"><h1>Server Error</h1></div>\\r\\n<div id=\"content\">\\r\\n <div class=\"content-container\"><fieldset>\\r\\n  <h2>404 - File or directory not found.</h2>\\r\\n  <h3>The resource you are looking for might have been removed, had its name changed, or is temporarily unavailable.</h3>\\r\\n </fieldset></div>\\r\\n</div>\\r\\n</body>\\r\\n</html>\\r\\n'\n",
      "2012\n",
      "https://www.greenbeltmd.gov/city_government/agenda_packet_9_24_12/agenda.html\n",
      "Printing content causing IndexError:\n",
      "\tb''\n",
      "2012\n",
      "http://md-greenbelt.civicplus.com/AgendaCenter/ViewFile/Agenda/09102012-54?html=true\n",
      "Printing content causing IndexError:\n",
      "\tb'<!DOCTYPE html PUBLIC \"-//W3C//DTD XHTML 1.0 Strict//EN\" \"http://www.w3.org/TR/xhtml1/DTD/xhtml1-strict.dtd\">\\r\\n<html xmlns=\"http://www.w3.org/1999/xhtml\">\\r\\n<head>\\r\\n<meta http-equiv=\"Content-Type\" content=\"text/html; charset=iso-8859-1\"/>\\r\\n<title>404 - File or directory not found.</title>\\r\\n<style type=\"text/css\">\\r\\n<!--\\r\\nbody{margin:0;font-size:.7em;font-family:Verdana, Arial, Helvetica, sans-serif;background:#EEEEEE;}\\r\\nfieldset{padding:0 15px 10px 15px;} \\r\\nh1{font-size:2.4em;margin:0;color:#FFF;}\\r\\nh2{font-size:1.7em;margin:0;color:#CC0000;} \\r\\nh3{font-size:1.2em;margin:10px 0 0 0;color:#000000;} \\r\\n#header{width:96%;margin:0 0 0 0;padding:6px 2% 6px 2%;font-family:\"trebuchet MS\", Verdana, sans-serif;color:#FFF;\\r\\nbackground-color:#555555;}\\r\\n#content{margin:0 0 0 2%;position:relative;}\\r\\n.content-container{background:#FFF;width:96%;margin-top:8px;padding:10px;position:relative;}\\r\\n-->\\r\\n</style>\\r\\n</head>\\r\\n<body>\\r\\n<div id=\"header\"><h1>Server Error</h1></div>\\r\\n<div id=\"content\">\\r\\n <div class=\"content-container\"><fieldset>\\r\\n  <h2>404 - File or directory not found.</h2>\\r\\n  <h3>The resource you are looking for might have been removed, had its name changed, or is temporarily unavailable.</h3>\\r\\n </fieldset></div>\\r\\n</div>\\r\\n</body>\\r\\n</html>\\r\\n'\n",
      "2012\n",
      "http://md-greenbelt.civicplus.com/AgendaCenter/ViewFile/Agenda/08132012-51?html=true\n",
      "Printing content causing IndexError:\n",
      "\tb'<!DOCTYPE html PUBLIC \"-//W3C//DTD XHTML 1.0 Strict//EN\" \"http://www.w3.org/TR/xhtml1/DTD/xhtml1-strict.dtd\">\\r\\n<html xmlns=\"http://www.w3.org/1999/xhtml\">\\r\\n<head>\\r\\n<meta http-equiv=\"Content-Type\" content=\"text/html; charset=iso-8859-1\"/>\\r\\n<title>404 - File or directory not found.</title>\\r\\n<style type=\"text/css\">\\r\\n<!--\\r\\nbody{margin:0;font-size:.7em;font-family:Verdana, Arial, Helvetica, sans-serif;background:#EEEEEE;}\\r\\nfieldset{padding:0 15px 10px 15px;} \\r\\nh1{font-size:2.4em;margin:0;color:#FFF;}\\r\\nh2{font-size:1.7em;margin:0;color:#CC0000;} \\r\\nh3{font-size:1.2em;margin:10px 0 0 0;color:#000000;} \\r\\n#header{width:96%;margin:0 0 0 0;padding:6px 2% 6px 2%;font-family:\"trebuchet MS\", Verdana, sans-serif;color:#FFF;\\r\\nbackground-color:#555555;}\\r\\n#content{margin:0 0 0 2%;position:relative;}\\r\\n.content-container{background:#FFF;width:96%;margin-top:8px;padding:10px;position:relative;}\\r\\n-->\\r\\n</style>\\r\\n</head>\\r\\n<body>\\r\\n<div id=\"header\"><h1>Server Error</h1></div>\\r\\n<div id=\"content\">\\r\\n <div class=\"content-container\"><fieldset>\\r\\n  <h2>404 - File or directory not found.</h2>\\r\\n  <h3>The resource you are looking for might have been removed, had its name changed, or is temporarily unavailable.</h3>\\r\\n </fieldset></div>\\r\\n</div>\\r\\n</body>\\r\\n</html>\\r\\n'\n",
      "2012\n",
      "http://md-greenbelt.civicplus.com/AgendaCenter/ViewFile/Agenda/07302012-45?html=true\n",
      "Printing content causing IndexError:\n",
      "\tb'<!DOCTYPE html PUBLIC \"-//W3C//DTD XHTML 1.0 Strict//EN\" \"http://www.w3.org/TR/xhtml1/DTD/xhtml1-strict.dtd\">\\r\\n<html xmlns=\"http://www.w3.org/1999/xhtml\">\\r\\n<head>\\r\\n<meta http-equiv=\"Content-Type\" content=\"text/html; charset=iso-8859-1\"/>\\r\\n<title>404 - File or directory not found.</title>\\r\\n<style type=\"text/css\">\\r\\n<!--\\r\\nbody{margin:0;font-size:.7em;font-family:Verdana, Arial, Helvetica, sans-serif;background:#EEEEEE;}\\r\\nfieldset{padding:0 15px 10px 15px;} \\r\\nh1{font-size:2.4em;margin:0;color:#FFF;}\\r\\nh2{font-size:1.7em;margin:0;color:#CC0000;} \\r\\nh3{font-size:1.2em;margin:10px 0 0 0;color:#000000;} \\r\\n#header{width:96%;margin:0 0 0 0;padding:6px 2% 6px 2%;font-family:\"trebuchet MS\", Verdana, sans-serif;color:#FFF;\\r\\nbackground-color:#555555;}\\r\\n#content{margin:0 0 0 2%;position:relative;}\\r\\n.content-container{background:#FFF;width:96%;margin-top:8px;padding:10px;position:relative;}\\r\\n-->\\r\\n</style>\\r\\n</head>\\r\\n<body>\\r\\n<div id=\"header\"><h1>Server Error</h1></div>\\r\\n<div id=\"content\">\\r\\n <div class=\"content-container\"><fieldset>\\r\\n  <h2>404 - File or directory not found.</h2>\\r\\n  <h3>The resource you are looking for might have been removed, had its name changed, or is temporarily unavailable.</h3>\\r\\n </fieldset></div>\\r\\n</div>\\r\\n</body>\\r\\n</html>\\r\\n'\n"
     ]
    },
    {
     "name": "stdout",
     "output_type": "stream",
     "text": [
      "2012\n",
      "http://md-greenbelt.civicplus.com/AgendaCenter/ViewFile/Agenda/07092012-42?html=true\n",
      "Printing content causing IndexError:\n",
      "\tb'<!DOCTYPE html PUBLIC \"-//W3C//DTD XHTML 1.0 Strict//EN\" \"http://www.w3.org/TR/xhtml1/DTD/xhtml1-strict.dtd\">\\r\\n<html xmlns=\"http://www.w3.org/1999/xhtml\">\\r\\n<head>\\r\\n<meta http-equiv=\"Content-Type\" content=\"text/html; charset=iso-8859-1\"/>\\r\\n<title>404 - File or directory not found.</title>\\r\\n<style type=\"text/css\">\\r\\n<!--\\r\\nbody{margin:0;font-size:.7em;font-family:Verdana, Arial, Helvetica, sans-serif;background:#EEEEEE;}\\r\\nfieldset{padding:0 15px 10px 15px;} \\r\\nh1{font-size:2.4em;margin:0;color:#FFF;}\\r\\nh2{font-size:1.7em;margin:0;color:#CC0000;} \\r\\nh3{font-size:1.2em;margin:10px 0 0 0;color:#000000;} \\r\\n#header{width:96%;margin:0 0 0 0;padding:6px 2% 6px 2%;font-family:\"trebuchet MS\", Verdana, sans-serif;color:#FFF;\\r\\nbackground-color:#555555;}\\r\\n#content{margin:0 0 0 2%;position:relative;}\\r\\n.content-container{background:#FFF;width:96%;margin-top:8px;padding:10px;position:relative;}\\r\\n-->\\r\\n</style>\\r\\n</head>\\r\\n<body>\\r\\n<div id=\"header\"><h1>Server Error</h1></div>\\r\\n<div id=\"content\">\\r\\n <div class=\"content-container\"><fieldset>\\r\\n  <h2>404 - File or directory not found.</h2>\\r\\n  <h3>The resource you are looking for might have been removed, had its name changed, or is temporarily unavailable.</h3>\\r\\n </fieldset></div>\\r\\n</div>\\r\\n</body>\\r\\n</html>\\r\\n'\n",
      "2012\n",
      "https://www.greenbeltmd.gov/city_government/agenda_packet_6_18_12/agenda.html\n",
      "Printing content causing IndexError:\n",
      "\tb''\n",
      "2012\n",
      "http://md-greenbelt.civicplus.com/AgendaCenter/ViewFile/Agenda/06042012-38?html=true\n",
      "Printing content causing IndexError:\n",
      "\tb'<!DOCTYPE html PUBLIC \"-//W3C//DTD XHTML 1.0 Strict//EN\" \"http://www.w3.org/TR/xhtml1/DTD/xhtml1-strict.dtd\">\\r\\n<html xmlns=\"http://www.w3.org/1999/xhtml\">\\r\\n<head>\\r\\n<meta http-equiv=\"Content-Type\" content=\"text/html; charset=iso-8859-1\"/>\\r\\n<title>404 - File or directory not found.</title>\\r\\n<style type=\"text/css\">\\r\\n<!--\\r\\nbody{margin:0;font-size:.7em;font-family:Verdana, Arial, Helvetica, sans-serif;background:#EEEEEE;}\\r\\nfieldset{padding:0 15px 10px 15px;} \\r\\nh1{font-size:2.4em;margin:0;color:#FFF;}\\r\\nh2{font-size:1.7em;margin:0;color:#CC0000;} \\r\\nh3{font-size:1.2em;margin:10px 0 0 0;color:#000000;} \\r\\n#header{width:96%;margin:0 0 0 0;padding:6px 2% 6px 2%;font-family:\"trebuchet MS\", Verdana, sans-serif;color:#FFF;\\r\\nbackground-color:#555555;}\\r\\n#content{margin:0 0 0 2%;position:relative;}\\r\\n.content-container{background:#FFF;width:96%;margin-top:8px;padding:10px;position:relative;}\\r\\n-->\\r\\n</style>\\r\\n</head>\\r\\n<body>\\r\\n<div id=\"header\"><h1>Server Error</h1></div>\\r\\n<div id=\"content\">\\r\\n <div class=\"content-container\"><fieldset>\\r\\n  <h2>404 - File or directory not found.</h2>\\r\\n  <h3>The resource you are looking for might have been removed, had its name changed, or is temporarily unavailable.</h3>\\r\\n </fieldset></div>\\r\\n</div>\\r\\n</body>\\r\\n</html>\\r\\n'\n",
      "2012\n",
      "http://md-greenbelt.civicplus.com/AgendaCenter/ViewFile/Agenda/05292012-36?html=true\n",
      "Printing content causing IndexError:\n",
      "\tb'<!DOCTYPE html PUBLIC \"-//W3C//DTD XHTML 1.0 Strict//EN\" \"http://www.w3.org/TR/xhtml1/DTD/xhtml1-strict.dtd\">\\r\\n<html xmlns=\"http://www.w3.org/1999/xhtml\">\\r\\n<head>\\r\\n<meta http-equiv=\"Content-Type\" content=\"text/html; charset=iso-8859-1\"/>\\r\\n<title>404 - File or directory not found.</title>\\r\\n<style type=\"text/css\">\\r\\n<!--\\r\\nbody{margin:0;font-size:.7em;font-family:Verdana, Arial, Helvetica, sans-serif;background:#EEEEEE;}\\r\\nfieldset{padding:0 15px 10px 15px;} \\r\\nh1{font-size:2.4em;margin:0;color:#FFF;}\\r\\nh2{font-size:1.7em;margin:0;color:#CC0000;} \\r\\nh3{font-size:1.2em;margin:10px 0 0 0;color:#000000;} \\r\\n#header{width:96%;margin:0 0 0 0;padding:6px 2% 6px 2%;font-family:\"trebuchet MS\", Verdana, sans-serif;color:#FFF;\\r\\nbackground-color:#555555;}\\r\\n#content{margin:0 0 0 2%;position:relative;}\\r\\n.content-container{background:#FFF;width:96%;margin-top:8px;padding:10px;position:relative;}\\r\\n-->\\r\\n</style>\\r\\n</head>\\r\\n<body>\\r\\n<div id=\"header\"><h1>Server Error</h1></div>\\r\\n<div id=\"content\">\\r\\n <div class=\"content-container\"><fieldset>\\r\\n  <h2>404 - File or directory not found.</h2>\\r\\n  <h3>The resource you are looking for might have been removed, had its name changed, or is temporarily unavailable.</h3>\\r\\n </fieldset></div>\\r\\n</div>\\r\\n</body>\\r\\n</html>\\r\\n'\n",
      "2012\n",
      "http://md-greenbelt.civicplus.com/AgendaCenter/ViewFile/Agenda/05142012-321?html=true\n",
      "Printing content causing IndexError:\n",
      "\tb'<!DOCTYPE html PUBLIC \"-//W3C//DTD XHTML 1.0 Strict//EN\" \"http://www.w3.org/TR/xhtml1/DTD/xhtml1-strict.dtd\">\\r\\n<html xmlns=\"http://www.w3.org/1999/xhtml\">\\r\\n<head>\\r\\n<meta http-equiv=\"Content-Type\" content=\"text/html; charset=iso-8859-1\"/>\\r\\n<title>404 - File or directory not found.</title>\\r\\n<style type=\"text/css\">\\r\\n<!--\\r\\nbody{margin:0;font-size:.7em;font-family:Verdana, Arial, Helvetica, sans-serif;background:#EEEEEE;}\\r\\nfieldset{padding:0 15px 10px 15px;} \\r\\nh1{font-size:2.4em;margin:0;color:#FFF;}\\r\\nh2{font-size:1.7em;margin:0;color:#CC0000;} \\r\\nh3{font-size:1.2em;margin:10px 0 0 0;color:#000000;} \\r\\n#header{width:96%;margin:0 0 0 0;padding:6px 2% 6px 2%;font-family:\"trebuchet MS\", Verdana, sans-serif;color:#FFF;\\r\\nbackground-color:#555555;}\\r\\n#content{margin:0 0 0 2%;position:relative;}\\r\\n.content-container{background:#FFF;width:96%;margin-top:8px;padding:10px;position:relative;}\\r\\n-->\\r\\n</style>\\r\\n</head>\\r\\n<body>\\r\\n<div id=\"header\"><h1>Server Error</h1></div>\\r\\n<div id=\"content\">\\r\\n <div class=\"content-container\"><fieldset>\\r\\n  <h2>404 - File or directory not found.</h2>\\r\\n  <h3>The resource you are looking for might have been removed, had its name changed, or is temporarily unavailable.</h3>\\r\\n </fieldset></div>\\r\\n</div>\\r\\n</body>\\r\\n</html>\\r\\n'\n",
      "2012\n",
      "http://md-greenbelt.civicplus.com/AgendaCenter/ViewFile/Agenda/04232012-27?html=true\n",
      "Printing content causing IndexError:\n",
      "\tb'<!DOCTYPE html PUBLIC \"-//W3C//DTD XHTML 1.0 Strict//EN\" \"http://www.w3.org/TR/xhtml1/DTD/xhtml1-strict.dtd\">\\r\\n<html xmlns=\"http://www.w3.org/1999/xhtml\">\\r\\n<head>\\r\\n<meta http-equiv=\"Content-Type\" content=\"text/html; charset=iso-8859-1\"/>\\r\\n<title>404 - File or directory not found.</title>\\r\\n<style type=\"text/css\">\\r\\n<!--\\r\\nbody{margin:0;font-size:.7em;font-family:Verdana, Arial, Helvetica, sans-serif;background:#EEEEEE;}\\r\\nfieldset{padding:0 15px 10px 15px;} \\r\\nh1{font-size:2.4em;margin:0;color:#FFF;}\\r\\nh2{font-size:1.7em;margin:0;color:#CC0000;} \\r\\nh3{font-size:1.2em;margin:10px 0 0 0;color:#000000;} \\r\\n#header{width:96%;margin:0 0 0 0;padding:6px 2% 6px 2%;font-family:\"trebuchet MS\", Verdana, sans-serif;color:#FFF;\\r\\nbackground-color:#555555;}\\r\\n#content{margin:0 0 0 2%;position:relative;}\\r\\n.content-container{background:#FFF;width:96%;margin-top:8px;padding:10px;position:relative;}\\r\\n-->\\r\\n</style>\\r\\n</head>\\r\\n<body>\\r\\n<div id=\"header\"><h1>Server Error</h1></div>\\r\\n<div id=\"content\">\\r\\n <div class=\"content-container\"><fieldset>\\r\\n  <h2>404 - File or directory not found.</h2>\\r\\n  <h3>The resource you are looking for might have been removed, had its name changed, or is temporarily unavailable.</h3>\\r\\n </fieldset></div>\\r\\n</div>\\r\\n</body>\\r\\n</html>\\r\\n'\n",
      "2012\n",
      "http://md-greenbelt.civicplus.com/AgendaCenter/ViewFile/Agenda/04092012-25?html=true\n",
      "Printing content causing IndexError:\n",
      "\tb'<!DOCTYPE html PUBLIC \"-//W3C//DTD XHTML 1.0 Strict//EN\" \"http://www.w3.org/TR/xhtml1/DTD/xhtml1-strict.dtd\">\\r\\n<html xmlns=\"http://www.w3.org/1999/xhtml\">\\r\\n<head>\\r\\n<meta http-equiv=\"Content-Type\" content=\"text/html; charset=iso-8859-1\"/>\\r\\n<title>404 - File or directory not found.</title>\\r\\n<style type=\"text/css\">\\r\\n<!--\\r\\nbody{margin:0;font-size:.7em;font-family:Verdana, Arial, Helvetica, sans-serif;background:#EEEEEE;}\\r\\nfieldset{padding:0 15px 10px 15px;} \\r\\nh1{font-size:2.4em;margin:0;color:#FFF;}\\r\\nh2{font-size:1.7em;margin:0;color:#CC0000;} \\r\\nh3{font-size:1.2em;margin:10px 0 0 0;color:#000000;} \\r\\n#header{width:96%;margin:0 0 0 0;padding:6px 2% 6px 2%;font-family:\"trebuchet MS\", Verdana, sans-serif;color:#FFF;\\r\\nbackground-color:#555555;}\\r\\n#content{margin:0 0 0 2%;position:relative;}\\r\\n.content-container{background:#FFF;width:96%;margin-top:8px;padding:10px;position:relative;}\\r\\n-->\\r\\n</style>\\r\\n</head>\\r\\n<body>\\r\\n<div id=\"header\"><h1>Server Error</h1></div>\\r\\n<div id=\"content\">\\r\\n <div class=\"content-container\"><fieldset>\\r\\n  <h2>404 - File or directory not found.</h2>\\r\\n  <h3>The resource you are looking for might have been removed, had its name changed, or is temporarily unavailable.</h3>\\r\\n </fieldset></div>\\r\\n</div>\\r\\n</body>\\r\\n</html>\\r\\n'\n"
     ]
    },
    {
     "name": "stdout",
     "output_type": "stream",
     "text": [
      "2012\n",
      "http://md-greenbelt.civicplus.com/AgendaCenter/ViewFile/Agenda/03262012-23?html=true\n",
      "Printing content causing IndexError:\n",
      "\tb'<!DOCTYPE html PUBLIC \"-//W3C//DTD XHTML 1.0 Strict//EN\" \"http://www.w3.org/TR/xhtml1/DTD/xhtml1-strict.dtd\">\\r\\n<html xmlns=\"http://www.w3.org/1999/xhtml\">\\r\\n<head>\\r\\n<meta http-equiv=\"Content-Type\" content=\"text/html; charset=iso-8859-1\"/>\\r\\n<title>404 - File or directory not found.</title>\\r\\n<style type=\"text/css\">\\r\\n<!--\\r\\nbody{margin:0;font-size:.7em;font-family:Verdana, Arial, Helvetica, sans-serif;background:#EEEEEE;}\\r\\nfieldset{padding:0 15px 10px 15px;} \\r\\nh1{font-size:2.4em;margin:0;color:#FFF;}\\r\\nh2{font-size:1.7em;margin:0;color:#CC0000;} \\r\\nh3{font-size:1.2em;margin:10px 0 0 0;color:#000000;} \\r\\n#header{width:96%;margin:0 0 0 0;padding:6px 2% 6px 2%;font-family:\"trebuchet MS\", Verdana, sans-serif;color:#FFF;\\r\\nbackground-color:#555555;}\\r\\n#content{margin:0 0 0 2%;position:relative;}\\r\\n.content-container{background:#FFF;width:96%;margin-top:8px;padding:10px;position:relative;}\\r\\n-->\\r\\n</style>\\r\\n</head>\\r\\n<body>\\r\\n<div id=\"header\"><h1>Server Error</h1></div>\\r\\n<div id=\"content\">\\r\\n <div class=\"content-container\"><fieldset>\\r\\n  <h2>404 - File or directory not found.</h2>\\r\\n  <h3>The resource you are looking for might have been removed, had its name changed, or is temporarily unavailable.</h3>\\r\\n </fieldset></div>\\r\\n</div>\\r\\n</body>\\r\\n</html>\\r\\n'\n",
      "2012\n",
      "https://www.greenbeltmd.gov/city_government/agenda_packet_3_12_12/agenda.html\n",
      "Printing content causing IndexError:\n",
      "\tb''\n",
      "2012\n",
      "http://md-greenbelt.civicplus.com/AgendaCenter/ViewFile/Agenda/02272012-75?html=true\n",
      "Printing content causing IndexError:\n",
      "\tb'<!DOCTYPE html PUBLIC \"-//W3C//DTD XHTML 1.0 Strict//EN\" \"http://www.w3.org/TR/xhtml1/DTD/xhtml1-strict.dtd\">\\r\\n<html xmlns=\"http://www.w3.org/1999/xhtml\">\\r\\n<head>\\r\\n<meta http-equiv=\"Content-Type\" content=\"text/html; charset=iso-8859-1\"/>\\r\\n<title>404 - File or directory not found.</title>\\r\\n<style type=\"text/css\">\\r\\n<!--\\r\\nbody{margin:0;font-size:.7em;font-family:Verdana, Arial, Helvetica, sans-serif;background:#EEEEEE;}\\r\\nfieldset{padding:0 15px 10px 15px;} \\r\\nh1{font-size:2.4em;margin:0;color:#FFF;}\\r\\nh2{font-size:1.7em;margin:0;color:#CC0000;} \\r\\nh3{font-size:1.2em;margin:10px 0 0 0;color:#000000;} \\r\\n#header{width:96%;margin:0 0 0 0;padding:6px 2% 6px 2%;font-family:\"trebuchet MS\", Verdana, sans-serif;color:#FFF;\\r\\nbackground-color:#555555;}\\r\\n#content{margin:0 0 0 2%;position:relative;}\\r\\n.content-container{background:#FFF;width:96%;margin-top:8px;padding:10px;position:relative;}\\r\\n-->\\r\\n</style>\\r\\n</head>\\r\\n<body>\\r\\n<div id=\"header\"><h1>Server Error</h1></div>\\r\\n<div id=\"content\">\\r\\n <div class=\"content-container\"><fieldset>\\r\\n  <h2>404 - File or directory not found.</h2>\\r\\n  <h3>The resource you are looking for might have been removed, had its name changed, or is temporarily unavailable.</h3>\\r\\n </fieldset></div>\\r\\n</div>\\r\\n</body>\\r\\n</html>\\r\\n'\n",
      "2012\n",
      "http://md-greenbelt.civicplus.com/AgendaCenter/ViewFile/Agenda/02132012-15?html=true\n",
      "Printing content causing IndexError:\n",
      "\tb'<!DOCTYPE html PUBLIC \"-//W3C//DTD XHTML 1.0 Strict//EN\" \"http://www.w3.org/TR/xhtml1/DTD/xhtml1-strict.dtd\">\\r\\n<html xmlns=\"http://www.w3.org/1999/xhtml\">\\r\\n<head>\\r\\n<meta http-equiv=\"Content-Type\" content=\"text/html; charset=iso-8859-1\"/>\\r\\n<title>404 - File or directory not found.</title>\\r\\n<style type=\"text/css\">\\r\\n<!--\\r\\nbody{margin:0;font-size:.7em;font-family:Verdana, Arial, Helvetica, sans-serif;background:#EEEEEE;}\\r\\nfieldset{padding:0 15px 10px 15px;} \\r\\nh1{font-size:2.4em;margin:0;color:#FFF;}\\r\\nh2{font-size:1.7em;margin:0;color:#CC0000;} \\r\\nh3{font-size:1.2em;margin:10px 0 0 0;color:#000000;} \\r\\n#header{width:96%;margin:0 0 0 0;padding:6px 2% 6px 2%;font-family:\"trebuchet MS\", Verdana, sans-serif;color:#FFF;\\r\\nbackground-color:#555555;}\\r\\n#content{margin:0 0 0 2%;position:relative;}\\r\\n.content-container{background:#FFF;width:96%;margin-top:8px;padding:10px;position:relative;}\\r\\n-->\\r\\n</style>\\r\\n</head>\\r\\n<body>\\r\\n<div id=\"header\"><h1>Server Error</h1></div>\\r\\n<div id=\"content\">\\r\\n <div class=\"content-container\"><fieldset>\\r\\n  <h2>404 - File or directory not found.</h2>\\r\\n  <h3>The resource you are looking for might have been removed, had its name changed, or is temporarily unavailable.</h3>\\r\\n </fieldset></div>\\r\\n</div>\\r\\n</body>\\r\\n</html>\\r\\n'\n",
      "2012\n",
      "http://md-greenbelt.civicplus.com/AgendaCenter/ViewFile/Agenda/01232012-11?html=true\n",
      "Printing content causing IndexError:\n",
      "\tb'<!DOCTYPE html PUBLIC \"-//W3C//DTD XHTML 1.0 Strict//EN\" \"http://www.w3.org/TR/xhtml1/DTD/xhtml1-strict.dtd\">\\r\\n<html xmlns=\"http://www.w3.org/1999/xhtml\">\\r\\n<head>\\r\\n<meta http-equiv=\"Content-Type\" content=\"text/html; charset=iso-8859-1\"/>\\r\\n<title>404 - File or directory not found.</title>\\r\\n<style type=\"text/css\">\\r\\n<!--\\r\\nbody{margin:0;font-size:.7em;font-family:Verdana, Arial, Helvetica, sans-serif;background:#EEEEEE;}\\r\\nfieldset{padding:0 15px 10px 15px;} \\r\\nh1{font-size:2.4em;margin:0;color:#FFF;}\\r\\nh2{font-size:1.7em;margin:0;color:#CC0000;} \\r\\nh3{font-size:1.2em;margin:10px 0 0 0;color:#000000;} \\r\\n#header{width:96%;margin:0 0 0 0;padding:6px 2% 6px 2%;font-family:\"trebuchet MS\", Verdana, sans-serif;color:#FFF;\\r\\nbackground-color:#555555;}\\r\\n#content{margin:0 0 0 2%;position:relative;}\\r\\n.content-container{background:#FFF;width:96%;margin-top:8px;padding:10px;position:relative;}\\r\\n-->\\r\\n</style>\\r\\n</head>\\r\\n<body>\\r\\n<div id=\"header\"><h1>Server Error</h1></div>\\r\\n<div id=\"content\">\\r\\n <div class=\"content-container\"><fieldset>\\r\\n  <h2>404 - File or directory not found.</h2>\\r\\n  <h3>The resource you are looking for might have been removed, had its name changed, or is temporarily unavailable.</h3>\\r\\n </fieldset></div>\\r\\n</div>\\r\\n</body>\\r\\n</html>\\r\\n'\n",
      "2012\n",
      "http://md-greenbelt.civicplus.com/DocumentCenter/View/1740\n",
      "Printing content causing IndexError:\n",
      "\tb'<!DOCTYPE html PUBLIC \"-//W3C//DTD XHTML 1.0 Strict//EN\" \"http://www.w3.org/TR/xhtml1/DTD/xhtml1-strict.dtd\">\\r\\n<html xmlns=\"http://www.w3.org/1999/xhtml\">\\r\\n<head>\\r\\n<meta http-equiv=\"Content-Type\" content=\"text/html; charset=iso-8859-1\"/>\\r\\n<title>404 - File or directory not found.</title>\\r\\n<style type=\"text/css\">\\r\\n<!--\\r\\nbody{margin:0;font-size:.7em;font-family:Verdana, Arial, Helvetica, sans-serif;background:#EEEEEE;}\\r\\nfieldset{padding:0 15px 10px 15px;} \\r\\nh1{font-size:2.4em;margin:0;color:#FFF;}\\r\\nh2{font-size:1.7em;margin:0;color:#CC0000;} \\r\\nh3{font-size:1.2em;margin:10px 0 0 0;color:#000000;} \\r\\n#header{width:96%;margin:0 0 0 0;padding:6px 2% 6px 2%;font-family:\"trebuchet MS\", Verdana, sans-serif;color:#FFF;\\r\\nbackground-color:#555555;}\\r\\n#content{margin:0 0 0 2%;position:relative;}\\r\\n.content-container{background:#FFF;width:96%;margin-top:8px;padding:10px;position:relative;}\\r\\n-->\\r\\n</style>\\r\\n</head>\\r\\n<body>\\r\\n<div id=\"header\"><h1>Server Error</h1></div>\\r\\n<div id=\"content\">\\r\\n <div class=\"content-container\"><fieldset>\\r\\n  <h2>404 - File or directory not found.</h2>\\r\\n  <h3>The resource you are looking for might have been removed, had its name changed, or is temporarily unavailable.</h3>\\r\\n </fieldset></div>\\r\\n</div>\\r\\n</body>\\r\\n</html>\\r\\n'\n",
      "2011\n",
      "http://greenbeltmd.granicus.com/GeneratedAgendaViewer.php?view_id=2\n",
      "Printing content causing IndexError:\n",
      "\tb'\\r\\n<!DOCTYPE html PUBLIC \"-//W3C//DTD XHTML 1.0 Transitional//EN\" \"https://www.w3.org/TR/xhtml1/DTD/xhtml1-transitional.dtd\">\\r\\n<html xmlns=\"http://www.w3.org/1999/xhtml\">\\r\\n<head id=\"Head1\"><title>\\r\\n\\t404 - Page Not Found\\r\\n</title><link href=\"../App_Themes/404/404.css\" type=\"text/css\" rel=\"stylesheet\" /></head>\\r\\n<script type=\"text/javascript\">\\r\\nfunction breakOut()\\r\\n{\\r\\n    if (top.location != location) {\\r\\n        top.location.href = document.location.href;\\r\\n    }\\r\\n}\\r\\n</script>\\r\\n<body onload=\"breakOut()\">\\r\\n\\r\\n<h1>Oops! <span>This link does not exist.</span> <a href=\"javascript:history.go(-1)\">&laquo; Go Back</a></h1>\\r\\n\\r\\n\\r\\n\\r\\n<h3>What happened? <span>List of possible reasons</span></h3>\\r\\n\\r\\n<ul>\\r\\n\\t<li>You entered the wrong URL</li>\\r\\n\\t<li>The link to this page is incorrect</li>\\r\\n\\t<li>The link you are trying to visit no longer exists</li>\\r\\n</ul>\\r\\n\\r\\n<div class=\"back\"><a href=\"javascript:history.go(-1)\">&laquo; Go Back</a></div>\\r\\n</body>\\r\\n</html>\\r\\n'\n"
     ]
    },
    {
     "name": "stdout",
     "output_type": "stream",
     "text": [
      "2011\n",
      "http://greenbeltmd.granicus.com/GeneratedAgendaViewer.php?view_id=2\n",
      "Printing content causing IndexError:\n",
      "\tb'\\r\\n<!DOCTYPE html PUBLIC \"-//W3C//DTD XHTML 1.0 Transitional//EN\" \"https://www.w3.org/TR/xhtml1/DTD/xhtml1-transitional.dtd\">\\r\\n<html xmlns=\"http://www.w3.org/1999/xhtml\">\\r\\n<head id=\"Head1\"><title>\\r\\n\\t404 - Page Not Found\\r\\n</title><link href=\"../App_Themes/404/404.css\" type=\"text/css\" rel=\"stylesheet\" /></head>\\r\\n<script type=\"text/javascript\">\\r\\nfunction breakOut()\\r\\n{\\r\\n    if (top.location != location) {\\r\\n        top.location.href = document.location.href;\\r\\n    }\\r\\n}\\r\\n</script>\\r\\n<body onload=\"breakOut()\">\\r\\n\\r\\n<h1>Oops! <span>This link does not exist.</span> <a href=\"javascript:history.go(-1)\">&laquo; Go Back</a></h1>\\r\\n\\r\\n\\r\\n\\r\\n<h3>What happened? <span>List of possible reasons</span></h3>\\r\\n\\r\\n<ul>\\r\\n\\t<li>You entered the wrong URL</li>\\r\\n\\t<li>The link to this page is incorrect</li>\\r\\n\\t<li>The link you are trying to visit no longer exists</li>\\r\\n</ul>\\r\\n\\r\\n<div class=\"back\"><a href=\"javascript:history.go(-1)\">&laquo; Go Back</a></div>\\r\\n</body>\\r\\n</html>\\r\\n'\n",
      "2011\n",
      "http://greenbeltmd.granicus.com/GeneratedAgendaViewer.php?view_id=2\n",
      "Printing content causing IndexError:\n",
      "\tb'\\r\\n<!DOCTYPE html PUBLIC \"-//W3C//DTD XHTML 1.0 Transitional//EN\" \"https://www.w3.org/TR/xhtml1/DTD/xhtml1-transitional.dtd\">\\r\\n<html xmlns=\"http://www.w3.org/1999/xhtml\">\\r\\n<head id=\"Head1\"><title>\\r\\n\\t404 - Page Not Found\\r\\n</title><link href=\"../App_Themes/404/404.css\" type=\"text/css\" rel=\"stylesheet\" /></head>\\r\\n<script type=\"text/javascript\">\\r\\nfunction breakOut()\\r\\n{\\r\\n    if (top.location != location) {\\r\\n        top.location.href = document.location.href;\\r\\n    }\\r\\n}\\r\\n</script>\\r\\n<body onload=\"breakOut()\">\\r\\n\\r\\n<h1>Oops! <span>This link does not exist.</span> <a href=\"javascript:history.go(-1)\">&laquo; Go Back</a></h1>\\r\\n\\r\\n\\r\\n\\r\\n<h3>What happened? <span>List of possible reasons</span></h3>\\r\\n\\r\\n<ul>\\r\\n\\t<li>You entered the wrong URL</li>\\r\\n\\t<li>The link to this page is incorrect</li>\\r\\n\\t<li>The link you are trying to visit no longer exists</li>\\r\\n</ul>\\r\\n\\r\\n<div class=\"back\"><a href=\"javascript:history.go(-1)\">&laquo; Go Back</a></div>\\r\\n</body>\\r\\n</html>\\r\\n'\n",
      "2011\n",
      "http://greenbeltmd.granicus.com/GeneratedAgendaViewer.php?view_id=2\n",
      "Printing content causing IndexError:\n",
      "\tb'\\r\\n<!DOCTYPE html PUBLIC \"-//W3C//DTD XHTML 1.0 Transitional//EN\" \"https://www.w3.org/TR/xhtml1/DTD/xhtml1-transitional.dtd\">\\r\\n<html xmlns=\"http://www.w3.org/1999/xhtml\">\\r\\n<head id=\"Head1\"><title>\\r\\n\\t404 - Page Not Found\\r\\n</title><link href=\"../App_Themes/404/404.css\" type=\"text/css\" rel=\"stylesheet\" /></head>\\r\\n<script type=\"text/javascript\">\\r\\nfunction breakOut()\\r\\n{\\r\\n    if (top.location != location) {\\r\\n        top.location.href = document.location.href;\\r\\n    }\\r\\n}\\r\\n</script>\\r\\n<body onload=\"breakOut()\">\\r\\n\\r\\n<h1>Oops! <span>This link does not exist.</span> <a href=\"javascript:history.go(-1)\">&laquo; Go Back</a></h1>\\r\\n\\r\\n\\r\\n\\r\\n<h3>What happened? <span>List of possible reasons</span></h3>\\r\\n\\r\\n<ul>\\r\\n\\t<li>You entered the wrong URL</li>\\r\\n\\t<li>The link to this page is incorrect</li>\\r\\n\\t<li>The link you are trying to visit no longer exists</li>\\r\\n</ul>\\r\\n\\r\\n<div class=\"back\"><a href=\"javascript:history.go(-1)\">&laquo; Go Back</a></div>\\r\\n</body>\\r\\n</html>\\r\\n'\n",
      "2011\n",
      "http://greenbeltmd.granicus.com/GeneratedAgendaViewer.php?view_id=2\n",
      "Printing content causing IndexError:\n",
      "\tb'\\r\\n<!DOCTYPE html PUBLIC \"-//W3C//DTD XHTML 1.0 Transitional//EN\" \"https://www.w3.org/TR/xhtml1/DTD/xhtml1-transitional.dtd\">\\r\\n<html xmlns=\"http://www.w3.org/1999/xhtml\">\\r\\n<head id=\"Head1\"><title>\\r\\n\\t404 - Page Not Found\\r\\n</title><link href=\"../App_Themes/404/404.css\" type=\"text/css\" rel=\"stylesheet\" /></head>\\r\\n<script type=\"text/javascript\">\\r\\nfunction breakOut()\\r\\n{\\r\\n    if (top.location != location) {\\r\\n        top.location.href = document.location.href;\\r\\n    }\\r\\n}\\r\\n</script>\\r\\n<body onload=\"breakOut()\">\\r\\n\\r\\n<h1>Oops! <span>This link does not exist.</span> <a href=\"javascript:history.go(-1)\">&laquo; Go Back</a></h1>\\r\\n\\r\\n\\r\\n\\r\\n<h3>What happened? <span>List of possible reasons</span></h3>\\r\\n\\r\\n<ul>\\r\\n\\t<li>You entered the wrong URL</li>\\r\\n\\t<li>The link to this page is incorrect</li>\\r\\n\\t<li>The link you are trying to visit no longer exists</li>\\r\\n</ul>\\r\\n\\r\\n<div class=\"back\"><a href=\"javascript:history.go(-1)\">&laquo; Go Back</a></div>\\r\\n</body>\\r\\n</html>\\r\\n'\n",
      "2011\n",
      "http://greenbeltmd.granicus.com/GeneratedAgendaViewer.php?view_id=2\n",
      "Printing content causing IndexError:\n",
      "\tb'\\r\\n<!DOCTYPE html PUBLIC \"-//W3C//DTD XHTML 1.0 Transitional//EN\" \"https://www.w3.org/TR/xhtml1/DTD/xhtml1-transitional.dtd\">\\r\\n<html xmlns=\"http://www.w3.org/1999/xhtml\">\\r\\n<head id=\"Head1\"><title>\\r\\n\\t404 - Page Not Found\\r\\n</title><link href=\"../App_Themes/404/404.css\" type=\"text/css\" rel=\"stylesheet\" /></head>\\r\\n<script type=\"text/javascript\">\\r\\nfunction breakOut()\\r\\n{\\r\\n    if (top.location != location) {\\r\\n        top.location.href = document.location.href;\\r\\n    }\\r\\n}\\r\\n</script>\\r\\n<body onload=\"breakOut()\">\\r\\n\\r\\n<h1>Oops! <span>This link does not exist.</span> <a href=\"javascript:history.go(-1)\">&laquo; Go Back</a></h1>\\r\\n\\r\\n\\r\\n\\r\\n<h3>What happened? <span>List of possible reasons</span></h3>\\r\\n\\r\\n<ul>\\r\\n\\t<li>You entered the wrong URL</li>\\r\\n\\t<li>The link to this page is incorrect</li>\\r\\n\\t<li>The link you are trying to visit no longer exists</li>\\r\\n</ul>\\r\\n\\r\\n<div class=\"back\"><a href=\"javascript:history.go(-1)\">&laquo; Go Back</a></div>\\r\\n</body>\\r\\n</html>\\r\\n'\n",
      "2011\n",
      "http://greenbeltmd.granicus.com/GeneratedAgendaViewer.php?view_id=2\n",
      "Printing content causing IndexError:\n",
      "\tb'\\r\\n<!DOCTYPE html PUBLIC \"-//W3C//DTD XHTML 1.0 Transitional//EN\" \"https://www.w3.org/TR/xhtml1/DTD/xhtml1-transitional.dtd\">\\r\\n<html xmlns=\"http://www.w3.org/1999/xhtml\">\\r\\n<head id=\"Head1\"><title>\\r\\n\\t404 - Page Not Found\\r\\n</title><link href=\"../App_Themes/404/404.css\" type=\"text/css\" rel=\"stylesheet\" /></head>\\r\\n<script type=\"text/javascript\">\\r\\nfunction breakOut()\\r\\n{\\r\\n    if (top.location != location) {\\r\\n        top.location.href = document.location.href;\\r\\n    }\\r\\n}\\r\\n</script>\\r\\n<body onload=\"breakOut()\">\\r\\n\\r\\n<h1>Oops! <span>This link does not exist.</span> <a href=\"javascript:history.go(-1)\">&laquo; Go Back</a></h1>\\r\\n\\r\\n\\r\\n\\r\\n<h3>What happened? <span>List of possible reasons</span></h3>\\r\\n\\r\\n<ul>\\r\\n\\t<li>You entered the wrong URL</li>\\r\\n\\t<li>The link to this page is incorrect</li>\\r\\n\\t<li>The link you are trying to visit no longer exists</li>\\r\\n</ul>\\r\\n\\r\\n<div class=\"back\"><a href=\"javascript:history.go(-1)\">&laquo; Go Back</a></div>\\r\\n</body>\\r\\n</html>\\r\\n'\n",
      "2011\n",
      "http://greenbeltmd.granicus.com/GeneratedAgendaViewer.php?view_id=2\n",
      "Printing content causing IndexError:\n",
      "\tb'\\r\\n<!DOCTYPE html PUBLIC \"-//W3C//DTD XHTML 1.0 Transitional//EN\" \"https://www.w3.org/TR/xhtml1/DTD/xhtml1-transitional.dtd\">\\r\\n<html xmlns=\"http://www.w3.org/1999/xhtml\">\\r\\n<head id=\"Head1\"><title>\\r\\n\\t404 - Page Not Found\\r\\n</title><link href=\"../App_Themes/404/404.css\" type=\"text/css\" rel=\"stylesheet\" /></head>\\r\\n<script type=\"text/javascript\">\\r\\nfunction breakOut()\\r\\n{\\r\\n    if (top.location != location) {\\r\\n        top.location.href = document.location.href;\\r\\n    }\\r\\n}\\r\\n</script>\\r\\n<body onload=\"breakOut()\">\\r\\n\\r\\n<h1>Oops! <span>This link does not exist.</span> <a href=\"javascript:history.go(-1)\">&laquo; Go Back</a></h1>\\r\\n\\r\\n\\r\\n\\r\\n<h3>What happened? <span>List of possible reasons</span></h3>\\r\\n\\r\\n<ul>\\r\\n\\t<li>You entered the wrong URL</li>\\r\\n\\t<li>The link to this page is incorrect</li>\\r\\n\\t<li>The link you are trying to visit no longer exists</li>\\r\\n</ul>\\r\\n\\r\\n<div class=\"back\"><a href=\"javascript:history.go(-1)\">&laquo; Go Back</a></div>\\r\\n</body>\\r\\n</html>\\r\\n'\n",
      "2011\n",
      "http://greenbeltmd.granicus.com/GeneratedAgendaViewer.php?view_id=2\n",
      "Printing content causing IndexError:\n",
      "\tb'\\r\\n<!DOCTYPE html PUBLIC \"-//W3C//DTD XHTML 1.0 Transitional//EN\" \"https://www.w3.org/TR/xhtml1/DTD/xhtml1-transitional.dtd\">\\r\\n<html xmlns=\"http://www.w3.org/1999/xhtml\">\\r\\n<head id=\"Head1\"><title>\\r\\n\\t404 - Page Not Found\\r\\n</title><link href=\"../App_Themes/404/404.css\" type=\"text/css\" rel=\"stylesheet\" /></head>\\r\\n<script type=\"text/javascript\">\\r\\nfunction breakOut()\\r\\n{\\r\\n    if (top.location != location) {\\r\\n        top.location.href = document.location.href;\\r\\n    }\\r\\n}\\r\\n</script>\\r\\n<body onload=\"breakOut()\">\\r\\n\\r\\n<h1>Oops! <span>This link does not exist.</span> <a href=\"javascript:history.go(-1)\">&laquo; Go Back</a></h1>\\r\\n\\r\\n\\r\\n\\r\\n<h3>What happened? <span>List of possible reasons</span></h3>\\r\\n\\r\\n<ul>\\r\\n\\t<li>You entered the wrong URL</li>\\r\\n\\t<li>The link to this page is incorrect</li>\\r\\n\\t<li>The link you are trying to visit no longer exists</li>\\r\\n</ul>\\r\\n\\r\\n<div class=\"back\"><a href=\"javascript:history.go(-1)\">&laquo; Go Back</a></div>\\r\\n</body>\\r\\n</html>\\r\\n'\n"
     ]
    },
    {
     "name": "stdout",
     "output_type": "stream",
     "text": [
      "2011\n",
      "http://greenbeltmd.granicus.com/GeneratedAgendaViewer.php?view_id=2\n",
      "Printing content causing IndexError:\n",
      "\tb'\\r\\n<!DOCTYPE html PUBLIC \"-//W3C//DTD XHTML 1.0 Transitional//EN\" \"https://www.w3.org/TR/xhtml1/DTD/xhtml1-transitional.dtd\">\\r\\n<html xmlns=\"http://www.w3.org/1999/xhtml\">\\r\\n<head id=\"Head1\"><title>\\r\\n\\t404 - Page Not Found\\r\\n</title><link href=\"../App_Themes/404/404.css\" type=\"text/css\" rel=\"stylesheet\" /></head>\\r\\n<script type=\"text/javascript\">\\r\\nfunction breakOut()\\r\\n{\\r\\n    if (top.location != location) {\\r\\n        top.location.href = document.location.href;\\r\\n    }\\r\\n}\\r\\n</script>\\r\\n<body onload=\"breakOut()\">\\r\\n\\r\\n<h1>Oops! <span>This link does not exist.</span> <a href=\"javascript:history.go(-1)\">&laquo; Go Back</a></h1>\\r\\n\\r\\n\\r\\n\\r\\n<h3>What happened? <span>List of possible reasons</span></h3>\\r\\n\\r\\n<ul>\\r\\n\\t<li>You entered the wrong URL</li>\\r\\n\\t<li>The link to this page is incorrect</li>\\r\\n\\t<li>The link you are trying to visit no longer exists</li>\\r\\n</ul>\\r\\n\\r\\n<div class=\"back\"><a href=\"javascript:history.go(-1)\">&laquo; Go Back</a></div>\\r\\n</body>\\r\\n</html>\\r\\n'\n",
      "2011\n",
      "http://greenbeltmd.granicus.com/GeneratedAgendaViewer.php?view_id=2\n",
      "Printing content causing IndexError:\n",
      "\tb'\\r\\n<!DOCTYPE html PUBLIC \"-//W3C//DTD XHTML 1.0 Transitional//EN\" \"https://www.w3.org/TR/xhtml1/DTD/xhtml1-transitional.dtd\">\\r\\n<html xmlns=\"http://www.w3.org/1999/xhtml\">\\r\\n<head id=\"Head1\"><title>\\r\\n\\t404 - Page Not Found\\r\\n</title><link href=\"../App_Themes/404/404.css\" type=\"text/css\" rel=\"stylesheet\" /></head>\\r\\n<script type=\"text/javascript\">\\r\\nfunction breakOut()\\r\\n{\\r\\n    if (top.location != location) {\\r\\n        top.location.href = document.location.href;\\r\\n    }\\r\\n}\\r\\n</script>\\r\\n<body onload=\"breakOut()\">\\r\\n\\r\\n<h1>Oops! <span>This link does not exist.</span> <a href=\"javascript:history.go(-1)\">&laquo; Go Back</a></h1>\\r\\n\\r\\n\\r\\n\\r\\n<h3>What happened? <span>List of possible reasons</span></h3>\\r\\n\\r\\n<ul>\\r\\n\\t<li>You entered the wrong URL</li>\\r\\n\\t<li>The link to this page is incorrect</li>\\r\\n\\t<li>The link you are trying to visit no longer exists</li>\\r\\n</ul>\\r\\n\\r\\n<div class=\"back\"><a href=\"javascript:history.go(-1)\">&laquo; Go Back</a></div>\\r\\n</body>\\r\\n</html>\\r\\n'\n",
      "2011\n",
      "http://greenbeltmd.granicus.com/GeneratedAgendaViewer.php?view_id=2\n",
      "Printing content causing IndexError:\n",
      "\tb'\\r\\n<!DOCTYPE html PUBLIC \"-//W3C//DTD XHTML 1.0 Transitional//EN\" \"https://www.w3.org/TR/xhtml1/DTD/xhtml1-transitional.dtd\">\\r\\n<html xmlns=\"http://www.w3.org/1999/xhtml\">\\r\\n<head id=\"Head1\"><title>\\r\\n\\t404 - Page Not Found\\r\\n</title><link href=\"../App_Themes/404/404.css\" type=\"text/css\" rel=\"stylesheet\" /></head>\\r\\n<script type=\"text/javascript\">\\r\\nfunction breakOut()\\r\\n{\\r\\n    if (top.location != location) {\\r\\n        top.location.href = document.location.href;\\r\\n    }\\r\\n}\\r\\n</script>\\r\\n<body onload=\"breakOut()\">\\r\\n\\r\\n<h1>Oops! <span>This link does not exist.</span> <a href=\"javascript:history.go(-1)\">&laquo; Go Back</a></h1>\\r\\n\\r\\n\\r\\n\\r\\n<h3>What happened? <span>List of possible reasons</span></h3>\\r\\n\\r\\n<ul>\\r\\n\\t<li>You entered the wrong URL</li>\\r\\n\\t<li>The link to this page is incorrect</li>\\r\\n\\t<li>The link you are trying to visit no longer exists</li>\\r\\n</ul>\\r\\n\\r\\n<div class=\"back\"><a href=\"javascript:history.go(-1)\">&laquo; Go Back</a></div>\\r\\n</body>\\r\\n</html>\\r\\n'\n",
      "2011\n",
      "http://greenbeltmd.granicus.com/GeneratedAgendaViewer.php?view_id=2\n",
      "Printing content causing IndexError:\n",
      "\tb'\\r\\n<!DOCTYPE html PUBLIC \"-//W3C//DTD XHTML 1.0 Transitional//EN\" \"https://www.w3.org/TR/xhtml1/DTD/xhtml1-transitional.dtd\">\\r\\n<html xmlns=\"http://www.w3.org/1999/xhtml\">\\r\\n<head id=\"Head1\"><title>\\r\\n\\t404 - Page Not Found\\r\\n</title><link href=\"../App_Themes/404/404.css\" type=\"text/css\" rel=\"stylesheet\" /></head>\\r\\n<script type=\"text/javascript\">\\r\\nfunction breakOut()\\r\\n{\\r\\n    if (top.location != location) {\\r\\n        top.location.href = document.location.href;\\r\\n    }\\r\\n}\\r\\n</script>\\r\\n<body onload=\"breakOut()\">\\r\\n\\r\\n<h1>Oops! <span>This link does not exist.</span> <a href=\"javascript:history.go(-1)\">&laquo; Go Back</a></h1>\\r\\n\\r\\n\\r\\n\\r\\n<h3>What happened? <span>List of possible reasons</span></h3>\\r\\n\\r\\n<ul>\\r\\n\\t<li>You entered the wrong URL</li>\\r\\n\\t<li>The link to this page is incorrect</li>\\r\\n\\t<li>The link you are trying to visit no longer exists</li>\\r\\n</ul>\\r\\n\\r\\n<div class=\"back\"><a href=\"javascript:history.go(-1)\">&laquo; Go Back</a></div>\\r\\n</body>\\r\\n</html>\\r\\n'\n",
      "2011\n",
      "http://greenbeltmd.granicus.com/GeneratedAgendaViewer.php?view_id=2\n",
      "Printing content causing IndexError:\n",
      "\tb'\\r\\n<!DOCTYPE html PUBLIC \"-//W3C//DTD XHTML 1.0 Transitional//EN\" \"https://www.w3.org/TR/xhtml1/DTD/xhtml1-transitional.dtd\">\\r\\n<html xmlns=\"http://www.w3.org/1999/xhtml\">\\r\\n<head id=\"Head1\"><title>\\r\\n\\t404 - Page Not Found\\r\\n</title><link href=\"../App_Themes/404/404.css\" type=\"text/css\" rel=\"stylesheet\" /></head>\\r\\n<script type=\"text/javascript\">\\r\\nfunction breakOut()\\r\\n{\\r\\n    if (top.location != location) {\\r\\n        top.location.href = document.location.href;\\r\\n    }\\r\\n}\\r\\n</script>\\r\\n<body onload=\"breakOut()\">\\r\\n\\r\\n<h1>Oops! <span>This link does not exist.</span> <a href=\"javascript:history.go(-1)\">&laquo; Go Back</a></h1>\\r\\n\\r\\n\\r\\n\\r\\n<h3>What happened? <span>List of possible reasons</span></h3>\\r\\n\\r\\n<ul>\\r\\n\\t<li>You entered the wrong URL</li>\\r\\n\\t<li>The link to this page is incorrect</li>\\r\\n\\t<li>The link you are trying to visit no longer exists</li>\\r\\n</ul>\\r\\n\\r\\n<div class=\"back\"><a href=\"javascript:history.go(-1)\">&laquo; Go Back</a></div>\\r\\n</body>\\r\\n</html>\\r\\n'\n",
      "2011\n",
      "http://greenbeltmd.granicus.com/GeneratedAgendaViewer.php?view_id=2\n",
      "Printing content causing IndexError:\n",
      "\tb'\\r\\n<!DOCTYPE html PUBLIC \"-//W3C//DTD XHTML 1.0 Transitional//EN\" \"https://www.w3.org/TR/xhtml1/DTD/xhtml1-transitional.dtd\">\\r\\n<html xmlns=\"http://www.w3.org/1999/xhtml\">\\r\\n<head id=\"Head1\"><title>\\r\\n\\t404 - Page Not Found\\r\\n</title><link href=\"../App_Themes/404/404.css\" type=\"text/css\" rel=\"stylesheet\" /></head>\\r\\n<script type=\"text/javascript\">\\r\\nfunction breakOut()\\r\\n{\\r\\n    if (top.location != location) {\\r\\n        top.location.href = document.location.href;\\r\\n    }\\r\\n}\\r\\n</script>\\r\\n<body onload=\"breakOut()\">\\r\\n\\r\\n<h1>Oops! <span>This link does not exist.</span> <a href=\"javascript:history.go(-1)\">&laquo; Go Back</a></h1>\\r\\n\\r\\n\\r\\n\\r\\n<h3>What happened? <span>List of possible reasons</span></h3>\\r\\n\\r\\n<ul>\\r\\n\\t<li>You entered the wrong URL</li>\\r\\n\\t<li>The link to this page is incorrect</li>\\r\\n\\t<li>The link you are trying to visit no longer exists</li>\\r\\n</ul>\\r\\n\\r\\n<div class=\"back\"><a href=\"javascript:history.go(-1)\">&laquo; Go Back</a></div>\\r\\n</body>\\r\\n</html>\\r\\n'\n",
      "2011\n",
      "http://greenbeltmd.granicus.com/GeneratedAgendaViewer.php?view_id=2\n",
      "Printing content causing IndexError:\n",
      "\tb'\\r\\n<!DOCTYPE html PUBLIC \"-//W3C//DTD XHTML 1.0 Transitional//EN\" \"https://www.w3.org/TR/xhtml1/DTD/xhtml1-transitional.dtd\">\\r\\n<html xmlns=\"http://www.w3.org/1999/xhtml\">\\r\\n<head id=\"Head1\"><title>\\r\\n\\t404 - Page Not Found\\r\\n</title><link href=\"../App_Themes/404/404.css\" type=\"text/css\" rel=\"stylesheet\" /></head>\\r\\n<script type=\"text/javascript\">\\r\\nfunction breakOut()\\r\\n{\\r\\n    if (top.location != location) {\\r\\n        top.location.href = document.location.href;\\r\\n    }\\r\\n}\\r\\n</script>\\r\\n<body onload=\"breakOut()\">\\r\\n\\r\\n<h1>Oops! <span>This link does not exist.</span> <a href=\"javascript:history.go(-1)\">&laquo; Go Back</a></h1>\\r\\n\\r\\n\\r\\n\\r\\n<h3>What happened? <span>List of possible reasons</span></h3>\\r\\n\\r\\n<ul>\\r\\n\\t<li>You entered the wrong URL</li>\\r\\n\\t<li>The link to this page is incorrect</li>\\r\\n\\t<li>The link you are trying to visit no longer exists</li>\\r\\n</ul>\\r\\n\\r\\n<div class=\"back\"><a href=\"javascript:history.go(-1)\">&laquo; Go Back</a></div>\\r\\n</body>\\r\\n</html>\\r\\n'\n",
      "2011\n",
      "http://greenbeltmd.granicus.com/GeneratedAgendaViewer.php?view_id=2\n",
      "Printing content causing IndexError:\n",
      "\tb'\\r\\n<!DOCTYPE html PUBLIC \"-//W3C//DTD XHTML 1.0 Transitional//EN\" \"https://www.w3.org/TR/xhtml1/DTD/xhtml1-transitional.dtd\">\\r\\n<html xmlns=\"http://www.w3.org/1999/xhtml\">\\r\\n<head id=\"Head1\"><title>\\r\\n\\t404 - Page Not Found\\r\\n</title><link href=\"../App_Themes/404/404.css\" type=\"text/css\" rel=\"stylesheet\" /></head>\\r\\n<script type=\"text/javascript\">\\r\\nfunction breakOut()\\r\\n{\\r\\n    if (top.location != location) {\\r\\n        top.location.href = document.location.href;\\r\\n    }\\r\\n}\\r\\n</script>\\r\\n<body onload=\"breakOut()\">\\r\\n\\r\\n<h1>Oops! <span>This link does not exist.</span> <a href=\"javascript:history.go(-1)\">&laquo; Go Back</a></h1>\\r\\n\\r\\n\\r\\n\\r\\n<h3>What happened? <span>List of possible reasons</span></h3>\\r\\n\\r\\n<ul>\\r\\n\\t<li>You entered the wrong URL</li>\\r\\n\\t<li>The link to this page is incorrect</li>\\r\\n\\t<li>The link you are trying to visit no longer exists</li>\\r\\n</ul>\\r\\n\\r\\n<div class=\"back\"><a href=\"javascript:history.go(-1)\">&laquo; Go Back</a></div>\\r\\n</body>\\r\\n</html>\\r\\n'\n"
     ]
    },
    {
     "name": "stdout",
     "output_type": "stream",
     "text": [
      "2011\n",
      "http://greenbeltmd.granicus.com/GeneratedAgendaViewer.php?view_id=2\n",
      "Printing content causing IndexError:\n",
      "\tb'\\r\\n<!DOCTYPE html PUBLIC \"-//W3C//DTD XHTML 1.0 Transitional//EN\" \"https://www.w3.org/TR/xhtml1/DTD/xhtml1-transitional.dtd\">\\r\\n<html xmlns=\"http://www.w3.org/1999/xhtml\">\\r\\n<head id=\"Head1\"><title>\\r\\n\\t404 - Page Not Found\\r\\n</title><link href=\"../App_Themes/404/404.css\" type=\"text/css\" rel=\"stylesheet\" /></head>\\r\\n<script type=\"text/javascript\">\\r\\nfunction breakOut()\\r\\n{\\r\\n    if (top.location != location) {\\r\\n        top.location.href = document.location.href;\\r\\n    }\\r\\n}\\r\\n</script>\\r\\n<body onload=\"breakOut()\">\\r\\n\\r\\n<h1>Oops! <span>This link does not exist.</span> <a href=\"javascript:history.go(-1)\">&laquo; Go Back</a></h1>\\r\\n\\r\\n\\r\\n\\r\\n<h3>What happened? <span>List of possible reasons</span></h3>\\r\\n\\r\\n<ul>\\r\\n\\t<li>You entered the wrong URL</li>\\r\\n\\t<li>The link to this page is incorrect</li>\\r\\n\\t<li>The link you are trying to visit no longer exists</li>\\r\\n</ul>\\r\\n\\r\\n<div class=\"back\"><a href=\"javascript:history.go(-1)\">&laquo; Go Back</a></div>\\r\\n</body>\\r\\n</html>\\r\\n'\n",
      "2011\n",
      "http://greenbeltmd.granicus.com/GeneratedAgendaViewer.php?view_id=2\n",
      "Printing content causing IndexError:\n",
      "\tb'\\r\\n<!DOCTYPE html PUBLIC \"-//W3C//DTD XHTML 1.0 Transitional//EN\" \"https://www.w3.org/TR/xhtml1/DTD/xhtml1-transitional.dtd\">\\r\\n<html xmlns=\"http://www.w3.org/1999/xhtml\">\\r\\n<head id=\"Head1\"><title>\\r\\n\\t404 - Page Not Found\\r\\n</title><link href=\"../App_Themes/404/404.css\" type=\"text/css\" rel=\"stylesheet\" /></head>\\r\\n<script type=\"text/javascript\">\\r\\nfunction breakOut()\\r\\n{\\r\\n    if (top.location != location) {\\r\\n        top.location.href = document.location.href;\\r\\n    }\\r\\n}\\r\\n</script>\\r\\n<body onload=\"breakOut()\">\\r\\n\\r\\n<h1>Oops! <span>This link does not exist.</span> <a href=\"javascript:history.go(-1)\">&laquo; Go Back</a></h1>\\r\\n\\r\\n\\r\\n\\r\\n<h3>What happened? <span>List of possible reasons</span></h3>\\r\\n\\r\\n<ul>\\r\\n\\t<li>You entered the wrong URL</li>\\r\\n\\t<li>The link to this page is incorrect</li>\\r\\n\\t<li>The link you are trying to visit no longer exists</li>\\r\\n</ul>\\r\\n\\r\\n<div class=\"back\"><a href=\"javascript:history.go(-1)\">&laquo; Go Back</a></div>\\r\\n</body>\\r\\n</html>\\r\\n'\n",
      "2011\n",
      "http://greenbeltmd.granicus.com/GeneratedAgendaViewer.php?view_id=2\n",
      "Printing content causing IndexError:\n",
      "\tb'\\r\\n<!DOCTYPE html PUBLIC \"-//W3C//DTD XHTML 1.0 Transitional//EN\" \"https://www.w3.org/TR/xhtml1/DTD/xhtml1-transitional.dtd\">\\r\\n<html xmlns=\"http://www.w3.org/1999/xhtml\">\\r\\n<head id=\"Head1\"><title>\\r\\n\\t404 - Page Not Found\\r\\n</title><link href=\"../App_Themes/404/404.css\" type=\"text/css\" rel=\"stylesheet\" /></head>\\r\\n<script type=\"text/javascript\">\\r\\nfunction breakOut()\\r\\n{\\r\\n    if (top.location != location) {\\r\\n        top.location.href = document.location.href;\\r\\n    }\\r\\n}\\r\\n</script>\\r\\n<body onload=\"breakOut()\">\\r\\n\\r\\n<h1>Oops! <span>This link does not exist.</span> <a href=\"javascript:history.go(-1)\">&laquo; Go Back</a></h1>\\r\\n\\r\\n\\r\\n\\r\\n<h3>What happened? <span>List of possible reasons</span></h3>\\r\\n\\r\\n<ul>\\r\\n\\t<li>You entered the wrong URL</li>\\r\\n\\t<li>The link to this page is incorrect</li>\\r\\n\\t<li>The link you are trying to visit no longer exists</li>\\r\\n</ul>\\r\\n\\r\\n<div class=\"back\"><a href=\"javascript:history.go(-1)\">&laquo; Go Back</a></div>\\r\\n</body>\\r\\n</html>\\r\\n'\n",
      "2010\n",
      "http://greenbeltmd.granicus.com/GeneratedAgendaViewer.php?view_id=2\n",
      "Printing content causing IndexError:\n",
      "\tb'\\r\\n<!DOCTYPE html PUBLIC \"-//W3C//DTD XHTML 1.0 Transitional//EN\" \"https://www.w3.org/TR/xhtml1/DTD/xhtml1-transitional.dtd\">\\r\\n<html xmlns=\"http://www.w3.org/1999/xhtml\">\\r\\n<head id=\"Head1\"><title>\\r\\n\\t404 - Page Not Found\\r\\n</title><link href=\"../App_Themes/404/404.css\" type=\"text/css\" rel=\"stylesheet\" /></head>\\r\\n<script type=\"text/javascript\">\\r\\nfunction breakOut()\\r\\n{\\r\\n    if (top.location != location) {\\r\\n        top.location.href = document.location.href;\\r\\n    }\\r\\n}\\r\\n</script>\\r\\n<body onload=\"breakOut()\">\\r\\n\\r\\n<h1>Oops! <span>This link does not exist.</span> <a href=\"javascript:history.go(-1)\">&laquo; Go Back</a></h1>\\r\\n\\r\\n\\r\\n\\r\\n<h3>What happened? <span>List of possible reasons</span></h3>\\r\\n\\r\\n<ul>\\r\\n\\t<li>You entered the wrong URL</li>\\r\\n\\t<li>The link to this page is incorrect</li>\\r\\n\\t<li>The link you are trying to visit no longer exists</li>\\r\\n</ul>\\r\\n\\r\\n<div class=\"back\"><a href=\"javascript:history.go(-1)\">&laquo; Go Back</a></div>\\r\\n</body>\\r\\n</html>\\r\\n'\n",
      "2010\n",
      "http://greenbeltmd.granicus.com/GeneratedAgendaViewer.php?view_id=2\n",
      "Printing content causing IndexError:\n",
      "\tb'\\r\\n<!DOCTYPE html PUBLIC \"-//W3C//DTD XHTML 1.0 Transitional//EN\" \"https://www.w3.org/TR/xhtml1/DTD/xhtml1-transitional.dtd\">\\r\\n<html xmlns=\"http://www.w3.org/1999/xhtml\">\\r\\n<head id=\"Head1\"><title>\\r\\n\\t404 - Page Not Found\\r\\n</title><link href=\"../App_Themes/404/404.css\" type=\"text/css\" rel=\"stylesheet\" /></head>\\r\\n<script type=\"text/javascript\">\\r\\nfunction breakOut()\\r\\n{\\r\\n    if (top.location != location) {\\r\\n        top.location.href = document.location.href;\\r\\n    }\\r\\n}\\r\\n</script>\\r\\n<body onload=\"breakOut()\">\\r\\n\\r\\n<h1>Oops! <span>This link does not exist.</span> <a href=\"javascript:history.go(-1)\">&laquo; Go Back</a></h1>\\r\\n\\r\\n\\r\\n\\r\\n<h3>What happened? <span>List of possible reasons</span></h3>\\r\\n\\r\\n<ul>\\r\\n\\t<li>You entered the wrong URL</li>\\r\\n\\t<li>The link to this page is incorrect</li>\\r\\n\\t<li>The link you are trying to visit no longer exists</li>\\r\\n</ul>\\r\\n\\r\\n<div class=\"back\"><a href=\"javascript:history.go(-1)\">&laquo; Go Back</a></div>\\r\\n</body>\\r\\n</html>\\r\\n'\n",
      "2010\n",
      "http://greenbeltmd.granicus.com/GeneratedAgendaViewer.php?view_id=2\n",
      "Printing content causing IndexError:\n",
      "\tb'\\r\\n<!DOCTYPE html PUBLIC \"-//W3C//DTD XHTML 1.0 Transitional//EN\" \"https://www.w3.org/TR/xhtml1/DTD/xhtml1-transitional.dtd\">\\r\\n<html xmlns=\"http://www.w3.org/1999/xhtml\">\\r\\n<head id=\"Head1\"><title>\\r\\n\\t404 - Page Not Found\\r\\n</title><link href=\"../App_Themes/404/404.css\" type=\"text/css\" rel=\"stylesheet\" /></head>\\r\\n<script type=\"text/javascript\">\\r\\nfunction breakOut()\\r\\n{\\r\\n    if (top.location != location) {\\r\\n        top.location.href = document.location.href;\\r\\n    }\\r\\n}\\r\\n</script>\\r\\n<body onload=\"breakOut()\">\\r\\n\\r\\n<h1>Oops! <span>This link does not exist.</span> <a href=\"javascript:history.go(-1)\">&laquo; Go Back</a></h1>\\r\\n\\r\\n\\r\\n\\r\\n<h3>What happened? <span>List of possible reasons</span></h3>\\r\\n\\r\\n<ul>\\r\\n\\t<li>You entered the wrong URL</li>\\r\\n\\t<li>The link to this page is incorrect</li>\\r\\n\\t<li>The link you are trying to visit no longer exists</li>\\r\\n</ul>\\r\\n\\r\\n<div class=\"back\"><a href=\"javascript:history.go(-1)\">&laquo; Go Back</a></div>\\r\\n</body>\\r\\n</html>\\r\\n'\n",
      "2010\n",
      "http://greenbeltmd.granicus.com/GeneratedAgendaViewer.php?view_id=2\n",
      "Printing content causing IndexError:\n",
      "\tb'\\r\\n<!DOCTYPE html PUBLIC \"-//W3C//DTD XHTML 1.0 Transitional//EN\" \"https://www.w3.org/TR/xhtml1/DTD/xhtml1-transitional.dtd\">\\r\\n<html xmlns=\"http://www.w3.org/1999/xhtml\">\\r\\n<head id=\"Head1\"><title>\\r\\n\\t404 - Page Not Found\\r\\n</title><link href=\"../App_Themes/404/404.css\" type=\"text/css\" rel=\"stylesheet\" /></head>\\r\\n<script type=\"text/javascript\">\\r\\nfunction breakOut()\\r\\n{\\r\\n    if (top.location != location) {\\r\\n        top.location.href = document.location.href;\\r\\n    }\\r\\n}\\r\\n</script>\\r\\n<body onload=\"breakOut()\">\\r\\n\\r\\n<h1>Oops! <span>This link does not exist.</span> <a href=\"javascript:history.go(-1)\">&laquo; Go Back</a></h1>\\r\\n\\r\\n\\r\\n\\r\\n<h3>What happened? <span>List of possible reasons</span></h3>\\r\\n\\r\\n<ul>\\r\\n\\t<li>You entered the wrong URL</li>\\r\\n\\t<li>The link to this page is incorrect</li>\\r\\n\\t<li>The link you are trying to visit no longer exists</li>\\r\\n</ul>\\r\\n\\r\\n<div class=\"back\"><a href=\"javascript:history.go(-1)\">&laquo; Go Back</a></div>\\r\\n</body>\\r\\n</html>\\r\\n'\n",
      "2010\n",
      "http://greenbeltmd.granicus.com/GeneratedAgendaViewer.php?view_id=2\n",
      "Printing content causing IndexError:\n",
      "\tb'\\r\\n<!DOCTYPE html PUBLIC \"-//W3C//DTD XHTML 1.0 Transitional//EN\" \"https://www.w3.org/TR/xhtml1/DTD/xhtml1-transitional.dtd\">\\r\\n<html xmlns=\"http://www.w3.org/1999/xhtml\">\\r\\n<head id=\"Head1\"><title>\\r\\n\\t404 - Page Not Found\\r\\n</title><link href=\"../App_Themes/404/404.css\" type=\"text/css\" rel=\"stylesheet\" /></head>\\r\\n<script type=\"text/javascript\">\\r\\nfunction breakOut()\\r\\n{\\r\\n    if (top.location != location) {\\r\\n        top.location.href = document.location.href;\\r\\n    }\\r\\n}\\r\\n</script>\\r\\n<body onload=\"breakOut()\">\\r\\n\\r\\n<h1>Oops! <span>This link does not exist.</span> <a href=\"javascript:history.go(-1)\">&laquo; Go Back</a></h1>\\r\\n\\r\\n\\r\\n\\r\\n<h3>What happened? <span>List of possible reasons</span></h3>\\r\\n\\r\\n<ul>\\r\\n\\t<li>You entered the wrong URL</li>\\r\\n\\t<li>The link to this page is incorrect</li>\\r\\n\\t<li>The link you are trying to visit no longer exists</li>\\r\\n</ul>\\r\\n\\r\\n<div class=\"back\"><a href=\"javascript:history.go(-1)\">&laquo; Go Back</a></div>\\r\\n</body>\\r\\n</html>\\r\\n'\n"
     ]
    },
    {
     "name": "stdout",
     "output_type": "stream",
     "text": [
      "2010\n",
      "http://greenbeltmd.granicus.com/GeneratedAgendaViewer.php?view_id=2\n",
      "Printing content causing IndexError:\n",
      "\tb'\\r\\n<!DOCTYPE html PUBLIC \"-//W3C//DTD XHTML 1.0 Transitional//EN\" \"https://www.w3.org/TR/xhtml1/DTD/xhtml1-transitional.dtd\">\\r\\n<html xmlns=\"http://www.w3.org/1999/xhtml\">\\r\\n<head id=\"Head1\"><title>\\r\\n\\t404 - Page Not Found\\r\\n</title><link href=\"../App_Themes/404/404.css\" type=\"text/css\" rel=\"stylesheet\" /></head>\\r\\n<script type=\"text/javascript\">\\r\\nfunction breakOut()\\r\\n{\\r\\n    if (top.location != location) {\\r\\n        top.location.href = document.location.href;\\r\\n    }\\r\\n}\\r\\n</script>\\r\\n<body onload=\"breakOut()\">\\r\\n\\r\\n<h1>Oops! <span>This link does not exist.</span> <a href=\"javascript:history.go(-1)\">&laquo; Go Back</a></h1>\\r\\n\\r\\n\\r\\n\\r\\n<h3>What happened? <span>List of possible reasons</span></h3>\\r\\n\\r\\n<ul>\\r\\n\\t<li>You entered the wrong URL</li>\\r\\n\\t<li>The link to this page is incorrect</li>\\r\\n\\t<li>The link you are trying to visit no longer exists</li>\\r\\n</ul>\\r\\n\\r\\n<div class=\"back\"><a href=\"javascript:history.go(-1)\">&laquo; Go Back</a></div>\\r\\n</body>\\r\\n</html>\\r\\n'\n",
      "2010\n",
      "http://greenbeltmd.granicus.com/GeneratedAgendaViewer.php?view_id=2\n",
      "Printing content causing IndexError:\n",
      "\tb'\\r\\n<!DOCTYPE html PUBLIC \"-//W3C//DTD XHTML 1.0 Transitional//EN\" \"https://www.w3.org/TR/xhtml1/DTD/xhtml1-transitional.dtd\">\\r\\n<html xmlns=\"http://www.w3.org/1999/xhtml\">\\r\\n<head id=\"Head1\"><title>\\r\\n\\t404 - Page Not Found\\r\\n</title><link href=\"../App_Themes/404/404.css\" type=\"text/css\" rel=\"stylesheet\" /></head>\\r\\n<script type=\"text/javascript\">\\r\\nfunction breakOut()\\r\\n{\\r\\n    if (top.location != location) {\\r\\n        top.location.href = document.location.href;\\r\\n    }\\r\\n}\\r\\n</script>\\r\\n<body onload=\"breakOut()\">\\r\\n\\r\\n<h1>Oops! <span>This link does not exist.</span> <a href=\"javascript:history.go(-1)\">&laquo; Go Back</a></h1>\\r\\n\\r\\n\\r\\n\\r\\n<h3>What happened? <span>List of possible reasons</span></h3>\\r\\n\\r\\n<ul>\\r\\n\\t<li>You entered the wrong URL</li>\\r\\n\\t<li>The link to this page is incorrect</li>\\r\\n\\t<li>The link you are trying to visit no longer exists</li>\\r\\n</ul>\\r\\n\\r\\n<div class=\"back\"><a href=\"javascript:history.go(-1)\">&laquo; Go Back</a></div>\\r\\n</body>\\r\\n</html>\\r\\n'\n",
      "2010\n",
      "http://greenbeltmd.granicus.com/GeneratedAgendaViewer.php?view_id=2\n",
      "Printing content causing IndexError:\n",
      "\tb'\\r\\n<!DOCTYPE html PUBLIC \"-//W3C//DTD XHTML 1.0 Transitional//EN\" \"https://www.w3.org/TR/xhtml1/DTD/xhtml1-transitional.dtd\">\\r\\n<html xmlns=\"http://www.w3.org/1999/xhtml\">\\r\\n<head id=\"Head1\"><title>\\r\\n\\t404 - Page Not Found\\r\\n</title><link href=\"../App_Themes/404/404.css\" type=\"text/css\" rel=\"stylesheet\" /></head>\\r\\n<script type=\"text/javascript\">\\r\\nfunction breakOut()\\r\\n{\\r\\n    if (top.location != location) {\\r\\n        top.location.href = document.location.href;\\r\\n    }\\r\\n}\\r\\n</script>\\r\\n<body onload=\"breakOut()\">\\r\\n\\r\\n<h1>Oops! <span>This link does not exist.</span> <a href=\"javascript:history.go(-1)\">&laquo; Go Back</a></h1>\\r\\n\\r\\n\\r\\n\\r\\n<h3>What happened? <span>List of possible reasons</span></h3>\\r\\n\\r\\n<ul>\\r\\n\\t<li>You entered the wrong URL</li>\\r\\n\\t<li>The link to this page is incorrect</li>\\r\\n\\t<li>The link you are trying to visit no longer exists</li>\\r\\n</ul>\\r\\n\\r\\n<div class=\"back\"><a href=\"javascript:history.go(-1)\">&laquo; Go Back</a></div>\\r\\n</body>\\r\\n</html>\\r\\n'\n",
      "2010\n",
      "http://greenbeltmd.granicus.com/GeneratedAgendaViewer.php?view_id=2\n",
      "Printing content causing IndexError:\n",
      "\tb'\\r\\n<!DOCTYPE html PUBLIC \"-//W3C//DTD XHTML 1.0 Transitional//EN\" \"https://www.w3.org/TR/xhtml1/DTD/xhtml1-transitional.dtd\">\\r\\n<html xmlns=\"http://www.w3.org/1999/xhtml\">\\r\\n<head id=\"Head1\"><title>\\r\\n\\t404 - Page Not Found\\r\\n</title><link href=\"../App_Themes/404/404.css\" type=\"text/css\" rel=\"stylesheet\" /></head>\\r\\n<script type=\"text/javascript\">\\r\\nfunction breakOut()\\r\\n{\\r\\n    if (top.location != location) {\\r\\n        top.location.href = document.location.href;\\r\\n    }\\r\\n}\\r\\n</script>\\r\\n<body onload=\"breakOut()\">\\r\\n\\r\\n<h1>Oops! <span>This link does not exist.</span> <a href=\"javascript:history.go(-1)\">&laquo; Go Back</a></h1>\\r\\n\\r\\n\\r\\n\\r\\n<h3>What happened? <span>List of possible reasons</span></h3>\\r\\n\\r\\n<ul>\\r\\n\\t<li>You entered the wrong URL</li>\\r\\n\\t<li>The link to this page is incorrect</li>\\r\\n\\t<li>The link you are trying to visit no longer exists</li>\\r\\n</ul>\\r\\n\\r\\n<div class=\"back\"><a href=\"javascript:history.go(-1)\">&laquo; Go Back</a></div>\\r\\n</body>\\r\\n</html>\\r\\n'\n",
      "2010\n",
      "http://greenbeltmd.granicus.com/GeneratedAgendaViewer.php?view_id=2\n",
      "Printing content causing IndexError:\n",
      "\tb'\\r\\n<!DOCTYPE html PUBLIC \"-//W3C//DTD XHTML 1.0 Transitional//EN\" \"https://www.w3.org/TR/xhtml1/DTD/xhtml1-transitional.dtd\">\\r\\n<html xmlns=\"http://www.w3.org/1999/xhtml\">\\r\\n<head id=\"Head1\"><title>\\r\\n\\t404 - Page Not Found\\r\\n</title><link href=\"../App_Themes/404/404.css\" type=\"text/css\" rel=\"stylesheet\" /></head>\\r\\n<script type=\"text/javascript\">\\r\\nfunction breakOut()\\r\\n{\\r\\n    if (top.location != location) {\\r\\n        top.location.href = document.location.href;\\r\\n    }\\r\\n}\\r\\n</script>\\r\\n<body onload=\"breakOut()\">\\r\\n\\r\\n<h1>Oops! <span>This link does not exist.</span> <a href=\"javascript:history.go(-1)\">&laquo; Go Back</a></h1>\\r\\n\\r\\n\\r\\n\\r\\n<h3>What happened? <span>List of possible reasons</span></h3>\\r\\n\\r\\n<ul>\\r\\n\\t<li>You entered the wrong URL</li>\\r\\n\\t<li>The link to this page is incorrect</li>\\r\\n\\t<li>The link you are trying to visit no longer exists</li>\\r\\n</ul>\\r\\n\\r\\n<div class=\"back\"><a href=\"javascript:history.go(-1)\">&laquo; Go Back</a></div>\\r\\n</body>\\r\\n</html>\\r\\n'\n",
      "2010\n",
      "http://greenbeltmd.granicus.com/GeneratedAgendaViewer.php?view_id=2\n",
      "Printing content causing IndexError:\n",
      "\tb'\\r\\n<!DOCTYPE html PUBLIC \"-//W3C//DTD XHTML 1.0 Transitional//EN\" \"https://www.w3.org/TR/xhtml1/DTD/xhtml1-transitional.dtd\">\\r\\n<html xmlns=\"http://www.w3.org/1999/xhtml\">\\r\\n<head id=\"Head1\"><title>\\r\\n\\t404 - Page Not Found\\r\\n</title><link href=\"../App_Themes/404/404.css\" type=\"text/css\" rel=\"stylesheet\" /></head>\\r\\n<script type=\"text/javascript\">\\r\\nfunction breakOut()\\r\\n{\\r\\n    if (top.location != location) {\\r\\n        top.location.href = document.location.href;\\r\\n    }\\r\\n}\\r\\n</script>\\r\\n<body onload=\"breakOut()\">\\r\\n\\r\\n<h1>Oops! <span>This link does not exist.</span> <a href=\"javascript:history.go(-1)\">&laquo; Go Back</a></h1>\\r\\n\\r\\n\\r\\n\\r\\n<h3>What happened? <span>List of possible reasons</span></h3>\\r\\n\\r\\n<ul>\\r\\n\\t<li>You entered the wrong URL</li>\\r\\n\\t<li>The link to this page is incorrect</li>\\r\\n\\t<li>The link you are trying to visit no longer exists</li>\\r\\n</ul>\\r\\n\\r\\n<div class=\"back\"><a href=\"javascript:history.go(-1)\">&laquo; Go Back</a></div>\\r\\n</body>\\r\\n</html>\\r\\n'\n",
      "2010\n",
      "http://greenbeltmd.granicus.com/GeneratedAgendaViewer.php?view_id=2\n",
      "Printing content causing IndexError:\n",
      "\tb'\\r\\n<!DOCTYPE html PUBLIC \"-//W3C//DTD XHTML 1.0 Transitional//EN\" \"https://www.w3.org/TR/xhtml1/DTD/xhtml1-transitional.dtd\">\\r\\n<html xmlns=\"http://www.w3.org/1999/xhtml\">\\r\\n<head id=\"Head1\"><title>\\r\\n\\t404 - Page Not Found\\r\\n</title><link href=\"../App_Themes/404/404.css\" type=\"text/css\" rel=\"stylesheet\" /></head>\\r\\n<script type=\"text/javascript\">\\r\\nfunction breakOut()\\r\\n{\\r\\n    if (top.location != location) {\\r\\n        top.location.href = document.location.href;\\r\\n    }\\r\\n}\\r\\n</script>\\r\\n<body onload=\"breakOut()\">\\r\\n\\r\\n<h1>Oops! <span>This link does not exist.</span> <a href=\"javascript:history.go(-1)\">&laquo; Go Back</a></h1>\\r\\n\\r\\n\\r\\n\\r\\n<h3>What happened? <span>List of possible reasons</span></h3>\\r\\n\\r\\n<ul>\\r\\n\\t<li>You entered the wrong URL</li>\\r\\n\\t<li>The link to this page is incorrect</li>\\r\\n\\t<li>The link you are trying to visit no longer exists</li>\\r\\n</ul>\\r\\n\\r\\n<div class=\"back\"><a href=\"javascript:history.go(-1)\">&laquo; Go Back</a></div>\\r\\n</body>\\r\\n</html>\\r\\n'\n",
      "2010\n",
      "http://greenbeltmd.granicus.com/GeneratedAgendaViewer.php?view_id=2\n",
      "Printing content causing IndexError:\n",
      "\tb'\\r\\n<!DOCTYPE html PUBLIC \"-//W3C//DTD XHTML 1.0 Transitional//EN\" \"https://www.w3.org/TR/xhtml1/DTD/xhtml1-transitional.dtd\">\\r\\n<html xmlns=\"http://www.w3.org/1999/xhtml\">\\r\\n<head id=\"Head1\"><title>\\r\\n\\t404 - Page Not Found\\r\\n</title><link href=\"../App_Themes/404/404.css\" type=\"text/css\" rel=\"stylesheet\" /></head>\\r\\n<script type=\"text/javascript\">\\r\\nfunction breakOut()\\r\\n{\\r\\n    if (top.location != location) {\\r\\n        top.location.href = document.location.href;\\r\\n    }\\r\\n}\\r\\n</script>\\r\\n<body onload=\"breakOut()\">\\r\\n\\r\\n<h1>Oops! <span>This link does not exist.</span> <a href=\"javascript:history.go(-1)\">&laquo; Go Back</a></h1>\\r\\n\\r\\n\\r\\n\\r\\n<h3>What happened? <span>List of possible reasons</span></h3>\\r\\n\\r\\n<ul>\\r\\n\\t<li>You entered the wrong URL</li>\\r\\n\\t<li>The link to this page is incorrect</li>\\r\\n\\t<li>The link you are trying to visit no longer exists</li>\\r\\n</ul>\\r\\n\\r\\n<div class=\"back\"><a href=\"javascript:history.go(-1)\">&laquo; Go Back</a></div>\\r\\n</body>\\r\\n</html>\\r\\n'\n"
     ]
    },
    {
     "name": "stdout",
     "output_type": "stream",
     "text": [
      "2010\n",
      "http://greenbeltmd.granicus.com/GeneratedAgendaViewer.php?view_id=2\n",
      "Printing content causing IndexError:\n",
      "\tb'\\r\\n<!DOCTYPE html PUBLIC \"-//W3C//DTD XHTML 1.0 Transitional//EN\" \"https://www.w3.org/TR/xhtml1/DTD/xhtml1-transitional.dtd\">\\r\\n<html xmlns=\"http://www.w3.org/1999/xhtml\">\\r\\n<head id=\"Head1\"><title>\\r\\n\\t404 - Page Not Found\\r\\n</title><link href=\"../App_Themes/404/404.css\" type=\"text/css\" rel=\"stylesheet\" /></head>\\r\\n<script type=\"text/javascript\">\\r\\nfunction breakOut()\\r\\n{\\r\\n    if (top.location != location) {\\r\\n        top.location.href = document.location.href;\\r\\n    }\\r\\n}\\r\\n</script>\\r\\n<body onload=\"breakOut()\">\\r\\n\\r\\n<h1>Oops! <span>This link does not exist.</span> <a href=\"javascript:history.go(-1)\">&laquo; Go Back</a></h1>\\r\\n\\r\\n\\r\\n\\r\\n<h3>What happened? <span>List of possible reasons</span></h3>\\r\\n\\r\\n<ul>\\r\\n\\t<li>You entered the wrong URL</li>\\r\\n\\t<li>The link to this page is incorrect</li>\\r\\n\\t<li>The link you are trying to visit no longer exists</li>\\r\\n</ul>\\r\\n\\r\\n<div class=\"back\"><a href=\"javascript:history.go(-1)\">&laquo; Go Back</a></div>\\r\\n</body>\\r\\n</html>\\r\\n'\n",
      "2010\n",
      "http://greenbeltmd.granicus.com/GeneratedAgendaViewer.php?view_id=2\n",
      "Printing content causing IndexError:\n",
      "\tb'\\r\\n<!DOCTYPE html PUBLIC \"-//W3C//DTD XHTML 1.0 Transitional//EN\" \"https://www.w3.org/TR/xhtml1/DTD/xhtml1-transitional.dtd\">\\r\\n<html xmlns=\"http://www.w3.org/1999/xhtml\">\\r\\n<head id=\"Head1\"><title>\\r\\n\\t404 - Page Not Found\\r\\n</title><link href=\"../App_Themes/404/404.css\" type=\"text/css\" rel=\"stylesheet\" /></head>\\r\\n<script type=\"text/javascript\">\\r\\nfunction breakOut()\\r\\n{\\r\\n    if (top.location != location) {\\r\\n        top.location.href = document.location.href;\\r\\n    }\\r\\n}\\r\\n</script>\\r\\n<body onload=\"breakOut()\">\\r\\n\\r\\n<h1>Oops! <span>This link does not exist.</span> <a href=\"javascript:history.go(-1)\">&laquo; Go Back</a></h1>\\r\\n\\r\\n\\r\\n\\r\\n<h3>What happened? <span>List of possible reasons</span></h3>\\r\\n\\r\\n<ul>\\r\\n\\t<li>You entered the wrong URL</li>\\r\\n\\t<li>The link to this page is incorrect</li>\\r\\n\\t<li>The link you are trying to visit no longer exists</li>\\r\\n</ul>\\r\\n\\r\\n<div class=\"back\"><a href=\"javascript:history.go(-1)\">&laquo; Go Back</a></div>\\r\\n</body>\\r\\n</html>\\r\\n'\n",
      "2010\n",
      "http://greenbeltmd.granicus.com/GeneratedAgendaViewer.php?view_id=2\n",
      "Printing content causing IndexError:\n",
      "\tb'\\r\\n<!DOCTYPE html PUBLIC \"-//W3C//DTD XHTML 1.0 Transitional//EN\" \"https://www.w3.org/TR/xhtml1/DTD/xhtml1-transitional.dtd\">\\r\\n<html xmlns=\"http://www.w3.org/1999/xhtml\">\\r\\n<head id=\"Head1\"><title>\\r\\n\\t404 - Page Not Found\\r\\n</title><link href=\"../App_Themes/404/404.css\" type=\"text/css\" rel=\"stylesheet\" /></head>\\r\\n<script type=\"text/javascript\">\\r\\nfunction breakOut()\\r\\n{\\r\\n    if (top.location != location) {\\r\\n        top.location.href = document.location.href;\\r\\n    }\\r\\n}\\r\\n</script>\\r\\n<body onload=\"breakOut()\">\\r\\n\\r\\n<h1>Oops! <span>This link does not exist.</span> <a href=\"javascript:history.go(-1)\">&laquo; Go Back</a></h1>\\r\\n\\r\\n\\r\\n\\r\\n<h3>What happened? <span>List of possible reasons</span></h3>\\r\\n\\r\\n<ul>\\r\\n\\t<li>You entered the wrong URL</li>\\r\\n\\t<li>The link to this page is incorrect</li>\\r\\n\\t<li>The link you are trying to visit no longer exists</li>\\r\\n</ul>\\r\\n\\r\\n<div class=\"back\"><a href=\"javascript:history.go(-1)\">&laquo; Go Back</a></div>\\r\\n</body>\\r\\n</html>\\r\\n'\n",
      "2010\n",
      "http://greenbeltmd.granicus.com/GeneratedAgendaViewer.php?view_id=2\n",
      "Printing content causing IndexError:\n",
      "\tb'\\r\\n<!DOCTYPE html PUBLIC \"-//W3C//DTD XHTML 1.0 Transitional//EN\" \"https://www.w3.org/TR/xhtml1/DTD/xhtml1-transitional.dtd\">\\r\\n<html xmlns=\"http://www.w3.org/1999/xhtml\">\\r\\n<head id=\"Head1\"><title>\\r\\n\\t404 - Page Not Found\\r\\n</title><link href=\"../App_Themes/404/404.css\" type=\"text/css\" rel=\"stylesheet\" /></head>\\r\\n<script type=\"text/javascript\">\\r\\nfunction breakOut()\\r\\n{\\r\\n    if (top.location != location) {\\r\\n        top.location.href = document.location.href;\\r\\n    }\\r\\n}\\r\\n</script>\\r\\n<body onload=\"breakOut()\">\\r\\n\\r\\n<h1>Oops! <span>This link does not exist.</span> <a href=\"javascript:history.go(-1)\">&laquo; Go Back</a></h1>\\r\\n\\r\\n\\r\\n\\r\\n<h3>What happened? <span>List of possible reasons</span></h3>\\r\\n\\r\\n<ul>\\r\\n\\t<li>You entered the wrong URL</li>\\r\\n\\t<li>The link to this page is incorrect</li>\\r\\n\\t<li>The link you are trying to visit no longer exists</li>\\r\\n</ul>\\r\\n\\r\\n<div class=\"back\"><a href=\"javascript:history.go(-1)\">&laquo; Go Back</a></div>\\r\\n</body>\\r\\n</html>\\r\\n'\n",
      "2010\n",
      "http://greenbeltmd.granicus.com/GeneratedAgendaViewer.php?view_id=2\n",
      "Printing content causing IndexError:\n",
      "\tb'\\r\\n<!DOCTYPE html PUBLIC \"-//W3C//DTD XHTML 1.0 Transitional//EN\" \"https://www.w3.org/TR/xhtml1/DTD/xhtml1-transitional.dtd\">\\r\\n<html xmlns=\"http://www.w3.org/1999/xhtml\">\\r\\n<head id=\"Head1\"><title>\\r\\n\\t404 - Page Not Found\\r\\n</title><link href=\"../App_Themes/404/404.css\" type=\"text/css\" rel=\"stylesheet\" /></head>\\r\\n<script type=\"text/javascript\">\\r\\nfunction breakOut()\\r\\n{\\r\\n    if (top.location != location) {\\r\\n        top.location.href = document.location.href;\\r\\n    }\\r\\n}\\r\\n</script>\\r\\n<body onload=\"breakOut()\">\\r\\n\\r\\n<h1>Oops! <span>This link does not exist.</span> <a href=\"javascript:history.go(-1)\">&laquo; Go Back</a></h1>\\r\\n\\r\\n\\r\\n\\r\\n<h3>What happened? <span>List of possible reasons</span></h3>\\r\\n\\r\\n<ul>\\r\\n\\t<li>You entered the wrong URL</li>\\r\\n\\t<li>The link to this page is incorrect</li>\\r\\n\\t<li>The link you are trying to visit no longer exists</li>\\r\\n</ul>\\r\\n\\r\\n<div class=\"back\"><a href=\"javascript:history.go(-1)\">&laquo; Go Back</a></div>\\r\\n</body>\\r\\n</html>\\r\\n'\n",
      "2010\n",
      "http://greenbeltmd.granicus.com/GeneratedAgendaViewer.php?view_id=2\n",
      "Printing content causing IndexError:\n",
      "\tb'\\r\\n<!DOCTYPE html PUBLIC \"-//W3C//DTD XHTML 1.0 Transitional//EN\" \"https://www.w3.org/TR/xhtml1/DTD/xhtml1-transitional.dtd\">\\r\\n<html xmlns=\"http://www.w3.org/1999/xhtml\">\\r\\n<head id=\"Head1\"><title>\\r\\n\\t404 - Page Not Found\\r\\n</title><link href=\"../App_Themes/404/404.css\" type=\"text/css\" rel=\"stylesheet\" /></head>\\r\\n<script type=\"text/javascript\">\\r\\nfunction breakOut()\\r\\n{\\r\\n    if (top.location != location) {\\r\\n        top.location.href = document.location.href;\\r\\n    }\\r\\n}\\r\\n</script>\\r\\n<body onload=\"breakOut()\">\\r\\n\\r\\n<h1>Oops! <span>This link does not exist.</span> <a href=\"javascript:history.go(-1)\">&laquo; Go Back</a></h1>\\r\\n\\r\\n\\r\\n\\r\\n<h3>What happened? <span>List of possible reasons</span></h3>\\r\\n\\r\\n<ul>\\r\\n\\t<li>You entered the wrong URL</li>\\r\\n\\t<li>The link to this page is incorrect</li>\\r\\n\\t<li>The link you are trying to visit no longer exists</li>\\r\\n</ul>\\r\\n\\r\\n<div class=\"back\"><a href=\"javascript:history.go(-1)\">&laquo; Go Back</a></div>\\r\\n</body>\\r\\n</html>\\r\\n'\n",
      "2010\n",
      "http://greenbeltmd.granicus.com/GeneratedAgendaViewer.php?view_id=2\n",
      "Printing content causing IndexError:\n",
      "\tb'\\r\\n<!DOCTYPE html PUBLIC \"-//W3C//DTD XHTML 1.0 Transitional//EN\" \"https://www.w3.org/TR/xhtml1/DTD/xhtml1-transitional.dtd\">\\r\\n<html xmlns=\"http://www.w3.org/1999/xhtml\">\\r\\n<head id=\"Head1\"><title>\\r\\n\\t404 - Page Not Found\\r\\n</title><link href=\"../App_Themes/404/404.css\" type=\"text/css\" rel=\"stylesheet\" /></head>\\r\\n<script type=\"text/javascript\">\\r\\nfunction breakOut()\\r\\n{\\r\\n    if (top.location != location) {\\r\\n        top.location.href = document.location.href;\\r\\n    }\\r\\n}\\r\\n</script>\\r\\n<body onload=\"breakOut()\">\\r\\n\\r\\n<h1>Oops! <span>This link does not exist.</span> <a href=\"javascript:history.go(-1)\">&laquo; Go Back</a></h1>\\r\\n\\r\\n\\r\\n\\r\\n<h3>What happened? <span>List of possible reasons</span></h3>\\r\\n\\r\\n<ul>\\r\\n\\t<li>You entered the wrong URL</li>\\r\\n\\t<li>The link to this page is incorrect</li>\\r\\n\\t<li>The link you are trying to visit no longer exists</li>\\r\\n</ul>\\r\\n\\r\\n<div class=\"back\"><a href=\"javascript:history.go(-1)\">&laquo; Go Back</a></div>\\r\\n</body>\\r\\n</html>\\r\\n'\n",
      "2010\n",
      "http://greenbeltmd.granicus.com/GeneratedAgendaViewer.php?view_id=2\n",
      "Printing content causing IndexError:\n",
      "\tb'\\r\\n<!DOCTYPE html PUBLIC \"-//W3C//DTD XHTML 1.0 Transitional//EN\" \"https://www.w3.org/TR/xhtml1/DTD/xhtml1-transitional.dtd\">\\r\\n<html xmlns=\"http://www.w3.org/1999/xhtml\">\\r\\n<head id=\"Head1\"><title>\\r\\n\\t404 - Page Not Found\\r\\n</title><link href=\"../App_Themes/404/404.css\" type=\"text/css\" rel=\"stylesheet\" /></head>\\r\\n<script type=\"text/javascript\">\\r\\nfunction breakOut()\\r\\n{\\r\\n    if (top.location != location) {\\r\\n        top.location.href = document.location.href;\\r\\n    }\\r\\n}\\r\\n</script>\\r\\n<body onload=\"breakOut()\">\\r\\n\\r\\n<h1>Oops! <span>This link does not exist.</span> <a href=\"javascript:history.go(-1)\">&laquo; Go Back</a></h1>\\r\\n\\r\\n\\r\\n\\r\\n<h3>What happened? <span>List of possible reasons</span></h3>\\r\\n\\r\\n<ul>\\r\\n\\t<li>You entered the wrong URL</li>\\r\\n\\t<li>The link to this page is incorrect</li>\\r\\n\\t<li>The link you are trying to visit no longer exists</li>\\r\\n</ul>\\r\\n\\r\\n<div class=\"back\"><a href=\"javascript:history.go(-1)\">&laquo; Go Back</a></div>\\r\\n</body>\\r\\n</html>\\r\\n'\n"
     ]
    },
    {
     "name": "stdout",
     "output_type": "stream",
     "text": [
      "2009\n",
      "http://greenbeltmd.granicus.com/GeneratedAgendaViewer.php?view_id=2\n",
      "Printing content causing IndexError:\n",
      "\tb'\\r\\n<!DOCTYPE html PUBLIC \"-//W3C//DTD XHTML 1.0 Transitional//EN\" \"https://www.w3.org/TR/xhtml1/DTD/xhtml1-transitional.dtd\">\\r\\n<html xmlns=\"http://www.w3.org/1999/xhtml\">\\r\\n<head id=\"Head1\"><title>\\r\\n\\t404 - Page Not Found\\r\\n</title><link href=\"../App_Themes/404/404.css\" type=\"text/css\" rel=\"stylesheet\" /></head>\\r\\n<script type=\"text/javascript\">\\r\\nfunction breakOut()\\r\\n{\\r\\n    if (top.location != location) {\\r\\n        top.location.href = document.location.href;\\r\\n    }\\r\\n}\\r\\n</script>\\r\\n<body onload=\"breakOut()\">\\r\\n\\r\\n<h1>Oops! <span>This link does not exist.</span> <a href=\"javascript:history.go(-1)\">&laquo; Go Back</a></h1>\\r\\n\\r\\n\\r\\n\\r\\n<h3>What happened? <span>List of possible reasons</span></h3>\\r\\n\\r\\n<ul>\\r\\n\\t<li>You entered the wrong URL</li>\\r\\n\\t<li>The link to this page is incorrect</li>\\r\\n\\t<li>The link you are trying to visit no longer exists</li>\\r\\n</ul>\\r\\n\\r\\n<div class=\"back\"><a href=\"javascript:history.go(-1)\">&laquo; Go Back</a></div>\\r\\n</body>\\r\\n</html>\\r\\n'\n",
      "2009\n",
      "https://greenbeltmd.granicus.com/DocumentViewer.php?file=greenbeltmd_2055a4a2435280a9df7d94b058af34d4.pdf&view=1\n"
     ]
    },
    {
     "name": "stderr",
     "output_type": "stream",
     "text": [
      "C:\\Users\\ben97312\\Documents\\code\\notebooks\\Lib\\site-packages\\urllib3\\connectionpool.py:1103: InsecureRequestWarning: Unverified HTTPS request is being made to host 'greenbeltmd.granicus.com'. Adding certificate verification is strongly advised. See: https://urllib3.readthedocs.io/en/latest/advanced-usage.html#tls-warnings\n",
      "  warnings.warn(\n",
      "C:\\Users\\ben97312\\Documents\\code\\notebooks\\Lib\\site-packages\\urllib3\\connectionpool.py:1103: InsecureRequestWarning: Unverified HTTPS request is being made to host 'greenbeltmd.granicus.com'. Adding certificate verification is strongly advised. See: https://urllib3.readthedocs.io/en/latest/advanced-usage.html#tls-warnings\n",
      "  warnings.warn(\n"
     ]
    },
    {
     "name": "stdout",
     "output_type": "stream",
     "text": [
      "2009\n",
      "http://greenbeltmd.granicus.com/GeneratedAgendaViewer.php?view_id=2\n",
      "Printing content causing IndexError:\n",
      "\tb'\\r\\n<!DOCTYPE html PUBLIC \"-//W3C//DTD XHTML 1.0 Transitional//EN\" \"https://www.w3.org/TR/xhtml1/DTD/xhtml1-transitional.dtd\">\\r\\n<html xmlns=\"http://www.w3.org/1999/xhtml\">\\r\\n<head id=\"Head1\"><title>\\r\\n\\t404 - Page Not Found\\r\\n</title><link href=\"../App_Themes/404/404.css\" type=\"text/css\" rel=\"stylesheet\" /></head>\\r\\n<script type=\"text/javascript\">\\r\\nfunction breakOut()\\r\\n{\\r\\n    if (top.location != location) {\\r\\n        top.location.href = document.location.href;\\r\\n    }\\r\\n}\\r\\n</script>\\r\\n<body onload=\"breakOut()\">\\r\\n\\r\\n<h1>Oops! <span>This link does not exist.</span> <a href=\"javascript:history.go(-1)\">&laquo; Go Back</a></h1>\\r\\n\\r\\n\\r\\n\\r\\n<h3>What happened? <span>List of possible reasons</span></h3>\\r\\n\\r\\n<ul>\\r\\n\\t<li>You entered the wrong URL</li>\\r\\n\\t<li>The link to this page is incorrect</li>\\r\\n\\t<li>The link you are trying to visit no longer exists</li>\\r\\n</ul>\\r\\n\\r\\n<div class=\"back\"><a href=\"javascript:history.go(-1)\">&laquo; Go Back</a></div>\\r\\n</body>\\r\\n</html>\\r\\n'\n",
      "2009\n",
      "http://greenbeltmd.granicus.com/GeneratedAgendaViewer.php?view_id=2\n",
      "Printing content causing IndexError:\n",
      "\tb'\\r\\n<!DOCTYPE html PUBLIC \"-//W3C//DTD XHTML 1.0 Transitional//EN\" \"https://www.w3.org/TR/xhtml1/DTD/xhtml1-transitional.dtd\">\\r\\n<html xmlns=\"http://www.w3.org/1999/xhtml\">\\r\\n<head id=\"Head1\"><title>\\r\\n\\t404 - Page Not Found\\r\\n</title><link href=\"../App_Themes/404/404.css\" type=\"text/css\" rel=\"stylesheet\" /></head>\\r\\n<script type=\"text/javascript\">\\r\\nfunction breakOut()\\r\\n{\\r\\n    if (top.location != location) {\\r\\n        top.location.href = document.location.href;\\r\\n    }\\r\\n}\\r\\n</script>\\r\\n<body onload=\"breakOut()\">\\r\\n\\r\\n<h1>Oops! <span>This link does not exist.</span> <a href=\"javascript:history.go(-1)\">&laquo; Go Back</a></h1>\\r\\n\\r\\n\\r\\n\\r\\n<h3>What happened? <span>List of possible reasons</span></h3>\\r\\n\\r\\n<ul>\\r\\n\\t<li>You entered the wrong URL</li>\\r\\n\\t<li>The link to this page is incorrect</li>\\r\\n\\t<li>The link you are trying to visit no longer exists</li>\\r\\n</ul>\\r\\n\\r\\n<div class=\"back\"><a href=\"javascript:history.go(-1)\">&laquo; Go Back</a></div>\\r\\n</body>\\r\\n</html>\\r\\n'\n",
      "2009\n",
      "http://greenbeltmd.granicus.com/GeneratedAgendaViewer.php?view_id=2\n",
      "Printing content causing IndexError:\n",
      "\tb'\\r\\n<!DOCTYPE html PUBLIC \"-//W3C//DTD XHTML 1.0 Transitional//EN\" \"https://www.w3.org/TR/xhtml1/DTD/xhtml1-transitional.dtd\">\\r\\n<html xmlns=\"http://www.w3.org/1999/xhtml\">\\r\\n<head id=\"Head1\"><title>\\r\\n\\t404 - Page Not Found\\r\\n</title><link href=\"../App_Themes/404/404.css\" type=\"text/css\" rel=\"stylesheet\" /></head>\\r\\n<script type=\"text/javascript\">\\r\\nfunction breakOut()\\r\\n{\\r\\n    if (top.location != location) {\\r\\n        top.location.href = document.location.href;\\r\\n    }\\r\\n}\\r\\n</script>\\r\\n<body onload=\"breakOut()\">\\r\\n\\r\\n<h1>Oops! <span>This link does not exist.</span> <a href=\"javascript:history.go(-1)\">&laquo; Go Back</a></h1>\\r\\n\\r\\n\\r\\n\\r\\n<h3>What happened? <span>List of possible reasons</span></h3>\\r\\n\\r\\n<ul>\\r\\n\\t<li>You entered the wrong URL</li>\\r\\n\\t<li>The link to this page is incorrect</li>\\r\\n\\t<li>The link you are trying to visit no longer exists</li>\\r\\n</ul>\\r\\n\\r\\n<div class=\"back\"><a href=\"javascript:history.go(-1)\">&laquo; Go Back</a></div>\\r\\n</body>\\r\\n</html>\\r\\n'\n",
      "2009\n",
      "http://greenbeltmd.granicus.com/GeneratedAgendaViewer.php?view_id=2\n",
      "Printing content causing IndexError:\n",
      "\tb'\\r\\n<!DOCTYPE html PUBLIC \"-//W3C//DTD XHTML 1.0 Transitional//EN\" \"https://www.w3.org/TR/xhtml1/DTD/xhtml1-transitional.dtd\">\\r\\n<html xmlns=\"http://www.w3.org/1999/xhtml\">\\r\\n<head id=\"Head1\"><title>\\r\\n\\t404 - Page Not Found\\r\\n</title><link href=\"../App_Themes/404/404.css\" type=\"text/css\" rel=\"stylesheet\" /></head>\\r\\n<script type=\"text/javascript\">\\r\\nfunction breakOut()\\r\\n{\\r\\n    if (top.location != location) {\\r\\n        top.location.href = document.location.href;\\r\\n    }\\r\\n}\\r\\n</script>\\r\\n<body onload=\"breakOut()\">\\r\\n\\r\\n<h1>Oops! <span>This link does not exist.</span> <a href=\"javascript:history.go(-1)\">&laquo; Go Back</a></h1>\\r\\n\\r\\n\\r\\n\\r\\n<h3>What happened? <span>List of possible reasons</span></h3>\\r\\n\\r\\n<ul>\\r\\n\\t<li>You entered the wrong URL</li>\\r\\n\\t<li>The link to this page is incorrect</li>\\r\\n\\t<li>The link you are trying to visit no longer exists</li>\\r\\n</ul>\\r\\n\\r\\n<div class=\"back\"><a href=\"javascript:history.go(-1)\">&laquo; Go Back</a></div>\\r\\n</body>\\r\\n</html>\\r\\n'\n",
      "2009\n",
      "http://greenbeltmd.granicus.com/GeneratedAgendaViewer.php?view_id=2\n",
      "Printing content causing IndexError:\n",
      "\tb'\\r\\n<!DOCTYPE html PUBLIC \"-//W3C//DTD XHTML 1.0 Transitional//EN\" \"https://www.w3.org/TR/xhtml1/DTD/xhtml1-transitional.dtd\">\\r\\n<html xmlns=\"http://www.w3.org/1999/xhtml\">\\r\\n<head id=\"Head1\"><title>\\r\\n\\t404 - Page Not Found\\r\\n</title><link href=\"../App_Themes/404/404.css\" type=\"text/css\" rel=\"stylesheet\" /></head>\\r\\n<script type=\"text/javascript\">\\r\\nfunction breakOut()\\r\\n{\\r\\n    if (top.location != location) {\\r\\n        top.location.href = document.location.href;\\r\\n    }\\r\\n}\\r\\n</script>\\r\\n<body onload=\"breakOut()\">\\r\\n\\r\\n<h1>Oops! <span>This link does not exist.</span> <a href=\"javascript:history.go(-1)\">&laquo; Go Back</a></h1>\\r\\n\\r\\n\\r\\n\\r\\n<h3>What happened? <span>List of possible reasons</span></h3>\\r\\n\\r\\n<ul>\\r\\n\\t<li>You entered the wrong URL</li>\\r\\n\\t<li>The link to this page is incorrect</li>\\r\\n\\t<li>The link you are trying to visit no longer exists</li>\\r\\n</ul>\\r\\n\\r\\n<div class=\"back\"><a href=\"javascript:history.go(-1)\">&laquo; Go Back</a></div>\\r\\n</body>\\r\\n</html>\\r\\n'\n",
      "2009\n",
      "http://greenbeltmd.granicus.com/GeneratedAgendaViewer.php?view_id=2\n",
      "Printing content causing IndexError:\n",
      "\tb'\\r\\n<!DOCTYPE html PUBLIC \"-//W3C//DTD XHTML 1.0 Transitional//EN\" \"https://www.w3.org/TR/xhtml1/DTD/xhtml1-transitional.dtd\">\\r\\n<html xmlns=\"http://www.w3.org/1999/xhtml\">\\r\\n<head id=\"Head1\"><title>\\r\\n\\t404 - Page Not Found\\r\\n</title><link href=\"../App_Themes/404/404.css\" type=\"text/css\" rel=\"stylesheet\" /></head>\\r\\n<script type=\"text/javascript\">\\r\\nfunction breakOut()\\r\\n{\\r\\n    if (top.location != location) {\\r\\n        top.location.href = document.location.href;\\r\\n    }\\r\\n}\\r\\n</script>\\r\\n<body onload=\"breakOut()\">\\r\\n\\r\\n<h1>Oops! <span>This link does not exist.</span> <a href=\"javascript:history.go(-1)\">&laquo; Go Back</a></h1>\\r\\n\\r\\n\\r\\n\\r\\n<h3>What happened? <span>List of possible reasons</span></h3>\\r\\n\\r\\n<ul>\\r\\n\\t<li>You entered the wrong URL</li>\\r\\n\\t<li>The link to this page is incorrect</li>\\r\\n\\t<li>The link you are trying to visit no longer exists</li>\\r\\n</ul>\\r\\n\\r\\n<div class=\"back\"><a href=\"javascript:history.go(-1)\">&laquo; Go Back</a></div>\\r\\n</body>\\r\\n</html>\\r\\n'\n",
      "2009\n",
      "http://greenbeltmd.granicus.com/GeneratedAgendaViewer.php?view_id=2\n",
      "Printing content causing IndexError:\n",
      "\tb'\\r\\n<!DOCTYPE html PUBLIC \"-//W3C//DTD XHTML 1.0 Transitional//EN\" \"https://www.w3.org/TR/xhtml1/DTD/xhtml1-transitional.dtd\">\\r\\n<html xmlns=\"http://www.w3.org/1999/xhtml\">\\r\\n<head id=\"Head1\"><title>\\r\\n\\t404 - Page Not Found\\r\\n</title><link href=\"../App_Themes/404/404.css\" type=\"text/css\" rel=\"stylesheet\" /></head>\\r\\n<script type=\"text/javascript\">\\r\\nfunction breakOut()\\r\\n{\\r\\n    if (top.location != location) {\\r\\n        top.location.href = document.location.href;\\r\\n    }\\r\\n}\\r\\n</script>\\r\\n<body onload=\"breakOut()\">\\r\\n\\r\\n<h1>Oops! <span>This link does not exist.</span> <a href=\"javascript:history.go(-1)\">&laquo; Go Back</a></h1>\\r\\n\\r\\n\\r\\n\\r\\n<h3>What happened? <span>List of possible reasons</span></h3>\\r\\n\\r\\n<ul>\\r\\n\\t<li>You entered the wrong URL</li>\\r\\n\\t<li>The link to this page is incorrect</li>\\r\\n\\t<li>The link you are trying to visit no longer exists</li>\\r\\n</ul>\\r\\n\\r\\n<div class=\"back\"><a href=\"javascript:history.go(-1)\">&laquo; Go Back</a></div>\\r\\n</body>\\r\\n</html>\\r\\n'\n",
      "2009\n",
      "http://greenbeltmd.granicus.com/GeneratedAgendaViewer.php?view_id=2\n",
      "Printing content causing IndexError:\n",
      "\tb'\\r\\n<!DOCTYPE html PUBLIC \"-//W3C//DTD XHTML 1.0 Transitional//EN\" \"https://www.w3.org/TR/xhtml1/DTD/xhtml1-transitional.dtd\">\\r\\n<html xmlns=\"http://www.w3.org/1999/xhtml\">\\r\\n<head id=\"Head1\"><title>\\r\\n\\t404 - Page Not Found\\r\\n</title><link href=\"../App_Themes/404/404.css\" type=\"text/css\" rel=\"stylesheet\" /></head>\\r\\n<script type=\"text/javascript\">\\r\\nfunction breakOut()\\r\\n{\\r\\n    if (top.location != location) {\\r\\n        top.location.href = document.location.href;\\r\\n    }\\r\\n}\\r\\n</script>\\r\\n<body onload=\"breakOut()\">\\r\\n\\r\\n<h1>Oops! <span>This link does not exist.</span> <a href=\"javascript:history.go(-1)\">&laquo; Go Back</a></h1>\\r\\n\\r\\n\\r\\n\\r\\n<h3>What happened? <span>List of possible reasons</span></h3>\\r\\n\\r\\n<ul>\\r\\n\\t<li>You entered the wrong URL</li>\\r\\n\\t<li>The link to this page is incorrect</li>\\r\\n\\t<li>The link you are trying to visit no longer exists</li>\\r\\n</ul>\\r\\n\\r\\n<div class=\"back\"><a href=\"javascript:history.go(-1)\">&laquo; Go Back</a></div>\\r\\n</body>\\r\\n</html>\\r\\n'\n"
     ]
    },
    {
     "name": "stdout",
     "output_type": "stream",
     "text": [
      "2009\n",
      "http://greenbeltmd.granicus.com/GeneratedAgendaViewer.php?view_id=2\n",
      "Printing content causing IndexError:\n",
      "\tb'\\r\\n<!DOCTYPE html PUBLIC \"-//W3C//DTD XHTML 1.0 Transitional//EN\" \"https://www.w3.org/TR/xhtml1/DTD/xhtml1-transitional.dtd\">\\r\\n<html xmlns=\"http://www.w3.org/1999/xhtml\">\\r\\n<head id=\"Head1\"><title>\\r\\n\\t404 - Page Not Found\\r\\n</title><link href=\"../App_Themes/404/404.css\" type=\"text/css\" rel=\"stylesheet\" /></head>\\r\\n<script type=\"text/javascript\">\\r\\nfunction breakOut()\\r\\n{\\r\\n    if (top.location != location) {\\r\\n        top.location.href = document.location.href;\\r\\n    }\\r\\n}\\r\\n</script>\\r\\n<body onload=\"breakOut()\">\\r\\n\\r\\n<h1>Oops! <span>This link does not exist.</span> <a href=\"javascript:history.go(-1)\">&laquo; Go Back</a></h1>\\r\\n\\r\\n\\r\\n\\r\\n<h3>What happened? <span>List of possible reasons</span></h3>\\r\\n\\r\\n<ul>\\r\\n\\t<li>You entered the wrong URL</li>\\r\\n\\t<li>The link to this page is incorrect</li>\\r\\n\\t<li>The link you are trying to visit no longer exists</li>\\r\\n</ul>\\r\\n\\r\\n<div class=\"back\"><a href=\"javascript:history.go(-1)\">&laquo; Go Back</a></div>\\r\\n</body>\\r\\n</html>\\r\\n'\n",
      "2009\n",
      "http://greenbeltmd.granicus.com/GeneratedAgendaViewer.php?view_id=2\n",
      "Printing content causing IndexError:\n",
      "\tb'\\r\\n<!DOCTYPE html PUBLIC \"-//W3C//DTD XHTML 1.0 Transitional//EN\" \"https://www.w3.org/TR/xhtml1/DTD/xhtml1-transitional.dtd\">\\r\\n<html xmlns=\"http://www.w3.org/1999/xhtml\">\\r\\n<head id=\"Head1\"><title>\\r\\n\\t404 - Page Not Found\\r\\n</title><link href=\"../App_Themes/404/404.css\" type=\"text/css\" rel=\"stylesheet\" /></head>\\r\\n<script type=\"text/javascript\">\\r\\nfunction breakOut()\\r\\n{\\r\\n    if (top.location != location) {\\r\\n        top.location.href = document.location.href;\\r\\n    }\\r\\n}\\r\\n</script>\\r\\n<body onload=\"breakOut()\">\\r\\n\\r\\n<h1>Oops! <span>This link does not exist.</span> <a href=\"javascript:history.go(-1)\">&laquo; Go Back</a></h1>\\r\\n\\r\\n\\r\\n\\r\\n<h3>What happened? <span>List of possible reasons</span></h3>\\r\\n\\r\\n<ul>\\r\\n\\t<li>You entered the wrong URL</li>\\r\\n\\t<li>The link to this page is incorrect</li>\\r\\n\\t<li>The link you are trying to visit no longer exists</li>\\r\\n</ul>\\r\\n\\r\\n<div class=\"back\"><a href=\"javascript:history.go(-1)\">&laquo; Go Back</a></div>\\r\\n</body>\\r\\n</html>\\r\\n'\n",
      "2009\n",
      "http://greenbeltmd.granicus.com/GeneratedAgendaViewer.php?view_id=2\n",
      "Printing content causing IndexError:\n",
      "\tb'\\r\\n<!DOCTYPE html PUBLIC \"-//W3C//DTD XHTML 1.0 Transitional//EN\" \"https://www.w3.org/TR/xhtml1/DTD/xhtml1-transitional.dtd\">\\r\\n<html xmlns=\"http://www.w3.org/1999/xhtml\">\\r\\n<head id=\"Head1\"><title>\\r\\n\\t404 - Page Not Found\\r\\n</title><link href=\"../App_Themes/404/404.css\" type=\"text/css\" rel=\"stylesheet\" /></head>\\r\\n<script type=\"text/javascript\">\\r\\nfunction breakOut()\\r\\n{\\r\\n    if (top.location != location) {\\r\\n        top.location.href = document.location.href;\\r\\n    }\\r\\n}\\r\\n</script>\\r\\n<body onload=\"breakOut()\">\\r\\n\\r\\n<h1>Oops! <span>This link does not exist.</span> <a href=\"javascript:history.go(-1)\">&laquo; Go Back</a></h1>\\r\\n\\r\\n\\r\\n\\r\\n<h3>What happened? <span>List of possible reasons</span></h3>\\r\\n\\r\\n<ul>\\r\\n\\t<li>You entered the wrong URL</li>\\r\\n\\t<li>The link to this page is incorrect</li>\\r\\n\\t<li>The link you are trying to visit no longer exists</li>\\r\\n</ul>\\r\\n\\r\\n<div class=\"back\"><a href=\"javascript:history.go(-1)\">&laquo; Go Back</a></div>\\r\\n</body>\\r\\n</html>\\r\\n'\n",
      "2009\n",
      "http://greenbeltmd.granicus.com/GeneratedAgendaViewer.php?view_id=2\n",
      "Printing content causing IndexError:\n",
      "\tb'\\r\\n<!DOCTYPE html PUBLIC \"-//W3C//DTD XHTML 1.0 Transitional//EN\" \"https://www.w3.org/TR/xhtml1/DTD/xhtml1-transitional.dtd\">\\r\\n<html xmlns=\"http://www.w3.org/1999/xhtml\">\\r\\n<head id=\"Head1\"><title>\\r\\n\\t404 - Page Not Found\\r\\n</title><link href=\"../App_Themes/404/404.css\" type=\"text/css\" rel=\"stylesheet\" /></head>\\r\\n<script type=\"text/javascript\">\\r\\nfunction breakOut()\\r\\n{\\r\\n    if (top.location != location) {\\r\\n        top.location.href = document.location.href;\\r\\n    }\\r\\n}\\r\\n</script>\\r\\n<body onload=\"breakOut()\">\\r\\n\\r\\n<h1>Oops! <span>This link does not exist.</span> <a href=\"javascript:history.go(-1)\">&laquo; Go Back</a></h1>\\r\\n\\r\\n\\r\\n\\r\\n<h3>What happened? <span>List of possible reasons</span></h3>\\r\\n\\r\\n<ul>\\r\\n\\t<li>You entered the wrong URL</li>\\r\\n\\t<li>The link to this page is incorrect</li>\\r\\n\\t<li>The link you are trying to visit no longer exists</li>\\r\\n</ul>\\r\\n\\r\\n<div class=\"back\"><a href=\"javascript:history.go(-1)\">&laquo; Go Back</a></div>\\r\\n</body>\\r\\n</html>\\r\\n'\n",
      "2009\n",
      "http://greenbeltmd.granicus.com/GeneratedAgendaViewer.php?view_id=2\n",
      "Printing content causing IndexError:\n",
      "\tb'\\r\\n<!DOCTYPE html PUBLIC \"-//W3C//DTD XHTML 1.0 Transitional//EN\" \"https://www.w3.org/TR/xhtml1/DTD/xhtml1-transitional.dtd\">\\r\\n<html xmlns=\"http://www.w3.org/1999/xhtml\">\\r\\n<head id=\"Head1\"><title>\\r\\n\\t404 - Page Not Found\\r\\n</title><link href=\"../App_Themes/404/404.css\" type=\"text/css\" rel=\"stylesheet\" /></head>\\r\\n<script type=\"text/javascript\">\\r\\nfunction breakOut()\\r\\n{\\r\\n    if (top.location != location) {\\r\\n        top.location.href = document.location.href;\\r\\n    }\\r\\n}\\r\\n</script>\\r\\n<body onload=\"breakOut()\">\\r\\n\\r\\n<h1>Oops! <span>This link does not exist.</span> <a href=\"javascript:history.go(-1)\">&laquo; Go Back</a></h1>\\r\\n\\r\\n\\r\\n\\r\\n<h3>What happened? <span>List of possible reasons</span></h3>\\r\\n\\r\\n<ul>\\r\\n\\t<li>You entered the wrong URL</li>\\r\\n\\t<li>The link to this page is incorrect</li>\\r\\n\\t<li>The link you are trying to visit no longer exists</li>\\r\\n</ul>\\r\\n\\r\\n<div class=\"back\"><a href=\"javascript:history.go(-1)\">&laquo; Go Back</a></div>\\r\\n</body>\\r\\n</html>\\r\\n'\n",
      "2009\n",
      "http://greenbeltmd.granicus.com/GeneratedAgendaViewer.php?view_id=2\n",
      "Printing content causing IndexError:\n",
      "\tb'\\r\\n<!DOCTYPE html PUBLIC \"-//W3C//DTD XHTML 1.0 Transitional//EN\" \"https://www.w3.org/TR/xhtml1/DTD/xhtml1-transitional.dtd\">\\r\\n<html xmlns=\"http://www.w3.org/1999/xhtml\">\\r\\n<head id=\"Head1\"><title>\\r\\n\\t404 - Page Not Found\\r\\n</title><link href=\"../App_Themes/404/404.css\" type=\"text/css\" rel=\"stylesheet\" /></head>\\r\\n<script type=\"text/javascript\">\\r\\nfunction breakOut()\\r\\n{\\r\\n    if (top.location != location) {\\r\\n        top.location.href = document.location.href;\\r\\n    }\\r\\n}\\r\\n</script>\\r\\n<body onload=\"breakOut()\">\\r\\n\\r\\n<h1>Oops! <span>This link does not exist.</span> <a href=\"javascript:history.go(-1)\">&laquo; Go Back</a></h1>\\r\\n\\r\\n\\r\\n\\r\\n<h3>What happened? <span>List of possible reasons</span></h3>\\r\\n\\r\\n<ul>\\r\\n\\t<li>You entered the wrong URL</li>\\r\\n\\t<li>The link to this page is incorrect</li>\\r\\n\\t<li>The link you are trying to visit no longer exists</li>\\r\\n</ul>\\r\\n\\r\\n<div class=\"back\"><a href=\"javascript:history.go(-1)\">&laquo; Go Back</a></div>\\r\\n</body>\\r\\n</html>\\r\\n'\n",
      "2009\n",
      "http://greenbeltmd.granicus.com/GeneratedAgendaViewer.php?view_id=2\n",
      "Printing content causing IndexError:\n",
      "\tb'\\r\\n<!DOCTYPE html PUBLIC \"-//W3C//DTD XHTML 1.0 Transitional//EN\" \"https://www.w3.org/TR/xhtml1/DTD/xhtml1-transitional.dtd\">\\r\\n<html xmlns=\"http://www.w3.org/1999/xhtml\">\\r\\n<head id=\"Head1\"><title>\\r\\n\\t404 - Page Not Found\\r\\n</title><link href=\"../App_Themes/404/404.css\" type=\"text/css\" rel=\"stylesheet\" /></head>\\r\\n<script type=\"text/javascript\">\\r\\nfunction breakOut()\\r\\n{\\r\\n    if (top.location != location) {\\r\\n        top.location.href = document.location.href;\\r\\n    }\\r\\n}\\r\\n</script>\\r\\n<body onload=\"breakOut()\">\\r\\n\\r\\n<h1>Oops! <span>This link does not exist.</span> <a href=\"javascript:history.go(-1)\">&laquo; Go Back</a></h1>\\r\\n\\r\\n\\r\\n\\r\\n<h3>What happened? <span>List of possible reasons</span></h3>\\r\\n\\r\\n<ul>\\r\\n\\t<li>You entered the wrong URL</li>\\r\\n\\t<li>The link to this page is incorrect</li>\\r\\n\\t<li>The link you are trying to visit no longer exists</li>\\r\\n</ul>\\r\\n\\r\\n<div class=\"back\"><a href=\"javascript:history.go(-1)\">&laquo; Go Back</a></div>\\r\\n</body>\\r\\n</html>\\r\\n'\n",
      "2009\n",
      "http://greenbeltmd.granicus.com/GeneratedAgendaViewer.php?view_id=2\n",
      "Printing content causing IndexError:\n",
      "\tb'\\r\\n<!DOCTYPE html PUBLIC \"-//W3C//DTD XHTML 1.0 Transitional//EN\" \"https://www.w3.org/TR/xhtml1/DTD/xhtml1-transitional.dtd\">\\r\\n<html xmlns=\"http://www.w3.org/1999/xhtml\">\\r\\n<head id=\"Head1\"><title>\\r\\n\\t404 - Page Not Found\\r\\n</title><link href=\"../App_Themes/404/404.css\" type=\"text/css\" rel=\"stylesheet\" /></head>\\r\\n<script type=\"text/javascript\">\\r\\nfunction breakOut()\\r\\n{\\r\\n    if (top.location != location) {\\r\\n        top.location.href = document.location.href;\\r\\n    }\\r\\n}\\r\\n</script>\\r\\n<body onload=\"breakOut()\">\\r\\n\\r\\n<h1>Oops! <span>This link does not exist.</span> <a href=\"javascript:history.go(-1)\">&laquo; Go Back</a></h1>\\r\\n\\r\\n\\r\\n\\r\\n<h3>What happened? <span>List of possible reasons</span></h3>\\r\\n\\r\\n<ul>\\r\\n\\t<li>You entered the wrong URL</li>\\r\\n\\t<li>The link to this page is incorrect</li>\\r\\n\\t<li>The link you are trying to visit no longer exists</li>\\r\\n</ul>\\r\\n\\r\\n<div class=\"back\"><a href=\"javascript:history.go(-1)\">&laquo; Go Back</a></div>\\r\\n</body>\\r\\n</html>\\r\\n'\n"
     ]
    },
    {
     "name": "stdout",
     "output_type": "stream",
     "text": [
      "2009\n",
      "http://greenbeltmd.granicus.com/GeneratedAgendaViewer.php?view_id=2\n",
      "Printing content causing IndexError:\n",
      "\tb'\\r\\n<!DOCTYPE html PUBLIC \"-//W3C//DTD XHTML 1.0 Transitional//EN\" \"https://www.w3.org/TR/xhtml1/DTD/xhtml1-transitional.dtd\">\\r\\n<html xmlns=\"http://www.w3.org/1999/xhtml\">\\r\\n<head id=\"Head1\"><title>\\r\\n\\t404 - Page Not Found\\r\\n</title><link href=\"../App_Themes/404/404.css\" type=\"text/css\" rel=\"stylesheet\" /></head>\\r\\n<script type=\"text/javascript\">\\r\\nfunction breakOut()\\r\\n{\\r\\n    if (top.location != location) {\\r\\n        top.location.href = document.location.href;\\r\\n    }\\r\\n}\\r\\n</script>\\r\\n<body onload=\"breakOut()\">\\r\\n\\r\\n<h1>Oops! <span>This link does not exist.</span> <a href=\"javascript:history.go(-1)\">&laquo; Go Back</a></h1>\\r\\n\\r\\n\\r\\n\\r\\n<h3>What happened? <span>List of possible reasons</span></h3>\\r\\n\\r\\n<ul>\\r\\n\\t<li>You entered the wrong URL</li>\\r\\n\\t<li>The link to this page is incorrect</li>\\r\\n\\t<li>The link you are trying to visit no longer exists</li>\\r\\n</ul>\\r\\n\\r\\n<div class=\"back\"><a href=\"javascript:history.go(-1)\">&laquo; Go Back</a></div>\\r\\n</body>\\r\\n</html>\\r\\n'\n",
      "2009\n",
      "http://greenbeltmd.granicus.com/GeneratedAgendaViewer.php?view_id=2\n",
      "Printing content causing IndexError:\n",
      "\tb'\\r\\n<!DOCTYPE html PUBLIC \"-//W3C//DTD XHTML 1.0 Transitional//EN\" \"https://www.w3.org/TR/xhtml1/DTD/xhtml1-transitional.dtd\">\\r\\n<html xmlns=\"http://www.w3.org/1999/xhtml\">\\r\\n<head id=\"Head1\"><title>\\r\\n\\t404 - Page Not Found\\r\\n</title><link href=\"../App_Themes/404/404.css\" type=\"text/css\" rel=\"stylesheet\" /></head>\\r\\n<script type=\"text/javascript\">\\r\\nfunction breakOut()\\r\\n{\\r\\n    if (top.location != location) {\\r\\n        top.location.href = document.location.href;\\r\\n    }\\r\\n}\\r\\n</script>\\r\\n<body onload=\"breakOut()\">\\r\\n\\r\\n<h1>Oops! <span>This link does not exist.</span> <a href=\"javascript:history.go(-1)\">&laquo; Go Back</a></h1>\\r\\n\\r\\n\\r\\n\\r\\n<h3>What happened? <span>List of possible reasons</span></h3>\\r\\n\\r\\n<ul>\\r\\n\\t<li>You entered the wrong URL</li>\\r\\n\\t<li>The link to this page is incorrect</li>\\r\\n\\t<li>The link you are trying to visit no longer exists</li>\\r\\n</ul>\\r\\n\\r\\n<div class=\"back\"><a href=\"javascript:history.go(-1)\">&laquo; Go Back</a></div>\\r\\n</body>\\r\\n</html>\\r\\n'\n"
     ]
    }
   ],
   "source": [
    "yr = 2024\n",
    "for table in tbl[1:]:    \n",
    "    links = table.find_all(\"a\")\n",
    "    agenda_links = [link[\"href\"] for link in links if \"AgendaViewer\" in link[\"href\"]]\n",
    "    for link in agenda_links:\n",
    "        try:\n",
    "            res = urllib.request.urlopen(f\"http:{link}\")\n",
    "            pdf_url = res.geturl()\n",
    "        except:\n",
    "            res = requests.get(f\"http:{link}\", headers=headers)\n",
    "            pdf_url = res.url\n",
    "        pdf_url = pdf_url.split(\"&\")[0]\n",
    "        pdf = requests.get(pdf_url, headers=headers)\n",
    "        content = str(pdf.content)\n",
    "        try:\n",
    "            pdf_2_download = content.split(\"gview?url%3D\")[1].split(\"\\\\\\\\\")[0]\n",
    "        except IndexError:\n",
    "            try:\n",
    "                print(yr)\n",
    "                pdf_2_download = requests.utils.unquote(pdf_url.split(\"gview?url=\")[1])\n",
    "                print(pdf_2_download)\n",
    "            except IndexError:\n",
    "                print(pdf_url)\n",
    "                print(f\"Printing content causing IndexError:\\n\\t{content}\")\n",
    "                continue\n",
    "        pdf_res = requests.get(pdf_2_download, headers=headers, verify=False)\n",
    "        filename = f\"./docs/GreenbeltAgenda_{yr}_{link[-4:]}.pdf\"\n",
    "        with open(filename, \"wb\") as pdf_file:\n",
    "            pdf_file.write(pdf_res.content)\n",
    "    yr -= 1"
   ]
  },
  {
   "cell_type": "markdown",
   "id": "4440e4c0",
   "metadata": {},
   "source": [
    "### Well, That's Greenbelt City Council's Docs...\n",
    "\n",
    "This is the first body of documents I intend to get. I'd like to do some basic processing of these files, & before I get there, I need to extract the data from the pdfs (I used PyPDF2). \n",
    "\n",
    "Next to retrieve will be the Maryland State Assembly's body of documents. I'll attempt to go back to 2015, which looks like about where these documents were posted using a different method & not using pdf files. We'll see"
   ]
  },
  {
   "cell_type": "markdown",
   "id": "190fcce3",
   "metadata": {},
   "source": [
    "### Practicing..."
   ]
  },
  {
   "cell_type": "code",
   "execution_count": 118,
   "id": "cc65b97d",
   "metadata": {},
   "outputs": [
    {
     "data": {
      "text/html": [
       "<span class=\"tex2jax_ignore\"><svg xmlns=\"http://www.w3.org/2000/svg\" xmlns:xlink=\"http://www.w3.org/1999/xlink\" xml:lang=\"en\" id=\"3281b1c8b96d48ea996f093244c42549-0\" class=\"displacy\" width=\"1275\" height=\"312.0\" direction=\"ltr\" style=\"max-width: none; height: 312.0px; color: #000000; background: #ffffff; font-family: Arial; direction: ltr\">\n",
       "<text class=\"displacy-token\" fill=\"currentColor\" text-anchor=\"middle\" y=\"222.0\">\n",
       "    <tspan class=\"displacy-word\" fill=\"currentColor\" x=\"50\">Bill</tspan>\n",
       "    <tspan class=\"displacy-tag\" dy=\"2em\" fill=\"currentColor\" x=\"50\">PROPN</tspan>\n",
       "</text>\n",
       "\n",
       "<text class=\"displacy-token\" fill=\"currentColor\" text-anchor=\"middle\" y=\"222.0\">\n",
       "    <tspan class=\"displacy-word\" fill=\"currentColor\" x=\"225\">Gates</tspan>\n",
       "    <tspan class=\"displacy-tag\" dy=\"2em\" fill=\"currentColor\" x=\"225\">PROPN</tspan>\n",
       "</text>\n",
       "\n",
       "<text class=\"displacy-token\" fill=\"currentColor\" text-anchor=\"middle\" y=\"222.0\">\n",
       "    <tspan class=\"displacy-word\" fill=\"currentColor\" x=\"400\">is</tspan>\n",
       "    <tspan class=\"displacy-tag\" dy=\"2em\" fill=\"currentColor\" x=\"400\">AUX</tspan>\n",
       "</text>\n",
       "\n",
       "<text class=\"displacy-token\" fill=\"currentColor\" text-anchor=\"middle\" y=\"222.0\">\n",
       "    <tspan class=\"displacy-word\" fill=\"currentColor\" x=\"575\">the</tspan>\n",
       "    <tspan class=\"displacy-tag\" dy=\"2em\" fill=\"currentColor\" x=\"575\">DET</tspan>\n",
       "</text>\n",
       "\n",
       "<text class=\"displacy-token\" fill=\"currentColor\" text-anchor=\"middle\" y=\"222.0\">\n",
       "    <tspan class=\"displacy-word\" fill=\"currentColor\" x=\"750\">CEO</tspan>\n",
       "    <tspan class=\"displacy-tag\" dy=\"2em\" fill=\"currentColor\" x=\"750\">NOUN</tspan>\n",
       "</text>\n",
       "\n",
       "<text class=\"displacy-token\" fill=\"currentColor\" text-anchor=\"middle\" y=\"222.0\">\n",
       "    <tspan class=\"displacy-word\" fill=\"currentColor\" x=\"925\">of</tspan>\n",
       "    <tspan class=\"displacy-tag\" dy=\"2em\" fill=\"currentColor\" x=\"925\">ADP</tspan>\n",
       "</text>\n",
       "\n",
       "<text class=\"displacy-token\" fill=\"currentColor\" text-anchor=\"middle\" y=\"222.0\">\n",
       "    <tspan class=\"displacy-word\" fill=\"currentColor\" x=\"1100\">Microsoft</tspan>\n",
       "    <tspan class=\"displacy-tag\" dy=\"2em\" fill=\"currentColor\" x=\"1100\">PROPN</tspan>\n",
       "</text>\n",
       "\n",
       "<g class=\"displacy-arrow\">\n",
       "    <path class=\"displacy-arc\" id=\"arrow-3281b1c8b96d48ea996f093244c42549-0-0\" stroke-width=\"2px\" d=\"M70,177.0 C70,89.5 220.0,89.5 220.0,177.0\" fill=\"none\" stroke=\"currentColor\"/>\n",
       "    <text dy=\"1.25em\" style=\"font-size: 0.8em; letter-spacing: 1px\">\n",
       "        <textPath xlink:href=\"#arrow-3281b1c8b96d48ea996f093244c42549-0-0\" class=\"displacy-label\" startOffset=\"50%\" side=\"left\" fill=\"currentColor\" text-anchor=\"middle\">compound</textPath>\n",
       "    </text>\n",
       "    <path class=\"displacy-arrowhead\" d=\"M70,179.0 L62,167.0 78,167.0\" fill=\"currentColor\"/>\n",
       "</g>\n",
       "\n",
       "<g class=\"displacy-arrow\">\n",
       "    <path class=\"displacy-arc\" id=\"arrow-3281b1c8b96d48ea996f093244c42549-0-1\" stroke-width=\"2px\" d=\"M245,177.0 C245,89.5 395.0,89.5 395.0,177.0\" fill=\"none\" stroke=\"currentColor\"/>\n",
       "    <text dy=\"1.25em\" style=\"font-size: 0.8em; letter-spacing: 1px\">\n",
       "        <textPath xlink:href=\"#arrow-3281b1c8b96d48ea996f093244c42549-0-1\" class=\"displacy-label\" startOffset=\"50%\" side=\"left\" fill=\"currentColor\" text-anchor=\"middle\">nsubj</textPath>\n",
       "    </text>\n",
       "    <path class=\"displacy-arrowhead\" d=\"M245,179.0 L237,167.0 253,167.0\" fill=\"currentColor\"/>\n",
       "</g>\n",
       "\n",
       "<g class=\"displacy-arrow\">\n",
       "    <path class=\"displacy-arc\" id=\"arrow-3281b1c8b96d48ea996f093244c42549-0-2\" stroke-width=\"2px\" d=\"M595,177.0 C595,89.5 745.0,89.5 745.0,177.0\" fill=\"none\" stroke=\"currentColor\"/>\n",
       "    <text dy=\"1.25em\" style=\"font-size: 0.8em; letter-spacing: 1px\">\n",
       "        <textPath xlink:href=\"#arrow-3281b1c8b96d48ea996f093244c42549-0-2\" class=\"displacy-label\" startOffset=\"50%\" side=\"left\" fill=\"currentColor\" text-anchor=\"middle\">det</textPath>\n",
       "    </text>\n",
       "    <path class=\"displacy-arrowhead\" d=\"M595,179.0 L587,167.0 603,167.0\" fill=\"currentColor\"/>\n",
       "</g>\n",
       "\n",
       "<g class=\"displacy-arrow\">\n",
       "    <path class=\"displacy-arc\" id=\"arrow-3281b1c8b96d48ea996f093244c42549-0-3\" stroke-width=\"2px\" d=\"M420,177.0 C420,2.0 750.0,2.0 750.0,177.0\" fill=\"none\" stroke=\"currentColor\"/>\n",
       "    <text dy=\"1.25em\" style=\"font-size: 0.8em; letter-spacing: 1px\">\n",
       "        <textPath xlink:href=\"#arrow-3281b1c8b96d48ea996f093244c42549-0-3\" class=\"displacy-label\" startOffset=\"50%\" side=\"left\" fill=\"currentColor\" text-anchor=\"middle\">attr</textPath>\n",
       "    </text>\n",
       "    <path class=\"displacy-arrowhead\" d=\"M750.0,179.0 L758.0,167.0 742.0,167.0\" fill=\"currentColor\"/>\n",
       "</g>\n",
       "\n",
       "<g class=\"displacy-arrow\">\n",
       "    <path class=\"displacy-arc\" id=\"arrow-3281b1c8b96d48ea996f093244c42549-0-4\" stroke-width=\"2px\" d=\"M770,177.0 C770,89.5 920.0,89.5 920.0,177.0\" fill=\"none\" stroke=\"currentColor\"/>\n",
       "    <text dy=\"1.25em\" style=\"font-size: 0.8em; letter-spacing: 1px\">\n",
       "        <textPath xlink:href=\"#arrow-3281b1c8b96d48ea996f093244c42549-0-4\" class=\"displacy-label\" startOffset=\"50%\" side=\"left\" fill=\"currentColor\" text-anchor=\"middle\">prep</textPath>\n",
       "    </text>\n",
       "    <path class=\"displacy-arrowhead\" d=\"M920.0,179.0 L928.0,167.0 912.0,167.0\" fill=\"currentColor\"/>\n",
       "</g>\n",
       "\n",
       "<g class=\"displacy-arrow\">\n",
       "    <path class=\"displacy-arc\" id=\"arrow-3281b1c8b96d48ea996f093244c42549-0-5\" stroke-width=\"2px\" d=\"M945,177.0 C945,89.5 1095.0,89.5 1095.0,177.0\" fill=\"none\" stroke=\"currentColor\"/>\n",
       "    <text dy=\"1.25em\" style=\"font-size: 0.8em; letter-spacing: 1px\">\n",
       "        <textPath xlink:href=\"#arrow-3281b1c8b96d48ea996f093244c42549-0-5\" class=\"displacy-label\" startOffset=\"50%\" side=\"left\" fill=\"currentColor\" text-anchor=\"middle\">pobj</textPath>\n",
       "    </text>\n",
       "    <path class=\"displacy-arrowhead\" d=\"M1095.0,179.0 L1103.0,167.0 1087.0,167.0\" fill=\"currentColor\"/>\n",
       "</g>\n",
       "</svg></span>"
      ],
      "text/plain": [
       "<IPython.core.display.HTML object>"
      ]
     },
     "metadata": {},
     "output_type": "display_data"
    }
   ],
   "source": [
    "import spacy\n",
    "from spacy import displacy\n",
    "nlp = spacy.load('en_core_web_md')\n",
    "doc = nlp(\"Bill Gates is the CEO of Microsoft\")\n",
    "displacy.render(doc, style='dep')"
   ]
  },
  {
   "cell_type": "code",
   "execution_count": 119,
   "id": "42fdc232",
   "metadata": {},
   "outputs": [
    {
     "name": "stdout",
     "output_type": "stream",
     "text": [
      "Bill Bill\n",
      "Gates Gates\n",
      "is be\n",
      "the the\n",
      "CEO ceo\n",
      "of of\n",
      "Microsoft Microsoft\n"
     ]
    }
   ],
   "source": [
    "for token in doc:\n",
    "    print(token.text, token.lemma_)"
   ]
  },
  {
   "cell_type": "code",
   "execution_count": 120,
   "id": "ee66a751",
   "metadata": {},
   "outputs": [
    {
     "data": {
      "text/plain": [
       "True"
      ]
     },
     "execution_count": 120,
     "metadata": {},
     "output_type": "execute_result"
    }
   ],
   "source": [
    "doc[0].is_sent_start"
   ]
  },
  {
   "cell_type": "code",
   "execution_count": 122,
   "id": "b4fccfdd",
   "metadata": {},
   "outputs": [
    {
     "data": {
      "text/plain": [
       "(Bill Gates, Microsoft)"
      ]
     },
     "execution_count": 122,
     "metadata": {},
     "output_type": "execute_result"
    }
   ],
   "source": [
    "doc.ents"
   ]
  },
  {
   "cell_type": "code",
   "execution_count": 126,
   "id": "d5821e45",
   "metadata": {},
   "outputs": [],
   "source": [
    "doc_dir = \"./docs\"\n",
    "for pdf_file in os.listdir(doc_dir):\n",
    "    pdf_file = os.path.join(doc_dir, pdf_file)\n",
    "    s = os.stat(pdf_file)\n",
    "    if s.st_size == 0:\n",
    "        os.remove(pdf_file)        "
   ]
  },
  {
   "cell_type": "code",
   "execution_count": 128,
   "id": "9955a2d0",
   "metadata": {},
   "outputs": [],
   "source": [
    "pdf_doc = ppdf.PdfReader(os.path.join(doc_dir, os.listdir(doc_dir)[0]))"
   ]
  },
  {
   "cell_type": "code",
   "execution_count": 136,
   "id": "90cf6858",
   "metadata": {},
   "outputs": [],
   "source": [
    "pp = pdf_doc.pages"
   ]
  },
  {
   "cell_type": "code",
   "execution_count": 137,
   "id": "f8ada98a",
   "metadata": {},
   "outputs": [
    {
     "data": {
      "text/plain": [
       "1"
      ]
     },
     "execution_count": 137,
     "metadata": {},
     "output_type": "execute_result"
    }
   ],
   "source": [
    "pp.length_function()"
   ]
  },
  {
   "cell_type": "code",
   "execution_count": 139,
   "id": "a444558b",
   "metadata": {
    "scrolled": true
   },
   "outputs": [],
   "source": [
    "text = \"\"\n",
    "for i in range(len(pdf_doc.pages)):\n",
    "    p = pdf_doc.pages[i]\n",
    "    text += p.extract_text()"
   ]
  },
  {
   "cell_type": "code",
   "execution_count": 140,
   "id": "15c29ddf",
   "metadata": {},
   "outputs": [
    {
     "data": {
      "text/plain": [
       "' \\nAgenda, Special Charter Meeting, 11/09/2009 \\nPage 1 of 1 GREENBELT CITY COUNCIL \\nMunicipal Building \\nNovember 9, 2009  \\nC \\nOrganizational Meeting - 38th City Council \\nLibrary - 7:00 p.m. \\nC  \\nCharter Meeting \\nCouncil Room - 7:30 p.m. \\n \\n \\n 1. Call to Order - Outgoing Mayor Davis  2. Roll Call  3. Meditation and Pledge of Allegiance to the Flag  4. Certification of Election Count – City Clerk  5. Oath of Office - Council Elect – by Mayor Davis  6. Election of Temporary Chair  7. Election of Mayor  8. Administration of Oath of Office to  Newly Elected Mayor by Peggy Magee, \\nClerk of the Circuit Court of Prince George =s County \\n 9. Statement by Mayor  10. Election of Mayor Pro Tem  11. Statement by Mayor Pro Tem  12. Statements by Members of Council  13. Other Business  14. Adjournment '"
      ]
     },
     "execution_count": 140,
     "metadata": {},
     "output_type": "execute_result"
    }
   ],
   "source": [
    "text"
   ]
  },
  {
   "cell_type": "code",
   "execution_count": null,
   "id": "44d68612",
   "metadata": {},
   "outputs": [],
   "source": [
    "class GreenbeltDocument:\n",
    "    def __init__(self, filepath):\n",
    "        "
   ]
  },
  {
   "cell_type": "code",
   "execution_count": null,
   "id": "c33312c5",
   "metadata": {},
   "outputs": [],
   "source": [
    "docs = []\n",
    "for os.listdir(doc_dir):\n",
    "    text = \"\"\n",
    "    pdf_file = os.path.join(doc_dir, pdf_file)\n",
    "    pdf_doc = ppdf.PdfReader(pdf_file)\n",
    "    for i in range(len(pdf_doc.pages)):\n",
    "        p = pdf_doc.pages[i]\n",
    "        text += p.extract_text()\n",
    "    docs.append(text)"
   ]
  }
 ],
 "metadata": {
  "kernelspec": {
   "display_name": "Python 3 (ipykernel)",
   "language": "python",
   "name": "python3"
  },
  "language_info": {
   "codemirror_mode": {
    "name": "ipython",
    "version": 3
   },
   "file_extension": ".py",
   "mimetype": "text/x-python",
   "name": "python",
   "nbconvert_exporter": "python",
   "pygments_lexer": "ipython3",
   "version": "3.11.8"
  }
 },
 "nbformat": 4,
 "nbformat_minor": 5
}
