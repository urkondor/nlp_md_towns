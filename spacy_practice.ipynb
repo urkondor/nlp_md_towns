{
 "cells": [
  {
   "cell_type": "code",
   "execution_count": 1,
   "id": "dc506ca5",
   "metadata": {},
   "outputs": [],
   "source": [
    "import os\n",
    "import spacy\n",
    "from spacy.matcher import Matcher\n",
    "from pypdf import PdfReader"
   ]
  },
  {
   "cell_type": "code",
   "execution_count": 2,
   "id": "6a3b7dd9",
   "metadata": {},
   "outputs": [],
   "source": [
    "nlp = spacy.load(\"en_core_web_md\")"
   ]
  },
  {
   "cell_type": "code",
   "execution_count": 5,
   "id": "dd5cca6b",
   "metadata": {},
   "outputs": [],
   "source": [
    "with open(\"./docs/GreenbeltAgenda_2023_1780.pdf\",'rb') as file_:\n",
    "    doc = PdfReader(file_)\n",
    "    text = \"\"\n",
    "    for p in doc.pages:\n",
    "        text += p.extract_text(0)\n"
   ]
  },
  {
   "cell_type": "code",
   "execution_count": 6,
   "id": "949358aa",
   "metadata": {},
   "outputs": [
    {
     "data": {
      "text/plain": [
       "26595"
      ]
     },
     "execution_count": 6,
     "metadata": {},
     "output_type": "execute_result"
    }
   ],
   "source": [
    "len(text)"
   ]
  },
  {
   "cell_type": "code",
   "execution_count": 7,
   "id": "f43e2b36",
   "metadata": {},
   "outputs": [
    {
     "data": {
      "text/plain": [
       "' \\n \\nI.\\nORGANIZATION (15 minutes - 7:30 - 7:45 pm)\\n \\n \\n \\n \\n1.\\nCall to Order\\n \\n \\n \\n \\n2\\nRoll Call\\n \\n \\n'"
      ]
     },
     "execution_count": 7,
     "metadata": {},
     "output_type": "execute_result"
    }
   ],
   "source": [
    "text[:99]"
   ]
  },
  {
   "cell_type": "code",
   "execution_count": 18,
   "id": "73d0a887",
   "metadata": {},
   "outputs": [],
   "source": [
    "doc = nlp(text.replace(\"\\n\", \"\"))\n",
    "m = spacy.matcher.PhraseMatcher(nlp.vocab)\n",
    "term = [\"Bag\"]\n",
    "patterns = [nlp.make_doc(t) for t in term]\n",
    "m.add(\"plasticbag\", patterns)\n",
    "matches = m(doc)"
   ]
  },
  {
   "cell_type": "code",
   "execution_count": 19,
   "id": "b3178349",
   "metadata": {},
   "outputs": [
    {
     "name": "stdout",
     "output_type": "stream",
     "text": [
      "Plastic Carryout Bag\n",
      "Your Own Bag\n",
      "George’sCounty Better Bag\n"
     ]
    }
   ],
   "source": [
    "for _, start, end in matches:\n",
    "    print(doc[start-2:end])"
   ]
  },
  {
   "cell_type": "code",
   "execution_count": null,
   "id": "6af7c815",
   "metadata": {},
   "outputs": [],
   "source": []
  }
 ],
 "metadata": {
  "kernelspec": {
   "display_name": "Python 3 (ipykernel)",
   "language": "python",
   "name": "python3"
  },
  "language_info": {
   "codemirror_mode": {
    "name": "ipython",
    "version": 3
   },
   "file_extension": ".py",
   "mimetype": "text/x-python",
   "name": "python",
   "nbconvert_exporter": "python",
   "pygments_lexer": "ipython3",
   "version": "3.11.8"
  }
 },
 "nbformat": 4,
 "nbformat_minor": 5
}
